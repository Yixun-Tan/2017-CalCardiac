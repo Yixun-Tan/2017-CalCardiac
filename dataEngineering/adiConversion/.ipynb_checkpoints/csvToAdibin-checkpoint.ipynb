{
 "cells": [
  {
   "cell_type": "markdown",
   "metadata": {
    "deletable": true,
    "editable": true
   },
   "source": [
    "## Import Packages"
   ]
  },
  {
   "cell_type": "code",
   "execution_count": 151,
   "metadata": {
    "collapsed": false,
    "deletable": true,
    "editable": true
   },
   "outputs": [],
   "source": [
    "import struct, csv, json, base64, zlib, pprint, numpy, ctypes\n",
    "import matplotlib.pyplot as plt\n",
    "%matplotlib inline"
   ]
  },
  {
   "cell_type": "markdown",
   "metadata": {
    "deletable": true,
    "editable": true
   },
   "source": [
    "## Relevant Docs"
   ]
  },
  {
   "cell_type": "markdown",
   "metadata": {
    "deletable": true,
    "editable": true
   },
   "source": [
    "#### [Relevant Python Documentation for Reading C Structs into Python](https://docs.python.org/3.5/library/struct.html \"Python Docs for C Structs\")\n",
    "\n",
    "#### [Excellent code snippets for working with Binary data in Python](https://www.devdungeon.com/content/working-binary-data-python \"DevDungeon\")\n",
    "\n",
    "|doc | url |\n",
    "|-----|-----|\n",
    "| adiBin docs| http://cdn.adinstruments.com/adi-web/manuals/translatebinary/LabChartBinaryFormat.pdf |\n",
    "| adiBin header|  http://cdn.adinstruments.com/adi-web/manuals/translatebinary/ADIBinaryFormat.h |\n",
    "| adiBin example|http://cdn.adinstruments.com/adi-web/manuals/translatebinary/TranslateBinary.c |\n",
    "|source | https://forum.adinstruments.com/viewtopic.php?t=395 |"
   ]
  },
  {
   "cell_type": "markdown",
   "metadata": {
    "deletable": true,
    "editable": true
   },
   "source": [
    "# Functions"
   ]
  },
  {
   "cell_type": "markdown",
   "metadata": {
    "deletable": true,
    "editable": true
   },
   "source": [
    "## Base64 to JSON function"
   ]
  },
  {
   "cell_type": "code",
   "execution_count": 152,
   "metadata": {
    "collapsed": true,
    "deletable": true,
    "editable": true
   },
   "outputs": [],
   "source": [
    "def base64ToJson(zippedString):\n",
    "    json_str = zlib.decompress(base64.b64decode(zippedString)).decode()\n",
    "    json_json = json.loads(json_str)\n",
    "    return json_json"
   ]
  },
  {
   "cell_type": "markdown",
   "metadata": {},
   "source": [
    "## Parse CSV Function"
   ]
  },
  {
   "cell_type": "code",
   "execution_count": 154,
   "metadata": {
    "collapsed": false,
    "deletable": true,
    "editable": true
   },
   "outputs": [],
   "source": [
    "def parseCsv(csv_row, dbg=False):\n",
    "    \n",
    "    ############################################################################\n",
    "    # Parse CSV Data\n",
    "    ############################################################################\n",
    "    \n",
    "    # Record Identifiers \n",
    "    patient_id = csv_row[0]\n",
    "    time_since_admission = csv_row[1]\n",
    "    \n",
    "    # Decompress channel data\n",
    "    channel_json = base64ToJson(row[2])\n",
    "    \n",
    "    \n",
    "    ############################################################################\n",
    "    # Parse file header and channel header data\n",
    "    ############################################################################\n",
    "    \n",
    "    # Number of channels\n",
    "    num_channels = len(channel_json)\n",
    "    \n",
    "    # Channel titles\n",
    "    channel_titles = []\n",
    "    for i in range(num_channels):\n",
    "        channel_titles.append(channel_json[i]['Label'].upper())\n",
    "        \n",
    "    \n",
    "\n",
    "    ############################################################################\n",
    "    # Parse channel data\n",
    "    ############################################################################\n",
    "    \n",
    "    # Convert channel data to list\n",
    "    channel_data = []\n",
    "    for i in range(num_channels):\n",
    "        channel_data.append([int(j) for j in channel_json[i]['Text'].split(',')])\n",
    "        \n",
    "    \n",
    "    # Check to see if all channels have the same length\n",
    "    # If channels are the same length, samples_per_channel set to len element 0\n",
    "    # If theres a mismatch, pad other channels with mean and\n",
    "    #   set samples_per_channel to max length\n",
    "    \n",
    "    if all(len(i) == len(channel_data[0]) for i in channel_data):\n",
    "        samples_per_channel = len(channel_data[0])\n",
    "        if dbg == True:\n",
    "            print(\"all channel_data sublists equal length\")\n",
    "    else:\n",
    "        max_sublist_len = len(max(channel_data, key=len))\n",
    "        for i in range (num_channels):\n",
    "            len_dif_tuple = (0, max_sublist_len - len(channel_data[i]))\n",
    "            channel_data[i] = numpy.pad(channel_data[i]\\\n",
    "                                        , pad_width = len_dif_tuple\\\n",
    "                                        , mode='mean'\n",
    "                                       )\n",
    "        samples_per_channel = max_sublist_len  \n",
    "        if dbg == True:\n",
    "            print(\"all channel_data sublists NOT equal length \\\n",
    "                  - padded w/ trailing means\")\n",
    "\n",
    "\n",
    "    ############################################################################\n",
    "    # Create dictionary of all parsed data from csv file\n",
    "    ############################################################################\n",
    "    \n",
    "    csv_data = {\n",
    "          'patient_id' : patient_id\n",
    "        , 'time_since_admission' : time_since_admission\n",
    "        , 'num_channels' : num_channels\n",
    "        , 'channel_titles' : channel_titles\n",
    "        , 'channel_data' : channel_data\n",
    "        , 'samples_per_channel' : samples_per_channel\n",
    "    }\n",
    "    \n",
    "    \n",
    "    ############################################################################\n",
    "    # Debug: Check values\n",
    "    ############################################################################\n",
    "    if dbg == True:\n",
    "        print(\"patient_id:\", patient_id)\n",
    "        print(\"time_since_admission:\", time_since_admission)\n",
    "        print(\"num_channels:\", num_channels)\n",
    "        print(\"channel_titles:\", channel_titles)\n",
    "        print(\"samples_per_channel:\", samples_per_channel)\n",
    "        print(\"\\n\")\n",
    "        #print(\"channel_data[0]:\", channel_data[0])\n",
    "        \n",
    "    \n",
    "    ############################################################################\n",
    "    # Return\n",
    "    ############################################################################\n",
    "    return csv_data"
   ]
  },
  {
   "cell_type": "markdown",
   "metadata": {
    "deletable": true,
    "editable": true
   },
   "source": [
    "## Create ADIBIN Function"
   ]
  },
  {
   "cell_type": "code",
   "execution_count": 182,
   "metadata": {
    "collapsed": false,
    "deletable": true,
    "editable": true
   },
   "outputs": [],
   "source": [
    "def createAdibin(data_dict, dbg=False):\n",
    "    \n",
    "    ############################################################################\n",
    "    # Define default adibin file header variables\n",
    "    ############################################################################\n",
    "    \n",
    "    # Define default file size variables for writing adibin file\n",
    "    FILE_HEADER_LENGTH = 68\n",
    "    CHANNEL_HEADER_LENGTH = 96\n",
    "    CHANNEL_TITLE_LENGTH = 32\n",
    "    UNITS_LENGTH = 32\n",
    "    \n",
    "    # Define format strings for struct\n",
    "    ADI_FILE_HEADER_FORMAT_STRING = \"<4sldlllllddllll\"\n",
    "    ADI_CHANNEL_HEADER_FORMAT_STRING = \"<32s32sdddd\"\n",
    "    \n",
    "    # Define default file header variables\n",
    "    magic = b'CFWB'\n",
    "    version = 1\n",
    "    secs_per_tick = 1/240\n",
    "    year = 1776\n",
    "    month = 7\n",
    "    day = 4\n",
    "    hour = 0\n",
    "    minute = 0\n",
    "    second = 0\n",
    "    trigger = 0\n",
    "    # num_channels passed in dict\n",
    "    # samples_per_channel passed in dict\n",
    "    time_channel = 0\n",
    "    data_format = 3\n",
    "    \n",
    "    # Define default channel header variables\n",
    "    # channel_title passed in dict\n",
    "    units = {'I':b'mV' \\\n",
    "           , 'II':b'mV' \\\n",
    "           , 'III':b'mV' \\\n",
    "           , 'V':b'mV' \\\n",
    "           , 'AVR':b'mV' \\\n",
    "           , 'AVL':b'mV' \\\n",
    "           , 'AVF':b'mV'  \\\n",
    "           , 'AR2':b'mmHg' \\\n",
    "           , 'SPO2':b'%' \\\n",
    "           , 'RR':b'Imp' \\\n",
    "           , 'RESP':b'Imp'\\\n",
    "           }\n",
    "    scale = {'I': 2.44 \\\n",
    "           , 'II': 2.44 \\\n",
    "           , 'III': 2.44 \\\n",
    "           , 'V': 2.44 \\\n",
    "           , 'AVR': 2.44 \\\n",
    "           , 'AVL': 2.44 \\\n",
    "           , 'AVF': 2.44  \\\n",
    "           , 'AR2': 0.2 \\\n",
    "           , 'SPO2': 1.0 \\\n",
    "           , 'RR': 0.1 \\\n",
    "           , 'RESP': 0.1 \\\n",
    "           }\n",
    "    offset = 0\n",
    "    range_high = 1\n",
    "    range_low = 0\n",
    "    # channel_data passed in dict\n",
    "    \n",
    "    \n",
    "    ############################################################################\n",
    "    # Create units and scales fields from channel titles  passed in dict\n",
    "    ############################################################################\n",
    "    \n",
    "    # Channel units\n",
    "    channel_units = []\n",
    "    for i in range(data_dict['num_channels']):\n",
    "        try:\n",
    "            channel_units.append(units[data_dict['channel_titles'][i]])\n",
    "        except:\n",
    "            channel_units.append('MysteryChannelUnits')\n",
    "        \n",
    "    # Channel scales\n",
    "    channel_scales = []\n",
    "    for i in range(data_dict['num_channels']):\n",
    "        try:\n",
    "            channel_scales.append(scale[data_dict['channel_titles'][i]])\n",
    "        except:\n",
    "            channel_scales.append('1.0')\n",
    "            \n",
    "   \n",
    "    ############################################################################\n",
    "    # Append all adibin fields to list of lists\n",
    "    ############################################################################\n",
    "    \n",
    "    # Append file header    \n",
    "    adibin_header = []\n",
    "    \n",
    "    adibin_header.append(magic)\n",
    "    adibin_header.append(version)\n",
    "    adibin_header.append(secs_per_tick)\n",
    "    adibin_header.append(year)\n",
    "    adibin_header.append(month)\n",
    "    adibin_header.append(day)\n",
    "    adibin_header.append(hour)\n",
    "    adibin_header.append(minute)\n",
    "    adibin_header.append(second)\n",
    "    adibin_header.append(trigger)\n",
    "    adibin_header.append(data_dict['num_channels'])\n",
    "    adibin_header.append(data_dict['samples_per_channel'])\n",
    "    adibin_header.append(time_channel)\n",
    "    adibin_header.append(data_format)\n",
    " \n",
    "    # Append channel headers\n",
    "    adibin_channel_headers = []\n",
    "\n",
    "    for i in range(data_dict['num_channels']):\n",
    "        adibin_channel_headers.append(data_dict['channel_titles'][i])\n",
    "        adibin_channel_headers.append(channel_units[i])\n",
    "        adibin_channel_headers.append(channel_scales[i])\n",
    "        adibin_channel_headers.append(offset)\n",
    "        adibin_channel_headers.append(range_high)\n",
    "        adibin_channel_headers.append(range_low)\n",
    "        \n",
    "    # Append interleaved channel data\n",
    "    \n",
    "    \n",
    "    ############################################################################\n",
    "    # Pack adibin data into writable struct\n",
    "    ############################################################################\n",
    "    \n",
    "    # Pack file header\n",
    "    file_header_buffer = bytearray(FILE_HEADER_LENGTH)\n",
    "    struct.pack_into(\n",
    "        ADI_FILE_HEADER_FORMAT_STRING\n",
    "        , file_header_buffer\n",
    "        , 0\n",
    "        , *adibin_header\n",
    "        )\n",
    "\n",
    "    # Pack channel headers\n",
    "    channel_headers_buffer = bytearray((data_dict['num_channels']) \\\n",
    "                                       * CHANNEL_HEADER_LENGTH)\n",
    "    struct.pack_into(\n",
    "        ADI_CHANNEL_HEADER_FORMAT_STRING * data_dict['num_channels']\n",
    "        , channel_headers_buffer\n",
    "        , 0\n",
    "        , *adibin_channel_headers\n",
    "        )\n",
    "\n",
    "    \n",
    "    ############################################################################\n",
    "    # Debug: Check values\n",
    "    ############################################################################\n",
    "    if dbg == True:\n",
    "        print(\"channel_units:\", channel_units)\n",
    "        print(\"channel_scales:\", channel_scales)\n",
    "        #print('adibin:', adibin)\n",
    "        print(\"file_header_buffer:\", file_header_buffer)\n",
    "        print('-----')\n",
    "        \n",
    "        \n",
    "    ############################################################################\n",
    "    # Return\n",
    "    ############################################################################\n",
    "    return True"
   ]
  },
  {
   "cell_type": "markdown",
   "metadata": {
    "deletable": true,
    "editable": true
   },
   "source": [
    "## Sanity Check"
   ]
  },
  {
   "cell_type": "code",
   "execution_count": 183,
   "metadata": {
    "collapsed": false,
    "deletable": true,
    "editable": true
   },
   "outputs": [
    {
     "name": "stdout",
     "output_type": "stream",
     "text": [
      "all channel_data sublists equal length\n",
      "patient_id: ea6392983e1786204d56da60f29cb2dc\n",
      "time_since_admission: 41842\n",
      "num_channels: 9\n",
      "channel_titles: ['I', 'II', 'III', 'V', 'AVR', 'AVL', 'AVF', 'SPO2', 'RESP']\n",
      "samples_per_channel: 2400\n",
      "\n",
      "\n"
     ]
    },
    {
     "ename": "error",
     "evalue": "bad char in struct format",
     "output_type": "error",
     "traceback": [
      "\u001b[0;31m---------------------------------------------------------------------------\u001b[0m",
      "\u001b[0;31merror\u001b[0m                                     Traceback (most recent call last)",
      "\u001b[0;32m<ipython-input-183-c30bb6ea070d>\u001b[0m in \u001b[0;36m<module>\u001b[0;34m()\u001b[0m\n\u001b[1;32m      5\u001b[0m \u001b[0;34m\u001b[0m\u001b[0m\n\u001b[1;32m      6\u001b[0m \u001b[0;32mfor\u001b[0m \u001b[0mrow\u001b[0m \u001b[0;32min\u001b[0m \u001b[0mcsvFileReader\u001b[0m\u001b[0;34m:\u001b[0m\u001b[0;34m\u001b[0m\u001b[0m\n\u001b[0;32m----> 7\u001b[0;31m     \u001b[0mcreateAdibin\u001b[0m\u001b[0;34m(\u001b[0m\u001b[0mparseCsv\u001b[0m\u001b[0;34m(\u001b[0m\u001b[0mrow\u001b[0m\u001b[0;34m,\u001b[0m \u001b[0mdbg\u001b[0m\u001b[0;34m=\u001b[0m\u001b[0;32mTrue\u001b[0m\u001b[0;34m)\u001b[0m\u001b[0;34m,\u001b[0m \u001b[0mdbg\u001b[0m\u001b[0;34m=\u001b[0m\u001b[0;32mTrue\u001b[0m\u001b[0;34m)\u001b[0m\u001b[0;34m\u001b[0m\u001b[0m\n\u001b[0m",
      "\u001b[0;32m<ipython-input-182-83d5f069856d>\u001b[0m in \u001b[0;36mcreateAdibin\u001b[0;34m(data_dict, dbg)\u001b[0m\n\u001b[1;32m    117\u001b[0m         \u001b[0;34m,\u001b[0m \u001b[0mchannel_headers_buffer\u001b[0m\u001b[0;34m\u001b[0m\u001b[0m\n\u001b[1;32m    118\u001b[0m         \u001b[0;34m,\u001b[0m \u001b[0;36m0\u001b[0m\u001b[0;34m\u001b[0m\u001b[0m\n\u001b[0;32m--> 119\u001b[0;31m         \u001b[0;34m,\u001b[0m \u001b[0;34m*\u001b[0m\u001b[0madibin_channel_headers\u001b[0m\u001b[0;34m\u001b[0m\u001b[0m\n\u001b[0m\u001b[1;32m    120\u001b[0m         )\n\u001b[1;32m    121\u001b[0m \u001b[0;34m\u001b[0m\u001b[0m\n",
      "\u001b[0;31merror\u001b[0m: bad char in struct format"
     ]
    }
   ],
   "source": [
    "csvFileName = \"./sampleFiles/4b80ff2eb1112815299d7a4e9a4a1957.csv\"\n",
    "\n",
    "csvFile = open(csvFileName)\n",
    "csvFileReader = csv.reader(csvFile)\n",
    "\n",
    "for row in csvFileReader:\n",
    "    createAdibin(parseCsv(row, dbg=True), dbg=True)"
   ]
  },
  {
   "cell_type": "code",
   "execution_count": null,
   "metadata": {
    "collapsed": true,
    "deletable": true,
    "editable": true
   },
   "outputs": [],
   "source": []
  },
  {
   "cell_type": "code",
   "execution_count": null,
   "metadata": {
    "collapsed": true,
    "deletable": true,
    "editable": true
   },
   "outputs": [],
   "source": []
  }
 ],
 "metadata": {
  "kernelspec": {
   "display_name": "Python 3",
   "language": "python",
   "name": "python3"
  },
  "language_info": {
   "codemirror_mode": {
    "name": "ipython",
    "version": 3
   },
   "file_extension": ".py",
   "mimetype": "text/x-python",
   "name": "python",
   "nbconvert_exporter": "python",
   "pygments_lexer": "ipython3",
   "version": "3.6.0"
  }
 },
 "nbformat": 4,
 "nbformat_minor": 2
}
