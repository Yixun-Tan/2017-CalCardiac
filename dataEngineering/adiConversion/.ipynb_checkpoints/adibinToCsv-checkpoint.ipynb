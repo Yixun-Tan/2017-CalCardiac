{
 "cells": [
  {
   "cell_type": "code",
   "execution_count": 131,
   "metadata": {
    "collapsed": true
   },
   "outputs": [],
   "source": [
    "#import csv, pprint, json, base64, \n",
    "import zlib, struct\n",
    "import matplotlib.pyplot as plt\n",
    "%matplotlib inline"
   ]
  },
  {
   "cell_type": "markdown",
   "metadata": {},
   "source": [
    "#### [Relevant Python Documentation for Reading C Structs into Python](https://docs.python.org/3.5/library/struct.html \"Python Docs for C Structs\")\n",
    "\n",
    "#### [Excellent code snippets for working with Binary data in Python](https://www.devdungeon.com/content/working-binary-data-python \"DevDungeon\")\n",
    "\n",
    "|doc | url |\n",
    "|-----|-----|\n",
    "| adiBin docs| http://cdn.adinstruments.com/adi-web/manuals/translatebinary/LabChartBinaryFormat.pdf |\n",
    "| adiBin header|  http://cdn.adinstruments.com/adi-web/manuals/translatebinary/ADIBinaryFormat.h |\n",
    "| adiBin example|http://cdn.adinstruments.com/adi-web/manuals/translatebinary/TranslateBinary.c |\n",
    "|source | https://forum.adinstruments.com/viewtopic.php?t=395 |"
   ]
  },
  {
   "cell_type": "code",
   "execution_count": 14,
   "metadata": {
    "scrolled": true
   },
   "outputs": [
    {
     "name": "stdout",
     "output_type": "stream",
     "text": [
      "Headers Match :)\n",
      "Channel Titles Match :)\n"
     ]
    }
   ],
   "source": [
    "# Global Variables for ADIBIN file structure\n",
    "HEADER_LENGTH = 68\n",
    "CHANNEL_TITLE_LENGTH = 96\n",
    "\n",
    "# Format Strings to parse C Structs in Python\n",
    "# ADIBinaryFormat.h dictates little endian format - leading '<' in format string\n",
    "# s = multiple char as one, l = long, d = double\n",
    "# 4s = 4 char are first item, read in as one, followed by one long, one double, etc.\n",
    "# 32s = 32 char, read in as first and second item, followed by 4 doubles, read in each separately\n",
    "ADI_FILE_HEADER_FORMAT_STRING = \"<4sldlllllddllll\"\n",
    "sizeHeader=struct.calcsize(ADI_FILE_HEADER_FORMAT_STRING)\n",
    "\n",
    "ADI_CHANNEL_TITLE_FORMAT_STRING = \"<32s32sdddd\"\n",
    "sizeChannel=struct.calcsize(ADI_CHANNEL_TITLE_FORMAT_STRING)\n",
    "\n",
    "\n",
    "# Sanity Check - Make sure format string templates length match global variables for lengths\n",
    "# Lengths specified in ADIBinaryFormat.h file - documentation on adibin files\n",
    "# File Header is 68 bytes and Channel Titles are 96 bytes\n",
    "if (sizeHeader == HEADER_LENGTH):\n",
    "    print('Headers Match :)')\n",
    "else:\n",
    "    print('Headers Mismatch :(')\n",
    "\n",
    "if (sizeChannel == CHANNEL_TITLE_LENGTH):\n",
    "    print('Channel Titles Match :)')\n",
    "else:\n",
    "    print('Channel Titles Mismatch :(')\n",
    "    \n",
    "    #print(sizeHeader, sizeChannel)"
   ]
  },
  {
   "cell_type": "markdown",
   "metadata": {},
   "source": [
    "### Parse ADIBIN Function"
   ]
  },
  {
   "cell_type": "code",
   "execution_count": 134,
   "metadata": {},
   "outputs": [],
   "source": [
    "# param adibin_file: output of 'open' command in python3 (like _io.BufferedReader)\n",
    "def parseChannels(adibin_file, dbg=False):\n",
    "    FILE_HEADER_LENGTH = 68\n",
    "    CHANNEL_HEADER_LENGTH = 96\n",
    "\n",
    "    ADI_FILE_HEADER_FORMAT_STRING = \"<4sldlllllddllll\"\n",
    "    ADI_CHANNEL_HEADER_FORMAT_STRING = \"<32s32sdddd\"\n",
    "\n",
    "    # Start at the beginning of the buffer\n",
    "    adibin_file.seek(0)\n",
    "    \n",
    "    # Read in overall file header\n",
    "    file_header_bytes = adibin_file.read(FILE_HEADER_LENGTH)\n",
    "    \n",
    "    # Parse overall file header according to format string\n",
    "    magic, version, secs_per_tick, year, month, day, hour, minute, second, \\\n",
    "     trigger, num_channels, samples_per_channel, time_czhannel, data_format \\\n",
    "    = struct.unpack(ADI_FILE_HEADER_FORMAT_STRING, file_header_bytes)\n",
    "    \n",
    "    # Check data visually\n",
    "    if dbg == True:\n",
    "        print(\"Magic:\", magic.decode('utf-8'))\n",
    "        print(\"Version:\", version)\n",
    "        print(\"secsPerTick:\", secs_per_tick)\n",
    "        print(\"Year:\", year)\n",
    "        print(\"Month:\", month)\n",
    "        print(\"Day:\", day)\n",
    "        print(\"Hour:\", hour)\n",
    "        print(\"Second:\", second)\n",
    "        print(\"Trigger:\", trigger)\n",
    "        print(\"NChannels:\", num_channels)\n",
    "        print(\"SamplesPerChannel:\", samples_per_channel)\n",
    "        print(\"DataFormat:\", data_format)\n",
    "        print('---')\n",
    "    \n",
    "    # Figure out length of rest of the file \n",
    "    if (data_format == 1): # 8 byte double\n",
    "        bytes_per_sample = 8\n",
    "        sample_format_string = 'd'\n",
    "    elif (data_format == 2): # 4 byte float\n",
    "        bytes_per_sample = 4\n",
    "        sample_format_string = 'f'\n",
    "    elif (data_format == 3): # 2 byte int\n",
    "        bytes_per_sample = 2\n",
    "        sample_format_string = 'h'\n",
    "    else:\n",
    "        return ValueError('DataFormat Not Coded to 1,2,or 3')\n",
    "    \n",
    "    # Order of entries in the array:\n",
    "    data_names = ['ChannelIndex', 'ChannelTitle', 'Units', 'Scale', \n",
    "                            'Offset', 'RangeHigh', 'RangeLow', 'ChannelData']\n",
    "    data_values_list = []\n",
    "\n",
    "    # For every channel, read the header\n",
    "    for channel_num in range(0, num_channels):\n",
    "        channel_title_buffer = adibin_file.read(CHANNEL_HEADER_LENGTH)\n",
    "        \n",
    "        # Parse Channel Title Fields\n",
    "        channel_title, units, scale, offset, range_high, range_low \\\n",
    "        = struct.unpack(ADI_CHANNEL_HEADER_FORMAT_STRING, channel_title_buffer)\n",
    "        \n",
    "        # Sanity Check\n",
    "        if dbg == True:\n",
    "            print(\"ChannelTitle:\", channel_title.decode('utf-8'))\n",
    "            print(\"Units:\", units.decode('utf-8'))\n",
    "            print(\"Scale:\", scale)\n",
    "            print(\"offset:\", offset)\n",
    "            print(\"RangeHigh:\", range_high)\n",
    "            print(\"RangeLow:\", range_low)\n",
    "            print('---')\n",
    "\n",
    "        # Append channel title fields to array\n",
    "        data_values_list.append([channel_num,\n",
    "                                 channel_title.decode('utf-8').rstrip('\\0'), \n",
    "                                 units.decode('utf-8').rstrip('\\0'), \n",
    "                                 scale, \n",
    "                                 offset, \n",
    "                                 range_high, \n",
    "                                 range_low,\n",
    "                                 []])\n",
    "\n",
    "    # For every signal sample\n",
    "    for sample in range(0, samples_per_channel):\n",
    "        # For every channel\n",
    "        for channel in range(0, num_channels):           \n",
    "            data_values_list[channel][7].append(struct.unpack('h', adibin_file.read(bytes_per_sample))[0])\n",
    "    \n",
    "    # Return Parsed Array\n",
    "    return list(map(lambda x: dict(zip(data_names, x)), data_values_list))"
   ]
  },
  {
   "cell_type": "code",
   "execution_count": 135,
   "metadata": {
    "scrolled": true
   },
   "outputs": [
    {
     "data": {
      "text/plain": [
       "[<matplotlib.lines.Line2D at 0xa1333ef28>]"
      ]
     },
     "execution_count": 135,
     "metadata": {},
     "output_type": "execute_result"
    },
    {
     "data": {
      "image/png": "[encoded data removed]",
      "text/plain": [
       "<matplotlib.figure.Figure at 0x1061ac160>"
      ]
     },
     "metadata": {},
     "output_type": "display_data"
    }
   ],
   "source": [
    "adibinFilename = \"./sampleFiles/example.adibin\"\n",
    "\n",
    "with open(adibinFilename, \"rb\") as adibin_file:\n",
    "    ecg_channel_data = parseChannels(adibin_file, dbg=False)\n",
    "\n",
    "plt.plot(ecg_channel_data[0]['ChannelData'][0:300])"
   ]
  },
  {
   "cell_type": "markdown",
   "metadata": {},
   "source": [
    "# Sanity Checks"
   ]
  },
  {
   "cell_type": "code",
   "execution_count": 83,
   "metadata": {},
   "outputs": [
    {
     "name": "stdout",
     "output_type": "stream",
     "text": [
      "145048\n"
     ]
    }
   ],
   "source": [
    "with open(adibinFilename, \"rb\") as adibin_file:\n",
    "    #Parse adibin File\n",
    "    adibin_file.seek(0, 2)  # Seek the end\n",
    "    num_bytes = adibin_file.tell()  # Get the file size\n",
    "    print(num_bytes)"
   ]
  },
  {
   "cell_type": "code",
   "execution_count": 84,
   "metadata": {},
   "outputs": [
    {
     "data": {
      "text/plain": [
       "1028"
      ]
     },
     "execution_count": 84,
     "metadata": {},
     "output_type": "execute_result"
    }
   ],
   "source": [
    "68+10*96"
   ]
  },
  {
   "cell_type": "code",
   "execution_count": 85,
   "metadata": {},
   "outputs": [
    {
     "data": {
      "text/plain": [
       "144020"
      ]
     },
     "execution_count": 85,
     "metadata": {},
     "output_type": "execute_result"
    }
   ],
   "source": [
    "145048-1028"
   ]
  },
  {
   "cell_type": "code",
   "execution_count": 86,
   "metadata": {},
   "outputs": [
    {
     "data": {
      "text/plain": [
       "144020"
      ]
     },
     "execution_count": 86,
     "metadata": {},
     "output_type": "execute_result"
    }
   ],
   "source": [
    "#samples per channel * bytes per sample * number of channels\n",
    "7201*2*10"
   ]
  },
  {
   "cell_type": "code",
   "execution_count": null,
   "metadata": {
    "collapsed": true
   },
   "outputs": [],
   "source": [
    "#samples per channel = 7201\n",
    "#10 channels\n",
    "#where data = scale * (sample + offset)\n",
    "#dataformat = 3 so 16 bit format = 2 bytes per sample\n",
    "guess=(2.44*7*(7201*2 + 0)) + (.2*(7201*2 + 0)) + (1*(7201*2 + 0)) + (.1*(7201*2 + 0))\n",
    "print(guess)"
   ]
  },
  {
   "cell_type": "code",
   "execution_count": null,
   "metadata": {
    "collapsed": true
   },
   "outputs": [],
   "source": [
    "with open(adibinFilename, \"rb\") as binary_file:\n",
    "    data = binary_file.read()\n",
    "    \n",
    "    binary_file.seek(0)\n",
    "    magic = binary_file.read(4)\n",
    "    print(magic)"
   ]
  },
  {
   "cell_type": "code",
   "execution_count": null,
   "metadata": {
    "collapsed": true
   },
   "outputs": [],
   "source": [
    "with open(adibinFilename, \"rb\") as binary_file:\n",
    "    data = binary_file.read()\n",
    "    \n",
    "    binary_file.seek(0)\n",
    "    magic = binary_file.read(4)\n",
    "    version = binary_file.read(4)\n",
    "    intVersion = int.from_bytes(version, byteorder='little')\n",
    "    secsPerTick = binary_file.read(8)\n",
    "    intSecsPerTick = int.from_bytes(secsPerTick, byteorder='little')\n",
    "    print(magic, version, intVersion, secsPerTick, intSecsPerTick)\n",
    "    "
   ]
  }
 ],
 "metadata": {
  "kernelspec": {
   "display_name": "Python 3",
   "language": "python",
   "name": "python3"
  },
  "language_info": {
   "codemirror_mode": {
    "name": "ipython",
    "version": 3
   },
   "file_extension": ".py",
   "mimetype": "text/x-python",
   "name": "python",
   "nbconvert_exporter": "python",
   "pygments_lexer": "ipython3",
   "version": "3.6.3"
  }
 },
 "nbformat": 4,
 "nbformat_minor": 2
}
