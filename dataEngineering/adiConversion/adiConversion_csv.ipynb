{
 "cells": [
  {
   "cell_type": "code",
   "execution_count": 39,
   "metadata": {
    "collapsed": true
   },
   "outputs": [],
   "source": [
    "import csv, pprint, json, struct"
   ]
  },
  {
   "cell_type": "code",
   "execution_count": 3,
   "metadata": {
    "collapsed": true
   },
   "outputs": [],
   "source": [
    "import base64, zlib"
   ]
  },
  {
   "cell_type": "code",
   "execution_count": 4,
   "metadata": {
    "collapsed": true
   },
   "outputs": [],
   "source": [
    "def base64ToJson(zippedString):\n",
    "    json_str = zlib.decompress(base64.b64decode(zippedString)).decode()\n",
    "    json_json = json.loads(json_str)\n",
    "    return json_json"
   ]
  },
  {
   "cell_type": "code",
   "execution_count": 5,
   "metadata": {
    "collapsed": true
   },
   "outputs": [],
   "source": [
    "csv_filename = \"./sampleFiles/4b80ff2eb1112815299d7a4e9a4a1957.csv\""
   ]
  },
  {
   "cell_type": "code",
   "execution_count": 6,
   "metadata": {
    "collapsed": true
   },
   "outputs": [],
   "source": [
    "# # csv_file = open(csv_filename)\n",
    "# csv_reader = csv.reader(csv_file)\n",
    "\n",
    "# for row in csv_reader:\n",
    "#     #print(row)\n",
    "#     print(row[0])\n",
    "#     print(row[1])\n",
    "#     pprint.pprint(base64ToJson(row[2]))\n",
    "#     #break    "
   ]
  },
  {
   "cell_type": "code",
   "execution_count": 7,
   "metadata": {},
   "outputs": [
    {
     "name": "stdout",
     "output_type": "stream",
     "text": [
      "ea6392983e1786204d56da60f29cb2dc\n"
     ]
    }
   ],
   "source": [
    "csv_data_list = []\n",
    "\n",
    "csv_file = open(csv_filename)\n",
    "csv_reader = csv.reader(csv_file)\n",
    "csv_data_list = list(csv_reader)\n",
    "\n",
    "print(csv_data_list[0][0])"
   ]
  },
  {
   "cell_type": "code",
   "execution_count": 8,
   "metadata": {},
   "outputs": [
    {
     "data": {
      "text/plain": [
       "66"
      ]
     },
     "execution_count": 8,
     "metadata": {},
     "output_type": "execute_result"
    }
   ],
   "source": [
    "len(csv_data_list)"
   ]
  },
  {
   "cell_type": "code",
   "execution_count": 9,
   "metadata": {
    "collapsed": true
   },
   "outputs": [],
   "source": [
    "# for i in range(len(csv_data_list)):\n",
    "#     print(csv_data_list[i][0])\n",
    "    "
   ]
  },
  {
   "cell_type": "code",
   "execution_count": 10,
   "metadata": {},
   "outputs": [
    {
     "name": "stdout",
     "output_type": "stream",
     "text": [
      "ea6392983e1786204d56da60f29cb2dc\n",
      "41842\n",
      "35280\n"
     ]
    },
    {
     "ename": "TypeError",
     "evalue": "string indices must be integers",
     "output_type": "error",
     "traceback": [
      "\u001b[0;31m---------------------------------------------------------------------------\u001b[0m",
      "\u001b[0;31mTypeError\u001b[0m                                 Traceback (most recent call last)",
      "\u001b[0;32m<ipython-input-10-159fe84a7c01>\u001b[0m in \u001b[0;36m<module>\u001b[0;34m()\u001b[0m\n\u001b[1;32m      3\u001b[0m \u001b[0mprint\u001b[0m\u001b[0;34m(\u001b[0m\u001b[0mlen\u001b[0m\u001b[0;34m(\u001b[0m\u001b[0mcsv_data_list\u001b[0m\u001b[0;34m[\u001b[0m\u001b[0;36m0\u001b[0m\u001b[0;34m]\u001b[0m\u001b[0;34m[\u001b[0m\u001b[0;36m2\u001b[0m\u001b[0;34m]\u001b[0m\u001b[0;34m)\u001b[0m\u001b[0;34m)\u001b[0m\u001b[0;34m\u001b[0m\u001b[0m\n\u001b[1;32m      4\u001b[0m \u001b[0;32mfor\u001b[0m \u001b[0mi\u001b[0m \u001b[0;32min\u001b[0m \u001b[0mrange\u001b[0m\u001b[0;34m(\u001b[0m\u001b[0mlen\u001b[0m\u001b[0;34m(\u001b[0m\u001b[0mcsv_data_list\u001b[0m\u001b[0;34m[\u001b[0m\u001b[0;36m0\u001b[0m\u001b[0;34m]\u001b[0m\u001b[0;34m[\u001b[0m\u001b[0;36m2\u001b[0m\u001b[0;34m]\u001b[0m\u001b[0;34m)\u001b[0m\u001b[0;34m)\u001b[0m\u001b[0;34m:\u001b[0m\u001b[0;34m\u001b[0m\u001b[0m\n\u001b[0;32m----> 5\u001b[0;31m     \u001b[0mprint\u001b[0m\u001b[0;34m(\u001b[0m\u001b[0mcsv_data_list\u001b[0m\u001b[0;34m[\u001b[0m\u001b[0;36m0\u001b[0m\u001b[0;34m]\u001b[0m\u001b[0;34m[\u001b[0m\u001b[0;36m2\u001b[0m\u001b[0;34m]\u001b[0m\u001b[0;34m[\u001b[0m\u001b[0mi\u001b[0m\u001b[0;34m]\u001b[0m\u001b[0;34m[\u001b[0m\u001b[0;34m'Label'\u001b[0m\u001b[0;34m]\u001b[0m\u001b[0;34m)\u001b[0m\u001b[0;34m\u001b[0m\u001b[0m\n\u001b[0m\u001b[1;32m      6\u001b[0m \u001b[0mprint\u001b[0m\u001b[0;34m(\u001b[0m\u001b[0mcsv_data_list\u001b[0m\u001b[0;34m[\u001b[0m\u001b[0;36m0\u001b[0m\u001b[0;34m]\u001b[0m\u001b[0;34m[\u001b[0m\u001b[0;36m2\u001b[0m\u001b[0;34m]\u001b[0m\u001b[0;34m[\u001b[0m\u001b[0;36m0\u001b[0m\u001b[0;34m]\u001b[0m\u001b[0;34m)\u001b[0m\u001b[0;34m\u001b[0m\u001b[0m\n",
      "\u001b[0;31mTypeError\u001b[0m: string indices must be integers"
     ]
    }
   ],
   "source": [
    "print(csv_data_list[0][0])\n",
    "print(csv_data_list[0][1])\n",
    "print(len(csv_data_list[0][2]))\n",
    "for i in range(len(csv_data_list[0][2])):\n",
    "    print(csv_data_list[0][2][i]['Label'])\n",
    "print(csv_data_list[0][2][0])"
   ]
  },
  {
   "cell_type": "code",
   "execution_count": 11,
   "metadata": {
    "collapsed": true
   },
   "outputs": [],
   "source": [
    "for i in range(len(csv_data_list)):\n",
    "    csv_data_list[i][2] = base64ToJson(csv_data_list[i][2])"
   ]
  },
  {
   "cell_type": "code",
   "execution_count": 12,
   "metadata": {},
   "outputs": [],
   "source": [
    "# pprint.pprint(csv_data_list[0][2])"
   ]
  },
  {
   "cell_type": "code",
   "execution_count": 13,
   "metadata": {},
   "outputs": [
    {
     "data": {
      "text/plain": [
       "9"
      ]
     },
     "execution_count": 13,
     "metadata": {},
     "output_type": "execute_result"
    }
   ],
   "source": [
    "len(csv_data_list[0][2])"
   ]
  },
  {
   "cell_type": "code",
   "execution_count": 14,
   "metadata": {},
   "outputs": [
    {
     "data": {
      "text/plain": [
       "list"
      ]
     },
     "execution_count": 14,
     "metadata": {},
     "output_type": "execute_result"
    }
   ],
   "source": [
    "type(csv_data_list[0][2])"
   ]
  },
  {
   "cell_type": "code",
   "execution_count": 15,
   "metadata": {},
   "outputs": [],
   "source": [
    "# csv_data_list[0][2][0]"
   ]
  },
  {
   "cell_type": "code",
   "execution_count": 16,
   "metadata": {},
   "outputs": [
    {
     "data": {
      "text/plain": [
       "'7'"
      ]
     },
     "execution_count": 16,
     "metadata": {},
     "output_type": "execute_result"
    }
   ],
   "source": [
    "csv_data_list[0][2][0]['ID']"
   ]
  },
  {
   "cell_type": "code",
   "execution_count": 17,
   "metadata": {
    "collapsed": true
   },
   "outputs": [],
   "source": [
    "ID = csv_data_list[0][2][0]['ID']"
   ]
  },
  {
   "cell_type": "code",
   "execution_count": 18,
   "metadata": {},
   "outputs": [
    {
     "data": {
      "text/plain": [
       "str"
      ]
     },
     "execution_count": 18,
     "metadata": {},
     "output_type": "execute_result"
    }
   ],
   "source": [
    "type(ID)"
   ]
  },
  {
   "cell_type": "code",
   "execution_count": 19,
   "metadata": {},
   "outputs": [
    {
     "name": "stdout",
     "output_type": "stream",
     "text": [
      "7\n"
     ]
    }
   ],
   "source": [
    "print(ID)"
   ]
  },
  {
   "cell_type": "code",
   "execution_count": 20,
   "metadata": {
    "collapsed": true
   },
   "outputs": [],
   "source": [
    "Text = csv_data_list[0][2][0]['Text']"
   ]
  },
  {
   "cell_type": "code",
   "execution_count": 21,
   "metadata": {},
   "outputs": [
    {
     "data": {
      "text/plain": [
       "str"
      ]
     },
     "execution_count": 21,
     "metadata": {},
     "output_type": "execute_result"
    }
   ],
   "source": [
    "type(Text)"
   ]
  },
  {
   "cell_type": "code",
   "execution_count": 22,
   "metadata": {},
   "outputs": [],
   "source": [
    "values = [int(i) for i in Text.split(',')]"
   ]
  },
  {
   "cell_type": "code",
   "execution_count": 23,
   "metadata": {},
   "outputs": [
    {
     "name": "stdout",
     "output_type": "stream",
     "text": [
      "[-263, -211, -146, -108, -68, -35, 3, 89, 136, 39, -166, -341, -382, -295, -195, -151, -146, -134, -112, -109, -116, -109, -97, -100, -103, -86, -70, -71, -81, -90, -83, -83, -117, -147, -116, -99, -125, -71, 4, -42, -131, -171, -188, -188, -153, -109, -88, -75, -64, -72, -80, -36, 45, 116, 102, -58, -252, -312, -263, -195, -135, -127, -186, -237, -236, -207, -159, -93, -31, 13, 49, 68, 58, 9, -45, -83, -137, -168, -178, -204, -198, -156, -117, -118, -161, -219, -217, -154, -86, -30, 3, 5, -25, -80, -125, -142, -159, -152, -115, -120, -121, -86, 0, 75, -58, -317, -420, -311, -89, 113, 122, -32, -164, -178, -112, -57, -42, -54, -73, -81, -85, -96, -105, -108, -98, -75, -57, -56, -27, 46, 61, 18, 6, -40, -111, -93, -104, -243, -349, -316, -237, -180, -110, -36, 2, 14, 17, -24, -84, -107, -111, -121, -93, -23, -11, -77, -135, -114, -59, -37, -58, -50, 62, 129, 67, 56, 67, -46, -172, -213, -264, -327, -313, -253, -255, -268, -208, -89, 35, 79, 1, -103, -145, -135, -108, -76, -19, 42, 71, 77, 50, -34, -170, -281, -273, -110, 56, -15, -249, -343, -266, -198, -222, -254, -174, -12, 109, 87, -35, -85, -21, 15, -11, -90, -255, -356, -235, -40, -9, -102, -149, -96, -35, -47, -96, -108, -33, 72, 131, 95, 12, -19, -44, -136, -249, -290, -260, -178, -87, -51, -88, -144, -138, -69, -21, -82, -193, -216, -169, -134, -88, -32, -47, -110, -103, -24, -35, -153, -231, -219, -172, -130, -102, -115, -174, -223, -220, -185, -133, -105, -135, -169, -134, -44, 20, 27, 36, 32, -29, -112, -163, -151, -78, -79, -179, -208, -120, -33, -51, -133, -171, -182, -221, -272, -291, -257, -188, -125, -82, 2, 139, 201, 147, 65, -38, -152, -237, -248, -168, -46, -28, -151, -263, -263, -198, -142, -117, -105, -110, -124, -117, -103, -91, -64, -27, -4, 39, 56, -89, -338, -450, -371, -226, -97, -52, -85, -118, -123, -128, -127, -122, -103, -83, -85, -94, -87, -86, -88, -45, 73, 207, 220, 47, -179, -296, -311, -260, -180, -127, -118, -136, -161, -164, -154, -142, -143, -167, -169, -119, -71, -81, -143, -174, -103, 27, 117, 99, 19, -8, 21, -7, -75, -42, 20, -58, -175, -205, -158, -77, -35, -85, -148, -153, -144, -158, -159, -126, -101, -124, -153, -102, -17, -1, -47, -97, -86, -25, 17, -17, -108, -173, -176, -141, -109, -97, -67, -3, 39, -20, -152, -225, -209, -175, -142, -101, -90, -130, -164, -128, -65, -17, 1, -22, -87, -141, -112, -37, 26, 55, 46, 17, -47, -124, -143, -130, -128, -138, -153, -157, -141, -122, -87, -46, -12, -5, -31, -57, -49, -34, -42, -65, -113, -187, -242, -190, -62, 8, -14, -58, -83, -98, -85, -40, 29, 143, 197, 106, -66, -184, -225, -235, -215, -172, -120, -77, -60, -81, -112, -123, -119, -101, -69, -66, -84, -87, -85, -84, -86, -89, -101, -123, -121, -88, -59, -44, -43, -58, -72, -74, -60, -53, -62, -67, -64, -63, -53, -52, -62, -66, -62, -57, -64, -77, -88, -95, -94, -96, -100, -100, -99, -96, -95, -93, -89, -89, -102, -109, -97, -86, -91, -69, 1, 76, 120, 126, 105, 54, -14, -77, -100, -86, -59, -46, -54, -61, -61, -65, -73, -78, -76, -72, -72, -82, -85, -81, -81, -82, -80, -79, -76, -72, -73, -69, -68, -70, -68, -64, -66, -67, -63, -61, -57, -57, -65, -69, -66, -59, -57, -60, -63, -58, -56, -56, -56, -59, -59, -58, -56, -55, -55, -55, -56, -55, -56, -58, -59, -61, -61, -56, -56, -54, -54, -55, -55, -55, -53, -50, -51, -53, -55, -53, -54, -54, -56, -59, -57, -54, -54, -55, -56, -56, -55, -54, -53, -54, -56, -55, -54, -56, -56, -54, -52, -51, -52, -54, -58, -58, -56, -55, -54, -54, -57, -59, -59, -59, -56, -55, -52, -51, -47, -45, -43, -42, -42, -43, -43, -44, -42, -35, -26, -25, -25, -24, -25, -28, -30, -35, -36, -37, -42, -48, -56, -59, -59, -60, -60, -59, -58, -60, -61, -63, -60, -60, -59, -57, -47, -22, 16, 60, 101, 123, 119, 91, 42, -18, -62, -80, -73, -55, -46, -44, -40, -44, -47, -49, -49, -51, -52, -53, -54, -54, -56, -58, -58, -57, -53, -48, -44, -44, -45, -49, -49, -49, -47, -48, -46, -47, -47, -47, -46, -44, -41, -39, -41, -43, -46, -45, -41, -38, -36, -38, -37, -38, -37, -35, -37, -39, -40, -39, -37, -36, -35, -34, -35, -37, -39, -38, -35, -34, -36, -38, -39, -39, -37, -37, -40, -40, -38, -39, -42, -45, -46, -45, -47, -47, -49, -46, -43, -44, -48, -48, -45, -44, -43, -45, -45, -46, -47, -48, -48, -45, -46, -46, -48, -47, -46, -47, -45, -44, -45, -46, -43, -42, -42, -44, -41, -38, -33, -33, -33, -34, -32, -32, -31, -28, -23, -20, -19, -21, -24, -24, -26, -30, -32, -35, -38, -42, -48, -52, -53, -53, -54, -50, -46, -46, -47, -49, -51, -54, -54, -49, -36, -13, 20, 59, 95, 115, 109, 77, 27, -27, -61, -69, -59, -42, -31, -32, -36, -37, -38, -42, -48, -50, -49, -46, -45, -47, -51, -52, -48, -46, -45, -44, -42, -41, -42, -43, -44, -42, -42, -40, -39, -38, -38, -37, -38, -40, -36, -35, -35, -33, -32, -30, -29, -29, -29, -32, -35, -35, -33, -30, -30, -32, -33, -33, -32, -32, -35, -35, -34, -34, -35, -36, -38, -35, -29, -31, -33, -37, -35, -33, -29, -22, -21, -22, -27, -36, -43, -45, -47, -44, -40, -40, -40, -42, -41, -40, -35, -33, -35, -40, -41, -38, -34, -34, -37, -39, -37, -34, -28, -20, -22, -35, -48, -54, -51, -45, -42, -40, -38, -34, -27, -17, -13, -16, -19, -26, -36, -42, -41, -33, -25, -16, -8, -3, -7, -15, -20, -5, 23, 28, -2, -31, -17, 42, 85, 30, -84, -153, -150, -102, -63, -70, -94, -87, -61, -59, -67, -52, -4, 64, 129, 153, 148, 170, 183, 101, -38, -136, -148, -101, -28, 42, 50, -1, -71, -141, -186, -185, -154, -117, -79, -58, -59, -68, -71, -63, -55, -45, -33, -25, -21, -21, -22, -15, -16, -44, -59, -26, 26, 26, -40, -90, -86, -67, -59, -54, -39, -29, -40, -51, -51, -47, -46, -55, -63, -62, -47, -29, -21, 2, 73, 109, 43, -51, -103, -102, -67, -66, -108, -132, -115, -81, -60, -50, -46, -16, 56, 131, 132, 22, -100, -159, -155, -107, -61, -88, -160, -182, -160, -148, -141, -124, -105, -84, -53, -35, -48, -64, -58, -16, 23, -12, -94, -130, -106, -70, -31, 15, 67, 131, 156, 27, -203, -333, -291, -167, -77, -69, -79, -33, 24, 2, -89, -160, -157, -116, -66, 3, 83, 116, 27, -140, -223, -178, -100, -30, 64, 144, 106, 1, -91, -162, -183, -119, -46, -22, -31, -113, -232, -287, -274, -238, -185, -105, 9, 163, 258, 219, 143, 80, 37, 16, -56, -198, -297, -293, -251, -223, -198, -176, -161, -139, -114, -88, -66, -40, -26, -47, -90, -119, -111, -71, -21, -13, -82, -129, -82, -1, 43, 62, 62, 4, -101, -195, -267, -287, -259, -227, -193, -157, -127, -97, -77, -72, -70, -61, -59, -63, -58, -43, -28, -34, -65, -88, -83, -63, -36, -14, -19, 12, 71, 3, -154, -219, -189, -135, -88, -68, -68, -77, -85, -87, -87, -80, -68, -60, -60, -61, -59, -61, -58, -45, -18, -6, -45, -101, -111, -33, 66, 23, -133, -223, -194, -125, -78, -66, -65, -57, -57, -71, -79, -70, -49, -14, 19, 39, 4, -86, -149, -124, -68, -56, -83, -103, -85, -30, -8, -56, -105, -107, -83, -55, -35, -35, -43, -36, -26, -29, -44, -54, -57, -62, -57, -28, -1, -26, -98, -141, -132, -104, -87, -77, -70, -66, -67, -58, -40, -15, 24, 74, 115, 132, 125, 84, -1, -83, -116, -99, -54, -24, -34, -62, -75, -71, -62, -49, -48, -57, -57, -54, -57, -49, -35, -26, -17, -35, -88, -115, -103, -90, -63, -10, 82, 138, 68, -82, -189, -205, -167, -120, -90, -78, -67, -57, -51, -48, -41, -35, -34, -29, -18, -9, -6, 1, 20, 28, 19, 7, -34, -96, -144, -160, -142, -111, -83, -69, -64, -58, -51, -46, -42, -38, -35, -43, -49, -38, -7, 49, 122, 144, 81, -13, -85, -118, -167, -226, -254, -215, -145, -105, -90, -84, -82, -87, -90, -85, -67, -56, -58, -64, -61, -56, -52, -54, -52, -53, -56, -59, -55, -48, -44, -44, -45, -47, -45, -40, -44, -56, -56, -52, -48, -44, -41, -30, -8, -1, -13, -32, -48, -61, -70, -65, -53, -47, -45, -48, -53, -54, -55, -57, -57, -54, -55, -56, -57, -58, -56, -45, -26, -23, -23, 29, 110, 149, 162, 142, 66, -17, -62, -93, -109, -103, -88, -66, -49, -34, -28, -27, -28, -32, -36, -37, -38, -38, -36, -35, -38, -43, -43, -45, -43, -40, -38, -37, -39, -41, -36, -38, -40, -37, -33, -37, -34, -26, -29, -37, -49, -52, -41, -38, -35, -32, -33, -35, -34, -28, -12, -3, -9, -13, -9, -9, -8, -21, -36, -40, -31, -18, -20, -30, -38, -45, -51, -46, -33, -38, -46, -50, -54, -54, -47, -30, -26, -42, -62, -76, -85, -77, -63, -50, -49, -68, -82, -81, -77, -68, -66, -78, -85, -84, -80, -68, -61, -68, -76, -69, -68, -68, -62, -64, -61, -53, -45, -41, -42, -45, -45, -43, -34, -18, -17, -26, -30, -13, -2, -12, -25, -17, 6, 14, 1, 2, 9, 1, -3, -2, -1, 5, 6, -4, -12, -12, -13, -16, -19, -19, -16, -5, -1, -12, -10, -4, -1, 3, -1, 14, 59, 104, 129, 140, 137, 118, 90, 51, 4, -43, -58, -36, -5, 14, 18, 15, 10, 12, 20, 22, 15, -3, -17, -7, 9, 8, 4, 7, 18, 16, 10, 8, 5, -2, 5, 19, 24, 13, 9, 6, 3, 7, 17, 22, 17, 10, 15, 13, 16, 16, 11, 13, 11, 13, 25, 27, 27, 27, 21, 20, 14, 10, 5, 6, 18, 21, 15, 8, 9, 17, 22, 20, 17, 23, 23, 25, 19, 7, 9, 14, 15, 15, 19, 15, 11, 10, 10, 8, 11, 24, 26, 20, 22, 15, 4, -6, -5, 2, 9, 13, 8, -1, 2, 15, 19, 14, 8, 7, 11, 14, 16, 29, 27, 12, 5, 6, 17, 18, -1, -4, 17, 22, 8, 3, 5, 9, 11, 9, 16, 33, 39, 25, 8, 1, 12, 30, 21, -6, -20, -18, -8, -5, -7, -7, -14, -17, -5, 5, 6, -8, -25, -32, -22, -10, 7, 30, 61, 92, 122, 131, 97, 47, 6, -21, -37, -31, -10, 3, 16, 19, -1, -16, -22, -27, -22, -8, 5, 2, -14, -28, -25, -21, -25, -25, -15, -5, 4, 0, -12, -14, -7, 5, 23, 28, -4, -51, -62, -27, 8, 13, -13, -49, -66, -63, -48, -27, -12, -1, 4, 1, -6, -17, -21, -15, 0, 12, 5, -8, -17, -13, 20, 43, 25, -10, -19, 27, 96, 88, -19, -127, -161, -135, -87, -52, -39, -33, -24, -13, -12, -7, 4, 1, -7, 0, 9, 4, -12, -24, -21, 3, 17, -3, -49, -76, -60, -23, 9, 13, -24, -64, -77, -63, -38, -8, 3, -5, -10, -4, 3, -3, -22, -37, -37, -34, -24, 6, 55, 109, 162, 163, 64, -81, -163, -164, -135, -102, -66, -39, -25, -17, -10, -13, -15, -11, -13, -19, -22, -17, -14, -3, 7, -2, -34, -63, -65, -45, -24, -9, 16, 57, 85, 98, 100, 96, 82, 55, 13, -24, -44, -41, -23, -5, 15, 34, 30, -8, -43, -45, -33, -21, -12, -14, -14, -9, -11, -15, -15, 0, 20, 21, 0, -22, -31, -33, -35, -28, -14, 3, 6, 0, -2, 1, 0, 2, 16, 25, 19, 26, 42, 31, -13, -58, -78, -70, -43, -10, 8, 4, 6, 8, -1, -7, 3, 12, 4, -4, 8, 31, 34, 0, -31, -31, -19, -16, -11, -11, -21, -16, -2, 1, 2, 8, 12, 0, -27, -42, -26, -11, -17, -22, -12, 2, -8, -28, -22, -12, -22, -31, -37, -36, -32, -29, -26, -12, 14, 16, -11, -35, -41, -28, -14, -10, -1, 9, 7, -10, -23, -25, -20, -6, 9, 6, -9, 7, 29, 16, -17, -23, -6, -4, -16, -10, -1, 4, 9, -1, -26, -38, -16, 5, -5, -35, -59, -58, -37, -14, -9, -26, -45, -55, -58, -58, -35, 8, 56, 97, 125, 144, 141, 96, 43, 21, 1, -47, -66, -37, -17, -31, -61, -82, -84, -50, -2, 12, -20, -47, -51, -46, -36, -30, -16, -10, -31, -48, -41, -14, -8, -43, -75, -69, -34, -12, -11, -1, 26, 52, 26, -47, -102, -56, 34, 57, 24, -6, -26, -75, -128, -137, -110, -87, -68, -60, -62, -55, -30, -20, -14, 7, 11, -24, -52, -26, 32, 64, 17, -63, -92, -32, 80, 137, 90, 31, 4, -62, -159, -207, -196, -154, -97, -49, -34, -38, -28, -10, -8, -29, -51, -64, -59, -19, 39, 57, 26, -34, -90, -122, -111, -51, -2, -4, -19, -6, -3, -55, -121, -131, -93, -64, -56, -51, -32, 5, 15, -9, -42, -76, -93, -71, 29, 150, 122, -30, -133, -146, -123, -87, -55, -16, 65, 169, 156, -7, -180, -253, -218, -135, -80, -68, -67, -77, -79, -54, -4, 15, -40, -118, -136, -87, -12, 54, 111, 170, 206, 177, 98, -14, -116, -162, -139, -69, 24, 80, 17, -93, -130, -103, -94, -121, -137, -115, -69, -16, -7, -42, -55, -42, -45, -46, 24, 151, 153, -29, -217, -252, -184, -90, -17, -13, -60, -76, -34, -9, -56, -128, -135, -94, -59, -9, 47, 27, -18, -11, -21, -96, -155, -153, -125, -95, -58, -12, 9, -14, -52, -69, -73, -51, 10, 79, 134, 115, -25, -160, -149, -53, -28, -96, -166, -167, -109, -61, -59, -66, -28, 15, -11, -59, -44, -3, -6, -44, -72, -58, -26, -35, -67, -62, -44, -39, -36, -46, -73, -101, -103, -70, -27, -10, -23, -46, -57, -44, 34, 120, 68, -82, -163, -114, -46, -36, -41, -39, -20, 6, 8, -41, -101, -79, 27, 81, 20, -58, -79, -66, -61, -60, -57, -47, -32, -20, -17, -24, -41, -60, -41, 9, 25, 28, 37, 2, -63, -93, -100, -114, -109]\n"
     ]
    }
   ],
   "source": [
    "print(values)"
   ]
  },
  {
   "cell_type": "code",
   "execution_count": 24,
   "metadata": {},
   "outputs": [
    {
     "name": "stdout",
     "output_type": "stream",
     "text": [
      "b'AA==\\n'\n"
     ]
    }
   ],
   "source": [
    "# Encode binary data to a base 64 string\n",
    "binary_data = b'\\x00' #\\xFF\\x00\\xFF\n",
    "\n",
    "# Use the codecs module to encode\n",
    "import codecs\n",
    "base64_data = codecs.encode(binary_data, 'base64')\n",
    "print(base64_data)"
   ]
  },
  {
   "cell_type": "code",
   "execution_count": 25,
   "metadata": {},
   "outputs": [
    {
     "name": "stdout",
     "output_type": "stream",
     "text": [
      "AA==\n",
      "\n"
     ]
    }
   ],
   "source": [
    "decoded_data = codecs.decode(base64_data, 'utf-8')\n",
    "print(decoded_data)"
   ]
  },
  {
   "cell_type": "code",
   "execution_count": 26,
   "metadata": {},
   "outputs": [
    {
     "data": {
      "text/plain": [
       "int"
      ]
     },
     "execution_count": 26,
     "metadata": {},
     "output_type": "execute_result"
    }
   ],
   "source": [
    "version = 1 \n",
    "type(version)"
   ]
  },
  {
   "cell_type": "code",
   "execution_count": 27,
   "metadata": {},
   "outputs": [
    {
     "name": "stdout",
     "output_type": "stream",
     "text": [
      "<class 'bytes'>\n",
      "b'Hello'\n"
     ]
    }
   ],
   "source": [
    "# Text to Binary\n",
    "message = \"Hello\"  # str\n",
    "binary_message = message.encode('utf-8')\n",
    "print(type(binary_message))  # bytes\n",
    "print(binary_message)"
   ]
  },
  {
   "cell_type": "code",
   "execution_count": 28,
   "metadata": {},
   "outputs": [
    {
     "name": "stdout",
     "output_type": "stream",
     "text": [
      "Uryyb\n"
     ]
    }
   ],
   "source": [
    "# Python has many built in encodings for different languages,\n",
    "# and even the Caeser cipher is built in\n",
    "import codecs\n",
    "cipher_text = codecs.encode(message, 'rot_13')\n",
    "print(cipher_text)"
   ]
  },
  {
   "cell_type": "code",
   "execution_count": 29,
   "metadata": {},
   "outputs": [
    {
     "name": "stdout",
     "output_type": "stream",
     "text": [
      "mV\n",
      "mV\n",
      "mV\n",
      "['mV', 'mV', 'mV']\n"
     ]
    }
   ],
   "source": [
    "num_channels = 3\n",
    "channel_titles = ['I','II','III']\n",
    "units = {'I':'mV' \\\n",
    "       , 'II':'mV' \\\n",
    "       , 'III':'mV' \\\n",
    "       , 'V':'mV' \\\n",
    "       , 'AVR':'mV' \\\n",
    "       , 'AVL':'mV' \\\n",
    "       , 'AVF':'mV'  \\\n",
    "       , 'AR2':'mmHg' \\\n",
    "       , 'SP02':'%' \\\n",
    "       , 'RR':'Imp' \\\n",
    "       , 'RESP':'Imp'\\\n",
    "       , 'Else':'Err'\\\n",
    "       }\n",
    "\n",
    "channel_units = []\n",
    "for i in range(num_channels):\n",
    "    channel_units.append(units[channel_titles[i]])\n",
    "\n",
    "for i in range(num_channels):\n",
    "    print(channel_units[i])\n",
    "    \n",
    "print(channel_units)"
   ]
  },
  {
   "cell_type": "code",
   "execution_count": 30,
   "metadata": {},
   "outputs": [
    {
     "name": "stdout",
     "output_type": "stream",
     "text": [
      "[b'I', b'II', b'III']\n"
     ]
    }
   ],
   "source": [
    "bin_channel_titles = []\n",
    "for i in range(num_channels):\n",
    "    bin_channel_titles.append(channel_titles[i].encode('utf-8'))\n",
    "\n",
    "print(bin_channel_titles)"
   ]
  },
  {
   "cell_type": "code",
   "execution_count": 31,
   "metadata": {},
   "outputs": [
    {
     "name": "stdout",
     "output_type": "stream",
     "text": [
      "bytearray(b'\\x00\\x00\\x00\\x00\\x00\\x00\\x00\\x00\\x00\\x00\\x00\\x00\\x00\\x00\\x00\\x00\\x00\\x00\\x00\\x00\\x00\\x00\\x00\\x00\\x00\\x00\\x00\\x00\\x00\\x00\\x00\\x00\\x00\\x00\\x00\\x00\\x00\\x00\\x00\\x00\\x00\\x00\\x00\\x00\\x00\\x00\\x00\\x00\\x00\\x00\\x00\\x00\\x00\\x00\\x00\\x00\\x00\\x00\\x00\\x00\\x00\\x00\\x00\\x00\\x00\\x00\\x00\\x00\\x00\\x00\\x00\\x00\\x00\\x00\\x00\\x00\\x00\\x00\\x00\\x00\\x00\\x00\\x00\\x00\\x00\\x00\\x00\\x00\\x00\\x00\\x00\\x00\\x00\\x00\\x00\\x00\\x00\\x00\\x00\\x00\\x00\\x00\\x00\\x00\\x00\\x00\\x00\\x00\\x00\\x00\\x00\\x00\\x00\\x00\\x00\\x00\\x00\\x00\\x00\\x00\\x00\\x00\\x00\\x00\\x00\\x00\\x00\\x00\\x00\\x00\\x00\\x00\\x00\\x00\\x00\\x00\\x00\\x00\\x00\\x00\\x00\\x00\\x00\\x00\\x00\\x00\\x00\\x00\\x00\\x00\\x00\\x00\\x00\\x00\\x00\\x00\\x00\\x00\\x00\\x00\\x00\\x00\\x00\\x00\\x00\\x00\\x00\\x00\\x00\\x00\\x00\\x00\\x00\\x00\\x00\\x00\\x00\\x00\\x00\\x00\\x00\\x00\\x00\\x00\\x00\\x00\\x00\\x00\\x00\\x00\\x00\\x00\\x00\\x00\\x00\\x00\\x00\\x00\\x00\\x00\\x00\\x00\\x00\\x00\\x00\\x00\\x00\\x00\\x00\\x00\\x00\\x00\\x00\\x00\\x00\\x00\\x00\\x00\\x00\\x00\\x00\\x00\\x00\\x00\\x00\\x00\\x00\\x00\\x00\\x00\\x00\\x00\\x00\\x00\\x00\\x00\\x00\\x00\\x00\\x00\\x00\\x00\\x00\\x00\\x00\\x00\\x00\\x00\\x00\\x00\\x00\\x00\\x00\\x00\\x00\\x00\\x00\\x00\\x00\\x00\\x00\\x00\\x00\\x00\\x00\\x00\\x00\\x00\\x00\\x00\\x00\\x00\\x00\\x00\\x00\\x00\\x00\\x00\\x00\\x00\\x00\\x00\\x00\\x00\\x00\\x00\\x00\\x00')\n",
      "288\n",
      "288\n"
     ]
    }
   ],
   "source": [
    "CHANNEL_HEADER_LENGTH = 96\n",
    "channel_headers_buffer = bytearray(num_channels \\\n",
    "                                       * CHANNEL_HEADER_LENGTH)\n",
    "\n",
    "print(channel_headers_buffer)\n",
    "print(96*3)\n",
    "print(len(channel_headers_buffer))"
   ]
  },
  {
   "cell_type": "code",
   "execution_count": 32,
   "metadata": {},
   "outputs": [
    {
     "name": "stdout",
     "output_type": "stream",
     "text": [
      "<32s32sdddd<32s32sdddd<32s32sdddd\n"
     ]
    }
   ],
   "source": [
    "ADI_CHANNEL_HEADER_FORMAT_STRING = \"<32s32sdddd\"\n",
    "multiplied_fs = ADI_CHANNEL_HEADER_FORMAT_STRING * num_channels\n",
    "print(multiplied_fs)"
   ]
  },
  {
   "cell_type": "code",
   "execution_count": 33,
   "metadata": {},
   "outputs": [
    {
     "name": "stdout",
     "output_type": "stream",
     "text": [
      "<32s32sdddd32s32sdddd32s32sdddd\n"
     ]
    }
   ],
   "source": [
    "FILE_HEADER_LENGTH = 68\n",
    "CHANNEL_HEADER_LENGTH = 96\n",
    "CHANNEL_TITLE_LENGTH = 32\n",
    "UNITS_LENGTH = 32\n",
    "    \n",
    "# Define format strings for struct\n",
    "ADI_FILE_HEADER_FORMAT_STRING = \"<4sldlllllddllll\"\n",
    "ADI_CHANNEL_HEADER_FORMAT_STRING = \"<32s32sdddd\"\n",
    "\n",
    "channel_headers_buffer = bytearray(num_channels \\\n",
    "                                       * CHANNEL_HEADER_LENGTH)\n",
    "\n",
    "    \n",
    "full_channel_header_format_string = ADI_CHANNEL_HEADER_FORMAT_STRING\n",
    "for i in range(num_channels - 1):\n",
    "    full_channel_header_format_string += ADI_CHANNEL_HEADER_FORMAT_STRING[1:]\n",
    "    \n",
    "print(full_channel_header_format_string)"
   ]
  },
  {
   "cell_type": "code",
   "execution_count": 34,
   "metadata": {},
   "outputs": [
    {
     "name": "stdout",
     "output_type": "stream",
     "text": [
      "[1]\n",
      "[1, 11]\n",
      "[1, 11, 111]\n",
      "[1, 11, 111, 2]\n",
      "[1, 11, 111, 2, 22]\n",
      "[1, 11, 111, 2, 22, 222]\n",
      "[1, 11, 111, 2, 22, 222, 3]\n",
      "[1, 11, 111, 2, 22, 222, 3, 33]\n",
      "[1, 11, 111, 2, 22, 222, 3, 33, 333]\n",
      "[1, 11, 111, 2, 22, 222, 3, 33, 333, 4]\n",
      "[1, 11, 111, 2, 22, 222, 3, 33, 333, 4, 44]\n",
      "[1, 11, 111, 2, 22, 222, 3, 33, 333, 4, 44, 444]\n",
      "[1, 11, 111, 2, 22, 222, 3, 33, 333, 4, 44, 444, 5]\n",
      "[1, 11, 111, 2, 22, 222, 3, 33, 333, 4, 44, 444, 5, 55]\n",
      "[1, 11, 111, 2, 22, 222, 3, 33, 333, 4, 44, 444, 5, 55, 555]\n"
     ]
    }
   ],
   "source": [
    "data_dict = {'channel_data': [[1,2,3,4,5],[11,22,33,44,55],[111,222,333,444,555]]}\n",
    "# Append interleaved channel data\n",
    "adibin_channel_data = []\n",
    "    \n",
    "for j in range(5):\n",
    "    for i in range(num_channels):\n",
    "        adibin_channel_data.append(data_dict['channel_data'][i][j])\n",
    "        print(adibin_channel_data)"
   ]
  },
  {
   "cell_type": "code",
   "execution_count": 41,
   "metadata": {},
   "outputs": [
    {
     "name": "stdout",
     "output_type": "stream",
     "text": [
      "2401\n",
      "4800\n",
      "<hhhhhhhhhhhhhhhhhhhhhhhhhhhhhhhhhhhhhhhhhhhhhhhhhhhhhhhhhhhhhhhhhhhhhhhhhhhhhhhhhhhhhhhhhhhhhhhhhhhhhhhhhhhhhhhhhhhhhhhhhhhhhhhhhhhhhhhhhhhhhhhhhhhhhhhhhhhhhhhhhhhhhhhhhhhhhhhhhhhhhhhhhhhhhhhhhhhhhhhhhhhhhhhhhhhhhhhhhhhhhhhhhhhhhhhhhhhhhhhhhhhhhhhhhhhhhhhhhhhhhhhhhhhhhhhhhhhhhhhhhhhhhhhhhhhhhhhhhhhhhhhhhhhhhhhhhhhhhhhhhhhhhhhhhhhhhhhhhhhhhhhhhhhhhhhhhhhhhhhhhhhhhhhhhhhhhhhhhhhhhhhhhhhhhhhhhhhhhhhhhhhhhhhhhhhhhhhhhhhhhhhhhhhhhhhhhhhhhhhhhhhhhhhhhhhhhhhhhhhhhhhhhhhhhhhhhhhhhhhhhhhhhhhhhhhhhhhhhhhhhhhhhhhhhhhhhhhhhhhhhhhhhhhhhhhhhhhhhhhhhhhhhhhhhhhhhhhhhhhhhhhhhhhhhhhhhhhhhhhhhhhhhhhhhhhhhhhhhhhhhhhhhhhhhhhhhhhhhhhhhhhhhhhhhhhhhhhhhhhhhhhhhhhhhhhhhhhhhhhhhhhhhhhhhhhhhhhhhhhhhhhhhhhhhhhhhhhhhhhhhhhhhhhhhhhhhhhhhhhhhhhhhhhhhhhhhhhhhhhhhhhhhhhhhhhhhhhhhhhhhhhhhhhhhhhhhhhhhhhhhhhhhhhhhhhhhhhhhhhhhhhhhhhhhhhhhhhhhhhhhhhhhhhhhhhhhhhhhhhhhhhhhhhhhhhhhhhhhhhhhhhhhhhhhhhhhhhhhhhhhhhhhhhhhhhhhhhhhhhhhhhhhhhhhhhhhhhhhhhhhhhhhhhhhhhhhhhhhhhhhhhhhhhhhhhhhhhhhhhhhhhhhhhhhhhhhhhhhhhhhhhhhhhhhhhhhhhhhhhhhhhhhhhhhhhhhhhhhhhhhhhhhhhhhhhhhhhhhhhhhhhhhhhhhhhhhhhhhhhhhhhhhhhhhhhhhhhhhhhhhhhhhhhhhhhhhhhhhhhhhhhhhhhhhhhhhhhhhhhhhhhhhhhhhhhhhhhhhhhhhhhhhhhhhhhhhhhhhhhhhhhhhhhhhhhhhhhhhhhhhhhhhhhhhhhhhhhhhhhhhhhhhhhhhhhhhhhhhhhhhhhhhhhhhhhhhhhhhhhhhhhhhhhhhhhhhhhhhhhhhhhhhhhhhhhhhhhhhhhhhhhhhhhhhhhhhhhhhhhhhhhhhhhhhhhhhhhhhhhhhhhhhhhhhhhhhhhhhhhhhhhhhhhhhhhhhhhhhhhhhhhhhhhhhhhhhhhhhhhhhhhhhhhhhhhhhhhhhhhhhhhhhhhhhhhhhhhhhhhhhhhhhhhhhhhhhhhhhhhhhhhhhhhhhhhhhhhhhhhhhhhhhhhhhhhhhhhhhhhhhhhhhhhhhhhhhhhhhhhhhhhhhhhhhhhhhhhhhhhhhhhhhhhhhhhhhhhhhhhhhhhhhhhhhhhhhhhhhhhhhhhhhhhhhhhhhhhhhhhhhhhhhhhhhhhhhhhhhhhhhhhhhhhhhhhhhhhhhhhhhhhhhhhhhhhhhhhhhhhhhhhhhhhhhhhhhhhhhhhhhhhhhhhhhhhhhhhhhhhhhhhhhhhhhhhhhhhhhhhhhhhhhhhhhhhhhhhhhhhhhhhhhhhhhhhhhhhhhhhhhhhhhhhhhhhhhhhhhhhhhhhhhhhhhhhhhhhhhhhhhhhhhhhhhhhhhhhhhhhhhhhhhhhhhhhhhhhhhhhhhhhhhhhhhhhhhhhhhhhhhhhhhhhhhhhhhhhhhhhhhhhhhhhhhhhhhhhhhhhhhhhhhhhhhhhhhhhhhhhhhhhhhhhhhhhhhhhhhhhhhhhhhhhhhhhhhhhhhhhhhhhhhhhhhhhhhhhhhhhhhhhhhhhhhhhhhhhhhhhhhhhhhhhhhhhhhhhhhhhhhhhhhhhhhhhhhhhhhhhhhhhhhhhhhhhhhhhhhhhhhhhhhhhhhhhhhhhhhhhhhhhhhhhhhhhhhhhhhhhhhhhhhhhhhhhhhhhhhhhhhhhhhhhhhhhhhhhhhhhhhhhhhhhhhhhhhhhhhhhhhhhhhhhhhhhhhhhhhhhhhhhhhhhhhhhhhhhhhhhhhhhhhhhhhhhhhhhhhhhhhhhhhhhhhhhhhhhhhhhhhhhhhhhhhhhhhhhhhhhhhhhhhhhhhhhhhhhhhhhhhhhhhhhhhhhhhhhhhhhhhhhhhhhhhhhhhhhhhhhhhhhhhhhhhhhhhhhhhhhhhhhhhhhhhhhhhhhhhhhhhhhhhhhhhhhhhhhhhhhhhhhhhhhhhhhhhhhhhhhhhhhhhhhhhhhhhhhhhhhh\n"
     ]
    }
   ],
   "source": [
    "ADI_CHANNEL_DATA_FORMAT_STRING = \"<h\"\n",
    "channel_data_format_string = ADI_CHANNEL_DATA_FORMAT_STRING\n",
    "for i in range(2400 - 1):\n",
    "    channel_data_format_string += ADI_CHANNEL_DATA_FORMAT_STRING[1:]\n",
    "    \n",
    "print(len(channel_data_format_string))\n",
    "print(struct.calcsize(channel_data_format_string))\n",
    "print(channel_data_format_string)"
   ]
  },
  {
   "cell_type": "code",
   "execution_count": null,
   "metadata": {
    "collapsed": true
   },
   "outputs": [],
   "source": []
  }
 ],
 "metadata": {
  "kernelspec": {
   "display_name": "Python 3",
   "language": "python",
   "name": "python3"
  },
  "language_info": {
   "codemirror_mode": {
    "name": "ipython",
    "version": 3
   },
   "file_extension": ".py",
   "mimetype": "text/x-python",
   "name": "python",
   "nbconvert_exporter": "python",
   "pygments_lexer": "ipython3",
   "version": "3.6.2"
  }
 },
 "nbformat": 4,
 "nbformat_minor": 2
}
