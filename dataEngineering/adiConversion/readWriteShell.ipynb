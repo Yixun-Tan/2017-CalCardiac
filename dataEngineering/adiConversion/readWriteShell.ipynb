{
 "cells": [
  {
   "cell_type": "code",
   "execution_count": 1,
   "metadata": {
    "collapsed": false
   },
   "outputs": [
    {
     "name": "stdout",
     "output_type": "stream",
     "text": [
      "/home/alexchandra/Documents/Alex/capstone/CalCardiac/branchAlex/dataEngineering/adiConversion\r\n"
     ]
    }
   ],
   "source": [
    "!pwd"
   ]
  },
  {
   "cell_type": "code",
   "execution_count": 2,
   "metadata": {
    "collapsed": false
   },
   "outputs": [
    {
     "name": "stdout",
     "output_type": "stream",
     "text": [
      "adibin2csv.py~\t   adiConversion_csv.ipynb  readWriteShell.ipynb\r\n",
      "adibinToCsv.ipynb  csvToAdibin.ipynb\t    sampleFiles\r\n",
      "adibinToCsv.py\t   readWriteDirs\r\n"
     ]
    }
   ],
   "source": [
    "!ls"
   ]
  },
  {
   "cell_type": "code",
   "execution_count": 3,
   "metadata": {
    "collapsed": true
   },
   "outputs": [],
   "source": [
    "directoryPath = \"readWriteDirs/csvs/\""
   ]
  },
  {
   "cell_type": "code",
   "execution_count": 4,
   "metadata": {
    "collapsed": true
   },
   "outputs": [],
   "source": [
    "def funcConvert(bincontent, dbg=False):\n",
    "    \n",
    "    print(\"***I love Chandra Mouli*** \"+ \"returning the content back\")\n",
    "\n",
    "    return bincontent"
   ]
  },
  {
   "cell_type": "code",
   "execution_count": 5,
   "metadata": {
    "collapsed": false
   },
   "outputs": [
    {
     "name": "stdout",
     "output_type": "stream",
     "text": [
      "-----\n",
      "readWriteDirs/csvs/three.csv\n",
      "***I love Chandra Mouli*** returning the content back\n",
      "readWriteDirs/adibins/three.adibin\n",
      "-----\n",
      "readWriteDirs/csvs/two.csv\n",
      "***I love Chandra Mouli*** returning the content back\n",
      "readWriteDirs/adibins/two.adibin\n",
      "-----\n",
      "readWriteDirs/csvs/one.csv\n",
      "***I love Chandra Mouli*** returning the content back\n",
      "readWriteDirs/adibins/one.adibin\n"
     ]
    }
   ],
   "source": [
    "import glob\n",
    "\n",
    "for binFileName in glob.glob(directoryPath+'*.csv'):\n",
    "    \n",
    "    print(\"-----\")\n",
    "    print(binFileName)\n",
    "    \n",
    "    # opening file and reading content\n",
    "    binFile = open(binFileName, 'rb') \n",
    "    binData = binFile.read()\n",
    "    binFile.close()\n",
    "    \n",
    "    # pass to function to get the converted content\n",
    "    returnedContent = funcConvert(binData)\n",
    "    \n",
    "    # rename input filename to output filename\n",
    "    adibinFileName = binFileName.replace(\"csvs\", \"adibins\") # replace 'csvs with adibins'\n",
    "    adibinFileName = adibinFileName.replace(\"csv\", \"adibin\")\n",
    "    \n",
    "    # write the returned content to the output file\n",
    "    print(adibinFileName)    \n",
    "    adibinFile = open(adibinFileName, 'wb') # overwrite previous file without warning\n",
    "    adibinFile.write(returnedContent)\n",
    "    adibinFile.close()    \n",
    "    "
   ]
  },
  {
   "cell_type": "code",
   "execution_count": null,
   "metadata": {
    "collapsed": true
   },
   "outputs": [],
   "source": []
  }
 ],
 "metadata": {
  "kernelspec": {
   "display_name": "Python 3",
   "language": "python",
   "name": "python3"
  },
  "language_info": {
   "codemirror_mode": {
    "name": "ipython",
    "version": 3
   },
   "file_extension": ".py",
   "mimetype": "text/x-python",
   "name": "python",
   "nbconvert_exporter": "python",
   "pygments_lexer": "ipython3",
   "version": "3.6.0"
  }
 },
 "nbformat": 4,
 "nbformat_minor": 2
}
