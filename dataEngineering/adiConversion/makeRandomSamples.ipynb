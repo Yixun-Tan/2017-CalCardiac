{
 "cells": [
  {
   "cell_type": "code",
   "execution_count": 1,
   "metadata": {
    "collapsed": false,
    "deletable": true,
    "editable": true
   },
   "outputs": [],
   "source": [
    "import os, random, glob"
   ]
  },
  {
   "cell_type": "code",
   "execution_count": 2,
   "metadata": {
    "collapsed": false,
    "deletable": true,
    "editable": true
   },
   "outputs": [],
   "source": [
    "# def makeRandomSamples(sample_size, number_of_samples, csv_in_directory_path, dbg=False):\n",
    "    \n",
    "#     file_name_array = [name for name in os.listdir(csv_in_directory_path)\\\n",
    "#     if os.path.isfile(os.path.join(csv_in_directory_path, name))]\n",
    "    \n",
    "#     random.shuffle(file_name_array)\n",
    "    \n",
    "#     # Make directory path if it doesn't exist\n",
    "#     for j in range(number_of_samples):\n",
    "#         os.makedirs(os.path.dirname(csv_in_directory_path \n",
    "#                       + '/' + 'batch' + str(j) + '/'), exist_ok=True)\n",
    "    \n",
    "#     # Sort files into number_of_samples batches\n",
    "#     #  each of size sample_size\n",
    "#     if dbg == True:\n",
    "#         print(str(len(file_name_array)) + \" files to sort\")\n",
    "#     for j in range(number_of_samples):\n",
    "#         for i in range(sample_size):\n",
    "#             file_name_current = file_name_array.pop()\n",
    "#             os.rename(csv_in_directory_path+file_name_current\n",
    "#                       , csv_in_directory_path \n",
    "#                       + '/' + 'batch' + str(j) + '/'  \n",
    "#                       + file_name_current)\n",
    "    \n",
    "#     if dbg == True:\n",
    "#         print(str(len(file_name_array)) + \" files leftover\")"
   ]
  },
  {
   "cell_type": "code",
   "execution_count": 3,
   "metadata": {
    "collapsed": true
   },
   "outputs": [],
   "source": [
    "def makeRandomSamples(sample_size, number_of_samples, csv_in_directory_path, dbg=False):\n",
    "    \n",
    "    file_name_array = glob.glob(csv_in_directory_path + '*.csv')\n",
    "    \n",
    "    random.shuffle(file_name_array)\n",
    "    \n",
    "    # Make directory path if it doesn't exist\n",
    "    for j in range(number_of_samples):\n",
    "        os.makedirs(os.path.dirname(csv_in_directory_path \n",
    "                      + '/' + 'batch' + str(j) + '/'), exist_ok=True)\n",
    "    \n",
    "    # Sort files into number_of_samples batches\n",
    "    #  each of size sample_size\n",
    "    if dbg == True:\n",
    "        print(str(len(file_name_array)) + \" files to sort\")\n",
    "    for j in range(number_of_samples):\n",
    "        for i in range(sample_size):\n",
    "            file_name_current = file_name_array.pop()\n",
    "            file_name_basename = os.path.basename(file_name_current)\n",
    "            os.rename(file_name_current\n",
    "                      , csv_in_directory_path \n",
    "                      + 'batch' + str(j) + '/'  \n",
    "                      + file_name_basename)\n",
    "    \n",
    "    if dbg == True:\n",
    "        print(str(len(file_name_array)) + \" files leftover\")"
   ]
  },
  {
   "cell_type": "code",
   "execution_count": 4,
   "metadata": {
    "collapsed": false,
    "deletable": true,
    "editable": true
   },
   "outputs": [
    {
     "name": "stdout",
     "output_type": "stream",
     "text": [
      "5 files to sort\n",
      "2 files leftover\n"
     ]
    }
   ],
   "source": [
    "csv_in_directory_path = '/home/alexchandra/Documents/Alex/capstone/testConvert2/csvFiles/'\n",
    "makeRandomSamples(1,3,csv_in_directory_path, True)"
   ]
  },
  {
   "cell_type": "code",
   "execution_count": null,
   "metadata": {
    "collapsed": false,
    "deletable": true,
    "editable": true
   },
   "outputs": [],
   "source": [
    "#!jupyter nbconvert --to=python makeRandomSamples.ipynb"
   ]
  }
 ],
 "metadata": {
  "kernelspec": {
   "display_name": "Python 3",
   "language": "python",
   "name": "python3"
  },
  "language_info": {
   "codemirror_mode": {
    "name": "ipython",
    "version": 3
   },
   "file_extension": ".py",
   "mimetype": "text/x-python",
   "name": "python",
   "nbconvert_exporter": "python",
   "pygments_lexer": "ipython3",
   "version": "3.6.0"
  }
 },
 "nbformat": 4,
 "nbformat_minor": 2
}
