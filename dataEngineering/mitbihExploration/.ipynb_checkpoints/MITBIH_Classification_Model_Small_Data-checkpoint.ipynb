{
 "cells": [
  {
   "cell_type": "code",
   "execution_count": 1,
   "metadata": {
    "collapsed": true
   },
   "outputs": [],
   "source": [
    "from IPython.display import display\n",
    "import matplotlib.pyplot as plt\n",
    "%matplotlib inline\n",
    "import numpy as np\n",
    "import pandas as pd\n",
    "import os\n",
    "import wfdb\n",
    "\n",
    "from collections import Counter"
   ]
  },
  {
   "cell_type": "markdown",
   "metadata": {},
   "source": [
    "## Data Pre-processing"
   ]
  },
  {
   "cell_type": "code",
   "execution_count": 2,
   "metadata": {},
   "outputs": [
    {
     "data": {
      "text/plain": [
       "48"
      ]
     },
     "execution_count": 2,
     "metadata": {},
     "output_type": "execute_result"
    }
   ],
   "source": [
    "# get all the record names in a list\n",
    "namelist = []\n",
    "namelist = namelist + list(range(100,125,1)) + list(range(200,235,1))\n",
    "for num in [110,120,204,206,211,216,218,224,225,226,227,229]:\n",
    "    namelist.remove(num)\n",
    "\n",
    "len(namelist)"
   ]
  },
  {
   "cell_type": "code",
   "execution_count": 5,
   "metadata": {
    "collapsed": true
   },
   "outputs": [],
   "source": [
    "def get_window (signals, annotation):\n",
    "    \"\"\"\n",
    "    this function gives a 0.8-seconds window (0.4-seconds before, 0.4-seconds after the annotation mark)\n",
    "    of the ECG signals and assign value 1 if it's PVC beat and 0 otherwise.\n",
    "    parameter: signals: numpy array containing heart beat record values\n",
    "               annotation: wfdb.annotation object containing heart beat annotations\n",
    "               sec: positive integer number indicating the half-width of the window\n",
    "    return: two lists\n",
    "            siglist: a list of lists of length 360*0.8=288 \n",
    "            annlist: a list containing 1 if PVC beat, 0 otherwise\n",
    "    \"\"\"\n",
    "    siglist = []\n",
    "    annlist = []\n",
    "    \n",
    "    #loop through the annotation.symbol list\n",
    "    for i in range(len(annotation.symbol)):\n",
    "        timestamp = annotation.sample[i] #get the timestamp\n",
    "        \n",
    "        #test if that timestamp can have sec seconds before and after window\n",
    "        windowStart = timestamp - 144\n",
    "        windowEnd = timestamp + 144\n",
    "        if windowStart >= 0 & windowEnd <= len(signals):\n",
    "            if annotation.symbol[i] == 'V':\n",
    "                # check if the length of this strip is 288\n",
    "                if len(signals[windowStart:windowEnd,].flatten().tolist()) == 288:\n",
    "                    siglist.append(signals[windowStart:windowEnd,].flatten().tolist())\n",
    "                    annlist.append(1)\n",
    "                else:\n",
    "                    continue\n",
    "            else:\n",
    "                # check if the length of this strip is 288\n",
    "                if len(signals[windowStart:windowEnd,].flatten().tolist()) == 288:\n",
    "                    siglist.append(signals[windowStart:windowEnd,].flatten().tolist())\n",
    "                    annlist.append(0)\n",
    "        else:\n",
    "            continue\n",
    "    \n",
    "    return siglist, annlist"
   ]
  },
  {
   "cell_type": "code",
   "execution_count": 6,
   "metadata": {},
   "outputs": [
    {
     "name": "stdout",
     "output_type": "stream",
     "text": [
      "record 100 is done.\n",
      "record 101 is done.\n",
      "record 102 is done.\n",
      "record 103 is done.\n",
      "record 104 is done.\n",
      "record 105 is done.\n",
      "record 106 is done.\n",
      "record 107 is done.\n",
      "record 108 is done.\n",
      "record 109 is done.\n",
      "record 111 is done.\n",
      "record 112 is done.\n",
      "record 113 is done.\n",
      "record 114 is done.\n",
      "record 115 is done.\n",
      "record 116 is done.\n",
      "record 117 is done.\n",
      "record 118 is done.\n",
      "record 119 is done.\n",
      "record 121 is done.\n",
      "record 122 is done.\n",
      "record 123 is done.\n",
      "record 124 is done.\n",
      "record 200 is done.\n",
      "record 201 is done.\n",
      "record 202 is done.\n",
      "record 203 is done.\n",
      "record 205 is done.\n",
      "record 207 is done.\n",
      "record 208 is done.\n",
      "record 209 is done.\n",
      "record 210 is done.\n",
      "record 212 is done.\n",
      "record 213 is done.\n",
      "record 214 is done.\n",
      "record 215 is done.\n",
      "record 217 is done.\n",
      "record 219 is done.\n",
      "record 220 is done.\n",
      "record 221 is done.\n",
      "record 222 is done.\n",
      "record 223 is done.\n",
      "record 228 is done.\n",
      "record 230 is done.\n",
      "record 231 is done.\n",
      "record 232 is done.\n",
      "record 233 is done.\n",
      "record 234 is done.\n"
     ]
    }
   ],
   "source": [
    "# loop through all record to get all the 0.8-seconds window signal list and annotation list\n",
    "# this could be the training dataset for the neural network model\n",
    "# this takes several minutes to run\n",
    "\n",
    "ECG_signals = []\n",
    "PVC_annotations = []\n",
    "\n",
    "for record in namelist:\n",
    "    signals, fields = wfdb.rdsamp(str(record), sampfrom=0, sampto='end', channels=[1], pb_dir='mitdb')\n",
    "    annotation = wfdb.rdann(str(record), 'atr', sampfrom=0, sampto=None, shift_samps=True, pb_dir='mitdb')\n",
    "    \n",
    "    signal_list, annotation_list = get_window(signals, annotation)\n",
    "    \n",
    "    ECG_signals = ECG_signals + signal_list\n",
    "    PVC_annotations = PVC_annotations + annotation_list\n",
    "    \n",
    "    print('record', record, 'is done.')"
   ]
  },
  {
   "cell_type": "code",
   "execution_count": 7,
   "metadata": {},
   "outputs": [
    {
     "data": {
      "text/plain": [
       "112552"
      ]
     },
     "execution_count": 7,
     "metadata": {},
     "output_type": "execute_result"
    }
   ],
   "source": [
    "# there are 112,552 such 0.8-seconds ECG signal strips\n",
    "len(ECG_signals)"
   ]
  },
  {
   "cell_type": "code",
   "execution_count": 8,
   "metadata": {},
   "outputs": [
    {
     "data": {
      "text/plain": [
       "112552"
      ]
     },
     "execution_count": 8,
     "metadata": {},
     "output_type": "execute_result"
    }
   ],
   "source": [
    "# corresponding 112,552 annotations\n",
    "len(PVC_annotations)"
   ]
  },
  {
   "cell_type": "code",
   "execution_count": 9,
   "metadata": {},
   "outputs": [
    {
     "data": {
      "text/plain": [
       "288"
      ]
     },
     "execution_count": 9,
     "metadata": {},
     "output_type": "execute_result"
    }
   ],
   "source": [
    "# each 0.8-seconds ECG signal strip has 288 ECG signal values (in mV)\n",
    "len(ECG_signals[0])"
   ]
  },
  {
   "cell_type": "code",
   "execution_count": 32,
   "metadata": {},
   "outputs": [
    {
     "data": {
      "text/plain": [
       "Counter({0: 105423, 1: 7129})"
      ]
     },
     "execution_count": 32,
     "metadata": {},
     "output_type": "execute_result"
    }
   ],
   "source": [
    "# there are 7129 PVC 0.8-seconds window, 105,423 non-PVC 0.8-seconds window\n",
    "Counter(PVC_annotations)"
   ]
  },
  {
   "cell_type": "markdown",
   "metadata": {},
   "source": [
    "## plot non-PVC beat and PVC beat"
   ]
  },
  {
   "cell_type": "code",
   "execution_count": 20,
   "metadata": {},
   "outputs": [
    {
     "data": {
      "text/plain": [
       "[1905, 4258, 4847, 5856, 6044, 8736, 9643, 10751, 10760, 10778]"
      ]
     },
     "execution_count": 20,
     "metadata": {},
     "output_type": "execute_result"
    }
   ],
   "source": [
    "# get PVC beats index\n",
    "pvc_index = []\n",
    "for i in range(len(PVC_annotations)):\n",
    "    if PVC_annotations[i] == 1:\n",
    "        pvc_index.append(i)\n",
    "pvc_index[:10]"
   ]
  },
  {
   "cell_type": "code",
   "execution_count": 25,
   "metadata": {},
   "outputs": [
    {
     "data": {
      "image/png": "[encoded data removed]",
      "text/plain": [
       "<matplotlib.figure.Figure at 0x231ddb6be80>"
      ]
     },
     "metadata": {},
     "output_type": "display_data"
    }
   ],
   "source": [
    "# plot some PVC beats\n",
    "plt.figure(figsize=(8,6))\n",
    "plt.plot(ECG_signals[4258], 'b-', linewidth=1)\n",
    "plt.xlabel('1/360 s')\n",
    "plt.ylabel('mV')\n",
    "plt.show()"
   ]
  },
  {
   "cell_type": "code",
   "execution_count": 29,
   "metadata": {},
   "outputs": [
    {
     "data": {
      "image/png": "[encoded data removed]",
      "text/plain": [
       "<matplotlib.figure.Figure at 0x231ddaa8da0>"
      ]
     },
     "metadata": {},
     "output_type": "display_data"
    }
   ],
   "source": [
    "# plot some normal beats\n",
    "plt.figure(figsize=(8,6))\n",
    "plt.plot(ECG_signals[4300], 'b-', linewidth=1)\n",
    "plt.xlabel('1/360 s')\n",
    "plt.ylabel('mV')\n",
    "plt.show()"
   ]
  },
  {
   "cell_type": "markdown",
   "metadata": {},
   "source": [
    "## write the data into csv file"
   ]
  },
  {
   "cell_type": "code",
   "execution_count": 30,
   "metadata": {
    "collapsed": true
   },
   "outputs": [],
   "source": [
    "# write ECG signals data to csv file\n",
    "\n",
    "import csv\n",
    "\n",
    "with open('MIT-BIH-08sec-signal.csv', 'w') as f:\n",
    "    f_csv = csv.writer(f)\n",
    "    f_csv.writerows(ECG_signals)"
   ]
  },
  {
   "cell_type": "code",
   "execution_count": 31,
   "metadata": {
    "collapsed": true
   },
   "outputs": [],
   "source": [
    "# write the PVC annotation data to csv file\n",
    "\n",
    "with open('MIT-BIH-08sec-annotation.csv', 'w') as f:\n",
    "    f_csv = csv.writer(f)\n",
    "    f_csv.writerow(PVC_annotations)"
   ]
  },
  {
   "cell_type": "markdown",
   "metadata": {},
   "source": [
    "## prepare small dataset"
   ]
  },
  {
   "cell_type": "code",
   "execution_count": 33,
   "metadata": {},
   "outputs": [
    {
     "data": {
      "text/plain": [
       "105423"
      ]
     },
     "execution_count": 33,
     "metadata": {},
     "output_type": "execute_result"
    }
   ],
   "source": [
    "# get the index in PVC_annotations for normal beats\n",
    "\n",
    "normal_index = [i for i in range(len(PVC_annotations)) if PVC_annotations[i]==0]\n",
    "len(normal_index)"
   ]
  },
  {
   "cell_type": "code",
   "execution_count": 34,
   "metadata": {},
   "outputs": [
    {
     "data": {
      "text/plain": [
       "7129"
      ]
     },
     "execution_count": 34,
     "metadata": {},
     "output_type": "execute_result"
    }
   ],
   "source": [
    "# get the index in PVC_annotations for PVC beats\n",
    "\n",
    "PVC_index = [i for i in range(len(PVC_annotations)) if PVC_annotations[i]==1]\n",
    "len(PVC_index)"
   ]
  },
  {
   "cell_type": "code",
   "execution_count": 35,
   "metadata": {
    "collapsed": true
   },
   "outputs": [],
   "source": [
    "# randomly select 7129 normal beats\n",
    "\n",
    "import random\n",
    "\n",
    "random.seed(77)\n",
    "small_normal_index = random.sample(normal_index, 7129)"
   ]
  },
  {
   "cell_type": "code",
   "execution_count": 36,
   "metadata": {},
   "outputs": [
    {
     "data": {
      "text/plain": [
       "7129"
      ]
     },
     "execution_count": 36,
     "metadata": {},
     "output_type": "execute_result"
    }
   ],
   "source": [
    "len(small_normal_index)"
   ]
  },
  {
   "cell_type": "code",
   "execution_count": 37,
   "metadata": {},
   "outputs": [
    {
     "data": {
      "text/plain": [
       "[111869, 33933, 44013, 26545, 32247, 25996, 15650, 39312, 66422, 77499]"
      ]
     },
     "execution_count": 37,
     "metadata": {},
     "output_type": "execute_result"
    }
   ],
   "source": [
    "small_normal_index[:10]"
   ]
  },
  {
   "cell_type": "code",
   "execution_count": 38,
   "metadata": {},
   "outputs": [
    {
     "data": {
      "text/plain": [
       "14258"
      ]
     },
     "execution_count": 38,
     "metadata": {},
     "output_type": "execute_result"
    }
   ],
   "source": [
    "# concatenate 7129 normal beats index with 7129 PVC beats index\n",
    "# as small data index\n",
    "\n",
    "small_data_index = small_normal_index + PVC_index\n",
    "len(small_data_index)"
   ]
  },
  {
   "cell_type": "code",
   "execution_count": 39,
   "metadata": {
    "collapsed": true
   },
   "outputs": [],
   "source": [
    "# generate samll dataset\n",
    "\n",
    "small_signals = []\n",
    "for i in small_data_index:\n",
    "    small_signals.append(ECG_signals[i])\n",
    "    \n",
    "small_annotations = []\n",
    "for i in small_data_index:\n",
    "    small_annotations.append(PVC_annotations[i])"
   ]
  },
  {
   "cell_type": "code",
   "execution_count": 40,
   "metadata": {},
   "outputs": [
    {
     "data": {
      "text/plain": [
       "14258"
      ]
     },
     "execution_count": 40,
     "metadata": {},
     "output_type": "execute_result"
    }
   ],
   "source": [
    "len(small_signals)"
   ]
  },
  {
   "cell_type": "code",
   "execution_count": 41,
   "metadata": {},
   "outputs": [
    {
     "data": {
      "text/plain": [
       "14258"
      ]
     },
     "execution_count": 41,
     "metadata": {},
     "output_type": "execute_result"
    }
   ],
   "source": [
    "len(small_annotations)"
   ]
  },
  {
   "cell_type": "code",
   "execution_count": 42,
   "metadata": {
    "collapsed": true
   },
   "outputs": [],
   "source": [
    "# write ECG signals data to csv file\n",
    "\n",
    "import csv\n",
    "\n",
    "with open('MIT-BIH-08sec-small-signal.csv', 'w') as f:\n",
    "    f_csv = csv.writer(f)\n",
    "    f_csv.writerows(small_signals)"
   ]
  },
  {
   "cell_type": "code",
   "execution_count": 43,
   "metadata": {
    "collapsed": true
   },
   "outputs": [],
   "source": [
    "# write the PVC annotation data to csv file\n",
    "\n",
    "with open('MIT-BIH-08sec-small-annotation.csv', 'w') as f:\n",
    "    f_csv = csv.writer(f)\n",
    "    f_csv.writerow(small_annotations)"
   ]
  },
  {
   "cell_type": "markdown",
   "metadata": {},
   "source": [
    "## Classification Models"
   ]
  },
  {
   "cell_type": "code",
   "execution_count": 44,
   "metadata": {
    "collapsed": true
   },
   "outputs": [],
   "source": [
    "# transform data into numpy array\n",
    "\n",
    "X = np.array(small_signals)\n",
    "y = np.array(small_annotations)"
   ]
  },
  {
   "cell_type": "code",
   "execution_count": 45,
   "metadata": {},
   "outputs": [
    {
     "data": {
      "text/plain": [
       "(14258, 288)"
      ]
     },
     "execution_count": 45,
     "metadata": {},
     "output_type": "execute_result"
    }
   ],
   "source": [
    "X.shape"
   ]
  },
  {
   "cell_type": "code",
   "execution_count": 46,
   "metadata": {},
   "outputs": [
    {
     "data": {
      "text/plain": [
       "(14258,)"
      ]
     },
     "execution_count": 46,
     "metadata": {},
     "output_type": "execute_result"
    }
   ],
   "source": [
    "y.shape"
   ]
  },
  {
   "cell_type": "code",
   "execution_count": 47,
   "metadata": {
    "collapsed": true
   },
   "outputs": [],
   "source": [
    "# split train and test set\n",
    "\n",
    "from sklearn.model_selection import train_test_split\n",
    "\n",
    "X_train, X_test, y_train, y_test = train_test_split(X, y, test_size=0.3, random_state=42, shuffle=True)"
   ]
  },
  {
   "cell_type": "code",
   "execution_count": 48,
   "metadata": {},
   "outputs": [
    {
     "data": {
      "text/plain": [
       "(9980, 288)"
      ]
     },
     "execution_count": 48,
     "metadata": {},
     "output_type": "execute_result"
    }
   ],
   "source": [
    "X_train.shape"
   ]
  },
  {
   "cell_type": "code",
   "execution_count": 49,
   "metadata": {},
   "outputs": [
    {
     "data": {
      "text/plain": [
       "(9980,)"
      ]
     },
     "execution_count": 49,
     "metadata": {},
     "output_type": "execute_result"
    }
   ],
   "source": [
    "y_train.shape"
   ]
  },
  {
   "cell_type": "code",
   "execution_count": 50,
   "metadata": {},
   "outputs": [
    {
     "data": {
      "text/plain": [
       "(4278, 288)"
      ]
     },
     "execution_count": 50,
     "metadata": {},
     "output_type": "execute_result"
    }
   ],
   "source": [
    "X_test.shape"
   ]
  },
  {
   "cell_type": "code",
   "execution_count": 51,
   "metadata": {},
   "outputs": [
    {
     "data": {
      "text/plain": [
       "(4278,)"
      ]
     },
     "execution_count": 51,
     "metadata": {},
     "output_type": "execute_result"
    }
   ],
   "source": [
    "y_test.shape"
   ]
  },
  {
   "cell_type": "code",
   "execution_count": 52,
   "metadata": {},
   "outputs": [
    {
     "data": {
      "text/plain": [
       "Counter({0: 4984, 1: 4996})"
      ]
     },
     "execution_count": 52,
     "metadata": {},
     "output_type": "execute_result"
    }
   ],
   "source": [
    "# the ratio of PVC beats in training set and test set\n",
    "\n",
    "Counter(y_train)"
   ]
  },
  {
   "cell_type": "code",
   "execution_count": 53,
   "metadata": {},
   "outputs": [
    {
     "data": {
      "text/plain": [
       "Counter({0: 2145, 1: 2133})"
      ]
     },
     "execution_count": 53,
     "metadata": {},
     "output_type": "execute_result"
    }
   ],
   "source": [
    "Counter(y_test)"
   ]
  },
  {
   "cell_type": "code",
   "execution_count": 54,
   "metadata": {},
   "outputs": [
    {
     "data": {
      "text/plain": [
       "0.5014025245441796"
      ]
     },
     "execution_count": 54,
     "metadata": {},
     "output_type": "execute_result"
    }
   ],
   "source": [
    "# baseline model accuracy\n",
    "\n",
    "2145/(2145+2133)"
   ]
  },
  {
   "cell_type": "markdown",
   "metadata": {},
   "source": [
    "### Logistic Regression Model"
   ]
  },
  {
   "cell_type": "code",
   "execution_count": 55,
   "metadata": {
    "collapsed": true
   },
   "outputs": [],
   "source": [
    "from sklearn.linear_model import LogisticRegression"
   ]
  },
  {
   "cell_type": "code",
   "execution_count": 56,
   "metadata": {
    "collapsed": true
   },
   "outputs": [],
   "source": [
    "from sklearn.metrics import confusion_matrix"
   ]
  },
  {
   "cell_type": "code",
   "execution_count": 57,
   "metadata": {},
   "outputs": [
    {
     "data": {
      "text/plain": [
       "LogisticRegression(C=1.0, class_weight=None, dual=False, fit_intercept=True,\n",
       "          intercept_scaling=1, max_iter=100, multi_class='ovr', n_jobs=1,\n",
       "          penalty='l2', random_state=None, solver='liblinear', tol=0.0001,\n",
       "          verbose=0, warm_start=False)"
      ]
     },
     "execution_count": 57,
     "metadata": {},
     "output_type": "execute_result"
    }
   ],
   "source": [
    "# logistic regression model\n",
    "\n",
    "log_reg = LogisticRegression()\n",
    "log_reg.fit(X_train, y_train)"
   ]
  },
  {
   "cell_type": "code",
   "execution_count": 58,
   "metadata": {
    "collapsed": true
   },
   "outputs": [],
   "source": [
    "# predict\n",
    "\n",
    "y_train_pred = log_reg.predict(X_train)"
   ]
  },
  {
   "cell_type": "code",
   "execution_count": 59,
   "metadata": {},
   "outputs": [
    {
     "data": {
      "text/plain": [
       "array([[3767, 1217],\n",
       "       [1363, 3633]], dtype=int64)"
      ]
     },
     "execution_count": 59,
     "metadata": {},
     "output_type": "execute_result"
    }
   ],
   "source": [
    "# confusion matrix\n",
    "\n",
    "confusion_matrix(y_train, y_train_pred)"
   ]
  },
  {
   "cell_type": "code",
   "execution_count": 60,
   "metadata": {},
   "outputs": [
    {
     "data": {
      "text/plain": [
       "0.7414829659318637"
      ]
     },
     "execution_count": 60,
     "metadata": {},
     "output_type": "execute_result"
    }
   ],
   "source": [
    "# accuracy\n",
    "\n",
    "(3767+3633)/(3767+1217+1363+3633)"
   ]
  },
  {
   "cell_type": "code",
   "execution_count": 61,
   "metadata": {},
   "outputs": [
    {
     "data": {
      "text/plain": [
       "0.7271817453963171"
      ]
     },
     "execution_count": 61,
     "metadata": {},
     "output_type": "execute_result"
    }
   ],
   "source": [
    "# True Positive Rate\n",
    "\n",
    "3633/(1363+3633)"
   ]
  },
  {
   "cell_type": "code",
   "execution_count": 62,
   "metadata": {},
   "outputs": [
    {
     "data": {
      "text/plain": [
       "0.24418138041733548"
      ]
     },
     "execution_count": 62,
     "metadata": {},
     "output_type": "execute_result"
    }
   ],
   "source": [
    "# False Positive Rate\n",
    "\n",
    "1217/(3767+1217)"
   ]
  },
  {
   "cell_type": "code",
   "execution_count": 63,
   "metadata": {},
   "outputs": [
    {
     "data": {
      "text/plain": [
       "array([[1606,  539],\n",
       "       [ 567, 1566]], dtype=int64)"
      ]
     },
     "execution_count": 63,
     "metadata": {},
     "output_type": "execute_result"
    }
   ],
   "source": [
    "# testing result\n",
    "\n",
    "y_test_pred = log_reg.predict(X_test)\n",
    "confusion_matrix(y_test, y_test_pred)"
   ]
  },
  {
   "cell_type": "code",
   "execution_count": 64,
   "metadata": {},
   "outputs": [
    {
     "data": {
      "text/plain": [
       "0.7414679756895746"
      ]
     },
     "execution_count": 64,
     "metadata": {},
     "output_type": "execute_result"
    }
   ],
   "source": [
    "# accuracy\n",
    "\n",
    "(1606+1566)/(1606+539+567+1566)"
   ]
  },
  {
   "cell_type": "code",
   "execution_count": 65,
   "metadata": {},
   "outputs": [
    {
     "data": {
      "text/plain": [
       "0.7341772151898734"
      ]
     },
     "execution_count": 65,
     "metadata": {},
     "output_type": "execute_result"
    }
   ],
   "source": [
    "# True Positive Rate\n",
    "\n",
    "1566/(567+1566)"
   ]
  },
  {
   "cell_type": "code",
   "execution_count": 66,
   "metadata": {},
   "outputs": [
    {
     "data": {
      "text/plain": [
       "0.2512820512820513"
      ]
     },
     "execution_count": 66,
     "metadata": {},
     "output_type": "execute_result"
    }
   ],
   "source": [
    "# False Positive Rate\n",
    "\n",
    "539/(1606+539)"
   ]
  },
  {
   "cell_type": "code",
   "execution_count": 67,
   "metadata": {
    "collapsed": true
   },
   "outputs": [],
   "source": [
    "# save the model\n",
    "\n",
    "import pickle\n",
    "\n",
    "# Dump the trained logistic regression model with Pickle\n",
    "LogReg_pkl_filename = 'LogRegSmall.pkl'\n",
    "\n",
    "# Open the file to save as pkl file\n",
    "LogReg_model_pkl = open(LogReg_pkl_filename, 'wb')\n",
    "pickle.dump(log_reg, LogReg_model_pkl)\n",
    "\n",
    "# Close the pickle instances\n",
    "LogReg_model_pkl.close()"
   ]
  },
  {
   "cell_type": "markdown",
   "metadata": {},
   "source": [
    "### Random Forest Model"
   ]
  },
  {
   "cell_type": "code",
   "execution_count": 68,
   "metadata": {
    "collapsed": true
   },
   "outputs": [],
   "source": [
    "from sklearn.ensemble import RandomForestRegressor"
   ]
  },
  {
   "cell_type": "code",
   "execution_count": 69,
   "metadata": {},
   "outputs": [
    {
     "data": {
      "text/plain": [
       "RandomForestRegressor(bootstrap=True, criterion='mse', max_depth=None,\n",
       "           max_features='auto', max_leaf_nodes=None,\n",
       "           min_impurity_decrease=0.0, min_impurity_split=None,\n",
       "           min_samples_leaf=1, min_samples_split=2,\n",
       "           min_weight_fraction_leaf=0.0, n_estimators=10, n_jobs=1,\n",
       "           oob_score=False, random_state=None, verbose=0, warm_start=False)"
      ]
     },
     "execution_count": 69,
     "metadata": {},
     "output_type": "execute_result"
    }
   ],
   "source": [
    "# random forest model\n",
    "\n",
    "forest_reg = RandomForestRegressor()\n",
    "forest_reg.fit(X_train, y_train)"
   ]
  },
  {
   "cell_type": "code",
   "execution_count": 70,
   "metadata": {},
   "outputs": [
    {
     "data": {
      "text/plain": [
       "array([[4984,    0],\n",
       "       [1188, 3808]], dtype=int64)"
      ]
     },
     "execution_count": 70,
     "metadata": {},
     "output_type": "execute_result"
    }
   ],
   "source": [
    "# training set result\n",
    "\n",
    "y_train_pred = forest_reg.predict(X_train)\n",
    "y_train_pred = [int(x) for x in y_train_pred]\n",
    "confusion_matrix(y_train, y_train_pred)"
   ]
  },
  {
   "cell_type": "code",
   "execution_count": 71,
   "metadata": {},
   "outputs": [
    {
     "data": {
      "text/plain": [
       "0.8809619238476953"
      ]
     },
     "execution_count": 71,
     "metadata": {},
     "output_type": "execute_result"
    }
   ],
   "source": [
    "# accuracy\n",
    "\n",
    "(4984+3808)/(4984+0+1188+3808)"
   ]
  },
  {
   "cell_type": "code",
   "execution_count": 72,
   "metadata": {},
   "outputs": [
    {
     "data": {
      "text/plain": [
       "0.7622097678142514"
      ]
     },
     "execution_count": 72,
     "metadata": {},
     "output_type": "execute_result"
    }
   ],
   "source": [
    "# True Positive Rate\n",
    "\n",
    "3808/(1188+3808)"
   ]
  },
  {
   "cell_type": "code",
   "execution_count": 73,
   "metadata": {},
   "outputs": [
    {
     "data": {
      "text/plain": [
       "0"
      ]
     },
     "execution_count": 73,
     "metadata": {},
     "output_type": "execute_result"
    }
   ],
   "source": [
    "# False Positive Rate\n",
    "\n",
    "0"
   ]
  },
  {
   "cell_type": "code",
   "execution_count": 74,
   "metadata": {},
   "outputs": [
    {
     "data": {
      "text/plain": [
       "array([[2125,   20],\n",
       "       [ 764, 1369]], dtype=int64)"
      ]
     },
     "execution_count": 74,
     "metadata": {},
     "output_type": "execute_result"
    }
   ],
   "source": [
    "# testing set result\n",
    "\n",
    "y_test_pred = forest_reg.predict(X_test)\n",
    "y_test_pred = [int(x) for x in y_test_pred]\n",
    "confusion_matrix(y_test, y_test_pred)"
   ]
  },
  {
   "cell_type": "code",
   "execution_count": 75,
   "metadata": {},
   "outputs": [
    {
     "data": {
      "text/plain": [
       "0.8167367928938757"
      ]
     },
     "execution_count": 75,
     "metadata": {},
     "output_type": "execute_result"
    }
   ],
   "source": [
    "# accuracy\n",
    "\n",
    "(2125+1369)/(2125+20+764+1369)"
   ]
  },
  {
   "cell_type": "code",
   "execution_count": 76,
   "metadata": {},
   "outputs": [
    {
     "data": {
      "text/plain": [
       "0.6418190342240975"
      ]
     },
     "execution_count": 76,
     "metadata": {},
     "output_type": "execute_result"
    }
   ],
   "source": [
    "# True Positive Rate\n",
    "\n",
    "1369/(764+1369)"
   ]
  },
  {
   "cell_type": "code",
   "execution_count": 77,
   "metadata": {},
   "outputs": [
    {
     "data": {
      "text/plain": [
       "0.009324009324009324"
      ]
     },
     "execution_count": 77,
     "metadata": {},
     "output_type": "execute_result"
    }
   ],
   "source": [
    "# False Positive Rate\n",
    "\n",
    "20/(2125+20)"
   ]
  },
  {
   "cell_type": "code",
   "execution_count": 78,
   "metadata": {
    "collapsed": true
   },
   "outputs": [],
   "source": [
    "# save the model\n",
    "\n",
    "import pickle\n",
    "\n",
    "# Dump the trained random forest classifier with Pickle\n",
    "RandomForest_pkl_filename = 'RandomForestSmall.pkl'\n",
    "\n",
    "# Open the file to save as pkl file\n",
    "RandomForest_model_pkl = open(RandomForest_pkl_filename, 'wb')\n",
    "pickle.dump(forest_reg, RandomForest_model_pkl)\n",
    "\n",
    "# Close the pickle instances\n",
    "RandomForest_model_pkl.close()"
   ]
  },
  {
   "cell_type": "markdown",
   "metadata": {},
   "source": [
    "### Neural Network Model"
   ]
  },
  {
   "cell_type": "code",
   "execution_count": 79,
   "metadata": {},
   "outputs": [
    {
     "name": "stderr",
     "output_type": "stream",
     "text": [
      "C:\\Users\\movin\\Anaconda3\\lib\\site-packages\\h5py\\__init__.py:34: FutureWarning: Conversion of the second argument of issubdtype from `float` to `np.floating` is deprecated. In future, it will be treated as `np.float64 == np.dtype(float).type`.\n",
      "  from ._conv import register_converters as _register_converters\n"
     ]
    }
   ],
   "source": [
    "import tensorflow as tf"
   ]
  },
  {
   "cell_type": "code",
   "execution_count": 80,
   "metadata": {
    "collapsed": true
   },
   "outputs": [],
   "source": [
    "n_inputs = 288\n",
    "n_hidden1 = 100\n",
    "n_hidden2 = 30\n",
    "n_outputs = 2"
   ]
  },
  {
   "cell_type": "code",
   "execution_count": 81,
   "metadata": {
    "collapsed": true
   },
   "outputs": [],
   "source": [
    "X = tf.placeholder(tf.float32, shape=(None, n_inputs), name='X')\n",
    "y = tf.placeholder(tf.int64, shape=(None), name='y')"
   ]
  },
  {
   "cell_type": "code",
   "execution_count": 82,
   "metadata": {
    "collapsed": true
   },
   "outputs": [],
   "source": [
    "# construct neural network\n",
    "\n",
    "with tf.name_scope('dnn'):\n",
    "    hidden1 = tf.layers.dense(X, n_hidden1, name='hidden1', activation=tf.nn.relu)\n",
    "    hidden2 = tf.layers.dense(hidden1, n_hidden2, name='hidden2', activation=tf.nn.relu)\n",
    "    logits = tf.layers.dense(hidden2, n_outputs, name='outputs')"
   ]
  },
  {
   "cell_type": "code",
   "execution_count": 83,
   "metadata": {
    "collapsed": true
   },
   "outputs": [],
   "source": [
    "# define cost function\n",
    "\n",
    "with tf.name_scope('loss'):\n",
    "    xentropy = tf.nn.sparse_softmax_cross_entropy_with_logits(labels=y, logits=logits)\n",
    "    loss = tf.reduce_mean(xentropy, name='loss')"
   ]
  },
  {
   "cell_type": "code",
   "execution_count": 84,
   "metadata": {
    "collapsed": true
   },
   "outputs": [],
   "source": [
    "# define optimizer\n",
    "\n",
    "learning_rate = 0.01\n",
    "\n",
    "with tf.name_scope('train'):\n",
    "    optimizer = tf.train.GradientDescentOptimizer(learning_rate)\n",
    "    training_op = optimizer.minimize(loss)"
   ]
  },
  {
   "cell_type": "code",
   "execution_count": 85,
   "metadata": {
    "collapsed": true
   },
   "outputs": [],
   "source": [
    "# define evaluation\n",
    "\n",
    "with tf.name_scope('eval'):\n",
    "    correct = tf.nn.in_top_k(logits, y, 1)\n",
    "    accuracy = tf.reduce_mean(tf.cast(correct, tf.float32))"
   ]
  },
  {
   "cell_type": "code",
   "execution_count": 86,
   "metadata": {
    "collapsed": true
   },
   "outputs": [],
   "source": [
    "# create init and saver\n",
    "\n",
    "init = tf.global_variables_initializer()\n",
    "saver = tf.train.Saver()"
   ]
  },
  {
   "cell_type": "code",
   "execution_count": 87,
   "metadata": {},
   "outputs": [
    {
     "name": "stdout",
     "output_type": "stream",
     "text": [
      "0 Train accuracy: 0.84 Test accuracy: 0.80014026\n",
      "1 Train accuracy: 0.84 Test accuracy: 0.8347359\n",
      "2 Train accuracy: 0.88 Test accuracy: 0.84455353\n",
      "3 Train accuracy: 0.88 Test accuracy: 0.8517999\n",
      "4 Train accuracy: 0.92 Test accuracy: 0.8553062\n",
      "5 Train accuracy: 0.86 Test accuracy: 0.8775129\n",
      "6 Train accuracy: 0.9 Test accuracy: 0.87237024\n",
      "7 Train accuracy: 0.94 Test accuracy: 0.88616174\n",
      "8 Train accuracy: 0.94 Test accuracy: 0.88475925\n",
      "9 Train accuracy: 0.96 Test accuracy: 0.886863\n",
      "10 Train accuracy: 0.94 Test accuracy: 0.8962132\n",
      "11 Train accuracy: 0.94 Test accuracy: 0.89410937\n",
      "12 Train accuracy: 0.92 Test accuracy: 0.89948577\n",
      "13 Train accuracy: 0.86 Test accuracy: 0.9062646\n",
      "14 Train accuracy: 0.88 Test accuracy: 0.9057971\n",
      "15 Train accuracy: 0.94 Test accuracy: 0.90906966\n",
      "16 Train accuracy: 0.94 Test accuracy: 0.9062646\n",
      "17 Train accuracy: 0.94 Test accuracy: 0.9118747\n",
      "18 Train accuracy: 0.9 Test accuracy: 0.9130435\n",
      "19 Train accuracy: 0.9 Test accuracy: 0.914446\n",
      "20 Train accuracy: 0.98 Test accuracy: 0.9179523\n",
      "21 Train accuracy: 1.0 Test accuracy: 0.9200561\n",
      "22 Train accuracy: 0.94 Test accuracy: 0.9259\n",
      "23 Train accuracy: 0.98 Test accuracy: 0.9256662\n",
      "24 Train accuracy: 0.98 Test accuracy: 0.92847127\n",
      "25 Train accuracy: 0.94 Test accuracy: 0.9259\n",
      "26 Train accuracy: 1.0 Test accuracy: 0.9294063\n",
      "27 Train accuracy: 0.96 Test accuracy: 0.928705\n",
      "28 Train accuracy: 0.98 Test accuracy: 0.9338476\n",
      "29 Train accuracy: 0.98 Test accuracy: 0.9364189\n"
     ]
    }
   ],
   "source": [
    "# execution\n",
    "\n",
    "n_epochs = 30\n",
    "batch_size = 50\n",
    "\n",
    "with tf.Session() as sess:\n",
    "    init.run()\n",
    "    for epoch in range(n_epochs):\n",
    "        for iteration in range(len(X_train)//batch_size):\n",
    "            batch_index = random.sample(range(len(X_train)), batch_size)\n",
    "            X_batch = X_train[batch_index]\n",
    "            y_batch = y_train[batch_index]\n",
    "            sess.run(training_op, feed_dict={X:X_batch, y:y_batch})\n",
    "        acc_train = accuracy.eval(feed_dict={X:X_batch, y:y_batch})\n",
    "        acc_test = accuracy.eval(feed_dict={X:X_test, y:y_test})\n",
    "        print(epoch, 'Train accuracy:', acc_train, 'Test accuracy:', acc_test)\n",
    "        \n",
    "    save_path = saver.save(sess, './dnn_model.ckpt')"
   ]
  },
  {
   "cell_type": "code",
   "execution_count": 88,
   "metadata": {},
   "outputs": [
    {
     "name": "stdout",
     "output_type": "stream",
     "text": [
      "INFO:tensorflow:Restoring parameters from ./dnn_model.ckpt\n"
     ]
    }
   ],
   "source": [
    "with tf.Session() as sess:\n",
    "    saver.restore(sess, './dnn_model.ckpt')\n",
    "    Z = logits.eval(feed_dict={X:X_test})\n",
    "    y_pred = np.argmax(Z, axis=1)"
   ]
  },
  {
   "cell_type": "code",
   "execution_count": 89,
   "metadata": {},
   "outputs": [
    {
     "data": {
      "text/plain": [
       "array([[2055,   90],\n",
       "       [ 182, 1951]], dtype=int64)"
      ]
     },
     "execution_count": 89,
     "metadata": {},
     "output_type": "execute_result"
    }
   ],
   "source": [
    "confusion_matrix(y_test, y_pred)"
   ]
  },
  {
   "cell_type": "code",
   "execution_count": 90,
   "metadata": {},
   "outputs": [
    {
     "data": {
      "text/plain": [
       "0.9364188873305282"
      ]
     },
     "execution_count": 90,
     "metadata": {},
     "output_type": "execute_result"
    }
   ],
   "source": [
    "# accuracy\n",
    "\n",
    "(2055+1951)/(2055+90+182+1951)"
   ]
  },
  {
   "cell_type": "code",
   "execution_count": 91,
   "metadata": {},
   "outputs": [
    {
     "data": {
      "text/plain": [
       "0.9146741678387248"
      ]
     },
     "execution_count": 91,
     "metadata": {},
     "output_type": "execute_result"
    }
   ],
   "source": [
    "# True Positive Rate\n",
    "\n",
    "1951/(182+1951)"
   ]
  },
  {
   "cell_type": "code",
   "execution_count": 92,
   "metadata": {},
   "outputs": [
    {
     "data": {
      "text/plain": [
       "0.04195804195804196"
      ]
     },
     "execution_count": 92,
     "metadata": {},
     "output_type": "execute_result"
    }
   ],
   "source": [
    "# False Positive Rate\n",
    "\n",
    "90/(2055+90)"
   ]
  },
  {
   "cell_type": "markdown",
   "metadata": {},
   "source": [
    "## Compare Results"
   ]
  },
  {
   "cell_type": "markdown",
   "metadata": {},
   "source": [
    "|model|accuracy|true positive rate|false positive rate|\n",
    "|-----|--------|------------------|-------------------|\n",
    "|baseline|0.5014|0.0|0.0|\n",
    "|Logistic Regression training|0.7415|0.7272|0.2442|\n",
    "|Logistic Regression testing|0.7415|0.7342|0.2513|\n",
    "|Random Forest training|0.8810|0.7622|0.0|\n",
    "|Random Forest testing|0.8167|0.6418|0.0093|\n",
    "|Neural Network training|1.0|1.0|0.0|\n",
    "|Neural Network testing|0.9364|0.9147|0.0420|"
   ]
  },
  {
   "cell_type": "code",
   "execution_count": null,
   "metadata": {
    "collapsed": true
   },
   "outputs": [],
   "source": []
  }
 ],
 "metadata": {
  "kernelspec": {
   "display_name": "Python 3",
   "language": "python",
   "name": "python3"
  },
  "language_info": {
   "codemirror_mode": {
    "name": "ipython",
    "version": 3
   },
   "file_extension": ".py",
   "mimetype": "text/x-python",
   "name": "python",
   "nbconvert_exporter": "python",
   "pygments_lexer": "ipython3",
   "version": "3.6.3"
  }
 },
 "nbformat": 4,
 "nbformat_minor": 2
}
