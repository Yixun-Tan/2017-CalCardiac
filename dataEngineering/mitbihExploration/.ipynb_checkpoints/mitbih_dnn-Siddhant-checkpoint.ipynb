{
 "cells": [
  {
   "cell_type": "code",
   "execution_count": 17,
   "metadata": {
    "collapsed": true
   },
   "outputs": [],
   "source": [
    "from IPython.display import display\n",
    "import matplotlib.pyplot as plt\n",
    "%matplotlib inline\n",
    "import numpy as np\n",
    "import os\n",
    "import wfdb"
   ]
  },
  {
   "cell_type": "code",
   "execution_count": 18,
   "metadata": {},
   "outputs": [
    {
     "data": {
      "image/png": "[encoded data removed]",
      "text/plain": [
       "<matplotlib.figure.Figure at 0x112644390>"
      ]
     },
     "metadata": {},
     "output_type": "display_data"
    }
   ],
   "source": [
    "# read a wfdb record and plot the signal\n",
    "record = wfdb.rdrecord('100', sampfrom=0, sampto='end', channels=[1], pb_dir='mitdb')\n",
    "wfdb.plot_wfdb(record=record, title='Record 100 channel I from MIT-BIH dataset')"
   ]
  },
  {
   "cell_type": "code",
   "execution_count": 19,
   "metadata": {},
   "outputs": [
    {
     "data": {
      "text/plain": [
       "array([[-0.065],\n",
       "       [-0.065],\n",
       "       [-0.065],\n",
       "       ..., \n",
       "       [-0.365],\n",
       "       [-0.335],\n",
       "       [ 0.   ]])"
      ]
     },
     "metadata": {},
     "output_type": "display_data"
    },
    {
     "data": {
      "text/plain": [
       "{'comments': ['69 M 1085 1629 x1', 'Aldomet, Inderal'],\n",
       " 'fs': 360,\n",
       " 'n_sig': 1,\n",
       " 'sig_len': 650000,\n",
       " 'sig_name': ['V5'],\n",
       " 'units': ['mV']}"
      ]
     },
     "metadata": {},
     "output_type": "display_data"
    }
   ],
   "source": [
    "# Read certain channels and sections of the WFDB record using the simplified 'rdsamp' function\n",
    "# which returns a numpy array and a dictionary. Show the data.\n",
    "signals, fields = wfdb.rdsamp('100', sampfrom=0, sampto='end', channels=[1], pb_dir='mitdb')\n",
    "display(signals)\n",
    "display(fields)"
   ]
  },
  {
   "cell_type": "code",
   "execution_count": 20,
   "metadata": {},
   "outputs": [
    {
     "data": {
      "text/plain": [
       "(650000, 1)"
      ]
     },
     "execution_count": 20,
     "metadata": {},
     "output_type": "execute_result"
    }
   ],
   "source": [
    "# check data shape\n",
    "signals.shape"
   ]
  },
  {
   "cell_type": "code",
   "execution_count": 21,
   "metadata": {},
   "outputs": [
    {
     "data": {
      "text/plain": [
       "dtype('float64')"
      ]
     },
     "execution_count": 21,
     "metadata": {},
     "output_type": "execute_result"
    }
   ],
   "source": [
    "# check data type\n",
    "signals.dtype"
   ]
  },
  {
   "cell_type": "code",
   "execution_count": 22,
   "metadata": {
    "collapsed": true
   },
   "outputs": [],
   "source": [
    "# Read a WFDB annotation file into a wfdb.Annotation object, and plot the samples\n",
    "annotation = wfdb.rdann('100', 'atr', sampfrom=0, sampto=None, shift_samps=True, pb_dir='mitdb')\n",
    "annotation.fs = 360"
   ]
  },
  {
   "cell_type": "code",
   "execution_count": 23,
   "metadata": {},
   "outputs": [
    {
     "data": {
      "text/plain": [
       "array([    18,     77,    370, ..., 649484, 649734, 649991])"
      ]
     },
     "execution_count": 23,
     "metadata": {},
     "output_type": "execute_result"
    }
   ],
   "source": [
    "# \"sample\" method returns a numpy array containing the annotation locations in samples\n",
    "# relative to the beginning of the record\n",
    "annotation.sample"
   ]
  },
  {
   "cell_type": "code",
   "execution_count": 24,
   "metadata": {},
   "outputs": [
    {
     "data": {
      "text/plain": [
       "(2274,)"
      ]
     },
     "execution_count": 24,
     "metadata": {},
     "output_type": "execute_result"
    }
   ],
   "source": [
    "# check data shape\n",
    "annotation.sample.shape"
   ]
  },
  {
   "cell_type": "code",
   "execution_count": 25,
   "metadata": {},
   "outputs": [
    {
     "data": {
      "text/plain": [
       "2274"
      ]
     },
     "execution_count": 25,
     "metadata": {},
     "output_type": "execute_result"
    }
   ],
   "source": [
    "# check list length\n",
    "len(annotation.symbol)"
   ]
  },
  {
   "cell_type": "code",
   "execution_count": 26,
   "metadata": {},
   "outputs": [
    {
     "data": {
      "text/plain": [
       "dict_keys(['+', 'N', 'A', 'V'])"
      ]
     },
     "execution_count": 26,
     "metadata": {},
     "output_type": "execute_result"
    }
   ],
   "source": [
    "# unique symbols in the symbol list\n",
    "# + means Rhythm change\n",
    "# 'A' means Atrial premature beat\n",
    "# 'N' means Normal beat\n",
    "# 'V' means Premature ventricular contraction\n",
    "\n",
    "from collections import Counter\n",
    "Counter(annotation.symbol).keys()"
   ]
  },
  {
   "cell_type": "code",
   "execution_count": 27,
   "metadata": {},
   "outputs": [
    {
     "data": {
      "text/plain": [
       "dict_values([1, 2239, 33, 1])"
      ]
     },
     "execution_count": 27,
     "metadata": {},
     "output_type": "execute_result"
    }
   ],
   "source": [
    "# how many of each symbol in the list\n",
    "# there are 2239 normal beats, 33 atrial premature beats and 1 PVC beat\n",
    "# in the \"100\" record of MIT-BIH database\n",
    "\n",
    "Counter(annotation.symbol).values()"
   ]
  },
  {
   "cell_type": "code",
   "execution_count": 28,
   "metadata": {
    "collapsed": true
   },
   "outputs": [],
   "source": [
    "# siddhant code below from corrupted file"
   ]
  },
  {
   "cell_type": "code",
   "execution_count": null,
   "metadata": {},
   "outputs": [],
   "source": [
    " #\" Splitting in 10 seconds interval the base data\\n\",\n",
    "    \n",
    "    #\"# Now 650,000 data point corresponds to 180.55 10s second interval;\\n\",\n",
    "    #\"# so in the first part let us create a list of array of 180 10s intervals and then add the last array data points \\n\",\n",
    "    #\"# i.e data points corresonding to the .55 \\n\",\n",
    "    \n",
    "nos = (len(signals)/(annotation.fs*10))\n",
    "nosi = int(nos)\n",
    "#print(nos)\n",
    "#print(nosi)\n",
    "    \n",
    "final = list()\n",
    "    \n",
    "for i in range(nosi):\n",
    "    b = signals[(i*3600):(i*3600 + 3600)]\n",
    "        \n",
    "    newdata = list()\n",
    "    for j in range(3600):\n",
    "        temp = b[j][0]\n",
    "        newdata = np.append(newdata,temp)\n",
    "        d = np.asarray(newdata)\n",
    "        \n",
    "        e = np.array_split(d,1)\n",
    "        \n",
    "#print(type(e))\\n\",\n",
    "    final = final + e\n",
    "    \n",
    "#print(final)\n",
    "print(len(final))\n",
    "   \n",
    "    \n",
    "# the last 0.55 part\\n\",\n",
    "f = signals[(nosi*3600):]\n",
    "#print(len(f))\\n\",\n",
    "    \n",
    "newdata2 = list()\n",
    "    \n",
    "for i in range(len(f)):\n",
    "    temp = b[i][0]\n",
    "    newdata2 = np.append(newdata2,temp)\n",
    "    \n",
    "h = np.array_split(newdata2,1)\n",
    "#print(type(h))\\n\",\n",
    "   \n",
    "    \n",
    "# the final is the total \\n\",\n",
    "final = final + h\n",
    "\n",
    "print(\"final number of rows:\",len(final))\n",
    "   \n",
    "  "
   ]
  },
  {
   "cell_type": "code",
   "execution_count": null,
   "metadata": {},
   "outputs": [],
   "source": [
    "# to create a list of 181 rows, that will be 0 or 1 as per whether a 10 s has PVC or not\\n\",\n",
    "   \n",
    "loc = list()\n",
    "for i in range(len(annotation.symbol)):\n",
    "    if annotation.symbol[i] == 'V':\n",
    "        loc = np.append(loc,annotation.sample[i])\n",
    "print(loc)\n",
    "   \n",
    "rowloc = list()\n",
    "\n",
    "for i in range(len(loc)):\n",
    "    rowloc = np.append(rowloc,(int(loc[i]/3600)))\n",
    "\n",
    "print(rowloc)\n",
    "   \n",
    "pvc = np.zeros(nosi+1)\n",
    "    \n",
    "for i in range(len(rowloc)):\n",
    "    temp = int(rowloc[i])\n",
    "    pvc[temp] = 1\n",
    "print(pvc)\n",
    "# now to cross check pvc list\\n\",\n",
    "    \n",
    "print(len(pvc))\n",
    "    \n",
    "for i in range(len(pvc)):\n",
    "    if pvc[i] == 1:\n",
    "        print('the location in pvc list is in the :',i,' 10 secondth record ')\n",
    "       \n",
    " "
   ]
  },
  {
   "cell_type": "code",
   "execution_count": 13,
   "metadata": {},
   "outputs": [
    {
     "name": "stdout",
     "output_type": "stream",
     "text": [
      "2239\n"
     ]
    }
   ],
   "source": [
    "# Finding normal beats\n",
    "\n",
    "locn = list()\n",
    "for i in range(len(annotation.symbol)):\n",
    "    if annotation.symbol[i] == 'N':\n",
    "        locn = np.append(locn,annotation.sample[i])\n",
    "print(len(locn))\n",
    "   \n",
    "\n",
    "    \n",
    "    \n",
    "def window10sec (signals, annotation):\n",
    "    \"\"\"\n",
    "    this function gives a 10-seconds window (5s before, 5s after the annotation mark)\n",
    "    of the ECG signals and assign value 1 if it's PVC beat and 0 otherwise\n",
    "    parameter: signals: numpy array containing heart beat record values\n",
    "               annotation: wfdb.annotation object containing heart beat annotations\n",
    "    return: two lists\n",
    "            siglist: a list of lists of length 3600 \n",
    "            annlist: a list containing 1 if PVC beat, 0 otherwise\n",
    "    \"\"\"\n",
    "    siglist = []\n",
    "    annlist = []\n",
    "    \n",
    "    #loop through the annotation.symbol list\n",
    "    for i in range(len(annotation.symbol)):\n",
    "        timestamp = annotation.sample[i] #get the timestamp\n",
    "        \n",
    "        #test if that timestamp can have 5 seconds before and after window\n",
    "        windowStart = timestamp - 5*annotation.fs\n",
    "        windowEnd = timestamp + 5*annotation.fs\n",
    "        if windowStart >= 0 & windowEnd <= len(signals):\n",
    "            if annotation.symbol[i] == 'V':\n",
    "                siglist.append(signals[windowStart:windowEnd,].flatten().tolist())\n",
    "                annlist.append(1)\n",
    "            elif annotation.symbol[i] == 'N':\n",
    "                siglist.append(signals[windowStart:windowEnd,].flatten().tolist())\n",
    "                annlist.append(0)\n",
    "        else:\n",
    "            continue\n",
    "    \n",
    "    return siglist, annlist\n",
    "    "
   ]
  },
  {
   "cell_type": "code",
   "execution_count": 29,
   "metadata": {},
   "outputs": [
    {
     "data": {
      "text/plain": [
       "48"
      ]
     },
     "execution_count": 29,
     "metadata": {},
     "output_type": "execute_result"
    }
   ],
   "source": [
    "# taken from Yuntao code\n",
    "# check every MIT-BIH data record to identify the type and number of annotations\n",
    "# get all the record names in a list\n",
    "namelist = []\n",
    "namelist = namelist + list(range(100,125,1)) + list(range(200,235,1))\n",
    "for num in [110,120,204,206,211,216,218,224,225,226,227,229]:\n",
    "    namelist.remove(num)\n",
    "\n",
    "len(namelist)"
   ]
  },
  {
   "cell_type": "code",
   "execution_count": 12,
   "metadata": {},
   "outputs": [
    {
     "ename": "NameError",
     "evalue": "name 'namelist' is not defined",
     "output_type": "error",
     "traceback": [
      "\u001b[0;31m---------------------------------------------------------------------------\u001b[0m",
      "\u001b[0;31mNameError\u001b[0m                                 Traceback (most recent call last)",
      "\u001b[0;32m<ipython-input-12-6bef25ec30b0>\u001b[0m in \u001b[0;36m<module>\u001b[0;34m()\u001b[0m\n\u001b[1;32m      7\u001b[0m \u001b[0mPVC_annotations\u001b[0m \u001b[0;34m=\u001b[0m \u001b[0;34m[\u001b[0m\u001b[0;34m]\u001b[0m\u001b[0;34m\u001b[0m\u001b[0m\n\u001b[1;32m      8\u001b[0m \u001b[0;34m\u001b[0m\u001b[0m\n\u001b[0;32m----> 9\u001b[0;31m \u001b[0;32mfor\u001b[0m \u001b[0mrecord\u001b[0m \u001b[0;32min\u001b[0m \u001b[0mnamelist\u001b[0m\u001b[0;34m:\u001b[0m\u001b[0;34m\u001b[0m\u001b[0m\n\u001b[0m\u001b[1;32m     10\u001b[0m     \u001b[0msignals\u001b[0m\u001b[0;34m,\u001b[0m \u001b[0mfields\u001b[0m \u001b[0;34m=\u001b[0m \u001b[0mwfdb\u001b[0m\u001b[0;34m.\u001b[0m\u001b[0mrdsamp\u001b[0m\u001b[0;34m(\u001b[0m\u001b[0mstr\u001b[0m\u001b[0;34m(\u001b[0m\u001b[0mrecord\u001b[0m\u001b[0;34m)\u001b[0m\u001b[0;34m,\u001b[0m \u001b[0msampfrom\u001b[0m\u001b[0;34m=\u001b[0m\u001b[0;36m0\u001b[0m\u001b[0;34m,\u001b[0m \u001b[0msampto\u001b[0m\u001b[0;34m=\u001b[0m\u001b[0;34m'end'\u001b[0m\u001b[0;34m,\u001b[0m \u001b[0mchannels\u001b[0m\u001b[0;34m=\u001b[0m\u001b[0;34m[\u001b[0m\u001b[0;36m1\u001b[0m\u001b[0;34m]\u001b[0m\u001b[0;34m,\u001b[0m \u001b[0mpb_dir\u001b[0m\u001b[0;34m=\u001b[0m\u001b[0;34m'mitdb'\u001b[0m\u001b[0;34m)\u001b[0m\u001b[0;34m\u001b[0m\u001b[0m\n\u001b[1;32m     11\u001b[0m     \u001b[0mannotation\u001b[0m \u001b[0;34m=\u001b[0m \u001b[0mwfdb\u001b[0m\u001b[0;34m.\u001b[0m\u001b[0mrdann\u001b[0m\u001b[0;34m(\u001b[0m\u001b[0mstr\u001b[0m\u001b[0;34m(\u001b[0m\u001b[0mrecord\u001b[0m\u001b[0;34m)\u001b[0m\u001b[0;34m,\u001b[0m \u001b[0;34m'atr'\u001b[0m\u001b[0;34m,\u001b[0m \u001b[0msampfrom\u001b[0m\u001b[0;34m=\u001b[0m\u001b[0;36m0\u001b[0m\u001b[0;34m,\u001b[0m \u001b[0msampto\u001b[0m\u001b[0;34m=\u001b[0m\u001b[0;32mNone\u001b[0m\u001b[0;34m,\u001b[0m \u001b[0mshift_samps\u001b[0m\u001b[0;34m=\u001b[0m\u001b[0;32mTrue\u001b[0m\u001b[0;34m,\u001b[0m \u001b[0mpb_dir\u001b[0m\u001b[0;34m=\u001b[0m\u001b[0;34m'mitdb'\u001b[0m\u001b[0;34m)\u001b[0m\u001b[0;34m\u001b[0m\u001b[0m\n",
      "\u001b[0;31mNameError\u001b[0m: name 'namelist' is not defined"
     ]
    }
   ],
   "source": [
    "# Modified from yuntao code for single classification into Normal and PVC beats\n",
    "# loop through all record to get all the 10-seconds window signal list and annotation list\n",
    "# this could be the training dataset for the neural network model\n",
    "# this takes minutes to run\n",
    "\n",
    "ECG_signals = []\n",
    "PVC_annotations = []\n",
    "\n",
    "for record in namelist:\n",
    "    signals, fields = wfdb.rdsamp(str(record), sampfrom=0, sampto='end', channels=[1], pb_dir='mitdb')\n",
    "    annotation = wfdb.rdann(str(record), 'atr', sampfrom=0, sampto=None, shift_samps=True, pb_dir='mitdb')\n",
    "    \n",
    "    signal_list, annotation_list = window10sec(signals, annotation)\n",
    "    ECG_signals = ECG_signals + signal_list\n",
    "    PVC_annotations = PVC_annotations + annotation_list"
   ]
  },
  {
   "cell_type": "code",
   "execution_count": null,
   "metadata": {},
   "outputs": [],
   "source": [
    "print(len(ECG_signals))\n",
    "print(len(PVC_annotations))"
   ]
  },
  {
   "cell_type": "code",
   "execution_count": null,
   "metadata": {},
   "outputs": [],
   "source": [
    "# there are 7112 PVC 10-seconds window, 74848 normal 10-seconds window\n",
    "Counter(PVC_annotations)"
   ]
  },
  {
   "cell_type": "code",
   "execution_count": 30,
   "metadata": {
    "collapsed": true
   },
   "outputs": [],
   "source": [
    "# now classifying all the datasets as per three classes : Atrial premature beat, Normal beat and PVC \n",
    "\n",
    "def window10sec2 (signals, annotation):\n",
    "    \"\"\"\n",
    "    this function gives a 10-seconds window (5s before, 5s after the annotation mark)\n",
    "    of the ECG signals and assign value 1 if it's PVC beat and 0 otherwise\n",
    "    parameter: signals: numpy array containing heart beat record values\n",
    "               annotation: wfdb.annotation object containing heart beat annotations\n",
    "    return: two lists\n",
    "            siglist: a list of lists of length 3600 \n",
    "            annlist: a list containing 1 if PVC beat, 0 otherwise\n",
    "    \"\"\"\n",
    "    siglist = []\n",
    "    annlist = []\n",
    "    \n",
    "    #loop through the annotation.symbol list\n",
    "    for i in range(len(annotation.symbol)):\n",
    "        timestamp = annotation.sample[i] #get the timestamp\n",
    "        \n",
    "        #test if that timestamp can have 5 seconds before and after window\n",
    "        windowStart = timestamp - 5*annotation.fs\n",
    "        windowEnd = timestamp + 5*annotation.fs\n",
    "        if windowStart >= 0 & windowEnd <= len(signals):\n",
    "            if annotation.symbol[i] == 'V':\n",
    "                siglist.append(signals[windowStart:windowEnd,].flatten().tolist())\n",
    "                annlist.append(1)\n",
    "            elif annotation.symbol[i] == 'N':\n",
    "                siglist.append(signals[windowStart:windowEnd,].flatten().tolist())\n",
    "                annlist.append(0)\n",
    "            \n",
    "            elif annotation.symbol[i] == 'A':\n",
    "                siglist.append(signals[windowStart:windowEnd,].flatten().tolist())\n",
    "                annlist.append(2)\n",
    "        else:\n",
    "            continue\n",
    "    \n",
    "    return siglist, annlist\n",
    "\n",
    "\n"
   ]
  },
  {
   "cell_type": "code",
   "execution_count": 16,
   "metadata": {},
   "outputs": [
    {
     "ename": "KeyboardInterrupt",
     "evalue": "",
     "output_type": "error",
     "traceback": [
      "\u001b[0;31m---------------------------------------------------------------------------\u001b[0m",
      "\u001b[0;31mKeyboardInterrupt\u001b[0m                         Traceback (most recent call last)",
      "\u001b[0;32m<ipython-input-16-5ac157ee50d5>\u001b[0m in \u001b[0;36m<module>\u001b[0;34m()\u001b[0m\n\u001b[1;32m     11\u001b[0m     \u001b[0mannotation\u001b[0m \u001b[0;34m=\u001b[0m \u001b[0mwfdb\u001b[0m\u001b[0;34m.\u001b[0m\u001b[0mrdann\u001b[0m\u001b[0;34m(\u001b[0m\u001b[0mstr\u001b[0m\u001b[0;34m(\u001b[0m\u001b[0mrecord\u001b[0m\u001b[0;34m)\u001b[0m\u001b[0;34m,\u001b[0m \u001b[0;34m'atr'\u001b[0m\u001b[0;34m,\u001b[0m \u001b[0msampfrom\u001b[0m\u001b[0;34m=\u001b[0m\u001b[0;36m0\u001b[0m\u001b[0;34m,\u001b[0m \u001b[0msampto\u001b[0m\u001b[0;34m=\u001b[0m\u001b[0;32mNone\u001b[0m\u001b[0;34m,\u001b[0m \u001b[0mshift_samps\u001b[0m\u001b[0;34m=\u001b[0m\u001b[0;32mTrue\u001b[0m\u001b[0;34m,\u001b[0m \u001b[0mpb_dir\u001b[0m\u001b[0;34m=\u001b[0m\u001b[0;34m'mitdb'\u001b[0m\u001b[0;34m)\u001b[0m\u001b[0;34m\u001b[0m\u001b[0m\n\u001b[1;32m     12\u001b[0m \u001b[0;34m\u001b[0m\u001b[0m\n\u001b[0;32m---> 13\u001b[0;31m     \u001b[0msignal_list\u001b[0m\u001b[0;34m,\u001b[0m \u001b[0mannotation_list\u001b[0m \u001b[0;34m=\u001b[0m \u001b[0mwindow10sec2\u001b[0m\u001b[0;34m(\u001b[0m\u001b[0msignals\u001b[0m\u001b[0;34m,\u001b[0m \u001b[0mannotation\u001b[0m\u001b[0;34m)\u001b[0m\u001b[0;34m\u001b[0m\u001b[0m\n\u001b[0m\u001b[1;32m     14\u001b[0m     \u001b[0mECG_signals2\u001b[0m \u001b[0;34m=\u001b[0m \u001b[0mECG_signals2\u001b[0m \u001b[0;34m+\u001b[0m \u001b[0msignal_list\u001b[0m\u001b[0;34m\u001b[0m\u001b[0m\n\u001b[1;32m     15\u001b[0m     \u001b[0mPVC_annotations2\u001b[0m \u001b[0;34m=\u001b[0m \u001b[0mPVC_annotations2\u001b[0m \u001b[0;34m+\u001b[0m \u001b[0mannotation_list\u001b[0m\u001b[0;34m\u001b[0m\u001b[0m\n",
      "\u001b[0;32m<ipython-input-15-ec4026e82505>\u001b[0m in \u001b[0;36mwindow10sec2\u001b[0;34m(signals, annotation)\u001b[0m\n\u001b[1;32m     26\u001b[0m                 \u001b[0mannlist\u001b[0m\u001b[0;34m.\u001b[0m\u001b[0mappend\u001b[0m\u001b[0;34m(\u001b[0m\u001b[0;36m1\u001b[0m\u001b[0;34m)\u001b[0m\u001b[0;34m\u001b[0m\u001b[0m\n\u001b[1;32m     27\u001b[0m             \u001b[0;32melif\u001b[0m \u001b[0mannotation\u001b[0m\u001b[0;34m.\u001b[0m\u001b[0msymbol\u001b[0m\u001b[0;34m[\u001b[0m\u001b[0mi\u001b[0m\u001b[0;34m]\u001b[0m \u001b[0;34m==\u001b[0m \u001b[0;34m'N'\u001b[0m\u001b[0;34m:\u001b[0m\u001b[0;34m\u001b[0m\u001b[0m\n\u001b[0;32m---> 28\u001b[0;31m                 \u001b[0msiglist\u001b[0m\u001b[0;34m.\u001b[0m\u001b[0mappend\u001b[0m\u001b[0;34m(\u001b[0m\u001b[0msignals\u001b[0m\u001b[0;34m[\u001b[0m\u001b[0mwindowStart\u001b[0m\u001b[0;34m:\u001b[0m\u001b[0mwindowEnd\u001b[0m\u001b[0;34m,\u001b[0m\u001b[0;34m]\u001b[0m\u001b[0;34m.\u001b[0m\u001b[0mflatten\u001b[0m\u001b[0;34m(\u001b[0m\u001b[0;34m)\u001b[0m\u001b[0;34m.\u001b[0m\u001b[0mtolist\u001b[0m\u001b[0;34m(\u001b[0m\u001b[0;34m)\u001b[0m\u001b[0;34m)\u001b[0m\u001b[0;34m\u001b[0m\u001b[0m\n\u001b[0m\u001b[1;32m     29\u001b[0m                 \u001b[0mannlist\u001b[0m\u001b[0;34m.\u001b[0m\u001b[0mappend\u001b[0m\u001b[0;34m(\u001b[0m\u001b[0;36m0\u001b[0m\u001b[0;34m)\u001b[0m\u001b[0;34m\u001b[0m\u001b[0m\n\u001b[1;32m     30\u001b[0m \u001b[0;34m\u001b[0m\u001b[0m\n",
      "\u001b[0;31mKeyboardInterrupt\u001b[0m: "
     ]
    }
   ],
   "source": [
    "# Modified from yuntao code for single classification into Normal, PVC beats, and Atrial classificaiton beat\n",
    "# loop through all record to get all the 10-seconds window signal list and annotation list\n",
    "# this could be the training dataset for the neural network model\n",
    "# this takes minutes to run\n",
    "\n",
    "ECG_signals2 = []\n",
    "PVC_annotations2 = []\n",
    "\n",
    "for record in namelist:\n",
    "    signals, fields = wfdb.rdsamp(str(record), sampfrom=0, sampto='end', channels=[1], pb_dir='mitdb')\n",
    "    annotation = wfdb.rdann(str(record), 'atr', sampfrom=0, sampto=None, shift_samps=True, pb_dir='mitdb')\n",
    "    \n",
    "    signal_list, annotation_list = window10sec2(signals, annotation)\n",
    "    ECG_signals2 = ECG_signals2 + signal_list\n",
    "    PVC_annotations2 = PVC_annotations2 + annotation_list"
   ]
  },
  {
   "cell_type": "code",
   "execution_count": null,
   "metadata": {},
   "outputs": [],
   "source": [
    "print(len(ECG_signals2))\n",
    "print(len(PVC_annotations2))\n",
    "\n",
    "\n",
    "Counter(PVC_annotations2)"
   ]
  },
  {
   "cell_type": "code",
   "execution_count": 31,
   "metadata": {},
   "outputs": [
    {
     "data": {
      "image/png": "[encoded data removed]",
      "text/plain": [
       "<matplotlib.figure.Figure at 0x1153832b0>"
      ]
     },
     "metadata": {},
     "output_type": "display_data"
    }
   ],
   "source": [
    "# get 10-second window of the PVC beat (5 seconds before and after)\n",
    "pvc_record = wfdb.rdrecord('100', sampfrom=(546792-360*5), sampto=(546792+360*5), channels=[1], pb_dir='mitdb')\n",
    "wfdb.plot_wfdb(record=pvc_record, title='PVC beat of Record 100 channel I')"
   ]
  },
  {
   "cell_type": "code",
   "execution_count": 32,
   "metadata": {},
   "outputs": [
    {
     "name": "stdout",
     "output_type": "stream",
     "text": [
      "[   0    1    2 ..., 3597 3598 3599]\n"
     ]
    }
   ],
   "source": [
    "time = np.array(range(0,3600))\n",
    "print(time)\n",
    "\n"
   ]
  },
  {
   "cell_type": "code",
   "execution_count": 33,
   "metadata": {},
   "outputs": [
    {
     "name": "stdout",
     "output_type": "stream",
     "text": [
      "[100]\n"
     ]
    }
   ],
   "source": [
    "namelist_record = np.zeros(1)\n",
    "namelist_record[0] = namelist[0]\n",
    "\n",
    "type(namelist_record)\n",
    "\n",
    "namelist_record = np.array_split(namelist_record,1)\n",
    "namelist_record[0] = int(100)\n",
    "print(namelist_record)\n"
   ]
  },
  {
   "cell_type": "code",
   "execution_count": 34,
   "metadata": {},
   "outputs": [],
   "source": [
    "# just for one record checking the normal beat, atrial beat, and pvc beat:\n",
    "\n",
    "def window10sec2 (signals, annotation):\n",
    "    \"\"\"\n",
    "    this function gives a 10-seconds window (5s before, 5s after the annotation mark)\n",
    "    of the ECG signals and assign value 1 if it's PVC beat and 0 otherwise\n",
    "    parameter: signals: numpy array containing heart beat record values\n",
    "               annotation: wfdb.annotation object containing heart beat annotations\n",
    "    return: two lists\n",
    "            siglist: a list of lists of length 3600 \n",
    "            annlist: a list containing 1 if PVC beat, 0 otherwise\n",
    "    \"\"\"\n",
    "    siglist = []\n",
    "    annlist = []\n",
    "    \n",
    "    #loop through the annotation.symbol list\n",
    "    for i in range(len(annotation.symbol)):\n",
    "        timestamp = annotation.sample[i] #get the timestamp\n",
    "        \n",
    "        #test if that timestamp can have 5 seconds before and after window\n",
    "        windowStart = timestamp - 5*annotation.fs\n",
    "        windowEnd = timestamp + 5*annotation.fs\n",
    "        if windowStart >= 0 & windowEnd <= len(signals):\n",
    "            if annotation.symbol[i] == 'V':\n",
    "                siglist.append(signals[windowStart:windowEnd,].flatten().tolist())\n",
    "                annlist.append(1)\n",
    "            elif annotation.symbol[i] == 'N':\n",
    "                siglist.append(signals[windowStart:windowEnd,].flatten().tolist())\n",
    "                annlist.append(0)\n",
    "            \n",
    "            elif annotation.symbol[i] == 'A':\n",
    "                siglist.append(signals[windowStart:windowEnd,].flatten().tolist())\n",
    "                annlist.append(2)\n",
    "        else:\n",
    "            continue\n",
    "    \n",
    "    return siglist, annlist\n",
    "\n",
    "ECG_signals_record1 = []\n",
    "PVC_annotations_record1 = []\n",
    "\n",
    "for record in namelist_record:\n",
    "\n",
    "    signals, fields = wfdb.rdsamp(str(record), sampfrom=0, sampto='end', channels=[1], pb_dir='mitdb')\n",
    "    annotation = wfdb.rdann(str(record), 'atr', sampfrom=0, sampto=None, shift_samps=True, pb_dir='mitdb')\n",
    "    \n",
    "    signal_list, annotation_list = window10sec2(signals, annotation)\n",
    "    ECG_signals_record1 = ECG_signals_record1 + signal_list\n",
    "    PVC_annotations_record1 = PVC_annotations_record1 + annotation_list"
   ]
  },
  {
   "cell_type": "code",
   "execution_count": 35,
   "metadata": {},
   "outputs": [
    {
     "data": {
      "text/plain": [
       "2267"
      ]
     },
     "execution_count": 35,
     "metadata": {},
     "output_type": "execute_result"
    }
   ],
   "source": [
    "len(ECG_signals_record1)"
   ]
  },
  {
   "cell_type": "code",
   "execution_count": 36,
   "metadata": {},
   "outputs": [
    {
     "data": {
      "text/plain": [
       "2267"
      ]
     },
     "execution_count": 36,
     "metadata": {},
     "output_type": "execute_result"
    }
   ],
   "source": [
    "len(PVC_annotations_record1)"
   ]
  },
  {
   "cell_type": "code",
   "execution_count": 37,
   "metadata": {},
   "outputs": [
    {
     "data": {
      "text/plain": [
       "Counter({0: 2233, 1: 1, 2: 33})"
      ]
     },
     "execution_count": 37,
     "metadata": {},
     "output_type": "execute_result"
    }
   ],
   "source": [
    "Counter(PVC_annotations_record1)"
   ]
  },
  {
   "cell_type": "code",
   "execution_count": 38,
   "metadata": {},
   "outputs": [
    {
     "name": "stdout",
     "output_type": "stream",
     "text": [
      "<class 'int'>\n"
     ]
    }
   ],
   "source": [
    "print(type(PVC_annotations_record1[0]))\n"
   ]
  },
  {
   "cell_type": "code",
   "execution_count": 39,
   "metadata": {},
   "outputs": [
    {
     "name": "stdout",
     "output_type": "stream",
     "text": [
      "2267\n"
     ]
    },
    {
     "data": {
      "text/plain": [
       "3600"
      ]
     },
     "execution_count": 39,
     "metadata": {},
     "output_type": "execute_result"
    }
   ],
   "source": [
    "print(len(ECG_signals_record1))\n",
    "\n",
    "(len(ECG_signals_record1[0]))"
   ]
  },
  {
   "cell_type": "code",
   "execution_count": null,
   "metadata": {},
   "outputs": [],
   "source": []
  },
  {
   "cell_type": "code",
   "execution_count": 40,
   "metadata": {},
   "outputs": [
    {
     "name": "stdout",
     "output_type": "stream",
     "text": [
      "1\n",
      "2233\n",
      "33\n"
     ]
    }
   ],
   "source": [
    "# converting into three lists of arrays\n",
    "\n",
    "pvc = []\n",
    "nor = []\n",
    "atr = []\n",
    "\n",
    "for i in range(len(PVC_annotations_record1)):\n",
    "    if PVC_annotations_record1[i] == 1:\n",
    "        temp1 = np.asarray(ECG_signals_record1[i])\n",
    "        temp2 = np.array_split(temp1,1)\n",
    "        pvc = pvc + temp2\n",
    "    elif PVC_annotations_record1[i] == 0:\n",
    "        temp1 = np.asarray(ECG_signals_record1[i])\n",
    "        temp2 = np.array_split(temp1,1)\n",
    "        nor = nor + temp2\n",
    "    elif PVC_annotations_record1[i] == 2:\n",
    "        temp1 = np.asarray(ECG_signals_record1[i])\n",
    "        temp2 = np.array_split(temp1,1)\n",
    "        atr = atr + temp2\n",
    "        \n",
    "print(len(pvc))\n",
    "print(len(nor))\n",
    "print(len(atr))\n"
   ]
  },
  {
   "cell_type": "code",
   "execution_count": null,
   "metadata": {},
   "outputs": [],
   "source": []
  },
  {
   "cell_type": "code",
   "execution_count": 173,
   "metadata": {},
   "outputs": [
    {
     "name": "stdout",
     "output_type": "stream",
     "text": [
      "Difference between the maximum mV signal and minimum mV signal for normal beat\n",
      "Mean difference: 1.37154724586\n",
      "Median difference: 1.37\n"
     ]
    },
    {
     "data": {
      "image/png": "[encoded data removed]",
      "text/plain": [
       "<matplotlib.figure.Figure at 0x1292d2dd8>"
      ]
     },
     "metadata": {},
     "output_type": "display_data"
    }
   ],
   "source": [
    "# difference between R&S Range of max mV and min mV \n",
    "\n",
    "dif_nor = np.zeros(len(nor))\n",
    "\n",
    "for i in range(len(nor)):\n",
    "    \n",
    "    dif_nor[i] = max(nor[i]) - min(nor[i])\n",
    "\n",
    "print('Difference between the maximum mV signal and minimum mV signal for normal beat')\n",
    "plt.hist(dif_nor)\n",
    "plt.xlabel('mV')\n",
    "plt.ylabel('Number of 10s windows')\n",
    "print('Mean difference:',np.mean(dif_nor))\n",
    "print('Median difference:',np.median(dif_nor))\n",
    "\n",
    "\n",
    "\n"
   ]
  },
  {
   "cell_type": "code",
   "execution_count": 174,
   "metadata": {},
   "outputs": [
    {
     "name": "stdout",
     "output_type": "stream",
     "text": [
      "Difference between the maximum mV signal and minimum mV signal for ATR beat\n",
      "Mean difference: 1.40696969697\n",
      "Median difference: 1.405\n"
     ]
    },
    {
     "data": {
      "image/png": "[encoded data removed]",
      "text/plain": [
       "<matplotlib.figure.Figure at 0x12191fd68>"
      ]
     },
     "metadata": {},
     "output_type": "display_data"
    }
   ],
   "source": [
    "# difference between R&S Range of max mV and min mV \n",
    "\n",
    "dif_atr = np.zeros(len(atr))\n",
    "\n",
    "for i in range(len(atr)):\n",
    "    \n",
    "    dif_atr[i] = max(atr[i]) - min(atr[i])\n",
    "\n",
    "print('Difference between the maximum mV signal and minimum mV signal for ATR beat')\n",
    "plt.hist(dif_atr)\n",
    "plt.xlabel('mV')\n",
    "plt.ylabel('Number of 10s windows')\n",
    "print('Mean difference:',np.mean(dif_atr))\n",
    "print('Median difference:',np.median(dif_atr))"
   ]
  },
  {
   "cell_type": "code",
   "execution_count": 175,
   "metadata": {},
   "outputs": [
    {
     "name": "stdout",
     "output_type": "stream",
     "text": [
      "Difference between the maximum mV signal and minimum mV signal for normal beat\n",
      "Mean difference: 3.435\n",
      "Median difference: 3.435\n"
     ]
    },
    {
     "data": {
      "image/png": "[encoded data removed]",
      "text/plain": [
       "<matplotlib.figure.Figure at 0x12188e400>"
      ]
     },
     "metadata": {},
     "output_type": "display_data"
    }
   ],
   "source": [
    "# difference between R&S Range of max mV and min mV \n",
    "\n",
    "dif_pvc = np.zeros(len(pvc))\n",
    "\n",
    "for i in range(len(pvc)):\n",
    "    \n",
    "    dif_pvc[i] = max(pvc[i]) - min(pvc[i])\n",
    "\n",
    "print('Difference between the maximum mV signal and minimum mV signal for normal beat')\n",
    "plt.hist(dif_pvc)\n",
    "plt.xlabel('mV')\n",
    "plt.ylabel('Number of 10s windows')\n",
    "print('Mean difference:',np.mean(dif_pvc))\n",
    "print('Median difference:',np.median(dif_pvc))"
   ]
  },
  {
   "cell_type": "code",
   "execution_count": 116,
   "metadata": {},
   "outputs": [
    {
     "name": "stdout",
     "output_type": "stream",
     "text": [
      "[-0.08  -0.085 -0.085 ..., -0.27  -0.28  -0.275]\n"
     ]
    },
    {
     "data": {
      "text/plain": [
       "[<matplotlib.lines.Line2D at 0x1095d7710>]"
      ]
     },
     "execution_count": 116,
     "metadata": {},
     "output_type": "execute_result"
    },
    {
     "data": {
      "image/png": "[encoded data removed]",
      "text/plain": [
       "<matplotlib.figure.Figure at 0x1095e2ac8>"
      ]
     },
     "metadata": {},
     "output_type": "display_data"
    }
   ],
   "source": [
    "# creating a copy of nor[0]\n",
    "\n",
    "temp_nor = np.copy(nor[0])\n",
    "print(temp_nor)\n",
    "\n",
    "plt.plot(time,temp_nor)"
   ]
  },
  {
   "cell_type": "code",
   "execution_count": 135,
   "metadata": {},
   "outputs": [],
   "source": [
    "# finding the R peaks function \n",
    "\n",
    "def rpeakdiff(temp_nor):\n",
    "    from scipy import signal\n",
    "    #print(temp_nor)\n",
    "    peakind = signal.find_peaks_cwt(temp_nor, np.arange(1,10))\n",
    "    #print(len(peakind))\n",
    "    #print(max(temp_nor))\n",
    "    #print(min(temp_nor))\n",
    "    \n",
    "    temp_r = []\n",
    "    \n",
    "    for i in range(len(peakind)):\n",
    "        temp = peakind[i]\n",
    "        if temp_nor[temp] > 0:\n",
    "            temp_r = np.append(temp_r,peakind[i])\n",
    "    \n",
    "    #print(len(temp_r))\n",
    "    \n",
    "    for i in range(len(temp_r)):\n",
    "        #print(temp_r[i])\n",
    "        temp = int(temp_r[i])\n",
    "        #print(temp_nor[temp])\n",
    "        #print(temp_r)\n",
    "        \n",
    "        avg_time = (np.mean(((np.ediff1d(temp_r))))/360)\n",
    "        \n",
    "        return avg_time\n"
   ]
  },
  {
   "cell_type": "code",
   "execution_count": 145,
   "metadata": {},
   "outputs": [
    {
     "name": "stdout",
     "output_type": "stream",
     "text": [
      "[ 0.80625     0.81203704  0.81458333 ...,  0.47051282  0.71284722\n",
      "  0.70912698]\n",
      "For the normal beat the average duration between R's is: 0.74139678185\n"
     ]
    }
   ],
   "source": [
    "# code for finding the time between two consecutive R points for Normal Beat\n",
    "# takes minutes to run,\n",
    "\n",
    "nor_diff = []\n",
    "\n",
    "\n",
    "for i in range(len(nor)):\n",
    "    temp_nor = nor[i]\n",
    "    \n",
    "    nor_diff = np.append(nor_diff,rpeakdiff(temp_nor))\n",
    "    \n",
    "#print(nor_diff)\n",
    "\n",
    "print(\"For the normal beat the median duration between R's is:\",np.median(nor_diff))"
   ]
  },
  {
   "cell_type": "code",
   "execution_count": 152,
   "metadata": {},
   "outputs": [
    {
     "name": "stdout",
     "output_type": "stream",
     "text": [
      "number of records: 2233\n",
      "mean 0.74139678185\n",
      "max 1.08796296296\n",
      "min 0.100597749648\n",
      "median 0.79375\n"
     ]
    }
   ],
   "source": [
    "print(\"number of records:\",len(nor_diff))\n",
    "print(\"mean\",np.mean(nor_diff))\n",
    "print(\"max\",np.max(nor_diff))\n",
    "print(\"min\",np.min(nor_diff))\n",
    "print(\"median\",np.median(nor_diff))"
   ]
  },
  {
   "cell_type": "code",
   "execution_count": 151,
   "metadata": {},
   "outputs": [
    {
     "name": "stdout",
     "output_type": "stream",
     "text": [
      "For the Atrial premature beat the median duration between R's is: 0.8\n"
     ]
    }
   ],
   "source": [
    "# code for finding the time between two consecutive R points for Atrial Premature Beat\n",
    "\n",
    "atr_diff = []\n",
    "\n",
    "\n",
    "for i in range(len(atr)):\n",
    "    temp_nor = atr[i]\n",
    "    \n",
    "    atr_diff = np.append(atr_diff,rpeakdiff(temp_nor))\n",
    "    \n",
    "\n",
    "\n",
    "print(\"For the Atrial premature beat the median duration between R's is:\",np.median(atr_diff))"
   ]
  },
  {
   "cell_type": "code",
   "execution_count": 153,
   "metadata": {},
   "outputs": [
    {
     "name": "stdout",
     "output_type": "stream",
     "text": [
      "number of records: 33\n",
      "mean 0.750809047922\n",
      "max 0.838888888889\n",
      "min 0.353600823045\n",
      "median 0.8\n"
     ]
    }
   ],
   "source": [
    "print(\"number of records:\",len(atr_diff))\n",
    "print(\"mean\",np.mean(atr_diff))\n",
    "print(\"max\",np.max(atr_diff))\n",
    "print(\"min\",np.min(atr_diff))\n",
    "print(\"median\",np.median(atr_diff))"
   ]
  },
  {
   "cell_type": "code",
   "execution_count": 170,
   "metadata": {},
   "outputs": [
    {
     "name": "stdout",
     "output_type": "stream",
     "text": [
      "143\n",
      "[  981.  2152.  3038.]\n",
      "[ 1171.   886.]\n"
     ]
    }
   ],
   "source": [
    "# code for finding the time between two consecutive R points for PVC\n",
    "\n",
    "pvc_diff = []\n",
    "\n",
    "\n",
    "from scipy import signal\n",
    "    #print(temp_nor)\n",
    "peakind = signal.find_peaks_cwt(pvc[0], np.arange(1,10))\n",
    "print(len(peakind))\n",
    "#print(max(temp_nor))\n",
    "#print(min(temp_nor))\n",
    "    \n",
    "temp_r = []\n",
    "    \n",
    "for i in range(len(peakind)):\n",
    "    temp = peakind[i]\n",
    "    if temp_nor[temp] > 0:\n",
    "        temp_r = np.append(temp_r,peakind[i])\n",
    "    \n",
    "print((temp_r))\n",
    "print((np.ediff1d(temp_r)))\n",
    "\n"
   ]
  },
  {
   "cell_type": "code",
   "execution_count": 158,
   "metadata": {},
   "outputs": [
    {
     "data": {
      "text/plain": [
       "[<matplotlib.lines.Line2D at 0x1292d2550>]"
      ]
     },
     "execution_count": 158,
     "metadata": {},
     "output_type": "execute_result"
    },
    {
     "data": {
      "image/png": "[encoded data removed]",
      "text/plain": [
       "<matplotlib.figure.Figure at 0x1094d9710>"
      ]
     },
     "metadata": {},
     "output_type": "display_data"
    }
   ],
   "source": [
    "plt.plot(time,pvc[0])"
   ]
  },
  {
   "cell_type": "code",
   "execution_count": null,
   "metadata": {},
   "outputs": [],
   "source": [
    "dif_atr = np.zeros(len(atr))\n",
    "\n",
    "for i in range(len(atr)):\n",
    "    \n",
    "    dif_atr[i] = max(atr[i]) - min(atr[i])\n",
    "\n",
    "print('Difference between the maximum mV signal and minimum mV signal for normal beat')\n",
    "plt.hist(dif_atr)\n",
    "plt.xlabel('mV')\n",
    "plt.ylabel('Number of 10s windows')\n",
    "print('Mean difference:',np.mean(dif_atr))\n",
    "print('Median difference:',np.median(dif_atr))"
   ]
  },
  {
   "cell_type": "code",
   "execution_count": null,
   "metadata": {},
   "outputs": [],
   "source": [
    "print(max(pvc[0]))\n",
    "print(min(pvc[0]))\n",
    "\n",
    "print(max(pvc[0]) - min(pvc[0]))"
   ]
  },
  {
   "cell_type": "code",
   "execution_count": null,
   "metadata": {},
   "outputs": [],
   "source": [
    "print(max(atr[1]))\n",
    "print(min(atr[1]))\n",
    "\n",
    "print(max(atr[1]) - min(atr[1]))"
   ]
  },
  {
   "cell_type": "code",
   "execution_count": 172,
   "metadata": {},
   "outputs": [
    {
     "data": {
      "text/plain": [
       "0.812037037037037"
      ]
     },
     "execution_count": 172,
     "metadata": {},
     "output_type": "execute_result"
    },
    {
     "data": {
      "image/png": "[encoded data removed]",
      "text/plain": [
       "<matplotlib.figure.Figure at 0x1216b77b8>"
      ]
     },
     "metadata": {},
     "output_type": "display_data"
    }
   ],
   "source": [
    "plt.plot(time,nor[1])\n",
    "\n",
    "rpeakdiff(nor[1])"
   ]
  },
  {
   "cell_type": "code",
   "execution_count": null,
   "metadata": {},
   "outputs": [],
   "source": [
    "plt.plot(time,atr[0])"
   ]
  },
  {
   "cell_type": "code",
   "execution_count": null,
   "metadata": {
    "collapsed": true
   },
   "outputs": [],
   "source": []
  }
 ],
 "metadata": {
  "kernelspec": {
   "display_name": "Python 3",
   "language": "python",
   "name": "python3"
  },
  "language_info": {
   "codemirror_mode": {
    "name": "ipython",
    "version": 3
   },
   "file_extension": ".py",
   "mimetype": "text/x-python",
   "name": "python",
   "nbconvert_exporter": "python",
   "pygments_lexer": "ipython3",
   "version": "3.6.3"
  }
 },
 "nbformat": 4,
 "nbformat_minor": 2
}
