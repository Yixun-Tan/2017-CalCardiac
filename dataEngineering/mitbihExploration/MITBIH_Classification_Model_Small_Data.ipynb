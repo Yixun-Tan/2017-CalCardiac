{
 "cells": [
  {
   "cell_type": "code",
   "execution_count": 8,
   "metadata": {
    "collapsed": true
   },
   "outputs": [],
   "source": [
    "from IPython.display import display\n",
    "import matplotlib.pyplot as plt\n",
    "%matplotlib inline\n",
    "import numpy as np\n",
    "import pandas as pd\n",
    "import os\n",
    "import wfdb\n",
    "\n",
    "from collections import Counter"
   ]
  },
  {
   "cell_type": "markdown",
   "metadata": {},
   "source": [
    "## Data Pre-processing"
   ]
  },
  {
   "cell_type": "code",
   "execution_count": 9,
   "metadata": {},
   "outputs": [
    {
     "data": {
      "text/plain": [
       "48"
      ]
     },
     "execution_count": 9,
     "metadata": {},
     "output_type": "execute_result"
    }
   ],
   "source": [
    "# get all the record names in a list\n",
    "namelist = []\n",
    "namelist = namelist + list(range(100,125,1)) + list(range(200,235,1))\n",
    "for num in [110,120,204,206,211,216,218,224,225,226,227,229]:\n",
    "    namelist.remove(num)\n",
    "\n",
    "len(namelist)"
   ]
  },
  {
   "cell_type": "code",
   "execution_count": 10,
   "metadata": {},
   "outputs": [],
   "source": [
    "def get_window (signals, annotation, sec):\n",
    "    \"\"\"\n",
    "    this function gives a sec-seconds window (sec seconds before, sec seconds after the annotation mark)\n",
    "    of the ECG signals and assign value 1 if it's PVC beat and 0 otherwise.\n",
    "    parameter: signals: numpy array containing heart beat record values\n",
    "               annotation: wfdb.annotation object containing heart beat annotations\n",
    "               sec: positive integer number indicating the half-width of the window\n",
    "    return: two lists\n",
    "            siglist: a list of lists of length 360*2*sec \n",
    "            annlist: a list containing 1 if PVC beat, 0 otherwise\n",
    "    \"\"\"\n",
    "    siglist = []\n",
    "    annlist = []\n",
    "    \n",
    "    #loop through the annotation.symbol list\n",
    "    for i in range(len(annotation.symbol)):\n",
    "        timestamp = annotation.sample[i] #get the timestamp\n",
    "        \n",
    "        #test if that timestamp can have sec seconds before and after window\n",
    "        windowStart = timestamp - sec*annotation.fs\n",
    "        windowEnd = timestamp + sec*annotation.fs\n",
    "        if windowStart >= 0 & windowEnd <= len(signals):\n",
    "            if annotation.symbol[i] == 'V':\n",
    "                # check if the length of this strip is 360*2*sec\n",
    "                if len(signals[windowStart:windowEnd,].flatten().tolist()) == 2*sec*annotation.fs:\n",
    "                    siglist.append(signals[windowStart:windowEnd,].flatten().tolist())\n",
    "                    annlist.append(1)\n",
    "                else:\n",
    "                    continue\n",
    "            else:\n",
    "                # check if the length of this strip is 360*2*sec\n",
    "                if len(signals[windowStart:windowEnd,].flatten().tolist()) == 2*sec*annotation.fs:\n",
    "                    siglist.append(signals[windowStart:windowEnd,].flatten().tolist())\n",
    "                    annlist.append(0)\n",
    "        else:\n",
    "            continue\n",
    "    \n",
    "    return siglist, annlist"
   ]
  },
  {
   "cell_type": "code",
   "execution_count": 11,
   "metadata": {},
   "outputs": [
    {
     "name": "stdout",
     "output_type": "stream",
     "text": [
      "record 100 is done.\n",
      "record 101 is done.\n",
      "record 102 is done.\n",
      "record 103 is done.\n",
      "record 104 is done.\n",
      "record 105 is done.\n",
      "record 106 is done.\n",
      "record 107 is done.\n",
      "record 108 is done.\n",
      "record 109 is done.\n",
      "record 111 is done.\n",
      "record 112 is done.\n",
      "record 113 is done.\n",
      "record 114 is done.\n",
      "record 115 is done.\n",
      "record 116 is done.\n",
      "record 117 is done.\n",
      "record 118 is done.\n",
      "record 119 is done.\n",
      "record 121 is done.\n",
      "record 122 is done.\n",
      "record 123 is done.\n",
      "record 124 is done.\n",
      "record 200 is done.\n",
      "record 201 is done.\n",
      "record 202 is done.\n",
      "record 203 is done.\n",
      "record 205 is done.\n",
      "record 207 is done.\n",
      "record 208 is done.\n",
      "record 209 is done.\n",
      "record 210 is done.\n",
      "record 212 is done.\n",
      "record 213 is done.\n",
      "record 214 is done.\n",
      "record 215 is done.\n",
      "record 217 is done.\n",
      "record 219 is done.\n",
      "record 220 is done.\n",
      "record 221 is done.\n",
      "record 222 is done.\n",
      "record 223 is done.\n",
      "record 228 is done.\n",
      "record 230 is done.\n",
      "record 231 is done.\n",
      "record 232 is done.\n",
      "record 233 is done.\n",
      "record 234 is done.\n"
     ]
    }
   ],
   "source": [
    "# loop through all record to get all the 10-seconds window signal list and annotation list\n",
    "# this could be the training dataset for the neural network model\n",
    "# this takes several minutes to run\n",
    "\n",
    "ECG_signals = []\n",
    "PVC_annotations = []\n",
    "\n",
    "for record in namelist:\n",
    "    signals, fields = wfdb.rdsamp(str(record), sampfrom=0, sampto='end', channels=[1], pb_dir='mitdb')\n",
    "    annotation = wfdb.rdann(str(record), 'atr', sampfrom=0, sampto=None, shift_samps=True, pb_dir='mitdb')\n",
    "    \n",
    "    signal_list, annotation_list = get_window(signals, annotation, 5)\n",
    "    \n",
    "    ECG_signals = ECG_signals + signal_list\n",
    "    PVC_annotations = PVC_annotations + annotation_list\n",
    "    \n",
    "    print('record', record, 'is done.')"
   ]
  },
  {
   "cell_type": "code",
   "execution_count": 13,
   "metadata": {},
   "outputs": [
    {
     "data": {
      "text/plain": [
       "111985"
      ]
     },
     "execution_count": 13,
     "metadata": {},
     "output_type": "execute_result"
    }
   ],
   "source": [
    "len(ECG_signals)"
   ]
  },
  {
   "cell_type": "code",
   "execution_count": 14,
   "metadata": {},
   "outputs": [
    {
     "data": {
      "text/plain": [
       "111985"
      ]
     },
     "execution_count": 14,
     "metadata": {},
     "output_type": "execute_result"
    }
   ],
   "source": [
    "len(PVC_annotations)"
   ]
  },
  {
   "cell_type": "code",
   "execution_count": 15,
   "metadata": {},
   "outputs": [
    {
     "data": {
      "text/plain": [
       "Counter({0: 104886, 1: 7099})"
      ]
     },
     "execution_count": 15,
     "metadata": {},
     "output_type": "execute_result"
    }
   ],
   "source": [
    "# there are 7112 PVC 10-seconds window, 105186 non-PVC 10-seconds window\n",
    "Counter(PVC_annotations)"
   ]
  },
  {
   "cell_type": "code",
   "execution_count": 25,
   "metadata": {},
   "outputs": [
    {
     "data": {
      "text/plain": [
       "104886"
      ]
     },
     "execution_count": 25,
     "metadata": {},
     "output_type": "execute_result"
    }
   ],
   "source": [
    "# get the index in PVC_annotations for normal beats\n",
    "\n",
    "normal_index = [i for i in range(len(PVC_annotations)) if PVC_annotations[i]==0]\n",
    "len(normal_index)"
   ]
  },
  {
   "cell_type": "code",
   "execution_count": 21,
   "metadata": {},
   "outputs": [
    {
     "data": {
      "text/plain": [
       "7099"
      ]
     },
     "execution_count": 21,
     "metadata": {},
     "output_type": "execute_result"
    }
   ],
   "source": [
    "# get the index in PVC_annotations for PVC beats\n",
    "\n",
    "PVC_index = [i for i in range(len(PVC_annotations)) if PVC_annotations[i]==1]\n",
    "len(PVC_index)"
   ]
  },
  {
   "cell_type": "code",
   "execution_count": 30,
   "metadata": {
    "collapsed": true
   },
   "outputs": [],
   "source": [
    "# randomly select 7099 normal beats\n",
    "\n",
    "import random\n",
    "\n",
    "random.seed(77)\n",
    "small_normal_index = random.sample(normal_index, 7099)"
   ]
  },
  {
   "cell_type": "code",
   "execution_count": 31,
   "metadata": {},
   "outputs": [
    {
     "data": {
      "text/plain": [
       "7099"
      ]
     },
     "execution_count": 31,
     "metadata": {},
     "output_type": "execute_result"
    }
   ],
   "source": [
    "len(small_normal_index)"
   ]
  },
  {
   "cell_type": "code",
   "execution_count": 32,
   "metadata": {},
   "outputs": [
    {
     "data": {
      "text/plain": [
       "[111839, 33939, 44009, 26542, 32244, 25993, 15648, 39353, 66405, 77501]"
      ]
     },
     "execution_count": 32,
     "metadata": {},
     "output_type": "execute_result"
    }
   ],
   "source": [
    "small_normal_index[:10]"
   ]
  },
  {
   "cell_type": "code",
   "execution_count": 33,
   "metadata": {},
   "outputs": [
    {
     "data": {
      "text/plain": [
       "14198"
      ]
     },
     "execution_count": 33,
     "metadata": {},
     "output_type": "execute_result"
    }
   ],
   "source": [
    "# concatenate 7099 normal beats index with 7099 PVC beats index\n",
    "# as small data index\n",
    "\n",
    "small_data_index = small_normal_index + PVC_index\n",
    "len(small_data_index)"
   ]
  },
  {
   "cell_type": "code",
   "execution_count": 34,
   "metadata": {
    "collapsed": true
   },
   "outputs": [],
   "source": [
    "# generate samll dataset\n",
    "\n",
    "small_signals = []\n",
    "for i in small_data_index:\n",
    "    small_signals.append(ECG_signals[i])\n",
    "    \n",
    "small_annotations = []\n",
    "for i in small_data_index:\n",
    "    small_annotations.append(PVC_annotations[i])"
   ]
  },
  {
   "cell_type": "code",
   "execution_count": 35,
   "metadata": {},
   "outputs": [
    {
     "data": {
      "text/plain": [
       "14198"
      ]
     },
     "execution_count": 35,
     "metadata": {},
     "output_type": "execute_result"
    }
   ],
   "source": [
    "len(small_signals)"
   ]
  },
  {
   "cell_type": "code",
   "execution_count": 36,
   "metadata": {},
   "outputs": [
    {
     "data": {
      "text/plain": [
       "14198"
      ]
     },
     "execution_count": 36,
     "metadata": {},
     "output_type": "execute_result"
    }
   ],
   "source": [
    "len(small_annotations)"
   ]
  },
  {
   "cell_type": "code",
   "execution_count": 37,
   "metadata": {
    "collapsed": true
   },
   "outputs": [],
   "source": [
    "# write ECG signals data to csv file\n",
    "\n",
    "import csv\n",
    "\n",
    "with open('MIT-BIH-small.csv', 'w') as f:\n",
    "    f_csv = csv.writer(f)\n",
    "    f_csv.writerows(small_signals)"
   ]
  },
  {
   "cell_type": "code",
   "execution_count": 38,
   "metadata": {
    "collapsed": true
   },
   "outputs": [],
   "source": [
    "# write the PVC annotation data to csv file\n",
    "\n",
    "with open('MIT-BIH-Annotation-small.csv', 'w') as f:\n",
    "    f_csv = csv.writer(f)\n",
    "    f_csv.writerow(small_annotations)"
   ]
  },
  {
   "cell_type": "markdown",
   "metadata": {},
   "source": [
    "## Classification Models"
   ]
  },
  {
   "cell_type": "code",
   "execution_count": 39,
   "metadata": {
    "collapsed": true
   },
   "outputs": [],
   "source": [
    "# transform data into numpy array\n",
    "\n",
    "X = np.array(small_signals)\n",
    "y = np.array(small_annotations)"
   ]
  },
  {
   "cell_type": "code",
   "execution_count": 41,
   "metadata": {},
   "outputs": [
    {
     "data": {
      "text/plain": [
       "(14198, 3600)"
      ]
     },
     "execution_count": 41,
     "metadata": {},
     "output_type": "execute_result"
    }
   ],
   "source": [
    "X.shape"
   ]
  },
  {
   "cell_type": "code",
   "execution_count": 42,
   "metadata": {},
   "outputs": [
    {
     "data": {
      "text/plain": [
       "(14198,)"
      ]
     },
     "execution_count": 42,
     "metadata": {},
     "output_type": "execute_result"
    }
   ],
   "source": [
    "y.shape"
   ]
  },
  {
   "cell_type": "code",
   "execution_count": 44,
   "metadata": {
    "collapsed": true
   },
   "outputs": [],
   "source": [
    "# split train and test set\n",
    "\n",
    "from sklearn.model_selection import train_test_split\n",
    "\n",
    "X_train, X_test, y_train, y_test = train_test_split(X, y, test_size=0.3, random_state=42, shuffle=True)"
   ]
  },
  {
   "cell_type": "code",
   "execution_count": 46,
   "metadata": {},
   "outputs": [
    {
     "data": {
      "text/plain": [
       "(9938, 3600)"
      ]
     },
     "execution_count": 46,
     "metadata": {},
     "output_type": "execute_result"
    }
   ],
   "source": [
    "X_train.shape"
   ]
  },
  {
   "cell_type": "code",
   "execution_count": 47,
   "metadata": {},
   "outputs": [
    {
     "data": {
      "text/plain": [
       "(9938,)"
      ]
     },
     "execution_count": 47,
     "metadata": {},
     "output_type": "execute_result"
    }
   ],
   "source": [
    "y_train.shape"
   ]
  },
  {
   "cell_type": "code",
   "execution_count": 48,
   "metadata": {},
   "outputs": [
    {
     "data": {
      "text/plain": [
       "(4260, 3600)"
      ]
     },
     "execution_count": 48,
     "metadata": {},
     "output_type": "execute_result"
    }
   ],
   "source": [
    "X_test.shape"
   ]
  },
  {
   "cell_type": "code",
   "execution_count": 49,
   "metadata": {},
   "outputs": [
    {
     "data": {
      "text/plain": [
       "(4260,)"
      ]
     },
     "execution_count": 49,
     "metadata": {},
     "output_type": "execute_result"
    }
   ],
   "source": [
    "y_test.shape"
   ]
  },
  {
   "cell_type": "code",
   "execution_count": 50,
   "metadata": {},
   "outputs": [
    {
     "data": {
      "text/plain": [
       "Counter({0: 4983, 1: 4955})"
      ]
     },
     "execution_count": 50,
     "metadata": {},
     "output_type": "execute_result"
    }
   ],
   "source": [
    "# the ratio of PVC beats in training set and test set\n",
    "\n",
    "Counter(y_train)"
   ]
  },
  {
   "cell_type": "code",
   "execution_count": 51,
   "metadata": {},
   "outputs": [
    {
     "data": {
      "text/plain": [
       "Counter({0: 2116, 1: 2144})"
      ]
     },
     "execution_count": 51,
     "metadata": {},
     "output_type": "execute_result"
    }
   ],
   "source": [
    "Counter(y_test)"
   ]
  },
  {
   "cell_type": "code",
   "execution_count": 52,
   "metadata": {},
   "outputs": [
    {
     "data": {
      "text/plain": [
       "0.5032863849765258"
      ]
     },
     "execution_count": 52,
     "metadata": {},
     "output_type": "execute_result"
    }
   ],
   "source": [
    "# baseline model accuracy\n",
    "\n",
    "2144/(2116+2144)"
   ]
  },
  {
   "cell_type": "code",
   "execution_count": null,
   "metadata": {
    "collapsed": true
   },
   "outputs": [],
   "source": []
  },
  {
   "cell_type": "code",
   "execution_count": null,
   "metadata": {
    "collapsed": true
   },
   "outputs": [],
   "source": []
  },
  {
   "cell_type": "code",
   "execution_count": null,
   "metadata": {
    "collapsed": true
   },
   "outputs": [],
   "source": []
  }
 ],
 "metadata": {
  "kernelspec": {
   "display_name": "Python 3",
   "language": "python",
   "name": "python3"
  },
  "language_info": {
   "codemirror_mode": {
    "name": "ipython",
    "version": 3
   },
   "file_extension": ".py",
   "mimetype": "text/x-python",
   "name": "python",
   "nbconvert_exporter": "python",
   "pygments_lexer": "ipython3",
   "version": "3.6.3"
  }
 },
 "nbformat": 4,
 "nbformat_minor": 2
}
