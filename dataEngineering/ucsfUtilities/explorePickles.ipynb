{
 "cells": [
  {
   "cell_type": "markdown",
   "metadata": {
    "deletable": true,
    "editable": true
   },
   "source": [
    "## Import Packages"
   ]
  },
  {
   "cell_type": "code",
   "execution_count": 13,
   "metadata": {
    "collapsed": true,
    "deletable": true,
    "editable": true
   },
   "outputs": [],
   "source": [
    "import struct\\\n",
    "    , csv\\\n",
    "    , json\\\n",
    "    , base64\\\n",
    "    , zlib\\\n",
    "    , pprint\\\n",
    "    , numpy\\\n",
    "    , ctypes\\\n",
    "    , glob\\\n",
    "    , os\\\n",
    "    , sys\\\n",
    "    , time\\\n",
    "    , sqlite3\\\n",
    "    , pickle"
   ]
  },
  {
   "cell_type": "markdown",
   "metadata": {
    "deletable": true,
    "editable": true
   },
   "source": [
    "## Read in 50 pickles and print their titles"
   ]
  },
  {
   "cell_type": "code",
   "execution_count": 14,
   "metadata": {
    "collapsed": false,
    "deletable": true,
    "editable": true
   },
   "outputs": [
    {
     "name": "stdout",
     "output_type": "stream",
     "text": [
      "/home/alexchandra/Documents/Alex/capstone/CalCardiac/branchAlex/dataEngineering/adiConversion\r\n"
     ]
    }
   ],
   "source": [
    "!pwd"
   ]
  },
  {
   "cell_type": "code",
   "execution_count": 15,
   "metadata": {
    "collapsed": true,
    "deletable": true,
    "editable": true
   },
   "outputs": [],
   "source": [
    "# Set pickle directory\n",
    "#pickle_file_directory_path = \"./sampleFiles/problemPickles/\"\n",
    "pickle_file_directory_path = \"/home/alexchandra/Documents/Alex/capstone/testConvert2/problemPickles/\""
   ]
  },
  {
   "cell_type": "code",
   "execution_count": 16,
   "metadata": {
    "collapsed": false,
    "deletable": true,
    "editable": true
   },
   "outputs": [
    {
     "name": "stdout",
     "output_type": "stream",
     "text": [
      "{'I': 1, 'II': 1, 'III': 1, 'V': 1, 'AVR': 1, 'AVL': 1, 'AVF': 1, '': 1, 'SPO2': 1, 'RESP': 1}\n"
     ]
    }
   ],
   "source": [
    "all_channel_titles = {}\n",
    "\n",
    "for pickle_filename in glob.glob(pickle_file_directory_path + '*.pickle'):\n",
    "    #print(pickle_filename)\n",
    "    pickle_off = open(pickle_filename, 'rb')\n",
    "    csv_dict = pickle.load(pickle_off)\n",
    "    \n",
    "    for i in range(csv_dict['num_channels']):\n",
    "        if csv_dict['channel_titles'][i] in all_channel_titles:\n",
    "            all_channel_titles[csv_dict['channel_titles'][i]] += 1\n",
    "        else:\n",
    "            all_channel_titles[csv_dict['channel_titles'][i]] = 1\n",
    "    \n",
    "\n",
    "print(all_channel_titles)\n",
    "            \n",
    "        \n",
    "        #print(csv_dict['channel_titles'][i])\n",
    "    #print(\"\\n---------\")"
   ]
  },
  {
   "cell_type": "code",
   "execution_count": 18,
   "metadata": {
    "collapsed": true,
    "deletable": true,
    "editable": true
   },
   "outputs": [],
   "source": [
    "def titlesInPickles(directory_path, dbg=True):\n",
    "    all_channel_titles = {}\n",
    "\n",
    "    for pickle_filename in glob.glob(pickle_file_directory_path + '*.pickle'):\n",
    "        #print(pickle_filename)\n",
    "        pickle_off = open(pickle_filename, 'rb')\n",
    "        csv_dict = pickle.load(pickle_off)\n",
    "\n",
    "        for i in range(csv_dict['num_channels']):\n",
    "            if csv_dict['channel_titles'][i] in all_channel_titles:\n",
    "                all_channel_titles[csv_dict['channel_titles'][i]] += 1\n",
    "            else:\n",
    "                all_channel_titles[csv_dict['channel_titles'][i]] = 1\n",
    "\n",
    "    if dbg == True:\n",
    "        print(all_channel_titles)"
   ]
  },
  {
   "cell_type": "code",
   "execution_count": 19,
   "metadata": {
    "collapsed": false
   },
   "outputs": [
    {
     "name": "stdout",
     "output_type": "stream",
     "text": [
      "{}\n"
     ]
    }
   ],
   "source": [
    "titlesInPickles(pickle_file_directory_path, dbg=True)"
   ]
  },
  {
   "cell_type": "code",
   "execution_count": null,
   "metadata": {
    "collapsed": true
   },
   "outputs": [],
   "source": []
  }
 ],
 "metadata": {
  "kernelspec": {
   "display_name": "Python 3",
   "language": "python",
   "name": "python3"
  },
  "language_info": {
   "codemirror_mode": {
    "name": "ipython",
    "version": 3
   },
   "file_extension": ".py",
   "mimetype": "text/x-python",
   "name": "python",
   "nbconvert_exporter": "python",
   "pygments_lexer": "ipython3",
   "version": "3.6.0"
  }
 },
 "nbformat": 4,
 "nbformat_minor": 2
}
