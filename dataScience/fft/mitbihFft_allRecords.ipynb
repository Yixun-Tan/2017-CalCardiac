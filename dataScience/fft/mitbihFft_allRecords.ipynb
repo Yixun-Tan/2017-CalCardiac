{
 "cells": [
  {
   "cell_type": "markdown",
   "metadata": {},
   "source": [
    "# SKIP TO BELOW - DO NOT RE-RUN FFT ON FULL DATASET"
   ]
  },
  {
   "cell_type": "markdown",
   "metadata": {},
   "source": [
    "# ^^^^^^^^^^^^^^^^^^^^^^^^^^^^^^^^^^^^^^^^^^^"
   ]
  },
  {
   "cell_type": "markdown",
   "metadata": {
    "collapsed": true
   },
   "source": [
    "## 'Modelling"
   ]
  },
  {
   "cell_type": "markdown",
   "metadata": {},
   "source": [
    "# ^^^^^^^^^^^^^^^^^^^^^^^^^^^^^^^^^^^^^^^^^^^^^^^^\n",
    "# Run from Here to Only Load Already FFT-ed Data"
   ]
  },
  {
   "cell_type": "code",
   "execution_count": null,
   "metadata": {},
   "outputs": [],
   "source": [
    "################################################################\n",
    "# Add whatever code needed so can pickup from here and run\n",
    "################################################################\n",
    "\n",
    "import pandas as pd\n",
    "import pandas as pd\n",
    "import numpy as np\n",
    "import matplotlib.pyplot as plt\n",
    "%matplotlib inline\n",
    "\n",
    "# change file path as per your local copy of MIT BIH dataset\n",
    "df = pd.read_csv('MIT-BIH.csv',header=None)\n",
    "\n",
    "# change file path as per your local copy of MIT BIH dataset\n",
    "df1 = pd.read_csv('MIT-BIH-Annotation.csv',header=None)\n",
    "\n",
    "ff10000_2 = pd.read_csv('ff10000_2', header=None)\n",
    "print(ff10000_2.head())\n",
    "print(ff10000_2.shape)"
   ]
  },
  {
   "cell_type": "code",
   "execution_count": null,
   "metadata": {
    "collapsed": true
   },
   "outputs": [],
   "source": [
    "# the missing code that was added to ensure \n",
    "\n",
    "df1_temp = df1.T\n",
    "print('Shape of df1_temp')\n",
    "print(df1_temp.shape)\n",
    "\n"
   ]
  },
  {
   "cell_type": "markdown",
   "metadata": {
    "collapsed": true
   },
   "source": [
    "# 1. Splitting the dataset"
   ]
  },
  {
   "cell_type": "code",
   "execution_count": 16,
   "metadata": {},
   "outputs": [
    {
     "name": "stdout",
     "output_type": "stream",
     "text": [
      "(111985, 3600) (111985,)\n",
      "(89588, 3600) (89588,)\n",
      "(22397, 3600) (22397,)\n"
     ]
    }
   ],
   "source": [
    "# Splitting data into test and train\n",
    "\n",
    "Xd = ff10000_2 # Training & Validation data\n",
    "Yd = df1_temp[0] # Response / Target Variable\n",
    "print(Xd.shape, Yd.shape)\n",
    "\n",
    "np.random.seed(1337) # set random seed for reproducibility\n",
    "\n",
    "from sklearn.model_selection import train_test_split\n",
    "\n",
    "Xd_train, Xd_val, Yd_train, Yd_val = train_test_split(Xd, Yd, test_size=0.2)\n",
    "\n",
    "print(Xd_train.shape, Yd_train.shape)\n",
    "print(Xd_val.shape, Yd_val.shape)"
   ]
  },
  {
   "cell_type": "code",
   "execution_count": 17,
   "metadata": {
    "collapsed": true
   },
   "outputs": [],
   "source": [
    "# machine learning\n",
    "from sklearn.linear_model import LogisticRegression\n",
    "from sklearn.svm import SVC, LinearSVC\n",
    "from sklearn.ensemble import RandomForestClassifier\n",
    "from sklearn.neighbors import KNeighborsClassifier\n",
    "from sklearn.naive_bayes import GaussianNB # Gaussian Naive Bays\n",
    "from sklearn.linear_model import Perceptron\n",
    "from sklearn.linear_model import SGDClassifier #stochastic gradient descent\n",
    "from sklearn.tree import DecisionTreeClassifier\n",
    "\n"
   ]
  },
  {
   "cell_type": "code",
   "execution_count": 18,
   "metadata": {},
   "outputs": [
    {
     "name": "stderr",
     "output_type": "stream",
     "text": [
      "/home/alexchandra/anaconda3/lib/python3.6/site-packages/sklearn/utils/validation.py:382: ComplexWarning: Casting complex values to real discards the imaginary part\n",
      "  array = np.array(array, dtype=dtype, order=order, copy=copy)\n"
     ]
    },
    {
     "name": "stdout",
     "output_type": "stream",
     "text": [
      "Logistic Regression training accuracy: 94.42 %\n",
      "Logistic Regression test accuracy: 93.89 %\n"
     ]
    }
   ],
   "source": [
    "# Logistic Regression\n",
    "\n",
    "logregd = LogisticRegression() # instantiate\n",
    "logregd.fit(Xd_train, Yd_train) # fit\n",
    "\n",
    "Yd_pred_train = logregd.predict(Xd_train) # predict\n",
    "acc_log_train = sum(Yd_pred_train == Yd_train)/len(Yd_train)*100\n",
    "print('Logistic Regression training accuracy:', str(round(acc_log_train,2)),'%')\n",
    "\n",
    "Yd_pred_val = logregd.predict(Xd_val) # predict\n",
    "acc_log_val = sum(Yd_pred_val == Yd_val)/len(Yd_val)*100\n",
    "print('Logistic Regression test accuracy:', str(round(acc_log_val,2)),'%')"
   ]
  },
  {
   "cell_type": "code",
   "execution_count": 19,
   "metadata": {},
   "outputs": [
    {
     "name": "stdout",
     "output_type": "stream",
     "text": [
      "Confusion matrix for test set\n"
     ]
    },
    {
     "data": {
      "text/plain": [
       "array([[20819,   147],\n",
       "       [ 1221,   210]])"
      ]
     },
     "execution_count": 19,
     "metadata": {},
     "output_type": "execute_result"
    }
   ],
   "source": [
    "from sklearn.metrics import confusion_matrix\n",
    "print('Confusion matrix for test set')\n",
    "confusion_matrix(Yd_val, Yd_pred_val)"
   ]
  },
  {
   "cell_type": "code",
   "execution_count": null,
   "metadata": {},
   "outputs": [
    {
     "name": "stdout",
     "output_type": "stream",
     "text": [
      "Confusion matrix for training set\n"
     ]
    },
    {
     "data": {
      "text/plain": [
       "array([[83566,   354],\n",
       "       [ 4645,  1023]])"
      ]
     },
     "execution_count": 20,
     "metadata": {},
     "output_type": "execute_result"
    }
   ],
   "source": [
    "print('Confusion matrix for training set')\n",
    "confusion_matrix(Yd_train, Yd_pred_train)"
   ]
  },
  {
   "cell_type": "code",
   "execution_count": null,
   "metadata": {},
   "outputs": [
    {
     "name": "stderr",
     "output_type": "stream",
     "text": [
      "/home/alexchandra/anaconda3/lib/python3.6/site-packages/sklearn/utils/validation.py:382: ComplexWarning: Casting complex values to real discards the imaginary part\n",
      "  array = np.array(array, dtype=dtype, order=order, copy=copy)\n"
     ]
    }
   ],
   "source": [
    "################################################################\n",
    "# Will not run SVM - ran for >24 hours no result\n",
    "################################################################\n",
    "\n",
    "# # SVM\n",
    "\n",
    "# svc = SVC()\n",
    "# svc.fit(Xd_train, Yd_train)\n",
    "\n",
    "# acc_svc_train = svc.score(Xd_train, Yd_train)\n",
    "# print('SVM  training accuracy:', str(round(acc_svc_train*100,2)),'%')\n",
    "\n",
    "# acc_svc_val = svc.score(Xd_val, Yd_val)\n",
    "# print('SVM  test accuracy:', str(round(acc_svc_val*100,2)),'%')\n",
    "\n"
   ]
  },
  {
   "cell_type": "code",
   "execution_count": null,
   "metadata": {},
   "outputs": [],
   "source": [
    "################################################################\n",
    "# Will not run Perceptron until number of epochs fixed\n",
    "################################################################\n",
    "\n",
    "# # perceptron\n",
    "\n",
    "# perceptron = Perceptron()\n",
    "# perceptron.fit(Xd_train, Yd_train)\n",
    "\n",
    "# acc_perceptron_train = perceptron.score(Xd_train, Yd_train)\n",
    "# print('Perceptron  training accuracy:', str(round(acc_perceptron_train*100,2)),'%')\n",
    "\n",
    "# acc_perceptron_val = perceptron.score(Xd_val, Yd_val)\n",
    "# print('Perceptron  validation accuracy:', str(round(acc_perceptron_val*100,2)),'%')"
   ]
  },
  {
   "cell_type": "code",
   "execution_count": null,
   "metadata": {},
   "outputs": [],
   "source": [
    "#knn with nearest neighbour = 3\n",
    "\n",
    "knn = KNeighborsClassifier(n_neighbors = 3)\n",
    "knn.fit(Xd_train, Yd_train)\n",
    "\n",
    "\n",
    "acc_knn_train = knn.score(Xd_train, Yd_train)\n",
    "print('KNN  training accuracy:', str(round(acc_knn_train*100,2)),'%')\n",
    "\n",
    "acc_knn_val = knn.score(Xd_val, Yd_val)\n",
    "print('KNN  validation accuracy:', str(round(acc_knn_val*100,2)),'%')"
   ]
  },
  {
   "cell_type": "code",
   "execution_count": null,
   "metadata": {
    "collapsed": true
   },
   "outputs": [],
   "source": [
    "# Random Forest\n",
    "\n",
    "random_forest = RandomForestClassifier(n_estimators=1000)\n",
    "random_forest.fit(Xd_train, Yd_train)\n",
    "\n",
    "acc_random_forest_train = random_forest.score(Xd_train, Yd_train)\n",
    "print('Random Forest  training accuracy:', str(round(acc_random_forest_train*100,2)),'%')\n",
    "\n",
    "acc_random_forest_val = random_forest.score(Xd_val, Yd_val)\n",
    "print('Random Forest  validation accuracy:', str(round(acc_random_forest_val*100,2)),'%')"
   ]
  },
  {
   "cell_type": "code",
   "execution_count": null,
   "metadata": {
    "collapsed": true
   },
   "outputs": [],
   "source": [
    "# Yunato code for Random forest, using it to find the confusion matrix\n",
    "\n",
    "X_train = Xd_train\n",
    "y_train = Yd_train\n",
    "X_test = Xd_val\n",
    "y_test = Yd_val\n"
   ]
  },
  {
   "cell_type": "code",
   "execution_count": null,
   "metadata": {},
   "outputs": [],
   "source": [
    "\n",
    "\n",
    "from sklearn.ensemble import RandomForestRegressor\n",
    "\n",
    "forest_reg = RandomForestRegressor()\n",
    "forest_reg.fit(X_train, y_train)"
   ]
  },
  {
   "cell_type": "code",
   "execution_count": null,
   "metadata": {
    "collapsed": true
   },
   "outputs": [],
   "source": [
    "y_train_pred = forest_reg.predict(X_train)\n",
    "y_train_pred = [int(x) for x in y_train_pred]\n",
    "confusion_matrix(y_train, y_train_pred)"
   ]
  },
  {
   "cell_type": "code",
   "execution_count": null,
   "metadata": {
    "collapsed": true
   },
   "outputs": [],
   "source": [
    "y_test_pred = forest_reg.predict(X_test)\n",
    "y_test_pred = [int(x) for x in y_test_pred]\n",
    "confusion_matrix(y_test, y_test_pred)"
   ]
  }
 ],
 "metadata": {
  "kernelspec": {
   "display_name": "Python 3",
   "language": "python",
   "name": "python3"
  },
  "language_info": {
   "codemirror_mode": {
    "name": "ipython",
    "version": 3
   },
   "file_extension": ".py",
   "mimetype": "text/x-python",
   "name": "python",
   "nbconvert_exporter": "python",
   "pygments_lexer": "ipython3",
   "version": "3.6.3"
  }
 },
 "nbformat": 4,
 "nbformat_minor": 2
}
