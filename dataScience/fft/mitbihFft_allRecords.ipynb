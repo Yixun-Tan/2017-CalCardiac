{
 "cells": [
  {
   "cell_type": "markdown",
   "metadata": {},
   "source": [
    "# SKIP TO BELOW - DO NOT RE-RUN FFT ON FULL DATASET"
   ]
  },
  {
   "cell_type": "markdown",
   "metadata": {},
   "source": [
    "# ^^^^^^^^^^^^^^^^^^^^^^^^^^^^^^^^^^^^^^^^^^^"
   ]
  },
  {
   "cell_type": "code",
   "execution_count": 1,
   "metadata": {
    "collapsed": true,
    "deletable": true,
    "editable": true
   },
   "outputs": [],
   "source": [
    "import pandas as pd\n",
    "\n",
    "import pandas as pd\n",
    "import numpy as np\n",
    "import matplotlib.pyplot as plt\n",
    "%matplotlib inline"
   ]
  },
  {
   "cell_type": "code",
   "execution_count": 2,
   "metadata": {
    "collapsed": false,
    "deletable": true,
    "editable": true
   },
   "outputs": [],
   "source": [
    "# change file path as per your local copy of MIT BIH dataset\n",
    "df = pd.read_csv('MIT-BIH.csv',header=None)"
   ]
  },
  {
   "cell_type": "code",
   "execution_count": 3,
   "metadata": {
    "collapsed": false,
    "deletable": true,
    "editable": true
   },
   "outputs": [
    {
     "data": {
      "text/html": [
       "<div>\n",
       "<style>\n",
       "    .dataframe thead tr:only-child th {\n",
       "        text-align: right;\n",
       "    }\n",
       "\n",
       "    .dataframe thead th {\n",
       "        text-align: left;\n",
       "    }\n",
       "\n",
       "    .dataframe tbody tr th {\n",
       "        vertical-align: top;\n",
       "    }\n",
       "</style>\n",
       "<table border=\"1\" class=\"dataframe\">\n",
       "  <thead>\n",
       "    <tr style=\"text-align: right;\">\n",
       "      <th></th>\n",
       "      <th>0</th>\n",
       "      <th>1</th>\n",
       "      <th>2</th>\n",
       "      <th>3</th>\n",
       "      <th>4</th>\n",
       "      <th>5</th>\n",
       "      <th>6</th>\n",
       "      <th>7</th>\n",
       "      <th>8</th>\n",
       "      <th>9</th>\n",
       "      <th>...</th>\n",
       "      <th>3590</th>\n",
       "      <th>3591</th>\n",
       "      <th>3592</th>\n",
       "      <th>3593</th>\n",
       "      <th>3594</th>\n",
       "      <th>3595</th>\n",
       "      <th>3596</th>\n",
       "      <th>3597</th>\n",
       "      <th>3598</th>\n",
       "      <th>3599</th>\n",
       "    </tr>\n",
       "  </thead>\n",
       "  <tbody>\n",
       "    <tr>\n",
       "      <th>0</th>\n",
       "      <td>-0.080</td>\n",
       "      <td>-0.085</td>\n",
       "      <td>-0.085</td>\n",
       "      <td>-0.075</td>\n",
       "      <td>-0.070</td>\n",
       "      <td>-0.070</td>\n",
       "      <td>-0.065</td>\n",
       "      <td>-0.055</td>\n",
       "      <td>-0.050</td>\n",
       "      <td>-0.050</td>\n",
       "      <td>...</td>\n",
       "      <td>-0.285</td>\n",
       "      <td>-0.275</td>\n",
       "      <td>-0.265</td>\n",
       "      <td>-0.285</td>\n",
       "      <td>-0.30</td>\n",
       "      <td>-0.305</td>\n",
       "      <td>-0.285</td>\n",
       "      <td>-0.27</td>\n",
       "      <td>-0.280</td>\n",
       "      <td>-0.275</td>\n",
       "    </tr>\n",
       "    <tr>\n",
       "      <th>1</th>\n",
       "      <td>-0.225</td>\n",
       "      <td>-0.210</td>\n",
       "      <td>-0.205</td>\n",
       "      <td>-0.195</td>\n",
       "      <td>-0.200</td>\n",
       "      <td>-0.195</td>\n",
       "      <td>-0.210</td>\n",
       "      <td>-0.215</td>\n",
       "      <td>-0.205</td>\n",
       "      <td>-0.185</td>\n",
       "      <td>...</td>\n",
       "      <td>-0.200</td>\n",
       "      <td>-0.215</td>\n",
       "      <td>-0.220</td>\n",
       "      <td>-0.225</td>\n",
       "      <td>-0.21</td>\n",
       "      <td>-0.210</td>\n",
       "      <td>-0.200</td>\n",
       "      <td>-0.21</td>\n",
       "      <td>-0.215</td>\n",
       "      <td>-0.225</td>\n",
       "    </tr>\n",
       "    <tr>\n",
       "      <th>2</th>\n",
       "      <td>-0.190</td>\n",
       "      <td>-0.190</td>\n",
       "      <td>-0.200</td>\n",
       "      <td>-0.185</td>\n",
       "      <td>-0.165</td>\n",
       "      <td>-0.145</td>\n",
       "      <td>-0.145</td>\n",
       "      <td>-0.170</td>\n",
       "      <td>-0.175</td>\n",
       "      <td>-0.170</td>\n",
       "      <td>...</td>\n",
       "      <td>-0.285</td>\n",
       "      <td>-0.265</td>\n",
       "      <td>-0.255</td>\n",
       "      <td>-0.260</td>\n",
       "      <td>-0.27</td>\n",
       "      <td>-0.275</td>\n",
       "      <td>-0.285</td>\n",
       "      <td>-0.27</td>\n",
       "      <td>-0.265</td>\n",
       "      <td>-0.265</td>\n",
       "    </tr>\n",
       "    <tr>\n",
       "      <th>3</th>\n",
       "      <td>-0.210</td>\n",
       "      <td>-0.195</td>\n",
       "      <td>-0.205</td>\n",
       "      <td>-0.220</td>\n",
       "      <td>-0.225</td>\n",
       "      <td>-0.230</td>\n",
       "      <td>-0.220</td>\n",
       "      <td>-0.210</td>\n",
       "      <td>-0.210</td>\n",
       "      <td>-0.230</td>\n",
       "      <td>...</td>\n",
       "      <td>-0.320</td>\n",
       "      <td>-0.325</td>\n",
       "      <td>-0.325</td>\n",
       "      <td>-0.315</td>\n",
       "      <td>-0.31</td>\n",
       "      <td>-0.310</td>\n",
       "      <td>-0.315</td>\n",
       "      <td>-0.33</td>\n",
       "      <td>-0.320</td>\n",
       "      <td>-0.315</td>\n",
       "    </tr>\n",
       "    <tr>\n",
       "      <th>4</th>\n",
       "      <td>-0.265</td>\n",
       "      <td>-0.255</td>\n",
       "      <td>-0.245</td>\n",
       "      <td>-0.260</td>\n",
       "      <td>-0.250</td>\n",
       "      <td>-0.260</td>\n",
       "      <td>-0.270</td>\n",
       "      <td>-0.240</td>\n",
       "      <td>-0.245</td>\n",
       "      <td>-0.250</td>\n",
       "      <td>...</td>\n",
       "      <td>-0.310</td>\n",
       "      <td>-0.320</td>\n",
       "      <td>-0.325</td>\n",
       "      <td>-0.345</td>\n",
       "      <td>-0.34</td>\n",
       "      <td>-0.330</td>\n",
       "      <td>-0.315</td>\n",
       "      <td>-0.31</td>\n",
       "      <td>-0.320</td>\n",
       "      <td>-0.335</td>\n",
       "    </tr>\n",
       "  </tbody>\n",
       "</table>\n",
       "<p>5 rows × 3600 columns</p>\n",
       "</div>"
      ],
      "text/plain": [
       "    0      1      2      3      4      5      6      7      8      9     \\\n",
       "0 -0.080 -0.085 -0.085 -0.075 -0.070 -0.070 -0.065 -0.055 -0.050 -0.050   \n",
       "1 -0.225 -0.210 -0.205 -0.195 -0.200 -0.195 -0.210 -0.215 -0.205 -0.185   \n",
       "2 -0.190 -0.190 -0.200 -0.185 -0.165 -0.145 -0.145 -0.170 -0.175 -0.170   \n",
       "3 -0.210 -0.195 -0.205 -0.220 -0.225 -0.230 -0.220 -0.210 -0.210 -0.230   \n",
       "4 -0.265 -0.255 -0.245 -0.260 -0.250 -0.260 -0.270 -0.240 -0.245 -0.250   \n",
       "\n",
       "   ...     3590   3591   3592   3593  3594   3595   3596  3597   3598   3599  \n",
       "0  ...   -0.285 -0.275 -0.265 -0.285 -0.30 -0.305 -0.285 -0.27 -0.280 -0.275  \n",
       "1  ...   -0.200 -0.215 -0.220 -0.225 -0.21 -0.210 -0.200 -0.21 -0.215 -0.225  \n",
       "2  ...   -0.285 -0.265 -0.255 -0.260 -0.27 -0.275 -0.285 -0.27 -0.265 -0.265  \n",
       "3  ...   -0.320 -0.325 -0.325 -0.315 -0.31 -0.310 -0.315 -0.33 -0.320 -0.315  \n",
       "4  ...   -0.310 -0.320 -0.325 -0.345 -0.34 -0.330 -0.315 -0.31 -0.320 -0.335  \n",
       "\n",
       "[5 rows x 3600 columns]"
      ]
     },
     "execution_count": 3,
     "metadata": {},
     "output_type": "execute_result"
    }
   ],
   "source": [
    "df.head()"
   ]
  },
  {
   "cell_type": "code",
   "execution_count": 4,
   "metadata": {
    "collapsed": false,
    "deletable": true,
    "editable": true
   },
   "outputs": [
    {
     "data": {
      "text/plain": [
       "(111985, 3600)"
      ]
     },
     "execution_count": 4,
     "metadata": {},
     "output_type": "execute_result"
    }
   ],
   "source": [
    "df.shape"
   ]
  },
  {
   "cell_type": "code",
   "execution_count": 5,
   "metadata": {
    "collapsed": true,
    "deletable": true,
    "editable": true
   },
   "outputs": [],
   "source": [
    "  "
   ]
  },
  {
   "cell_type": "code",
   "execution_count": 6,
   "metadata": {
    "collapsed": false,
    "deletable": true,
    "editable": true
   },
   "outputs": [
    {
     "data": {
      "text/html": [
       "<div>\n",
       "<style>\n",
       "    .dataframe thead tr:only-child th {\n",
       "        text-align: right;\n",
       "    }\n",
       "\n",
       "    .dataframe thead th {\n",
       "        text-align: left;\n",
       "    }\n",
       "\n",
       "    .dataframe tbody tr th {\n",
       "        vertical-align: top;\n",
       "    }\n",
       "</style>\n",
       "<table border=\"1\" class=\"dataframe\">\n",
       "  <thead>\n",
       "    <tr style=\"text-align: right;\">\n",
       "      <th></th>\n",
       "      <th>0</th>\n",
       "      <th>1</th>\n",
       "      <th>2</th>\n",
       "      <th>3</th>\n",
       "      <th>4</th>\n",
       "      <th>5</th>\n",
       "      <th>6</th>\n",
       "      <th>7</th>\n",
       "      <th>8</th>\n",
       "      <th>9</th>\n",
       "      <th>...</th>\n",
       "      <th>111975</th>\n",
       "      <th>111976</th>\n",
       "      <th>111977</th>\n",
       "      <th>111978</th>\n",
       "      <th>111979</th>\n",
       "      <th>111980</th>\n",
       "      <th>111981</th>\n",
       "      <th>111982</th>\n",
       "      <th>111983</th>\n",
       "      <th>111984</th>\n",
       "    </tr>\n",
       "  </thead>\n",
       "  <tbody>\n",
       "    <tr>\n",
       "      <th>0</th>\n",
       "      <td>0</td>\n",
       "      <td>0</td>\n",
       "      <td>0</td>\n",
       "      <td>0</td>\n",
       "      <td>0</td>\n",
       "      <td>0</td>\n",
       "      <td>0</td>\n",
       "      <td>0</td>\n",
       "      <td>0</td>\n",
       "      <td>0</td>\n",
       "      <td>...</td>\n",
       "      <td>0</td>\n",
       "      <td>0</td>\n",
       "      <td>0</td>\n",
       "      <td>0</td>\n",
       "      <td>0</td>\n",
       "      <td>0</td>\n",
       "      <td>0</td>\n",
       "      <td>0</td>\n",
       "      <td>0</td>\n",
       "      <td>0</td>\n",
       "    </tr>\n",
       "  </tbody>\n",
       "</table>\n",
       "<p>1 rows × 111985 columns</p>\n",
       "</div>"
      ],
      "text/plain": [
       "   0       1       2       3       4       5       6       7       8       \\\n",
       "0       0       0       0       0       0       0       0       0       0   \n",
       "\n",
       "   9        ...    111975  111976  111977  111978  111979  111980  111981  \\\n",
       "0       0   ...         0       0       0       0       0       0       0   \n",
       "\n",
       "   111982  111983  111984  \n",
       "0       0       0       0  \n",
       "\n",
       "[1 rows x 111985 columns]"
      ]
     },
     "execution_count": 6,
     "metadata": {},
     "output_type": "execute_result"
    }
   ],
   "source": [
    "df1.head()"
   ]
  },
  {
   "cell_type": "code",
   "execution_count": 7,
   "metadata": {
    "collapsed": false,
    "deletable": true,
    "editable": true,
    "scrolled": true
   },
   "outputs": [
    {
     "name": "stdout",
     "output_type": "stream",
     "text": [
      "(111985, 3600)\n",
      "(1, 111985)\n"
     ]
    }
   ],
   "source": [
    "print(df.shape)\n",
    "print(df1.shape)"
   ]
  },
  {
   "cell_type": "code",
   "execution_count": 8,
   "metadata": {
    "collapsed": false,
    "deletable": true,
    "editable": true
   },
   "outputs": [
    {
     "name": "stdout",
     "output_type": "stream",
     "text": [
      "Shape of df_temp\n",
      "(111985, 3600)\n",
      "Shape of df1_temp\n",
      "(111985, 1)\n"
     ]
    }
   ],
   "source": [
    "\n",
    "\n",
    "df_temp = df\n",
    "print('Shape of df_temp')\n",
    "print(df_temp.shape)\n",
    "\n",
    "df1_temp = df1.T\n",
    "print('Shape of df1_temp')\n",
    "print(df1_temp.shape)\n"
   ]
  },
  {
   "cell_type": "code",
   "execution_count": 9,
   "metadata": {
    "collapsed": false,
    "deletable": true,
    "editable": true
   },
   "outputs": [
    {
     "name": "stdout",
     "output_type": "stream",
     "text": [
      "Shape of df_temp2\n",
      "(3600, 111985)\n"
     ]
    }
   ],
   "source": [
    "# taking the transpose and then converting it into fourier transform \n",
    "df_temp2 = df_temp.T\n",
    "print('Shape of df_temp2')\n",
    "print(df_temp2.shape)"
   ]
  },
  {
   "cell_type": "code",
   "execution_count": 10,
   "metadata": {
    "collapsed": false,
    "deletable": true,
    "editable": true
   },
   "outputs": [
    {
     "name": "stdout",
     "output_type": "stream",
     "text": [
      "<class 'numpy.ndarray'>\n",
      "3600\n",
      "3600\n",
      "<class 'numpy.ndarray'>\n",
      "Shape of converted\n",
      "(3600, 1)\n"
     ]
    }
   ],
   "source": [
    "#code for one record\n",
    "# declaring a temp panda dataset to store the converted dataset\n",
    "\n",
    "converted = pd.DataFrame()\n",
    "\n",
    "temp = df_temp2[0].values\n",
    "\n",
    "print(type(temp))\n",
    "print(len(temp))\n",
    "\n",
    "\n",
    "\n",
    "temp3 = np.fft.fft(temp)\n",
    "#print(temp3)\n",
    "print(len(temp3))\n",
    "print(type(temp3))\n",
    "\n",
    "\n",
    "converted[0] = temp3\n",
    "print('Shape of converted')\n",
    "print(converted.shape)"
   ]
  },
  {
   "cell_type": "code",
   "execution_count": 11,
   "metadata": {
    "collapsed": false,
    "deletable": true,
    "editable": true
   },
   "outputs": [
    {
     "name": "stdout",
     "output_type": "stream",
     "text": [
      "(3600, 111985)\n"
     ]
    }
   ],
   "source": [
    "# now converting into fourier transform for the sample database \n",
    "# the stored pandas would be called ff10000\n",
    "ff10000 = pd.DataFrame()\n",
    "\n",
    "for i in range(111985):\n",
    "    temp1 = df_temp2[i].values\n",
    "    temp2 = np.fft.fft(temp1)\n",
    "    ff10000[i] = temp2\n",
    "\n",
    "print(ff10000.shape)\n",
    "\n"
   ]
  },
  {
   "cell_type": "code",
   "execution_count": 12,
   "metadata": {
    "collapsed": false,
    "deletable": true,
    "editable": true
   },
   "outputs": [],
   "source": [
    "#(ff10000)"
   ]
  },
  {
   "cell_type": "code",
   "execution_count": 13,
   "metadata": {
    "collapsed": false,
    "deletable": true,
    "editable": true
   },
   "outputs": [
    {
     "name": "stdout",
     "output_type": "stream",
     "text": [
      "Shape of ff10000_2\n",
      "(111985, 3600)\n"
     ]
    }
   ],
   "source": [
    "# transposing the  records dataset again in order to save\n",
    "ff10000_2 = ff10000.T\n",
    "print('Shape of ff10000_2')\n",
    "print(ff10000_2.shape)"
   ]
  },
  {
   "cell_type": "code",
   "execution_count": null,
   "metadata": {
    "collapsed": true,
    "deletable": true,
    "editable": true
   },
   "outputs": [],
   "source": []
  },
  {
   "cell_type": "code",
   "execution_count": 14,
   "metadata": {
    "collapsed": true,
    "deletable": true,
    "editable": true
   },
   "outputs": [],
   "source": [
    "# code for writing into csv and saving the dataset \n",
    "ff10000_2.to_csv('ff10000_2')"
   ]
  },
  {
   "cell_type": "code",
   "execution_count": 15,
   "metadata": {
    "collapsed": false,
    "deletable": true,
    "editable": true
   },
   "outputs": [
    {
     "name": "stdout",
     "output_type": "stream",
     "text": [
      "shape of ff10000_2\n",
      "(111985, 3600)\n",
      "shape of df1_temp\n",
      "(111985, 1)\n"
     ]
    }
   ],
   "source": [
    "# dataset to be used for modeling with 10000 records\n",
    "\n",
    "print('shape of ff10000_2')\n",
    "print(ff10000_2.shape)\n",
    "print('shape of df1_temp')\n",
    "print(df1_temp.shape)"
   ]
  },
  {
   "cell_type": "markdown",
   "metadata": {
    "collapsed": true,
    "deletable": true,
    "editable": true
   },
   "source": [
    "## 'Modelling"
   ]
  },
  {
   "cell_type": "markdown",
   "metadata": {},
   "source": [
    "# ^^^^^^^^^^^^^^^^^^^^^^^^^^^^^^^^^^^^^^^^^^^^^^^^\n",
    "# Run from Here to Only Load Already FFT-ed Data"
   ]
  },
  {
   "cell_type": "code",
   "execution_count": null,
   "metadata": {
    "collapsed": false
   },
   "outputs": [],
   "source": [
    "################################################################\n",
    "# Add whatever code needed so can pickup from here and run\n",
    "################################################################\n",
    "\n",
    "import pandas as pd\n",
    "import pandas as pd\n",
    "import numpy as np\n",
    "import matplotlib.pyplot as plt\n",
    "%matplotlib inline\n",
    "\n",
    "# change file path as per your local copy of MIT BIH dataset\n",
    "df = pd.read_csv('MIT-BIH.csv',header=None)\n",
    "\n",
    "# change file path as per your local copy of MIT BIH dataset\n",
    "df1 = pd.read_csv('MIT-BIH-Annotation.csv',header=None)\n",
    "\n",
    "ff10000_2 = pd.read_csv('ff10000_2', header=None)\n",
    "print(ff10000_2.head())\n",
    "print(ff10000_2.shape)"
   ]
  },
  {
   "cell_type": "markdown",
   "metadata": {
    "collapsed": true,
    "deletable": true,
    "editable": true
   },
   "source": [
    "# 1. Splitting the dataset"
   ]
  },
  {
   "cell_type": "code",
   "execution_count": 16,
   "metadata": {
    "collapsed": false,
    "deletable": true,
    "editable": true
   },
   "outputs": [
    {
     "name": "stdout",
     "output_type": "stream",
     "text": [
      "(111985, 3600) (111985,)\n",
      "(89588, 3600) (89588,)\n",
      "(22397, 3600) (22397,)\n"
     ]
    }
   ],
   "source": [
    "# Splitting data into test and train\n",
    "\n",
    "Xd = ff10000_2 # Training & Validation data\n",
    "Yd = df1_temp[0] # Response / Target Variable\n",
    "print(Xd.shape, Yd.shape)\n",
    "\n",
    "np.random.seed(1337) # set random seed for reproducibility\n",
    "\n",
    "from sklearn.model_selection import train_test_split\n",
    "\n",
    "Xd_train, Xd_val, Yd_train, Yd_val = train_test_split(Xd, Yd, test_size=0.2)\n",
    "\n",
    "print(Xd_train.shape, Yd_train.shape)\n",
    "print(Xd_val.shape, Yd_val.shape)"
   ]
  },
  {
   "cell_type": "code",
   "execution_count": 17,
   "metadata": {
    "collapsed": true,
    "deletable": true,
    "editable": true
   },
   "outputs": [],
   "source": [
    "# machine learning\n",
    "from sklearn.linear_model import LogisticRegression\n",
    "from sklearn.svm import SVC, LinearSVC\n",
    "from sklearn.ensemble import RandomForestClassifier\n",
    "from sklearn.neighbors import KNeighborsClassifier\n",
    "from sklearn.naive_bayes import GaussianNB # Gaussian Naive Bays\n",
    "from sklearn.linear_model import Perceptron\n",
    "from sklearn.linear_model import SGDClassifier #stochastic gradient descent\n",
    "from sklearn.tree import DecisionTreeClassifier\n",
    "\n"
   ]
  },
  {
   "cell_type": "code",
   "execution_count": 18,
   "metadata": {
    "collapsed": false,
    "deletable": true,
    "editable": true
   },
   "outputs": [
    {
     "name": "stderr",
     "output_type": "stream",
     "text": [
      "/home/alexchandra/anaconda3/lib/python3.6/site-packages/sklearn/utils/validation.py:382: ComplexWarning: Casting complex values to real discards the imaginary part\n",
      "  array = np.array(array, dtype=dtype, order=order, copy=copy)\n"
     ]
    },
    {
     "name": "stdout",
     "output_type": "stream",
     "text": [
      "Logistic Regression training accuracy: 94.42 %\n",
      "Logistic Regression test accuracy: 93.89 %\n"
     ]
    }
   ],
   "source": [
    "# Logistic Regression\n",
    "\n",
    "logregd = LogisticRegression() # instantiate\n",
    "logregd.fit(Xd_train, Yd_train) # fit\n",
    "\n",
    "Yd_pred_train = logregd.predict(Xd_train) # predict\n",
    "acc_log_train = sum(Yd_pred_train == Yd_train)/len(Yd_train)*100\n",
    "print('Logistic Regression training accuracy:', str(round(acc_log_train,2)),'%')\n",
    "\n",
    "Yd_pred_val = logregd.predict(Xd_val) # predict\n",
    "acc_log_val = sum(Yd_pred_val == Yd_val)/len(Yd_val)*100\n",
    "print('Logistic Regression test accuracy:', str(round(acc_log_val,2)),'%')"
   ]
  },
  {
   "cell_type": "code",
   "execution_count": 19,
   "metadata": {
    "collapsed": false,
    "deletable": true,
    "editable": true
   },
   "outputs": [
    {
     "name": "stdout",
     "output_type": "stream",
     "text": [
      "Confusion matrix for test set\n"
     ]
    },
    {
     "data": {
      "text/plain": [
       "array([[20819,   147],\n",
       "       [ 1221,   210]])"
      ]
     },
     "execution_count": 19,
     "metadata": {},
     "output_type": "execute_result"
    }
   ],
   "source": [
    "from sklearn.metrics import confusion_matrix\n",
    "print('Confusion matrix for test set')\n",
    "confusion_matrix(Yd_val, Yd_pred_val)"
   ]
  },
  {
   "cell_type": "code",
   "execution_count": null,
   "metadata": {
    "collapsed": false,
    "deletable": true,
    "editable": true
   },
   "outputs": [
    {
     "name": "stdout",
     "output_type": "stream",
     "text": [
      "Confusion matrix for training set\n"
     ]
    },
    {
     "data": {
      "text/plain": [
       "array([[83566,   354],\n",
       "       [ 4645,  1023]])"
      ]
     },
     "execution_count": 20,
     "metadata": {},
     "output_type": "execute_result"
    }
   ],
   "source": [
    "print('Confusion matrix for training set')\n",
    "confusion_matrix(Yd_train, Yd_pred_train)"
   ]
  },
  {
   "cell_type": "code",
   "execution_count": null,
   "metadata": {
    "collapsed": false,
    "deletable": true,
    "editable": true
   },
   "outputs": [
    {
     "name": "stderr",
     "output_type": "stream",
     "text": [
      "/home/alexchandra/anaconda3/lib/python3.6/site-packages/sklearn/utils/validation.py:382: ComplexWarning: Casting complex values to real discards the imaginary part\n",
      "  array = np.array(array, dtype=dtype, order=order, copy=copy)\n"
     ]
    }
   ],
   "source": [
    "################################################################\n",
    "# Will not run SVM - ran for >24 hours no result\n",
    "################################################################\n",
    "\n",
    "# # SVM\n",
    "\n",
    "# svc = SVC()\n",
    "# svc.fit(Xd_train, Yd_train)\n",
    "\n",
    "# acc_svc_train = svc.score(Xd_train, Yd_train)\n",
    "# print('SVM  training accuracy:', str(round(acc_svc_train*100,2)),'%')\n",
    "\n",
    "# acc_svc_val = svc.score(Xd_val, Yd_val)\n",
    "# print('SVM  test accuracy:', str(round(acc_svc_val*100,2)),'%')\n",
    "\n"
   ]
  },
  {
   "cell_type": "code",
   "execution_count": null,
   "metadata": {
    "collapsed": false,
    "deletable": true,
    "editable": true
   },
   "outputs": [],
   "source": [
    "################################################################\n",
    "# Will not run Perceptron until number of epochs fixed\n",
    "################################################################\n",
    "\n",
    "# # perceptron\n",
    "\n",
    "# perceptron = Perceptron()\n",
    "# perceptron.fit(Xd_train, Yd_train)\n",
    "\n",
    "# acc_perceptron_train = perceptron.score(Xd_train, Yd_train)\n",
    "# print('Perceptron  training accuracy:', str(round(acc_perceptron_train*100,2)),'%')\n",
    "\n",
    "# acc_perceptron_val = perceptron.score(Xd_val, Yd_val)\n",
    "# print('Perceptron  validation accuracy:', str(round(acc_perceptron_val*100,2)),'%')"
   ]
  },
  {
   "cell_type": "code",
   "execution_count": null,
   "metadata": {
    "collapsed": false,
    "deletable": true,
    "editable": true
   },
   "outputs": [],
   "source": [
    "#knn with nearest neighbour = 3\n",
    "\n",
    "knn = KNeighborsClassifier(n_neighbors = 3)\n",
    "knn.fit(Xd_train, Yd_train)\n",
    "\n",
    "\n",
    "acc_knn_train = knn.score(Xd_train, Yd_train)\n",
    "print('KNN  training accuracy:', str(round(acc_knn_train*100,2)),'%')\n",
    "\n",
    "acc_knn_val = knn.score(Xd_val, Yd_val)\n",
    "print('KNN  validation accuracy:', str(round(acc_knn_val*100,2)),'%')"
   ]
  },
  {
   "cell_type": "code",
   "execution_count": null,
   "metadata": {
    "collapsed": true,
    "deletable": true,
    "editable": true
   },
   "outputs": [],
   "source": [
    "# Random Forest\n",
    "\n",
    "random_forest = RandomForestClassifier(n_estimators=1000)\n",
    "random_forest.fit(Xd_train, Yd_train)\n",
    "\n",
    "acc_random_forest_train = random_forest.score(Xd_train, Yd_train)\n",
    "print('Random Forest  training accuracy:', str(round(acc_random_forest_train*100,2)),'%')\n",
    "\n",
    "acc_random_forest_val = random_forest.score(Xd_val, Yd_val)\n",
    "print('Random Forest  validation accuracy:', str(round(acc_random_forest_val*100,2)),'%')"
   ]
  },
  {
   "cell_type": "code",
   "execution_count": null,
   "metadata": {
    "collapsed": true,
    "deletable": true,
    "editable": true
   },
   "outputs": [],
   "source": [
    "# Yunato code for Random forest, using it to find the confusion matrix\n",
    "\n",
    "X_train = Xd_train\n",
    "y_train = Yd_train\n",
    "X_test = Xd_val\n",
    "y_test = Yd_val\n"
   ]
  },
  {
   "cell_type": "code",
   "execution_count": null,
   "metadata": {
    "collapsed": false,
    "deletable": true,
    "editable": true
   },
   "outputs": [],
   "source": [
    "\n",
    "\n",
    "from sklearn.ensemble import RandomForestRegressor\n",
    "\n",
    "forest_reg = RandomForestRegressor()\n",
    "forest_reg.fit(X_train, y_train)"
   ]
  },
  {
   "cell_type": "code",
   "execution_count": null,
   "metadata": {
    "collapsed": true,
    "deletable": true,
    "editable": true
   },
   "outputs": [],
   "source": [
    "y_train_pred = forest_reg.predict(X_train)\n",
    "y_train_pred = [int(x) for x in y_train_pred]\n",
    "confusion_matrix(y_train, y_train_pred)"
   ]
  },
  {
   "cell_type": "code",
   "execution_count": null,
   "metadata": {
    "collapsed": true,
    "deletable": true,
    "editable": true
   },
   "outputs": [],
   "source": [
    "y_test_pred = forest_reg.predict(X_test)\n",
    "y_test_pred = [int(x) for x in y_test_pred]\n",
    "confusion_matrix(y_test, y_test_pred)"
   ]
  }
 ],
 "metadata": {
  "kernelspec": {
   "display_name": "Python 3",
   "language": "python",
   "name": "python3"
  },
  "language_info": {
   "codemirror_mode": {
    "name": "ipython",
    "version": 3
   },
   "file_extension": ".py",
   "mimetype": "text/x-python",
   "name": "python",
   "nbconvert_exporter": "python",
   "pygments_lexer": "ipython3",
   "version": "3.6.0"
  }
 },
 "nbformat": 4,
 "nbformat_minor": 2
}
