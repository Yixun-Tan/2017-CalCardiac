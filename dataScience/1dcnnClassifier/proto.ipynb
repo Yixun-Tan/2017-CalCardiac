{
 "cells": [
  {
   "cell_type": "code",
   "execution_count": 1,
   "metadata": {},
   "outputs": [],
   "source": [
    "import tensorflow as tf\n",
    "import scipy as sci"
   ]
  },
  {
   "cell_type": "code",
   "execution_count": 21,
   "metadata": {},
   "outputs": [
    {
     "name": "stdout",
     "output_type": "stream",
     "text": [
      "(10, 100, 1)\n",
      "(10, 92, 15)\n"
     ]
    }
   ],
   "source": [
    "# data\n",
    "n = 10\n",
    "samp = 100\n",
    "feat = 15\n",
    "width = 9\n",
    "x = sci.random.rand(n, samp).reshape([n, samp, 1]).astype(sci.float32)\n",
    "\n",
    "# model\n",
    "x_in = tf.placeholder(dtype=tf.float32, shape=[n, samp, 1])\n",
    "\n",
    "ker1 = tf.Variable(tf.random_normal([width, 1, feat], dtype=tf.float32), dtype=tf.float32)\n",
    "\n",
    "y = tf.nn.conv1d(value=x, filters=ker1, stride=1, padding='VALID', use_cudnn_on_gpu=False)\n",
    "y_1 = tf.reshape(y, shape=[n,(samp-width+1)*feat])\n",
    "\n",
    "# comp\n",
    "init = tf.global_variables_initializer()\n",
    "with tf.Session() as sess:\n",
    "    sess.run(init)\n",
    "    y_out = sess.run(y, feed_dict={x_in:x})\n",
    "print(x.shape)\n",
    "print(y_out.shape)"
   ]
  },
  {
   "cell_type": "code",
   "execution_count": 3,
   "metadata": {},
   "outputs": [],
   "source": [
    "import pcv_p\n",
    "X = sci.random.rand(10, 2400).reshape([10,2400,1])\n",
    "a = pcv_p.pvc_p(10,2400,1)\n",
    "dob_vec = a.predict(X)"
   ]
  },
  {
   "cell_type": "code",
   "execution_count": 4,
   "metadata": {},
   "outputs": [
    {
     "data": {
      "text/plain": [
       "array([[ True],\n",
       "       [ True],\n",
       "       [False],\n",
       "       [ True],\n",
       "       [False],\n",
       "       [False],\n",
       "       [ True],\n",
       "       [False],\n",
       "       [ True],\n",
       "       [False]])"
      ]
     },
     "execution_count": 4,
     "metadata": {},
     "output_type": "execute_result"
    }
   ],
   "source": [
    "dob_vec"
   ]
  },
  {
   "cell_type": "code",
   "execution_count": 16,
   "metadata": {},
   "outputs": [
    {
     "name": "stdout",
     "output_type": "stream",
     "text": [
      "3 2\n",
      "4 3\n",
      "5 4\n",
      "6 5\n",
      "7 6\n",
      "8 7\n",
      "9 8\n",
      "10 9\n"
     ]
    }
   ],
   "source": [
    "class iterate:\n",
    "    def __init__(self, a, b):\n",
    "        self.a = a-1\n",
    "        self.b = b\n",
    "    \n",
    "    def __iter__(self):\n",
    "        return self\n",
    "    \n",
    "    def __next__(self):\n",
    "        if self.a == self.b:\n",
    "            raise StopIteration\n",
    "        else:\n",
    "            self.a += 1\n",
    "            return (self.a, self.a-1)\n",
    "            \n",
    "for (i,j) in iterate(3,10):\n",
    "    print(i, j)"
   ]
  }
 ],
 "metadata": {
  "kernelspec": {
   "display_name": "Python 3",
   "language": "python",
   "name": "python3"
  },
  "language_info": {
   "codemirror_mode": {
    "name": "ipython",
    "version": 3
   },
   "file_extension": ".py",
   "mimetype": "text/x-python",
   "name": "python",
   "nbconvert_exporter": "python",
   "pygments_lexer": "ipython3",
   "version": "3.6.4"
  }
 },
 "nbformat": 4,
 "nbformat_minor": 2
}
