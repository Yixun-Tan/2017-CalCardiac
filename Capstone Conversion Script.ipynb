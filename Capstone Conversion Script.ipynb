{
 "cells": [
  {
   "cell_type": "code",
   "execution_count": 2,
   "metadata": {
    "collapsed": true
   },
   "outputs": [],
   "source": [
    "import csv, pprint, json, base64, zlib"
   ]
  },
  {
   "cell_type": "code",
   "execution_count": 4,
   "metadata": {
    "collapsed": true
   },
   "outputs": [],
   "source": [
    "def base64ToJson(zippedString):\n",
    "    json_str = zlib.decompress(base64.b64decode(zippedString)).decode()\n",
    "    json_json = json.loads(json_str)\n",
    "    return json_json"
   ]
  },
  {
   "cell_type": "code",
   "execution_count": 14,
   "metadata": {},
   "outputs": [
    {
     "data": {
      "text/plain": [
       "'C:\\\\Users\\\\uthil\\\\Documents\\\\GitHub\\\\Capstone'"
      ]
     },
     "execution_count": 14,
     "metadata": {},
     "output_type": "execute_result"
    }
   ],
   "source": [
    "pwd"
   ]
  },
  {
   "cell_type": "code",
   "execution_count": 15,
   "metadata": {},
   "outputs": [
    {
     "name": "stdout",
     "output_type": "stream",
     "text": [
      " Volume in drive C is OS\n",
      " Volume Serial Number is B889-04AC\n",
      "\n",
      " Directory of C:\\Users\\uthil\\Documents\\GitHub\\Capstone\n",
      "\n",
      "2018-02-18  11:41 AM    <DIR>          .\n",
      "2018-02-18  11:41 AM    <DIR>          ..\n",
      "2018-02-18  10:50 AM    <DIR>          .ipynb_checkpoints\n",
      "2018-02-18  11:20 AM             2,707 Capstone Conversion Script.ipynb\n",
      "2018-02-18  11:41 AM    <DIR>          Data\n",
      "2018-02-18  09:44 AM           145,048 example.adibin\n",
      "2018-02-18  11:20 AM    <DIR>          ImageGeneration\n",
      "2018-02-18  09:44 AM         2,125,742 SampleData1.csv\n",
      "               3 File(s)      2,273,497 bytes\n",
      "               5 Dir(s)  526,427,090,944 bytes free\n"
     ]
    }
   ],
   "source": [
    "ls"
   ]
  },
  {
   "cell_type": "code",
   "execution_count": 9,
   "metadata": {},
   "outputs": [],
   "source": [
    "csvFilename = \"..\\Data\\SampleData1.csv\""
   ]
  },
  {
   "cell_type": "code",
   "execution_count": 25,
   "metadata": {},
   "outputs": [
    {
     "name": "stdout",
     "output_type": "stream",
     "text": [
      "['0000cad941cef3c4ad95f6aae8fd8771.csv', '000bdc025098ef422b258129d40b2214.csv', '000ceb00541bda9b397805838e9b68b7.csv', '00a1d220f5c6699f491ab5692af52741.csv', '00aa2e7a837f523169f795000c18034b.csv', '00ac64485c9e8496853f2ed607001579.csv', '00aec585ce82f5db7362b4a75a5f1d93.csv', '00b8b1f29bbe8fbeb4e28eef0864e01c.csv', '00c0a61cacace807944f87e0eec1d38e.csv', '00c682a39dc32d44ca2ed9d60217cd2e.csv', '00ca0ff415202c669136f8dedba16c42.csv', '00dd881b3c205160c79c92b5c2000a67.csv', '00dfa60eb863cf93700b9f0e4f2cb9ab.csv', '00e1459e9bb0edb7a13ed84582c25598.csv', '00e590ee4a830e26c27038eae4a1e5ee.csv', '00e6254b30e1d6c0597b8c3293488de9.csv', '00ea673acfaf0b4172390156802d1c60.csv', '00f9785445483fd3b5301c649488072c.csv', '0a011cf05db96f56f3da412fb6e950b6.csv', '0a0a3d93babcdee0593d30fdd928fc06.csv', '0a0ea09be3c09842bb38c335d0ec1840.csv', '0a113d2b0c8ea08a9c4f8c9bec71da05.csv', '0a1bc37639cfbb86f6cfcc9058b2b6f1.csv', '0a35a70f9209135cd75df3cf63d8381e.csv', '0a35caab48b96c2283097f097f6d9a6e.csv', '0a4e4bcd8d362df4502cdb349a48f5c2.csv', '0a55e7b3d52047e58dc3c07ea8de84d6.csv', '0a5a0dcb98d5fa268b356c1f947fa8fe.csv', '0a5eff08e7ba8e9375d7ca0eeac651bf.csv', '0a5f1eaeb4c3ed0f3efafd615f42d699.csv', '0a68c096be2d38c7b0f3251061e1e33d.csv', '0a6ef9be9f1232e41a43f280bf0416ec.csv', '0a73d4475e440a15dbf7eb884016e641.csv', '0a9fd24138f4a2b7971c116d6cbcc9a7.csv']\n"
     ]
    }
   ],
   "source": [
    "mypath = \"C:/Users/uthil/Documents/GitHub/Capstone/Data\"\n",
    "\n",
    "from os import listdir \n",
    "from os.path import isfile, join \n",
    "onlyfiles = [f for f in listdir(mypath) if isfile(join(mypath, f))]\n",
    "print (onlyfiles)"
   ]
  },
  {
   "cell_type": "code",
   "execution_count": 26,
   "metadata": {
    "scrolled": true
   },
   "outputs": [
    {
     "name": "stdout",
     "output_type": "stream",
     "text": [
      "0f2ed28c68c91156845ead08028d6d2b\n",
      "152687\n",
      "f0fee362719c2f478d6eaf452d2bf3d7\n",
      "71579\n",
      "d2cae0ca708ece7d2e054427140f53d2\n",
      "7109\n",
      "054328559acff852ad86c7ba1a20050f\n",
      "156636\n",
      "52be29f1e7a0c52ffacc27fff4f34fcd\n",
      "1504064\n",
      "ffd474f9312cb5a468d4f8e0253c5c99\n",
      "496316\n",
      "2d85801859be48f542e627c8d1095f2d\n",
      "40627\n",
      "e1e0b2ce4bb8525a3c32ea8535a09d33\n",
      "142441\n",
      "62cd9bdf8add75f84e7ed6fbfe3e7323\n",
      "89189\n",
      "273947c4076cb0428287a21a4fbca736\n",
      "192813\n",
      "077d4d2a942e2dcb271cbefe3b02640c\n",
      "98192\n",
      "05efdaa5a13d2eb4fdcfb46a221d703e\n",
      "3050\n",
      "46f0e276b87d0197c9e28beddd611988\n",
      "985\n",
      "eaa6045a7a02064d5da849f8423cea6d\n",
      "6866\n",
      "44585e11e8963e50cde45240557509d5\n",
      "317500\n",
      "b8108f13c38f7147be0acfd7ca7242a2\n",
      "189527\n",
      "72de8219c27790451bae32816c1e6c28\n",
      "41239\n",
      "9176aac26a9dd13dc43f823785741ca8\n",
      "21384\n",
      "e5ccd34696d62cae3c47f50592fa2630\n",
      "52856\n",
      "ef1818b20e97cb48be207a0bc9c47da5\n",
      "43514\n",
      "fecebbac7d17280f93ed30630ad0b684\n",
      "116047\n",
      "f53c0a5a4645fb09c3dc44be82a3d69c\n",
      "170105\n",
      "385f2de9c3e9e975f23a31b362da9c16\n",
      "14868\n",
      "63ceafa21a96ae1f0aeb2698e9738d7d\n",
      "328193\n",
      "deddae545336164b42def5ae91c75090\n",
      "53213\n",
      "0c6f631d880ad10a1584e57a4055c754\n",
      "48\n",
      "0907c803ee84e85245868fce4377bc81\n",
      "365\n",
      "b649faa09e84a7d4c3568064b22b9ccc\n",
      "22445\n",
      "ffc14c63b423228b51fd37923f7a8e95\n",
      "678\n",
      "b5d80b7a8845fd2572e9f2cc5324d8dc\n",
      "62815\n",
      "b882d1465e0992cec7a3b0251f4b3e8a\n",
      "153524\n",
      "9b06ba42c0144a3997c323b66496efa6\n",
      "52641\n",
      "7f90ca3ed5a971538062dd62f8ebf4e6\n",
      "122658\n",
      "0f2954749e84d0aaf7a090edb092b910\n",
      "16620\n"
     ]
    }
   ],
   "source": [
    "import csv\n",
    "\n",
    "for csvfile in onlyfiles:\n",
    "    f = open(join(mypath, csvfile))\n",
    "    csv_f = csv.reader(f)\n",
    "\n",
    "    for row in csv_f:\n",
    "        #print(row)\n",
    "        print(row[0]) # Alarm ID\n",
    "        print(row[1]) # Time since Admission\n",
    "        #pprint.pprint(base64ToJson(row[2])) # Alarm data\n",
    "        alarm = base64ToJson(row[2])\n",
    "        with open(\"ImageGeneration/alarms/\"+str(row[0])+\"_\"+str(row[1])+\".json\",\"w\") as myfile:\n",
    "            myfile.write(json.dumps(alarm))\n",
    "        break"
   ]
  },
  {
   "cell_type": "code",
   "execution_count": 11,
   "metadata": {},
   "outputs": [
    {
     "data": {
      "text/plain": [
       "list"
      ]
     },
     "execution_count": 11,
     "metadata": {},
     "output_type": "execute_result"
    }
   ],
   "source": [
    "type(base64ToJson(row[2]))"
   ]
  },
  {
   "cell_type": "code",
   "execution_count": null,
   "metadata": {
    "collapsed": true
   },
   "outputs": [],
   "source": []
  }
 ],
 "metadata": {
  "kernelspec": {
   "display_name": "Python 3",
   "language": "python",
   "name": "python3"
  },
  "language_info": {
   "codemirror_mode": {
    "name": "ipython",
    "version": 3
   },
   "file_extension": ".py",
   "mimetype": "text/x-python",
   "name": "python",
   "nbconvert_exporter": "python",
   "pygments_lexer": "ipython3",
   "version": "3.6.1"
  }
 },
 "nbformat": 4,
 "nbformat_minor": 2
}
