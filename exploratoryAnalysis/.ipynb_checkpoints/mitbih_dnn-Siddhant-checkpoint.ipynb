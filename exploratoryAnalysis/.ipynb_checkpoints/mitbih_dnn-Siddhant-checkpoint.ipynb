{
 "cells": [
  {
   "cell_type": "code",
   "execution_count": 14,
   "metadata": {
    "collapsed": true
   },
   "outputs": [],
   "source": [
    "from IPython.display import display\n",
    "import matplotlib.pyplot as plt\n",
    "%matplotlib inline\n",
    "import numpy as np\n",
    "import os\n",
    "import wfdb"
   ]
  },
  {
   "cell_type": "code",
   "execution_count": 15,
   "metadata": {},
   "outputs": [
    {
     "data": {
      "image/png": "[encoded data removed]",
      "text/plain": [
       "<matplotlib.figure.Figure at 0x115051da0>"
      ]
     },
     "metadata": {},
     "output_type": "display_data"
    }
   ],
   "source": [
    "# read a wfdb record and plot the signal\n",
    "record = wfdb.rdrecord('100', sampfrom=0, sampto='end', channels=[1], pb_dir='mitdb')\n",
    "wfdb.plot_wfdb(record=record, title='Record 100 channel I from MIT-BIH dataset')"
   ]
  },
  {
   "cell_type": "code",
   "execution_count": 16,
   "metadata": {},
   "outputs": [
    {
     "data": {
      "text/plain": [
       "array([[-0.065],\n",
       "       [-0.065],\n",
       "       [-0.065],\n",
       "       ..., \n",
       "       [-0.365],\n",
       "       [-0.335],\n",
       "       [ 0.   ]])"
      ]
     },
     "metadata": {},
     "output_type": "display_data"
    },
    {
     "data": {
      "text/plain": [
       "{'comments': ['69 M 1085 1629 x1', 'Aldomet, Inderal'],\n",
       " 'fs': 360,\n",
       " 'n_sig': 1,\n",
       " 'sig_len': 650000,\n",
       " 'sig_name': ['V5'],\n",
       " 'units': ['mV']}"
      ]
     },
     "metadata": {},
     "output_type": "display_data"
    }
   ],
   "source": [
    "# Read certain channels and sections of the WFDB record using the simplified 'rdsamp' function\n",
    "# which returns a numpy array and a dictionary. Show the data.\n",
    "signals, fields = wfdb.rdsamp('100', sampfrom=0, sampto='end', channels=[1], pb_dir='mitdb')\n",
    "display(signals)\n",
    "display(fields)"
   ]
  },
  {
   "cell_type": "code",
   "execution_count": 17,
   "metadata": {},
   "outputs": [
    {
     "data": {
      "text/plain": [
       "(650000, 1)"
      ]
     },
     "execution_count": 17,
     "metadata": {},
     "output_type": "execute_result"
    }
   ],
   "source": [
    "# check data shape\n",
    "signals.shape"
   ]
  },
  {
   "cell_type": "code",
   "execution_count": 18,
   "metadata": {},
   "outputs": [
    {
     "data": {
      "text/plain": [
       "dtype('float64')"
      ]
     },
     "execution_count": 18,
     "metadata": {},
     "output_type": "execute_result"
    }
   ],
   "source": [
    "# check data type\n",
    "signals.dtype"
   ]
  },
  {
   "cell_type": "code",
   "execution_count": 19,
   "metadata": {
    "collapsed": true
   },
   "outputs": [],
   "source": [
    "# Read a WFDB annotation file into a wfdb.Annotation object, and plot the samples\n",
    "annotation = wfdb.rdann('100', 'atr', sampfrom=0, sampto=None, shift_samps=True, pb_dir='mitdb')\n",
    "annotation.fs = 360"
   ]
  },
  {
   "cell_type": "code",
   "execution_count": 20,
   "metadata": {},
   "outputs": [
    {
     "data": {
      "text/plain": [
       "array([    18,     77,    370, ..., 649484, 649734, 649991])"
      ]
     },
     "execution_count": 20,
     "metadata": {},
     "output_type": "execute_result"
    }
   ],
   "source": [
    "# \"sample\" method returns a numpy array containing the annotation locations in samples\n",
    "# relative to the beginning of the record\n",
    "annotation.sample"
   ]
  },
  {
   "cell_type": "code",
   "execution_count": 21,
   "metadata": {},
   "outputs": [
    {
     "data": {
      "text/plain": [
       "(2274,)"
      ]
     },
     "execution_count": 21,
     "metadata": {},
     "output_type": "execute_result"
    }
   ],
   "source": [
    "# check data shape\n",
    "annotation.sample.shape"
   ]
  },
  {
   "cell_type": "code",
   "execution_count": 22,
   "metadata": {},
   "outputs": [
    {
     "data": {
      "text/plain": [
       "2274"
      ]
     },
     "execution_count": 22,
     "metadata": {},
     "output_type": "execute_result"
    }
   ],
   "source": [
    "# check list length\n",
    "len(annotation.symbol)"
   ]
  },
  {
   "cell_type": "code",
   "execution_count": 23,
   "metadata": {},
   "outputs": [
    {
     "data": {
      "text/plain": [
       "dict_keys(['+', 'N', 'A', 'V'])"
      ]
     },
     "execution_count": 23,
     "metadata": {},
     "output_type": "execute_result"
    }
   ],
   "source": [
    "# unique symbols in the symbol list\n",
    "# + means Rhythm change\n",
    "# 'A' means Atrial premature beat\n",
    "# 'N' means Normal beat\n",
    "# 'V' means Premature ventricular contraction\n",
    "\n",
    "from collections import Counter\n",
    "Counter(annotation.symbol).keys()"
   ]
  },
  {
   "cell_type": "code",
   "execution_count": 24,
   "metadata": {},
   "outputs": [
    {
     "data": {
      "text/plain": [
       "dict_values([1, 2239, 33, 1])"
      ]
     },
     "execution_count": 24,
     "metadata": {},
     "output_type": "execute_result"
    }
   ],
   "source": [
    "# how many of each symbol in the list\n",
    "# there are 2239 normal beats, 33 atrial premature beats and 1 PVC beat\n",
    "# in the \"100\" record of MIT-BIH database\n",
    "\n",
    "Counter(annotation.symbol).values()"
   ]
  },
  {
   "cell_type": "code",
   "execution_count": 25,
   "metadata": {
    "collapsed": true
   },
   "outputs": [],
   "source": [
    "# siddhant code below from corrupted file"
   ]
  },
  {
   "cell_type": "code",
   "execution_count": 26,
   "metadata": {},
   "outputs": [
    {
     "name": "stdout",
     "output_type": "stream",
     "text": [
      "[array([-0.065, -0.065, -0.065, ..., -0.295, -0.29 , -0.285]), array([-0.275, -0.265, -0.285, ..., -0.4  , -0.42 , -0.4  ]), array([-0.39 , -0.395, -0.39 , ..., -0.305, -0.3  , -0.3  ]), array([-0.28 , -0.285, -0.29 , ..., -0.065, -0.08 , -0.075]), array([-0.075, -0.06 , -0.07 , ..., -0.335, -0.355, -0.335]), array([-0.32 , -0.32 , -0.33 , ..., -0.175, -0.18 , -0.175]), array([-0.17 , -0.16 , -0.17 , ...,  0.4  ,  0.035, -0.275]), array([-0.37 , -0.315, -0.29 , ..., -0.33 , -0.35 , -0.355]), array([-0.36 , -0.36 , -0.355, ..., -0.29 , -0.305, -0.31 ]), array([-0.305, -0.31 , -0.295, ..., -0.145, -0.155, -0.165]), array([-0.195, -0.23 , -0.245, ..., -0.17 , -0.16 , -0.15 ]), array([-0.175, -0.18 , -0.17 , ..., -0.265, -0.255, -0.255]), array([-0.255, -0.265, -0.28 , ..., -0.295, -0.295, -0.285]), array([-0.285, -0.3  , -0.305, ..., -0.24 , -0.25 , -0.235]), array([-0.24 , -0.24 , -0.245, ..., -0.305, -0.31 , -0.305]), array([-0.3  , -0.295, -0.3  , ..., -0.27 , -0.31 , -0.335]), array([-0.345, -0.335, -0.33 , ..., -0.39 , -0.395, -0.4  ]), array([-0.405, -0.39 , -0.39 , ..., -0.275, -0.285, -0.285]), array([-0.275, -0.265, -0.255, ..., -0.42 , -0.43 , -0.42 ]), array([-0.43 , -0.42 , -0.395, ..., -0.23 , -0.225, -0.225]), array([-0.225, -0.23 , -0.235, ..., -0.25 , -0.25 , -0.245]), array([-0.245, -0.26 , -0.25 , ..., -0.41 , -0.405, -0.375]), array([-0.34 , -0.33 , -0.335, ..., -0.16 , -0.17 , -0.175]), array([-0.16 , -0.15 , -0.155, ..., -0.235, -0.245, -0.255]), array([-0.26 , -0.245, -0.23 , ..., -0.15 , -0.165, -0.165]), array([-0.185, -0.175, -0.16 , ..., -0.315, -0.325, -0.315]), array([-0.33 , -0.35 , -0.345, ..., -0.15 , -0.14 , -0.15 ]), array([-0.16 , -0.18 , -0.17 , ..., -0.295, -0.28 , -0.28 ]), array([-0.285, -0.29 , -0.29 , ..., -0.125, -0.125, -0.12 ]), array([-0.12 , -0.115, -0.115, ..., -0.22 , -0.22 , -0.225]), array([-0.215, -0.215, -0.215, ..., -0.215, -0.235, -0.23 ]), array([-0.255, -0.245, -0.24 , ..., -0.215, -0.215, -0.23 ]), array([-0.225, -0.235, -0.22 , ..., -0.225, -0.23 , -0.225]), array([-0.25 , -0.245, -0.25 , ..., -0.145, -0.155, -0.15 ]), array([-0.145, -0.145, -0.145, ..., -0.235, -0.23 , -0.22 ]), array([-0.235, -0.24 , -0.255, ..., -0.535, -0.525, -0.51 ]), array([-0.5  , -0.52 , -0.545, ..., -0.31 , -0.325, -0.34 ]), array([-0.32 , -0.32 , -0.315, ..., -0.2  , -0.205, -0.215]), array([-0.23 , -0.22 , -0.2  , ..., -0.32 , -0.34 , -0.335]), array([-0.34 , -0.355, -0.325, ..., -0.205, -0.19 , -0.19 ]), array([-0.2  , -0.21 , -0.205, ..., -0.16 , -0.13 , -0.13 ]), array([-0.15 , -0.15 , -0.145, ..., -0.36 , -0.35 , -0.34 ]), array([-0.345, -0.35 , -0.375, ..., -0.165, -0.17 , -0.175]), array([-0.15 , -0.16 , -0.155, ..., -0.26 , -0.26 , -0.28 ]), array([-0.26 , -0.27 , -0.265, ..., -0.2  , -0.205, -0.22 ]), array([-0.245, -0.245, -0.24 , ..., -0.245, -0.24 , -0.23 ]), array([-0.23 , -0.23 , -0.225, ..., -0.215, -0.215, -0.205]), array([-0.21 , -0.215, -0.22 , ..., -0.31 , -0.325, -0.315]), array([-0.29 , -0.285, -0.285, ..., -0.095, -0.1  , -0.105]), array([-0.11 , -0.09 , -0.09 , ..., -0.285, -0.3  , -0.315]), array([-0.31 , -0.31 , -0.31 , ..., -0.265, -0.26 , -0.27 ]), array([-0.295, -0.28 , -0.27 , ..., -0.245, -0.23 , -0.245]), array([-0.25 , -0.26 , -0.255, ..., -0.26 , -0.245, -0.245]), array([-0.25, -0.27, -0.27, ..., -0.21, -0.19, -0.19]), array([-0.175, -0.185, -0.195, ..., -0.295, -0.29 , -0.28 ]), array([-0.285, -0.29 , -0.295, ..., -0.255, -0.26 , -0.255]), array([-0.255, -0.255, -0.27 , ..., -0.22 , -0.23 , -0.21 ]), array([-0.205, -0.215, -0.205, ..., -0.135, -0.15 , -0.16 ]), array([-0.145, -0.135, -0.135, ..., -0.215, -0.235, -0.23 ]), array([-0.23 , -0.225, -0.215, ..., -0.225, -0.215, -0.235]), array([-0.22 , -0.23 , -0.215, ..., -0.225, -0.23 , -0.245]), array([-0.25 , -0.26 , -0.25 , ..., -0.095, -0.09 , -0.11 ]), array([-0.12 , -0.11 , -0.12 , ..., -0.155, -0.17 , -0.165]), array([-0.18 , -0.18 , -0.165, ..., -0.2  , -0.205, -0.205]), array([-0.205, -0.22 , -0.215, ..., -0.215, -0.2  , -0.2  ]), array([-0.21 , -0.225, -0.235, ..., -0.34 , -0.315, -0.29 ]), array([-0.29 , -0.29 , -0.27 , ..., -0.17 , -0.16 , -0.165]), array([-0.17 , -0.165, -0.175, ..., -0.305, -0.3  , -0.295]), array([-0.3 , -0.3 , -0.31, ..., -0.36, -0.35, -0.35]), array([-0.355, -0.35 , -0.345, ..., -0.25 , -0.205, -0.185]), array([-0.18 , -0.185, -0.195, ..., -0.185, -0.185, -0.185]), array([-0.165, -0.185, -0.185, ..., -0.23 , -0.23 , -0.215]), array([-0.21 , -0.195, -0.205, ..., -0.18 , -0.195, -0.185]), array([-0.175, -0.17 , -0.185, ..., -0.135, -0.15 , -0.14 ]), array([-0.13 , -0.125, -0.13 , ..., -0.285, -0.28 , -0.28 ]), array([-0.27 , -0.27 , -0.26 , ..., -0.145, -0.15 , -0.155]), array([-0.15 , -0.145, -0.135, ..., -0.35 , -0.35 , -0.345]), array([-0.33 , -0.315, -0.285, ..., -0.15 , -0.185, -0.205]), array([-0.23 , -0.265, -0.27 , ..., -0.17 , -0.18 , -0.185]), array([-0.18 , -0.175, -0.175, ..., -0.19 , -0.165, -0.18 ]), array([-0.185, -0.195, -0.185, ..., -0.235, -0.245, -0.24 ]), array([-0.235, -0.235, -0.245, ..., -0.28 , -0.29 , -0.285]), array([-0.27 , -0.265, -0.25 , ..., -0.18 , -0.195, -0.205]), array([-0.195, -0.175, -0.185, ..., -0.195, -0.2  , -0.215]), array([-0.21 , -0.2  , -0.2  , ..., -0.2  , -0.215, -0.215]), array([-0.22 , -0.22 , -0.21 , ..., -0.305, -0.305, -0.31 ]), array([-0.31 , -0.345, -0.335, ..., -0.325, -0.29 , -0.275]), array([-0.275, -0.275, -0.27 , ..., -0.29 , -0.27 , -0.25 ]), array([-0.24 , -0.225, -0.24 , ..., -0.295, -0.29 , -0.275]), array([-0.29 , -0.3  , -0.315, ..., -0.15 , -0.165, -0.15 ]), array([-0.16 , -0.155, -0.16 , ..., -0.155, -0.17 , -0.16 ]), array([-0.155, -0.145, -0.135, ..., -0.15 , -0.16 , -0.175]), array([-0.185, -0.175, -0.18 , ..., -0.135, -0.135, -0.135]), array([-0.16 , -0.155, -0.15 , ..., -0.24 , -0.225, -0.235]), array([-0.235, -0.245, -0.245, ..., -0.235, -0.23 , -0.205]), array([-0.225, -0.225, -0.235, ..., -0.155, -0.16 , -0.15 ]), array([-0.145, -0.15 , -0.165, ..., -0.165, -0.185, -0.195]), array([-0.215, -0.245, -0.28 , ..., -0.36 , -0.36 , -0.375]), array([-0.355, -0.345, -0.35 , ..., -0.035, -0.035, -0.035]), array([-0.035, -0.02 , -0.02 , ..., -0.25 , -0.27 , -0.28 ]), array([-0.26 , -0.24 , -0.23 , ..., -0.035,  0.09 ,  0.21 ]), array([ 0.315,  0.43 ,  0.56 , ..., -0.185, -0.17 , -0.175]), array([-0.18 , -0.195, -0.195, ..., -0.135, -0.13 , -0.115]), array([-0.125, -0.14 , -0.15 , ..., -0.445, -0.455, -0.445]), array([-0.445, -0.435, -0.44 , ...,  0.145,  0.26 ,  0.36 ]), array([ 0.475,  0.59 ,  0.715, ..., -0.13 , -0.15 , -0.155]), array([-0.14 , -0.13 , -0.13 , ...,  0.135,  0.29 ,  0.41 ]), array([ 0.55 ,  0.68 ,  0.82 , ..., -0.08 , -0.09 , -0.095]), array([-0.115, -0.105, -0.095, ..., -0.175, -0.175, -0.17 ]), array([-0.185, -0.18 , -0.175, ..., -0.24 , -0.225, -0.24 ]), array([-0.25 , -0.245, -0.245, ..., -0.29 , -0.295, -0.285]), array([-0.275, -0.285, -0.29 , ..., -0.245, -0.265, -0.275]), array([-0.285, -0.3  , -0.34 , ..., -0.31 , -0.33 , -0.315]), array([-0.32 , -0.32 , -0.325, ..., -0.125, -0.145, -0.13 ]), array([-0.13 , -0.11 , -0.1  , ..., -0.175, -0.18 , -0.185]), array([-0.185, -0.16 , -0.165, ..., -0.15 , -0.155, -0.175]), array([-0.17 , -0.155, -0.15 , ..., -0.33 , -0.32 , -0.325]), array([-0.34, -0.33, -0.31, ..., -0.09, -0.09, -0.1 ]), array([-0.105, -0.11 , -0.095, ..., -0.24 , -0.255, -0.275]), array([-0.315, -0.32 , -0.28 , ..., -0.33 , -0.32 , -0.335]), array([-0.34 , -0.355, -0.365, ..., -0.12 , -0.115, -0.105]), array([-0.115, -0.14 , -0.145, ..., -0.2  , -0.19 , -0.185]), array([-0.18 , -0.175, -0.185, ..., -0.125, -0.125, -0.13 ]), array([-0.12 , -0.125, -0.115, ..., -0.255, -0.27 , -0.27 ]), array([-0.265, -0.25 , -0.245, ..., -0.115, -0.125, -0.12 ]), array([-0.115, -0.115, -0.11 , ..., -0.23 , -0.22 , -0.22 ]), array([-0.22 , -0.23 , -0.22 , ..., -0.07 , -0.05 , -0.065]), array([-0.09 , -0.08 , -0.09 , ..., -0.25 , -0.235, -0.22 ]), array([-0.21 , -0.225, -0.225, ..., -0.29 , -0.28 , -0.275]), array([-0.27 , -0.275, -0.275, ..., -0.25 , -0.245, -0.225]), array([-0.225, -0.235, -0.23 , ..., -0.025, -0.03 , -0.03 ]), array([-0.035, -0.03 , -0.03 , ..., -0.08 , -0.11 , -0.105]), array([-0.1  , -0.09 , -0.085, ..., -0.12 , -0.13 , -0.125]), array([-0.135, -0.125, -0.12 , ..., -0.175, -0.185, -0.2  ]), array([-0.195, -0.185, -0.165, ..., -0.12 , -0.12 , -0.13 ]), array([-0.14 , -0.14 , -0.125, ..., -0.23 , -0.2  , -0.18 ]), array([-0.18 , -0.185, -0.18 , ..., -0.16 , -0.145, -0.14 ]), array([-0.15 , -0.155, -0.155, ..., -0.295, -0.3  , -0.315]), array([-0.305, -0.315, -0.32 , ..., -0.235, -0.23 , -0.245]), array([-0.24 , -0.23 , -0.23 , ..., -0.195, -0.205, -0.205]), array([-0.205, -0.195, -0.19 , ..., -0.28 , -0.275, -0.29 ]), array([-0.29 , -0.275, -0.27 , ..., -0.24 , -0.23 , -0.215]), array([-0.23 , -0.235, -0.235, ..., -0.245, -0.235, -0.23 ]), array([-0.245, -0.26 , -0.255, ..., -0.23 , -0.215, -0.205]), array([-0.22 , -0.24 , -0.245, ..., -0.365, -0.37 , -0.36 ]), array([-0.365, -0.38 , -0.38 , ..., -0.305, -0.295, -0.27 ]), array([-0.24 , -0.245, -0.245, ..., -0.33 , -0.315, -0.315]), array([-0.3  , -0.3  , -0.305, ..., -0.21 , -0.24 , -0.23 ]), array([-0.22 , -0.205, -0.205, ..., -0.155, -0.16 , -0.155]), array([-0.16 , -0.165, -0.17 , ..., -0.075, -0.085, -0.095]), array([-0.1  , -0.085, -0.085, ..., -0.105, -0.11 , -0.115]), array([-0.12 , -0.1  , -0.095, ...,  0.925,  0.97 ,  0.82 ]), array([ 0.455,  0.045, -0.15 , ..., -0.055, -0.05 , -0.055]), array([-0.075, -0.065, -0.045, ..., -0.12 , -0.125, -0.13 ]), array([-0.145, -0.135, -0.135, ..., -0.305, -0.285, -0.285]), array([-0.3  , -0.31 , -0.285, ..., -0.21 , -0.2  , -0.19 ]), array([-0.2  , -0.215, -0.215, ..., -0.23 , -0.22 , -0.22 ]), array([-0.215, -0.215, -0.225, ..., -0.18 , -0.17 , -0.145]), array([-0.15 , -0.145, -0.16 , ..., -0.075, -0.09 , -0.06 ]), array([-0.05 , -0.065, -0.065, ..., -0.27 , -0.28 , -0.275]), array([-0.26 , -0.27 , -0.265, ..., -0.17 , -0.18 , -0.175]), array([-0.16 , -0.15 , -0.17 , ..., -0.15 , -0.17 , -0.175]), array([-0.15 , -0.145, -0.14 , ..., -0.175, -0.175, -0.18 ]), array([-0.18 , -0.165, -0.145, ..., -0.26 , -0.26 , -0.27 ]), array([-0.275, -0.285, -0.28 , ..., -0.065, -0.035, -0.035]), array([-0.03 , -0.04 , -0.04 , ..., -0.275, -0.275, -0.285]), array([-0.285, -0.27 , -0.29 , ..., -0.145, -0.13 , -0.135]), array([-0.14 , -0.155, -0.165, ..., -0.145, -0.14 , -0.135]), array([-0.14 , -0.145, -0.16 , ..., -0.17 , -0.16 , -0.14 ]), array([-0.125, -0.125, -0.115, ..., -0.195, -0.19 , -0.2  ]), array([-0.185, -0.175, -0.185, ..., -0.1  , -0.11 , -0.105]), array([-0.08 , -0.065, -0.07 , ..., -0.045, -0.065, -0.06 ]), array([-0.065, -0.065, -0.045, ..., -0.15 , -0.15 , -0.15 ]), array([-0.14 , -0.13 , -0.13 , ..., -0.17 , -0.175, -0.15 ]), array([-0.155, -0.16 , -0.15 , ..., -0.165, -0.145, -0.15 ]), array([-0.145, -0.16 , -0.165, ..., -0.27 , -0.25 , -0.225]), array([-0.22 , -0.21 , -0.22 , ..., -0.37 , -0.375, -0.355]), array([-0.355, -0.345, -0.345, ..., -0.175, -0.185, -0.18 ]), array([-0.175, -0.165, -0.17 , ..., -0.245, -0.255, -0.27 ]), array([-0.275, -0.275, -0.26 , ..., -0.09 , -0.085, -0.1  ])]\n",
      "180\n",
      "final number of rows: 181\n"
     ]
    }
   ],
   "source": [
    " #\" Splitting in 10 seconds interval the base data\\n\",\n",
    "    \n",
    "    #\"# Now 650,000 data point corresponds to 180.55 10s second interval;\\n\",\n",
    "    #\"# so in the first part let us create a list of array of 180 10s intervals and then add the last array data points \\n\",\n",
    "    #\"# i.e data points corresonding to the .55 \\n\",\n",
    "    \n",
    "nos = (len(signals)/(annotation.fs*10))\n",
    "nosi = int(nos)\n",
    "#print(nos)\n",
    "#print(nosi)\n",
    "    \n",
    "final = list()\n",
    "    \n",
    "for i in range(nosi):\n",
    "    b = signals[(i*3600):(i*3600 + 3600)]\n",
    "        \n",
    "    newdata = list()\n",
    "    for j in range(3600):\n",
    "        temp = b[j][0]\n",
    "        newdata = np.append(newdata,temp)\n",
    "        d = np.asarray(newdata)\n",
    "        e = np.array_split(d,1)\n",
    "#print(type(e))\\n\",\n",
    "    final = final + e\n",
    "    \n",
    "print(final)\n",
    "print(len(final))\n",
    "   \n",
    "    \n",
    "# the last 0.55 part\\n\",\n",
    "f = signals[(nosi*3600):]\n",
    "#print(len(f))\\n\",\n",
    "    \n",
    "newdata2 = list()\n",
    "    \n",
    "for i in range(len(f)):\n",
    "    temp = b[i][0]\n",
    "    newdata2 = np.append(newdata2,temp)\n",
    "    \n",
    "h = np.array_split(newdata2,1)\n",
    "#print(type(h))\\n\",\n",
    "   \n",
    "    \n",
    "# the final is the total \\n\",\n",
    "final = final + h\n",
    "\n",
    "print(\"final number of rows:\",len(final))\n",
    "   \n",
    "  "
   ]
  },
  {
   "cell_type": "code",
   "execution_count": 20,
   "metadata": {},
   "outputs": [
    {
     "name": "stdout",
     "output_type": "stream",
     "text": [
      "[ 546792.]\n",
      "[ 151.]\n",
      "[ 0.  0.  0.  0.  0.  0.  0.  0.  0.  0.  0.  0.  0.  0.  0.  0.  0.  0.\n",
      "  0.  0.  0.  0.  0.  0.  0.  0.  0.  0.  0.  0.  0.  0.  0.  0.  0.  0.\n",
      "  0.  0.  0.  0.  0.  0.  0.  0.  0.  0.  0.  0.  0.  0.  0.  0.  0.  0.\n",
      "  0.  0.  0.  0.  0.  0.  0.  0.  0.  0.  0.  0.  0.  0.  0.  0.  0.  0.\n",
      "  0.  0.  0.  0.  0.  0.  0.  0.  0.  0.  0.  0.  0.  0.  0.  0.  0.  0.\n",
      "  0.  0.  0.  0.  0.  0.  0.  0.  0.  0.  0.  0.  0.  0.  0.  0.  0.  0.\n",
      "  0.  0.  0.  0.  0.  0.  0.  0.  0.  0.  0.  0.  0.  0.  0.  0.  0.  0.\n",
      "  0.  0.  0.  0.  0.  0.  0.  0.  0.  0.  0.  0.  0.  0.  0.  0.  0.  0.\n",
      "  0.  0.  0.  0.  0.  0.  0.  1.  0.  0.  0.  0.  0.  0.  0.  0.  0.  0.\n",
      "  0.  0.  0.  0.  0.  0.  0.  0.  0.  0.  0.  0.  0.  0.  0.  0.  0.  0.\n",
      "  0.]\n",
      "181\n",
      "the location in pvc list is in the : 151  10 secondth record \n"
     ]
    }
   ],
   "source": [
    "# to create a list of 181 rows, that will be 0 or 1 as per whether a 10 s has PVC or not\\n\",\n",
    "   \n",
    "loc = list()\n",
    "for i in range(len(annotation.symbol)):\n",
    "    if annotation.symbol[i] == 'V':\n",
    "        loc = np.append(loc,annotation.sample[i])\n",
    "print(loc)\n",
    "   \n",
    "rowloc = list()\n",
    "\n",
    "for i in range(len(loc)):\n",
    "    rowloc = np.append(rowloc,(int(loc[i]/3600)))\n",
    "\n",
    "print(rowloc)\n",
    "   \n",
    "pvc = np.zeros(nosi+1)\n",
    "    \n",
    "for i in range(len(rowloc)):\n",
    "    temp = int(rowloc[i])\n",
    "    pvc[temp] = 1\n",
    "print(pvc)\n",
    "# now to cross check pvc list\\n\",\n",
    "    \n",
    "print(len(pvc))\n",
    "    \n",
    "for i in range(len(pvc)):\n",
    "    if pvc[i] == 1:\n",
    "        print('the location in pvc list is in the :',i,' 10 secondth record ')\n",
    "       \n",
    " "
   ]
  },
  {
   "cell_type": "code",
   "execution_count": 30,
   "metadata": {},
   "outputs": [
    {
     "name": "stdout",
     "output_type": "stream",
     "text": [
      "2239\n"
     ]
    }
   ],
   "source": [
    "# Finding normal beats\n",
    "\n",
    "locn = list()\n",
    "for i in range(len(annotation.symbol)):\n",
    "    if annotation.symbol[i] == 'N':\n",
    "        locn = np.append(locn,annotation.sample[i])\n",
    "print(len(locn))\n",
    "   \n",
    "\n",
    "    \n",
    "    \n",
    "def window10sec (signals, annotation):\n",
    "    \"\"\"\n",
    "    this function gives a 10-seconds window (5s before, 5s after the annotation mark)\n",
    "    of the ECG signals and assign value 1 if it's PVC beat and 0 otherwise\n",
    "    parameter: signals: numpy array containing heart beat record values\n",
    "               annotation: wfdb.annotation object containing heart beat annotations\n",
    "    return: two lists\n",
    "            siglist: a list of lists of length 3600 \n",
    "            annlist: a list containing 1 if PVC beat, 0 otherwise\n",
    "    \"\"\"\n",
    "    siglist = []\n",
    "    annlist = []\n",
    "    \n",
    "    #loop through the annotation.symbol list\n",
    "    for i in range(len(annotation.symbol)):\n",
    "        timestamp = annotation.sample[i] #get the timestamp\n",
    "        \n",
    "        #test if that timestamp can have 5 seconds before and after window\n",
    "        windowStart = timestamp - 5*annotation.fs\n",
    "        windowEnd = timestamp + 5*annotation.fs\n",
    "        if windowStart >= 0 & windowEnd <= len(signals):\n",
    "            if annotation.symbol[i] == 'V':\n",
    "                siglist.append(signals[windowStart:windowEnd,].flatten().tolist())\n",
    "                annlist.append(1)\n",
    "            elif annotation.symbol[i] == 'N':\n",
    "                siglist.append(signals[windowStart:windowEnd,].flatten().tolist())\n",
    "                annlist.append(0)\n",
    "        else:\n",
    "            continue\n",
    "    \n",
    "    return siglist, annlist\n",
    "    "
   ]
  },
  {
   "cell_type": "code",
   "execution_count": 31,
   "metadata": {},
   "outputs": [
    {
     "data": {
      "text/plain": [
       "48"
      ]
     },
     "execution_count": 31,
     "metadata": {},
     "output_type": "execute_result"
    }
   ],
   "source": [
    "# taken from Yuntao code\n",
    "# check every MIT-BIH data record to identify the type and number of annotations\n",
    "# get all the record names in a list\n",
    "namelist = []\n",
    "namelist = namelist + list(range(100,125,1)) + list(range(200,235,1))\n",
    "for num in [110,120,204,206,211,216,218,224,225,226,227,229]:\n",
    "    namelist.remove(num)\n",
    "\n",
    "len(namelist)"
   ]
  },
  {
   "cell_type": "code",
   "execution_count": 32,
   "metadata": {
    "collapsed": true
   },
   "outputs": [],
   "source": [
    "# Modified from yuntao code for single classification into Normal and PVC beats\n",
    "# loop through all record to get all the 10-seconds window signal list and annotation list\n",
    "# this could be the training dataset for the neural network model\n",
    "# this takes minutes to run\n",
    "\n",
    "ECG_signals = []\n",
    "PVC_annotations = []\n",
    "\n",
    "for record in namelist:\n",
    "    signals, fields = wfdb.rdsamp(str(record), sampfrom=0, sampto='end', channels=[1], pb_dir='mitdb')\n",
    "    annotation = wfdb.rdann(str(record), 'atr', sampfrom=0, sampto=None, shift_samps=True, pb_dir='mitdb')\n",
    "    \n",
    "    signal_list, annotation_list = window10sec(signals, annotation)\n",
    "    ECG_signals = ECG_signals + signal_list\n",
    "    PVC_annotations = PVC_annotations + annotation_list"
   ]
  },
  {
   "cell_type": "code",
   "execution_count": 35,
   "metadata": {},
   "outputs": [
    {
     "name": "stdout",
     "output_type": "stream",
     "text": [
      "81960\n",
      "81960\n"
     ]
    }
   ],
   "source": [
    "print(len(ECG_signals))\n",
    "print(len(PVC_annotations))"
   ]
  },
  {
   "cell_type": "code",
   "execution_count": 36,
   "metadata": {},
   "outputs": [
    {
     "data": {
      "text/plain": [
       "Counter({0: 74848, 1: 7112})"
      ]
     },
     "execution_count": 36,
     "metadata": {},
     "output_type": "execute_result"
    }
   ],
   "source": [
    "# there are 7112 PVC 10-seconds window, 74848 normal 10-seconds window\n",
    "Counter(PVC_annotations)"
   ]
  },
  {
   "cell_type": "code",
   "execution_count": 39,
   "metadata": {
    "collapsed": true
   },
   "outputs": [],
   "source": [
    "# now classifying all the datasets as per three classes : Atrial premature beat, Normal beat and PVC \n",
    "\n",
    "def window10sec2 (signals, annotation):\n",
    "    \"\"\"\n",
    "    this function gives a 10-seconds window (5s before, 5s after the annotation mark)\n",
    "    of the ECG signals and assign value 1 if it's PVC beat and 0 otherwise\n",
    "    parameter: signals: numpy array containing heart beat record values\n",
    "               annotation: wfdb.annotation object containing heart beat annotations\n",
    "    return: two lists\n",
    "            siglist: a list of lists of length 3600 \n",
    "            annlist: a list containing 1 if PVC beat, 0 otherwise\n",
    "    \"\"\"\n",
    "    siglist = []\n",
    "    annlist = []\n",
    "    \n",
    "    #loop through the annotation.symbol list\n",
    "    for i in range(len(annotation.symbol)):\n",
    "        timestamp = annotation.sample[i] #get the timestamp\n",
    "        \n",
    "        #test if that timestamp can have 5 seconds before and after window\n",
    "        windowStart = timestamp - 5*annotation.fs\n",
    "        windowEnd = timestamp + 5*annotation.fs\n",
    "        if windowStart >= 0 & windowEnd <= len(signals):\n",
    "            if annotation.symbol[i] == 'V':\n",
    "                siglist.append(signals[windowStart:windowEnd,].flatten().tolist())\n",
    "                annlist.append(1)\n",
    "            elif annotation.symbol[i] == 'N':\n",
    "                siglist.append(signals[windowStart:windowEnd,].flatten().tolist())\n",
    "                annlist.append(0)\n",
    "            \n",
    "            elif annotation.symbol[i] == 'A':\n",
    "                siglist.append(signals[windowStart:windowEnd,].flatten().tolist())\n",
    "                annlist.append(2)\n",
    "        else:\n",
    "            continue\n",
    "    \n",
    "    return siglist, annlist\n",
    "\n",
    "\n"
   ]
  },
  {
   "cell_type": "code",
   "execution_count": 40,
   "metadata": {},
   "outputs": [],
   "source": [
    "# Modified from yuntao code for single classification into Normal, PVC beats, and Atrial classificaiton beat\n",
    "# loop through all record to get all the 10-seconds window signal list and annotation list\n",
    "# this could be the training dataset for the neural network model\n",
    "# this takes minutes to run\n",
    "\n",
    "ECG_signals2 = []\n",
    "PVC_annotations2 = []\n",
    "\n",
    "for record in namelist:\n",
    "    signals, fields = wfdb.rdsamp(str(record), sampfrom=0, sampto='end', channels=[1], pb_dir='mitdb')\n",
    "    annotation = wfdb.rdann(str(record), 'atr', sampfrom=0, sampto=None, shift_samps=True, pb_dir='mitdb')\n",
    "    \n",
    "    signal_list, annotation_list = window10sec2(signals, annotation)\n",
    "    ECG_signals2 = ECG_signals2 + signal_list\n",
    "    PVC_annotations2 = PVC_annotations2 + annotation_list"
   ]
  },
  {
   "cell_type": "code",
   "execution_count": 41,
   "metadata": {},
   "outputs": [
    {
     "name": "stdout",
     "output_type": "stream",
     "text": [
      "84504\n",
      "84504\n"
     ]
    },
    {
     "data": {
      "text/plain": [
       "Counter({0: 74848, 1: 7112, 2: 2544})"
      ]
     },
     "execution_count": 41,
     "metadata": {},
     "output_type": "execute_result"
    }
   ],
   "source": [
    "print(len(ECG_signals2))\n",
    "print(len(PVC_annotations2))\n",
    "\n",
    "\n",
    "Counter(PVC_annotations2)"
   ]
  },
  {
   "cell_type": "code",
   "execution_count": null,
   "metadata": {
    "collapsed": true
   },
   "outputs": [],
   "source": []
  }
 ],
 "metadata": {
  "kernelspec": {
   "display_name": "Python 3",
   "language": "python",
   "name": "python3"
  },
  "language_info": {
   "codemirror_mode": {
    "name": "ipython",
    "version": 3
   },
   "file_extension": ".py",
   "mimetype": "text/x-python",
   "name": "python",
   "nbconvert_exporter": "python",
   "pygments_lexer": "ipython3",
   "version": "3.6.3"
  }
 },
 "nbformat": 4,
 "nbformat_minor": 2
}
