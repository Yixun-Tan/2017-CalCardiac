{
 "cells": [
  {
   "cell_type": "code",
   "execution_count": 9,
   "metadata": {},
   "outputs": [],
   "source": [
    "import scipy as sci\n",
    "import matplotlib.pyplot as plt\n",
    "import wfdb\n",
    "import pandas as pd\n",
    "%matplotlib inline"
   ]
  },
  {
   "cell_type": "markdown",
   "metadata": {},
   "source": [
    "# Single Record Example"
   ]
  },
  {
   "cell_type": "code",
   "execution_count": 10,
   "metadata": {
    "scrolled": false
   },
   "outputs": [
    {
     "data": {
      "text/plain": [
       "N    2641\n",
       "F     362\n",
       "V     220\n",
       "+      43\n",
       "A      25\n",
       "a       3\n",
       "Name: sym, dtype: int64"
      ]
     },
     "execution_count": 10,
     "metadata": {},
     "output_type": "execute_result"
    }
   ],
   "source": [
    "data_dir = 'MIT-BIH-Arrhythmia/'\n",
    "record = '213'\n",
    "ext = 'atr'\n",
    "\n",
    "annot = wfdb.rdann(data_dir+record,ext)\n",
    "annot_str = pd.DataFrame({'index':annot.sample,'sym':annot.symbol})\n",
    "annot_str['sym'].value_counts()"
   ]
  },
  {
   "cell_type": "code",
   "execution_count": 17,
   "metadata": {},
   "outputs": [
    {
     "ename": "AttributeError",
     "evalue": "'tuple' object has no attribute 'adc'",
     "output_type": "error",
     "traceback": [
      "\u001b[0;31m---------------------------------------------------------------------------\u001b[0m",
      "\u001b[0;31mAttributeError\u001b[0m                            Traceback (most recent call last)",
      "\u001b[0;32m<ipython-input-17-b065c208d77f>\u001b[0m in \u001b[0;36m<module>\u001b[0;34m()\u001b[0m\n\u001b[1;32m      2\u001b[0m \u001b[0mtype\u001b[0m\u001b[0;34m(\u001b[0m\u001b[0mdata\u001b[0m\u001b[0;34m)\u001b[0m\u001b[0;34m\u001b[0m\u001b[0m\n\u001b[1;32m      3\u001b[0m \u001b[0mn\u001b[0m \u001b[0;34m=\u001b[0m \u001b[0;36m1000\u001b[0m\u001b[0;34m\u001b[0m\u001b[0m\n\u001b[0;32m----> 4\u001b[0;31m \u001b[0mdata_str\u001b[0m \u001b[0;34m=\u001b[0m \u001b[0mpd\u001b[0m\u001b[0;34m.\u001b[0m\u001b[0mDataFrame\u001b[0m\u001b[0;34m(\u001b[0m\u001b[0;34m{\u001b[0m\u001b[0;34m'channel1'\u001b[0m\u001b[0;34m:\u001b[0m\u001b[0mdata\u001b[0m\u001b[0;34m.\u001b[0m\u001b[0madc\u001b[0m\u001b[0;34m(\u001b[0m\u001b[0;34m)\u001b[0m\u001b[0;34m[\u001b[0m\u001b[0;34m:\u001b[0m\u001b[0;34m,\u001b[0m\u001b[0;36m0\u001b[0m\u001b[0;34m]\u001b[0m\u001b[0;34m,\u001b[0m\u001b[0;34m'channel2'\u001b[0m\u001b[0;34m:\u001b[0m\u001b[0mdata\u001b[0m\u001b[0;34m.\u001b[0m\u001b[0madc\u001b[0m\u001b[0;34m(\u001b[0m\u001b[0;34m)\u001b[0m\u001b[0;34m[\u001b[0m\u001b[0;34m:\u001b[0m\u001b[0;34m,\u001b[0m\u001b[0;36m1\u001b[0m\u001b[0;34m]\u001b[0m\u001b[0;34m}\u001b[0m\u001b[0;34m)\u001b[0m\u001b[0;34m\u001b[0m\u001b[0m\n\u001b[0m\u001b[1;32m      5\u001b[0m \u001b[0;34m\u001b[0m\u001b[0m\n\u001b[1;32m      6\u001b[0m \u001b[0mx\u001b[0m \u001b[0;34m=\u001b[0m \u001b[0mannot_str\u001b[0m\u001b[0;34m[\u001b[0m\u001b[0;34m'index'\u001b[0m\u001b[0;34m]\u001b[0m\u001b[0;34m[\u001b[0m\u001b[0;36m10\u001b[0m\u001b[0;34m]\u001b[0m\u001b[0;34m\u001b[0m\u001b[0m\n",
      "\u001b[0;31mAttributeError\u001b[0m: 'tuple' object has no attribute 'adc'"
     ]
    }
   ],
   "source": [
    "data = wfdb.rdsamp(data_dir + record)\n",
    "type(data)\n",
    "n = 1000\n",
    "data_str = pd.DataFrame({'channel1':data.adc()[:,0],'channel2':data.adc()[:,1]})\n",
    "\n",
    "x = annot_str['index'][10]\n",
    "\n",
    "fig,ax_array = plt.subplots(nrows=2,ncols=1)\n",
    "#ax_array[0].scatter(range(100),data.adc()[x-50:x+50,0])\n",
    "ax_array[0].scatter(range(n),data.adc()[0:n,0])\n",
    "ax_array[1].scatter(range(n),data.adc()[0:n,1])\n",
    "\n",
    "for i in annot_str['index'][annot_str['index'] < n]:\n",
    "    ax_array[0].axvline(x=i,c='r')\n",
    "    ax_array[1].axvline(x=i,c='r')\n",
    "ax1 = ax_array[0]\n",
    "ax1.set_title('ECG Signal with Event Annotations')"
   ]
  },
  {
   "cell_type": "code",
   "execution_count": 4,
   "metadata": {},
   "outputs": [
    {
     "data": {
      "text/html": [
       "<div>\n",
       "<style>\n",
       "    .dataframe thead tr:only-child th {\n",
       "        text-align: right;\n",
       "    }\n",
       "\n",
       "    .dataframe thead th {\n",
       "        text-align: left;\n",
       "    }\n",
       "\n",
       "    .dataframe tbody tr th {\n",
       "        vertical-align: top;\n",
       "    }\n",
       "</style>\n",
       "<table border=\"1\" class=\"dataframe\">\n",
       "  <thead>\n",
       "    <tr style=\"text-align: right;\">\n",
       "      <th></th>\n",
       "      <th>0</th>\n",
       "    </tr>\n",
       "  </thead>\n",
       "  <tbody>\n",
       "    <tr>\n",
       "      <th>count</th>\n",
       "      <td>3283.000000</td>\n",
       "    </tr>\n",
       "    <tr>\n",
       "      <th>mean</th>\n",
       "      <td>197.424002</td>\n",
       "    </tr>\n",
       "    <tr>\n",
       "      <th>std</th>\n",
       "      <td>19.094203</td>\n",
       "    </tr>\n",
       "    <tr>\n",
       "      <th>min</th>\n",
       "      <td>68.000000</td>\n",
       "    </tr>\n",
       "    <tr>\n",
       "      <th>25%</th>\n",
       "      <td>195.000000</td>\n",
       "    </tr>\n",
       "    <tr>\n",
       "      <th>50%</th>\n",
       "      <td>199.000000</td>\n",
       "    </tr>\n",
       "    <tr>\n",
       "      <th>75%</th>\n",
       "      <td>204.000000</td>\n",
       "    </tr>\n",
       "    <tr>\n",
       "      <th>max</th>\n",
       "      <td>323.000000</td>\n",
       "    </tr>\n",
       "  </tbody>\n",
       "</table>\n",
       "</div>"
      ],
      "text/plain": [
       "                 0\n",
       "count  3283.000000\n",
       "mean    197.424002\n",
       "std      19.094203\n",
       "min      68.000000\n",
       "25%     195.000000\n",
       "50%     199.000000\n",
       "75%     204.000000\n",
       "max     323.000000"
      ]
     },
     "execution_count": 4,
     "metadata": {},
     "output_type": "execute_result"
    }
   ],
   "source": [
    "pd.DataFrame(sci.diff(annot_str[10:]['index'])).describe()"
   ]
  },
  {
   "cell_type": "markdown",
   "metadata": {},
   "source": [
    "# Data Generation"
   ]
  },
  {
   "cell_type": "code",
   "execution_count": 5,
   "metadata": {
    "collapsed": true
   },
   "outputs": [],
   "source": [
    "import scipy as sci\n",
    "import matplotlib.pyplot as plt\n",
    "import wfdb\n",
    "import pandas as pd\n",
    "\n",
    "import os\n",
    "import json\n",
    "\n",
    "class MIT_BIH_parse(object):\n",
    "    \"\"\"This class reads and processes ECG signals from MIT-BIH Arrhythmia dataset and labels into batches.\n",
    "\n",
    "    Data batches account for class imbalance (most heartbeats are normal) by a parameter alpha between 0 and 1. \n",
    "    Each batch consists of an approximate proportion (alpha) of positive samples.\n",
    "\n",
    "    The data batches are windows centered around beat annotations. The size of the window is controlled by the             window_size parameter\"\"\"\n",
    "    def __init__(self,window_size):\n",
    "        \"\"\"For each record number, there is a data sample with metadata, and an annotation. In aggregate, these\n",
    "        are stored in the all_patients_data dict. The key is the record number, and the value is a pair(record,annot),          where record is the data sample object and annot is the annotation object. \"\"\"\n",
    "        # Data Parameters\n",
    "        self.data_dir = 'MIT-BIH/'\n",
    "        \n",
    "        self.record_numbers = set(map(lambda x: x.split('.')[0], os.listdir('MIT-BIH/')))\n",
    "        self.all_patients_data = dict([(record_num,[]) for record_num in self.record_numbers])\n",
    "\n",
    "        # Model Parameters\n",
    "        self.window_size = window_size\n",
    "\n",
    "        self.alpha = 0.5\n",
    "\n",
    "    def read_all_records(self):\n",
    "        \"\"\"Aggregates data from all records into a [m,n,2] pseudoimage\"\"\"\n",
    "        for r in self.record_numbers:\n",
    "            self.read_single_record(r)\n",
    "\n",
    "    def read_single_record(self,record_num):\n",
    "        \"\"\"Updates the records dictionary with data from a given record number. \n",
    "        The data_dir should contain the .atr, .dat, and .hea files.\"\"\"\n",
    "        try:\n",
    "            sample = wfdb.rdsamp(self.data_dir + record_num)\n",
    "            annot = wfdb.rdann(self.data_dir + record_num,'atr')\n",
    "        except ValueError:\n",
    "            raise ValueError('Record not found') \n",
    "\n",
    "        validation_index = sci.random.choice(range(len(annot.sample)))\n",
    "        self.all_patients_data[str(record_num)] = (sample,annot,)\n",
    "\n",
    "    def get_data_obj(self,record_num):\n",
    "        \"\"\"Returns the data object for the given record.\"\"\"\n",
    "        return self.all_patients_data[str(record_num)][0]\n",
    "\n",
    "    def get_annot_obj(self,record_num):\n",
    "        \"\"\"Returns the data object for the given record.\"\"\"\n",
    "        return self.all_patients_data[str(record_num)][1]\n",
    "\n",
    "    def generate_data_batch(self,record_num,n=100,channel=0):\n",
    "        \"\"\"Returns data batch of ECG signals centered on heartbeat. Default n=100, channel=1.\"\"\"\n",
    "        if not self.all_patients_data[str(record_num)]:\n",
    "            print('Patient number ' + str(record_num) + 'has not been read')\n",
    "            return\n",
    "        else:\n",
    "            ch = sci.array(self.get_data_obj(record_num).adc()[:,channel])\n",
    "            idx = sci.array(self.get_annot_obj(record_num).sample)\n",
    "            label = sci.array(self.get_annot_obj(record_num).symbol)\n",
    "\n",
    "            pos_ind = sci.where(label != 'N')[0]\n",
    "            neg_ind = sci.where(label == 'N')[0]\n",
    "            num_pos = pos_ind.size\n",
    "            num_neg = neg_ind.size\n",
    "            \n",
    "\n",
    "            # (label, window) kv pairs\n",
    "            data = []\n",
    "            k = 0\n",
    "            while k < int(n/2):\n",
    "                j = sci.random.choice(pos_ind)\n",
    "                # Check that the image covers the window\n",
    "                if not (int(idx[j]+self.window_size/2) < ch.size and int(idx[j]-self.window_size/2) > 0):\n",
    "                    continue\n",
    "                data.append((int(idx[j]),label[j],\n",
    "                             [int(i) for i in ch[(int(idx[j]-self.window_size/2)):(int(idx[j]+self.window_size/2))]]))\n",
    "                k += 1\n",
    "\n",
    "            k = 0\n",
    "            while k < int(n/2):\n",
    "                j = sci.random.choice(neg_ind)\n",
    "                # Check that the image covers the window\n",
    "                if not (int(idx[j]+self.window_size/2) < ch.size and int(idx[j]-self.window_size/2) > 0):\n",
    "                    continue\n",
    "                data.append((int(idx[j]),label[j],\n",
    "                             [int(i) for i in ch[(int(idx[j]-self.window_size/2)):(int(idx[j]+self.window_size/2))]]))\n",
    "                k += 1\n",
    "\n",
    "            return data\n",
    "        \n",
    "    def toJSON(self,record_num,n=100,channel=0):\n",
    "        \"\"\"Return a sample of windows in JSON\"\"\"\n",
    "        return json.dumps(self.generate_data_batch(record_num,n,channel))"
   ]
  },
  {
   "cell_type": "code",
   "execution_count": 6,
   "metadata": {
    "collapsed": true
   },
   "outputs": [],
   "source": [
    "data = MIT_BIH_parse(400)\n",
    "#data.read_single_record('213')\n",
    "#dat = data.generate_data_batch('213',100)\n",
    "data.read_all_records()\n",
    "\n",
    "fp = open('data.json','w')\n",
    "fp.write(data.toJSON('213'))\n",
    "fp.close()"
   ]
  },
  {
   "cell_type": "code",
   "execution_count": 34,
   "metadata": {},
   "outputs": [
    {
     "name": "stdout",
     "output_type": "stream",
     "text": [
      "V\n"
     ]
    },
    {
     "data": {
      "image/png": "[encoded data removed]",
      "text/plain": [
       "<matplotlib.figure.Figure at 0x84375de80>"
      ]
     },
     "metadata": {},
     "output_type": "display_data"
    }
   ],
   "source": [
    "d = data.generate_data_batch('213')\n",
    "print(d[2][1])\n",
    "plt.plot(d[2][2])\n",
    "plt.axis('off')\n",
    "plt.savefig('pvc.svg')"
   ]
  },
  {
   "cell_type": "markdown",
   "metadata": {},
   "source": [
    "# Data Visualization"
   ]
  },
  {
   "cell_type": "code",
   "execution_count": 109,
   "metadata": {},
   "outputs": [
    {
     "name": "stdout",
     "output_type": "stream",
     "text": [
      "Ex Number: 80\n",
      "Label: N\n"
     ]
    },
    {
     "data": {
      "text/plain": [
       "<matplotlib.text.Text at 0x83602b470>"
      ]
     },
     "execution_count": 109,
     "metadata": {},
     "output_type": "execute_result"
    },
    {
     "data": {
      "image/png": "[encoded data removed]",
      "text/plain": [
       "<matplotlib.figure.Figure at 0x83bd332e8>"
      ]
     },
     "metadata": {},
     "output_type": "display_data"
    }
   ],
   "source": [
    "k = 80\n",
    "print('Ex Number: ' + str(k))\n",
    "print('Label: ' + str(dat[k][1]))\n",
    "\n",
    "plt.scatter(range(len(dat[k][2])),dat[k][2])\n",
    "plt.title('Typical Normal Heartbeat')"
   ]
  },
  {
   "cell_type": "code",
   "execution_count": 156,
   "metadata": {},
   "outputs": [
    {
     "name": "stdout",
     "output_type": "stream",
     "text": [
      "Ex Number: 3\n",
      "Label: V\n"
     ]
    },
    {
     "data": {
      "text/plain": [
       "<matplotlib.text.Text at 0x839522cc0>"
      ]
     },
     "execution_count": 156,
     "metadata": {},
     "output_type": "execute_result"
    },
    {
     "data": {
      "image/png": "[encoded data removed]",
      "text/plain": [
       "<matplotlib.figure.Figure at 0x836f61e80>"
      ]
     },
     "metadata": {},
     "output_type": "display_data"
    }
   ],
   "source": [
    "k = 3\n",
    "print('Ex Number: ' + str(k))\n",
    "print('Label: ' + str(dat[k][1]))\n",
    "\n",
    "plt.scatter(range(len(dat[k][2])),dat[k][2])\n",
    "plt.title('Abnormal Heartbeat')"
   ]
  },
  {
   "cell_type": "code",
   "execution_count": 1,
   "metadata": {},
   "outputs": [
    {
     "ename": "NameError",
     "evalue": "name 'data' is not defined",
     "output_type": "error",
     "traceback": [
      "\u001b[0;31m---------------------------------------------------------------------------\u001b[0m",
      "\u001b[0;31mNameError\u001b[0m                                 Traceback (most recent call last)",
      "\u001b[0;32m<ipython-input-1-38f18386f324>\u001b[0m in \u001b[0;36m<module>\u001b[0;34m()\u001b[0m\n\u001b[1;32m      2\u001b[0m \u001b[0;34m\u001b[0m\u001b[0m\n\u001b[1;32m      3\u001b[0m \u001b[0mnum\u001b[0m \u001b[0;34m=\u001b[0m \u001b[0;36m300\u001b[0m\u001b[0;34m\u001b[0m\u001b[0m\n\u001b[0;32m----> 4\u001b[0;31m \u001b[0mdat\u001b[0m \u001b[0;34m=\u001b[0m \u001b[0mdata\u001b[0m\u001b[0;34m.\u001b[0m\u001b[0mgenerate_data_batch\u001b[0m\u001b[0;34m(\u001b[0m\u001b[0;34m'213'\u001b[0m\u001b[0;34m,\u001b[0m\u001b[0mnum\u001b[0m\u001b[0;34m,\u001b[0m\u001b[0;36m0\u001b[0m\u001b[0;34m)\u001b[0m\u001b[0;34m\u001b[0m\u001b[0m\n\u001b[0m\u001b[1;32m      5\u001b[0m \u001b[0;34m\u001b[0m\u001b[0m\n\u001b[1;32m      6\u001b[0m \u001b[0mX_d\u001b[0m \u001b[0;34m=\u001b[0m \u001b[0msci\u001b[0m\u001b[0;34m.\u001b[0m\u001b[0marray\u001b[0m\u001b[0;34m(\u001b[0m\u001b[0mlist\u001b[0m\u001b[0;34m(\u001b[0m\u001b[0mmap\u001b[0m\u001b[0;34m(\u001b[0m\u001b[0;32mlambda\u001b[0m \u001b[0mx\u001b[0m\u001b[0;34m:\u001b[0m \u001b[0msci\u001b[0m\u001b[0;34m.\u001b[0m\u001b[0marray\u001b[0m\u001b[0;34m(\u001b[0m\u001b[0mx\u001b[0m\u001b[0;34m[\u001b[0m\u001b[0;36m2\u001b[0m\u001b[0;34m]\u001b[0m\u001b[0;34m)\u001b[0m\u001b[0;34m,\u001b[0m \u001b[0mdat\u001b[0m\u001b[0;34m)\u001b[0m\u001b[0;34m)\u001b[0m\u001b[0;34m)\u001b[0m\u001b[0;34m\u001b[0m\u001b[0m\n",
      "\u001b[0;31mNameError\u001b[0m: name 'data' is not defined"
     ]
    }
   ],
   "source": [
    "from sklearn.manifold import TSNE\n",
    "\n",
    "num = 300\n",
    "dat = data.generate_data_batch('213',num,0)\n",
    "\n",
    "X_d = sci.array(list(map(lambda x: sci.array(x[2]), dat)))\n",
    "y_d = sci.reshape(sci.array(list(map(lambda x: sci.array(x[1]), dat))),[num,1])\n",
    "y_d = 1.0*(y_d=='V')\n",
    "\n",
    "vis = TSNE(random_state=100)\n",
    "vis.fit(X_d)\n",
    "plt.scatter(x=vis.embedding_[:,0],y=vis.embedding_[:,1],c=(y_d))"
   ]
  },
  {
   "cell_type": "markdown",
   "metadata": {},
   "source": [
    "# Classification Attempts"
   ]
  },
  {
   "cell_type": "code",
   "execution_count": 112,
   "metadata": {},
   "outputs": [
    {
     "data": {
      "text/plain": [
       "[<matplotlib.lines.Line2D at 0x81db5c208>]"
      ]
     },
     "execution_count": 112,
     "metadata": {},
     "output_type": "execute_result"
    },
    {
     "data": {
      "image/png": "[encoded data removed]",
      "text/plain": [
       "<matplotlib.figure.Figure at 0x83bf329b0>"
      ]
     },
     "metadata": {},
     "output_type": "display_data"
    }
   ],
   "source": [
    "d = sci.diff(annot_str['index'])\n",
    "plt.plot(d)"
   ]
  },
  {
   "cell_type": "code",
   "execution_count": 113,
   "metadata": {},
   "outputs": [
    {
     "data": {
      "text/plain": [
       "[<matplotlib.lines.Line2D at 0x81dc7bc18>]"
      ]
     },
     "execution_count": 113,
     "metadata": {},
     "output_type": "execute_result"
    },
    {
     "data": {
      "image/png": "[encoded data removed]",
      "text/plain": [
       "<matplotlib.figure.Figure at 0x8362d6160>"
      ]
     },
     "metadata": {},
     "output_type": "display_data"
    }
   ],
   "source": [
    "acc = []\n",
    "t =  [0,25,50,75,100,125,150,175,200,225]\n",
    "for threshold in t:\n",
    "    outliers = sci.array(d < threshold)\n",
    "    PVC = sci.array(annot_str['sym'] == 'V')[1:]\n",
    "\n",
    "    acc.append(sci.mean(sci.equal(PVC,outliers)))\n",
    "\n",
    "plt.plot(t,acc)"
   ]
  },
  {
   "cell_type": "code",
   "execution_count": 114,
   "metadata": {},
   "outputs": [
    {
     "data": {
      "text/plain": [
       "array([[2999,   74],\n",
       "       [ 196,   24]])"
      ]
     },
     "execution_count": 114,
     "metadata": {},
     "output_type": "execute_result"
    }
   ],
   "source": [
    "from sklearn.metrics import confusion_matrix\n",
    "\n",
    "outliers = sci.array(d < 150)\n",
    "PVC = sci.array(annot_str['sym'] == 'V')[1:]\n",
    "\n",
    "confusion_matrix(PVC,outliers)"
   ]
  },
  {
   "cell_type": "markdown",
   "metadata": {},
   "source": [
    "## Neural net "
   ]
  },
  {
   "cell_type": "code",
   "execution_count": 134,
   "metadata": {
    "collapsed": true
   },
   "outputs": [],
   "source": [
    "import tensorflow as tf\n",
    "\n",
    "class ECG_classifier(object):\n",
    "    \"\"\"PVC Classifier for ECG signal from a single patient.\"\"\"\n",
    "    def __init__(self,window_size=400):\n",
    "        self.window_size = 400\n",
    "\n",
    "        self.database = MIT_BIH_parse(self.window_size)\n",
    "        self.database.read_single_record('213')\n",
    "\n",
    "        # Dynamic Parameters\n",
    "        self.learning_rate = 0.005\n",
    "        self.reg_rate = 0.001\n",
    "\n",
    "        # Static Parameters\n",
    "        self.param_size = 0.01\n",
    "        self.num_classes = 2\n",
    "        self.num_hidden_1 = 50\n",
    "        self.alpha = 0.5        \n",
    "\n",
    "\n",
    "    def init_tf_classifier(self):\n",
    "        # Input Data\n",
    "        self.X_in = tf.placeholder(tf.float64,[None,self.window_size])\n",
    "        self.y_in = tf.placeholder(tf.int64,[None,1])\n",
    "\n",
    "        # Derived Parameters\n",
    "        # Number of examples\n",
    "        self.m = tf.stack(tf.gather(tf.shape(self.X_in),0))\n",
    "        self.y_one_hot = tf.cast(tf.reshape(tf.one_hot(self.y_in,2,on_value=1,off_value=0),[self.m,self.num_classes]),tf.float64)\n",
    "        \n",
    "        # Model Parameters\n",
    "        self.W1 = tf.Variable(tf.truncated_normal([self.window_size,self.num_hidden_1],\n",
    "                                                mean=0,\n",
    "                                                stddev=self.param_size,\n",
    "                                                dtype=tf.float64))\n",
    "        self.b1 = tf.Variable(tf.zeros([1,self.num_hidden_1],dtype=tf.float64))\n",
    "\n",
    "        self.W2 = tf.Variable(tf.truncated_normal([self.num_hidden_1,self.num_classes],\n",
    "                                                mean=0,\n",
    "                                                stddev=self.param_size,\n",
    "                                                dtype=tf.float64))\n",
    "        self.b2 = tf.Variable(tf.zeros([1,self.num_classes],dtype=tf.float64))\n",
    "\n",
    "        # Inference\n",
    "        self.y_hat = tf.matmul(tf.sigmoid(tf.matmul(self.X_in,self.W1) + self.b1),self.W2) + self.b2\n",
    "        self.p_hat = tf.sigmoid(self.y_hat)\n",
    "        self.guess = tf.argmax(self.p_hat,1)\n",
    "\n",
    "        # Error Measure\n",
    "        self.E = (1/self.m)*tf.reduce_sum(tf.nn.sigmoid_cross_entropy_with_logits(labels=self.y_one_hot,logits=self.y_hat)) + self.reg_rate*(tf.reduce_sum(tf.square(self.W1)) + tf.reduce_sum(tf.square(self.W2)))\n",
    "        \n",
    "        # Gradient computation and local search\n",
    "        self.opt = tf.train.GradientDescentOptimizer(self.learning_rate)\n",
    "        self.grad = self.opt.compute_gradients(self.E)\n",
    "        \n",
    "        self.train_step = self.opt.apply_gradients(self.grad)\n",
    "        \n",
    "        self.init = tf.global_variables_initializer()\n",
    "        \n",
    "    def init_tf_session(self,record_num):\n",
    "        self.sess = tf.Session()\n",
    "        batch_x,batch_y = self.generate_data_batch(str(record_num))\n",
    "        self.sess.run(self.init,feed_dict={self.X_in:batch_x,self.y_in:batch_y})\n",
    "\n",
    "    # Run stochastic gd for num_iter iterations\n",
    "    def sgd(self,num_iter,record_num):\n",
    "        train_error_per_iter = []\n",
    "        val_error_per_iter = []\n",
    "        for i in range(num_iter):\n",
    "            # Run SGD iteration\n",
    "            batch_x_train,batch_y_train = self.generate_data_batch(record_num)\n",
    "            e,_ = self.sess.run([self.E,self.train_step],feed_dict={self.X_in:batch_x_train,self.y_in:batch_y_train})\n",
    "            train_error_per_iter.append(e)\n",
    "\n",
    "            # Dynamic parameter updates -- inactive\n",
    "            #self.update_params(self.learning_rate,self.reg_rate,self.batch_size,self.param_size)\n",
    "            batch_x_val,batch_y_val = self.generate_data_batch(record_num)\n",
    "            e_val = self.sess.run([self.E],feed_dict={self.X_in:batch_x_val,self.y_in:batch_y_val})\n",
    "            val_error_per_iter.append(e_val)\n",
    "        return train_error_per_iter,val_error_per_iter\n",
    "    \n",
    "    # Generate data batch using class parameters\n",
    "    def generate_data_batch(self,record_num,n=100,channel=0):\n",
    "        dat = self.database.generate_data_batch(record_num,n,channel)\n",
    "\n",
    "        X = sci.array(list(map(lambda x: sci.array(x[2]), dat)))\n",
    "        y = sci.reshape(sci.array(list(map(lambda x: sci.array(x[1]), dat))),[n,1])\n",
    "        y = 1.0*(y=='V')\n",
    "        return X,y\n",
    "\n",
    "    def predict_batch(self,record_num,n=100):\n",
    "        X,y = self.generate_data_batch(record_num,n)\n",
    "        return y,self.sess.run(self.guess,feed_dict={self.X_in:X})\n",
    "\n",
    "    def update_params(self,learning_rate,reg_rate,batch_size,param_size,nhidden):\n",
    "        self.learning_rate = learning_rate\n",
    "        self.batch_size = int(batch_size)\n",
    "        self.param_size = param_size\n",
    "        self.reg_rate = reg_rate\n",
    "        self.num_hidden_1 = nhidden\n",
    "\n",
    "    def show_params(self):\n",
    "        print('Learning Rate: ' + str(self.learning_rate))\n",
    "        print('Regularization Rate: ' + str(self.reg_rate))\n",
    "        print('Batch Size: ' + str(self.batch_size))\n",
    "        print('Param Size: ' + str(self.param_size))\n",
    "        print('Number of Hidden Units: ' + str(self.num_hidden_1))"
   ]
  },
  {
   "cell_type": "code",
   "execution_count": 135,
   "metadata": {
    "collapsed": true
   },
   "outputs": [],
   "source": [
    "c = ECG_classifier()"
   ]
  },
  {
   "cell_type": "code",
   "execution_count": 136,
   "metadata": {
    "collapsed": true
   },
   "outputs": [],
   "source": [
    "c.init_tf_classifier()"
   ]
  },
  {
   "cell_type": "code",
   "execution_count": 137,
   "metadata": {
    "collapsed": true
   },
   "outputs": [],
   "source": [
    "a = []\n",
    "b = []"
   ]
  },
  {
   "cell_type": "code",
   "execution_count": 138,
   "metadata": {
    "collapsed": true
   },
   "outputs": [],
   "source": [
    "# parameter ordering\n",
    "# learning rate\n",
    "# regularization\n",
    "# batch size\n",
    "# parameter size\n",
    "# number of hidden units\n",
    "c.update_params(0.1,0.1,100,0.1,50)\n",
    "c.init_tf_session('213')"
   ]
  },
  {
   "cell_type": "code",
   "execution_count": 139,
   "metadata": {
    "collapsed": true
   },
   "outputs": [],
   "source": [
    "tr,val = c.sgd(200,'213')\n",
    "a = a + tr\n",
    "b = b + val"
   ]
  },
  {
   "cell_type": "code",
   "execution_count": 140,
   "metadata": {},
   "outputs": [
    {
     "data": {
      "text/plain": [
       "[<matplotlib.lines.Line2D at 0x823474d68>]"
      ]
     },
     "execution_count": 140,
     "metadata": {},
     "output_type": "execute_result"
    },
    {
     "data": {
      "image/png": "[encoded data removed]",
      "text/plain": [
       "<matplotlib.figure.Figure at 0x823474c88>"
      ]
     },
     "metadata": {},
     "output_type": "display_data"
    }
   ],
   "source": [
    "plt.plot(a)\n",
    "plt.plot(b)"
   ]
  },
  {
   "cell_type": "code",
   "execution_count": 141,
   "metadata": {
    "scrolled": true
   },
   "outputs": [
    {
     "name": "stdout",
     "output_type": "stream",
     "text": [
      "Learning Rate: 0.1\n",
      "Regularization Rate: 0.1\n",
      "Batch Size: 100\n",
      "Param Size: 0.1\n",
      "Number of Hidden Units: 50\n"
     ]
    }
   ],
   "source": [
    "c.show_params()"
   ]
  },
  {
   "cell_type": "code",
   "execution_count": 142,
   "metadata": {},
   "outputs": [
    {
     "data": {
      "text/plain": [
       "0.83999999999999997"
      ]
     },
     "execution_count": 142,
     "metadata": {},
     "output_type": "execute_result"
    }
   ],
   "source": [
    "# Validation\n",
    "y,pred = c.predict_batch('213',1000)\n",
    "sci.mean(pred == y.T[0])"
   ]
  },
  {
   "cell_type": "code",
   "execution_count": 143,
   "metadata": {},
   "outputs": [
    {
     "data": {
      "text/plain": [
       "array([[840,   0],\n",
       "       [160,   0]])"
      ]
     },
     "execution_count": 143,
     "metadata": {},
     "output_type": "execute_result"
    }
   ],
   "source": [
    "confusion_matrix(y,pred)"
   ]
  }
 ],
 "metadata": {
  "kernelspec": {
   "display_name": "Python 3",
   "language": "python",
   "name": "python3"
  },
  "language_info": {
   "codemirror_mode": {
    "name": "ipython",
    "version": 3
   },
   "file_extension": ".py",
   "mimetype": "text/x-python",
   "name": "python",
   "nbconvert_exporter": "python",
   "pygments_lexer": "ipython3",
   "version": "3.6.3"
  }
 },
 "nbformat": 4,
 "nbformat_minor": 2
}
