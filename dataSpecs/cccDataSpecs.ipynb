{
 "cells": [
  {
   "cell_type": "markdown",
   "metadata": {},
   "source": [
    "# Cal Cardiac Capstone Data Specifications Documentation\n",
    "\n",
    "## Table of Contents\n",
    "\n",
    "#### CCC Format\n",
    "#### UCSF CSV Format\n",
    "#### ADIBIN Format\n",
    "#### MITBIH Format\n",
    "\n",
    "\n",
    "\n",
    "\n",
    "\n",
    "\n"
   ]
  },
  {
   "cell_type": "markdown",
   "metadata": {},
   "source": [
    "## CCC Format\n",
    "\n",
    "Usage: Common format we will use as samples for training and testing. This format will facilitate training learning algorithms.\n",
    "\n",
    "### Inputs (X)\n",
    "1. Sample rate: 240 hertz (samples/second)\n",
    "2. Signal duration: 10 seconds\n",
    "\n",
    "### Outputs (y)\n",
    "1. Text label\n"
   ]
  },
  {
   "cell_type": "markdown",
   "metadata": {},
   "source": [
    "## UCSF CSV Format"
   ]
  },
  {
   "cell_type": "markdown",
   "metadata": {
    "collapsed": true
   },
   "source": [
    "placeholder"
   ]
  },
  {
   "cell_type": "markdown",
   "metadata": {},
   "source": [
    "## ADIBIN Format"
   ]
  },
  {
   "cell_type": "code",
   "execution_count": 2,
   "metadata": {
    "collapsed": true
   },
   "outputs": [],
   "source": [
    "# ADIBIN filenames must be their unique identifier\n",
    "# We will use the encrypted admission ID and timestamp to uniquely identify all the records in the 2013-2014 dataset\n",
    "\"\"\"\n",
    "Umesh ThillaivasanYesterday at 12:29pm\n",
    "I used the nomenclature to parse the csv files and generate the images this way:\n",
    "filename_time.png or .csv or .adibin\n",
    "\"\"\""
   ]
  },
  {
   "cell_type": "markdown",
   "metadata": {},
   "source": [
    "## MITBIH Format"
   ]
  },
  {
   "cell_type": "markdown",
   "metadata": {
    "collapsed": true
   },
   "source": [
    "Waveform database (wfdb) format includes header files, sample files, and attribute files. \n",
    "\n",
    "| Quanitity         | Value |\n",
    "|------------       |------|\n",
    "|Number of patients |???|\n",
    "|Sample rate: |       360 hz"
   ]
  }
 ],
 "metadata": {
  "kernelspec": {
   "display_name": "Python 3",
   "language": "python",
   "name": "python3"
  },
  "language_info": {
   "codemirror_mode": {
    "name": "ipython",
    "version": 3
   },
   "file_extension": ".py",
   "mimetype": "text/x-python",
   "name": "python",
   "nbconvert_exporter": "python",
   "pygments_lexer": "ipython3",
   "version": "3.6.3"
  }
 },
 "nbformat": 4,
 "nbformat_minor": 2
}
