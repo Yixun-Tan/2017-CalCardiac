{
 "cells": [
  {
   "cell_type": "markdown",
   "metadata": {},
   "source": [
    "# Cal Cardiac Capstone Data Specifications Documentation\n",
    "\n",
    "## Table of Contents\n",
    "\n",
    "#### CCC Format\n",
    "#### UCSF CSV Format\n",
    "#### ADIBIN Format\n",
    "#### MITBIH Format\n",
    "\n",
    "\n",
    "\n",
    "\n",
    "\n",
    "\n"
   ]
  },
  {
   "cell_type": "markdown",
   "metadata": {},
   "source": [
    "## CCC Format\n",
    "\n",
    "Usage: Common format we will use as samples for training and testing. All datasets will be processed into this format to be fed into our model\n",
    "\n",
    "We will downsample everything to 240 mHz., the lowest common denominator across the datasets we'll be using\n",
    "\n",
    "Each sample will be 10 second single-channel strip.\n",
    "Each sample will have a label to indicate whether a PVC alarm is present anywhere in the strip or not."
   ]
  },
  {
   "cell_type": "code",
   "execution_count": 5,
   "metadata": {
    "collapsed": false
   },
   "outputs": [],
   "source": [
    "# Global Variables\n",
    "\n",
    "SAMPLING_FREQUENCY = 240\n",
    "DATA_FORMAT = 0 #to be specified\n",
    "\n",
    "# To be continued\n"
   ]
  },
  {
   "cell_type": "markdown",
   "metadata": {},
   "source": [
    "## UCSF CSV Format"
   ]
  },
  {
   "cell_type": "code",
   "execution_count": 1,
   "metadata": {
    "collapsed": true
   },
   "outputs": [],
   "source": [
    "#placeholder"
   ]
  },
  {
   "cell_type": "markdown",
   "metadata": {},
   "source": [
    "## ADIBIN Format"
   ]
  },
  {
   "cell_type": "code",
   "execution_count": 2,
   "metadata": {
    "collapsed": true
   },
   "outputs": [],
   "source": [
    "#placeholder"
   ]
  },
  {
   "cell_type": "markdown",
   "metadata": {},
   "source": [
    "## MITBIH Format"
   ]
  },
  {
   "cell_type": "code",
   "execution_count": 3,
   "metadata": {
    "collapsed": true
   },
   "outputs": [],
   "source": [
    "#placeholder"
   ]
  }
 ],
 "metadata": {
  "kernelspec": {
   "display_name": "Python 3",
   "language": "python",
   "name": "python3"
  },
  "language_info": {
   "codemirror_mode": {
    "name": "ipython",
    "version": 3
   },
   "file_extension": ".py",
   "mimetype": "text/x-python",
   "name": "python",
   "nbconvert_exporter": "python",
   "pygments_lexer": "ipython3",
   "version": "3.6.0"
  }
 },
 "nbformat": 4,
 "nbformat_minor": 2
}
