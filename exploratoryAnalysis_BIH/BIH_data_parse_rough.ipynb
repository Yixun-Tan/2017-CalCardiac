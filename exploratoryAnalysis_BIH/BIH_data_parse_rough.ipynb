{
 "cells": [
  {
   "cell_type": "code",
   "execution_count": 1,
   "metadata": {
    "collapsed": true
   },
   "outputs": [],
   "source": [
    "import scipy as sci\n",
    "import matplotlib.pyplot as plt\n",
    "import wfdb\n",
    "import pandas as pd\n",
    "%matplotlib inline"
   ]
  },
  {
   "cell_type": "markdown",
   "metadata": {},
   "source": [
    "# Single Record Example"
   ]
  },
  {
   "cell_type": "code",
   "execution_count": 2,
   "metadata": {
    "scrolled": false
   },
   "outputs": [
    {
<<<<<<< HEAD
     "data": {
      "text/plain": [
       "N    2641\n",
       "F     362\n",
       "V     220\n",
       "+      43\n",
       "A      25\n",
       "a       3\n",
       "Name: sym, dtype: int64"
      ]
     },
     "execution_count": 2,
     "metadata": {},
     "output_type": "execute_result"
=======
     "ename": "FileNotFoundError",
     "evalue": "[Errno 2] No such file or directory: 'MIT-BIH-Arrhythmia/213.atr'",
     "output_type": "error",
     "traceback": [
      "\u001b[0;31m---------------------------------------------------------------------------\u001b[0m",
      "\u001b[0;31mFileNotFoundError\u001b[0m                         Traceback (most recent call last)",
      "\u001b[0;32m<ipython-input-2-3e4891789080>\u001b[0m in \u001b[0;36m<module>\u001b[0;34m()\u001b[0m\n\u001b[1;32m      3\u001b[0m \u001b[0mext\u001b[0m \u001b[0;34m=\u001b[0m \u001b[0;34m'atr'\u001b[0m\u001b[0;34m\u001b[0m\u001b[0m\n\u001b[1;32m      4\u001b[0m \u001b[0;34m\u001b[0m\u001b[0m\n\u001b[0;32m----> 5\u001b[0;31m \u001b[0mannot\u001b[0m \u001b[0;34m=\u001b[0m \u001b[0mwfdb\u001b[0m\u001b[0;34m.\u001b[0m\u001b[0mrdann\u001b[0m\u001b[0;34m(\u001b[0m\u001b[0mdata_dir\u001b[0m\u001b[0;34m+\u001b[0m\u001b[0mrecord\u001b[0m\u001b[0;34m,\u001b[0m\u001b[0mext\u001b[0m\u001b[0;34m)\u001b[0m\u001b[0;34m\u001b[0m\u001b[0m\n\u001b[0m\u001b[1;32m      6\u001b[0m \u001b[0mannot_str\u001b[0m \u001b[0;34m=\u001b[0m \u001b[0mpd\u001b[0m\u001b[0;34m.\u001b[0m\u001b[0mDataFrame\u001b[0m\u001b[0;34m(\u001b[0m\u001b[0;34m{\u001b[0m\u001b[0;34m'index'\u001b[0m\u001b[0;34m:\u001b[0m\u001b[0mannot\u001b[0m\u001b[0;34m.\u001b[0m\u001b[0msample\u001b[0m\u001b[0;34m,\u001b[0m\u001b[0;34m'sym'\u001b[0m\u001b[0;34m:\u001b[0m\u001b[0mannot\u001b[0m\u001b[0;34m.\u001b[0m\u001b[0msymbol\u001b[0m\u001b[0;34m}\u001b[0m\u001b[0;34m)\u001b[0m\u001b[0;34m\u001b[0m\u001b[0m\n\u001b[1;32m      7\u001b[0m \u001b[0mannot_str\u001b[0m\u001b[0;34m[\u001b[0m\u001b[0;34m'sym'\u001b[0m\u001b[0;34m]\u001b[0m\u001b[0;34m.\u001b[0m\u001b[0mvalue_counts\u001b[0m\u001b[0;34m(\u001b[0m\u001b[0;34m)\u001b[0m\u001b[0;34m\u001b[0m\u001b[0m\n",
      "\u001b[0;32m/anaconda3/lib/python3.6/site-packages/wfdb/io/annotation.py\u001b[0m in \u001b[0;36mrdann\u001b[0;34m(record_name, extension, sampfrom, sampto, shift_samps, pb_dir, return_label_elements, summarize_labels)\u001b[0m\n\u001b[1;32m   1239\u001b[0m \u001b[0;34m\u001b[0m\u001b[0m\n\u001b[1;32m   1240\u001b[0m     \u001b[0;31m# Read the file in byte pairs\u001b[0m\u001b[0;34m\u001b[0m\u001b[0;34m\u001b[0m\u001b[0m\n\u001b[0;32m-> 1241\u001b[0;31m     \u001b[0mfilebytes\u001b[0m \u001b[0;34m=\u001b[0m \u001b[0mload_byte_pairs\u001b[0m\u001b[0;34m(\u001b[0m\u001b[0mrecord_name\u001b[0m\u001b[0;34m,\u001b[0m \u001b[0mextension\u001b[0m\u001b[0;34m,\u001b[0m \u001b[0mpb_dir\u001b[0m\u001b[0;34m)\u001b[0m\u001b[0;34m\u001b[0m\u001b[0m\n\u001b[0m\u001b[1;32m   1242\u001b[0m \u001b[0;34m\u001b[0m\u001b[0m\n\u001b[1;32m   1243\u001b[0m     \u001b[0;31m# Get wfdb annotation fields from the file bytes\u001b[0m\u001b[0;34m\u001b[0m\u001b[0;34m\u001b[0m\u001b[0m\n",
      "\u001b[0;32m/anaconda3/lib/python3.6/site-packages/wfdb/io/annotation.py\u001b[0m in \u001b[0;36mload_byte_pairs\u001b[0;34m(record_name, extension, pb_dir)\u001b[0m\n\u001b[1;32m   1319\u001b[0m     \u001b[0;31m# local file\u001b[0m\u001b[0;34m\u001b[0m\u001b[0;34m\u001b[0m\u001b[0m\n\u001b[1;32m   1320\u001b[0m     \u001b[0;32mif\u001b[0m \u001b[0mpb_dir\u001b[0m \u001b[0;32mis\u001b[0m \u001b[0;32mNone\u001b[0m\u001b[0;34m:\u001b[0m\u001b[0;34m\u001b[0m\u001b[0m\n\u001b[0;32m-> 1321\u001b[0;31m         \u001b[0;32mwith\u001b[0m \u001b[0mopen\u001b[0m\u001b[0;34m(\u001b[0m\u001b[0mrecord_name\u001b[0m \u001b[0;34m+\u001b[0m \u001b[0;34m'.'\u001b[0m \u001b[0;34m+\u001b[0m \u001b[0mextension\u001b[0m\u001b[0;34m,\u001b[0m \u001b[0;34m'rb'\u001b[0m\u001b[0;34m)\u001b[0m \u001b[0;32mas\u001b[0m \u001b[0mf\u001b[0m\u001b[0;34m:\u001b[0m\u001b[0;34m\u001b[0m\u001b[0m\n\u001b[0m\u001b[1;32m   1322\u001b[0m             \u001b[0mfilebytes\u001b[0m \u001b[0;34m=\u001b[0m \u001b[0mnp\u001b[0m\u001b[0;34m.\u001b[0m\u001b[0mfromfile\u001b[0m\u001b[0;34m(\u001b[0m\u001b[0mf\u001b[0m\u001b[0;34m,\u001b[0m \u001b[0;34m'<u1'\u001b[0m\u001b[0;34m)\u001b[0m\u001b[0;34m.\u001b[0m\u001b[0mreshape\u001b[0m\u001b[0;34m(\u001b[0m\u001b[0;34m[\u001b[0m\u001b[0;34m-\u001b[0m\u001b[0;36m1\u001b[0m\u001b[0;34m,\u001b[0m \u001b[0;36m2\u001b[0m\u001b[0;34m]\u001b[0m\u001b[0;34m)\u001b[0m\u001b[0;34m\u001b[0m\u001b[0m\n\u001b[1;32m   1323\u001b[0m     \u001b[0;31m# physiobank file\u001b[0m\u001b[0;34m\u001b[0m\u001b[0;34m\u001b[0m\u001b[0m\n",
      "\u001b[0;31mFileNotFoundError\u001b[0m: [Errno 2] No such file or directory: 'MIT-BIH-Arrhythmia/213.atr'"
     ]
>>>>>>> 788e3778905bc5dfb9dfae3924c399002480f322
    }
   ],
   "source": [
    "data_dir = 'MIT-BIH-Arrhythmia/'\n",
    "record = '213'\n",
    "ext = 'atr'\n",
    "\n",
    "annot = wfdb.rdann(data_dir+record,ext)\n",
    "annot_str = pd.DataFrame({'index':annot.sample,'sym':annot.symbol})\n",
    "annot_str['sym'].value_counts()"
   ]
  },
  {
   "cell_type": "code",
   "execution_count": 146,
   "metadata": {},
   "outputs": [
    {
     "name": "stdout",
     "output_type": "stream",
     "text": [
      "220\n",
      "3074\n"
     ]
    }
   ],
   "source": [
    "data = wfdb.rdsamp(data_dir + record)\n",
    "\n",
    "n = 1000\n",
    "data_str = pd.DataFrame({'channel1':data[0][:,0],'channel2':data[0][:,1]})\n",
    "\n",
    "x = annot_str['index'][10]\n",
    "\n",
    "#fig,ax_array = plt.subplots(nrows=2,ncols=1)\n",
    "#ax_array[0].scatter(range(n), data_str['channel1'][0:n])\n",
    "#ax_array[1].scatter(range(n),data_str['channel2'][0:n])\n",
    "\n",
    "#for i in annot_str['index'][annot_str['index'] < n]:\n",
    "#    ax_array[0].axvline(x=i,c='r')\n",
    "#    ax_array[1].axvline(x=i,c='r')\n",
    "#ax1 = ax_array[0]\n",
    "#ax1.set_title('ECG Signal with Event Annotations')\n",
    "\n",
    "\n",
    "# Generate ad hoc dataset of \"heartbeats\"\n",
    "pvc_l_ind = sci.where(annot_str['sym'] == 'V')[0]\n",
    "pvc_nl_ind = sci.where(annot_str['sym'] != 'V')[0]\n",
    "\n",
    "print(len(pvc_l_ind))\n",
    "print(len(pvc_nl_ind))\n",
    "\n",
    "pvc_ind = annot_str['index'][pvc_l_ind]\n",
    "n_pvc_ind = annot_str['index'][pvc_nl_ind]\n",
    "w = 100\n",
    "nover2 = 1000\n",
    "#plt.plot(data_str['channel1'][x-w:x+w])\n",
    "\n",
    "\n",
    "X_train = []\n",
    "y_train = []\n",
    "\n",
    "X_test = []\n",
    "y_test = []\n",
    "\n",
    "for i in range(nover2):\n",
    "    ind = sci.random.choice(pvc_ind)\n",
    "    pvc_window_train = sci.array(data_str['channel1'])[(ind-w):(ind+w)]\n",
    " \n",
    "    ind = sci.random.choice(n_pvc_ind)\n",
    "    n_pvc_window_train = sci.array(data_str['channel1'])[(ind-w):(ind+w)]\n",
    "\n",
    "    ind = sci.random.choice(pvc_ind)\n",
    "    pvc_window_test = sci.array(data_str['channel1'])[(ind-w):(ind+w)]\n",
    " \n",
    "    ind = sci.random.choice(n_pvc_ind)\n",
    "    n_pvc_window_test = sci.array(data_str['channel1'])[(ind-w):(ind+w)]\n",
    "\n",
    "    if (len(pvc_window_train) != 2*w   or \n",
    "        len(n_pvc_window_train) != 2*w or \n",
    "        len(n_pvc_window_test) != 2*w  or \n",
    "        len(n_pvc_window_train) != 2*w):\n",
    "        continue\n",
    "\n",
    "    X_train.append(pvc_window_train)\n",
    "    X_train.append(n_pvc_window_train)\n",
    "\n",
    "    X_test.append(pvc_window_test)\n",
    "    X_test.append(n_pvc_window_test)\n",
    "\n",
    "    y_train.append(1)\n",
    "    y_train.append(0)\n",
    "\n",
    "    y_test.append(1)\n",
    "    y_test.append(0)"
   ]
  },
  {
   "cell_type": "code",
   "execution_count": 147,
   "metadata": {
    "collapsed": true
   },
   "outputs": [],
   "source": [
    "label_dict = {0: 'No PVC', 1: 'PVC'}\n",
    "\n",
    "X_train = sci.array(X_train)\n",
    "y_train = sci.array(y_train)\n",
    "\n",
    "X_test = sci.array(X_test)\n",
    "y_test = sci.array(y_test)"
   ]
  },
  {
   "cell_type": "code",
   "execution_count": 148,
   "metadata": {},
   "outputs": [
    {
     "name": "stdout",
     "output_type": "stream",
     "text": [
      "(1998, 200)\n",
      "(1998, 200)\n"
     ]
    }
   ],
   "source": [
    "print(X_train.shape)\n",
    "print(X_test.shape)"
   ]
  },
  {
   "cell_type": "code",
   "execution_count": 157,
   "metadata": {},
   "outputs": [
    {
     "data": {
      "text/plain": [
       "MDS(dissimilarity='euclidean', eps=0.001, max_iter=300, metric=True,\n",
       "  n_components=2, n_init=4, n_jobs=1, random_state=None, verbose=0)"
      ]
     },
     "execution_count": 157,
     "metadata": {},
     "output_type": "execute_result"
    }
   ],
   "source": [
    "from sklearn.manifold import TSNE\n",
    "from sklearn.manifold import MDS\n",
    "\n",
    "vis = TSNE(random_state=354723)\n",
    "vis.fit(X_train)\n",
    "\n",
    "vis_mds = MDS()\n",
    "vis_mds.fit(X_train)"
   ]
  },
  {
   "cell_type": "code",
   "execution_count": 150,
   "metadata": {},
   "outputs": [
    {
     "data": {
      "image/png": "iVBORw0KGgoAAAANSUhEUgAAAXwAAAD8CAYAAAB0IB+mAAAABHNCSVQICAgIfAhkiAAAAAlwSFlz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\nxA5WVlQAAAAASUVORK5CYII=\n",
      "text/plain": [
       "<matplotlib.figure.Figure at 0xa1bf69470>"
      ]
     },
     "metadata": {},
     "output_type": "display_data"
    }
   ],
   "source": [
    "sc = plt.scatter(x=vis.embedding_[:,0], y=vis.embedding_[:,1], c=y_train, s=5)\n",
    "\n",
    "#plt.title('Dimension Reduction for Heartbeats using TSNE')\n",
    "#plt.savefig('tsne_heartbeats.png', dpi=400)"
   ]
  },
  {
   "cell_type": "code",
   "execution_count": 151,
   "metadata": {},
   "outputs": [],
   "source": [
    "from sklearn.svm import SVC\n",
    "from sklearn.metrics import classification_report, confusion_matrix"
   ]
  },
  {
   "cell_type": "code",
   "execution_count": 152,
   "metadata": {},
   "outputs": [
    {
     "data": {
      "text/plain": [
       "SVC(C=1.0, cache_size=200, class_weight=None, coef0=0.0,\n",
       "  decision_function_shape='ovr', degree=3, gamma='auto', kernel='rbf',\n",
       "  max_iter=-1, probability=True, random_state=None, shrinking=True,\n",
       "  tol=0.001, verbose=False)"
      ]
     },
     "execution_count": 152,
     "metadata": {},
     "output_type": "execute_result"
    }
   ],
   "source": [
    "svm = SVC(probability=True)\n",
    "svm.fit(X_train, y_train)"
   ]
  },
  {
   "cell_type": "code",
   "execution_count": 153,
   "metadata": {},
   "outputs": [
    {
     "name": "stdout",
     "output_type": "stream",
     "text": [
      "In-sample performance:\n",
      "[[972  27]\n",
      " [ 17 982]]\n",
      "             precision    recall  f1-score   support\n",
      "\n",
      "     No PVC       0.98      0.97      0.98       999\n",
      "        PVC       0.97      0.98      0.98       999\n",
      "\n",
      "avg / total       0.98      0.98      0.98      1998\n",
      "\n"
     ]
    }
   ],
   "source": [
    "thresh = 0.5\n",
    "prob = svm.predict_proba(X_train)[:,0]\n",
    "pred = [label_dict[i] for i in prob < 0.5]\n",
    "y_train_label = [label_dict[i] for i in y_train]\n",
    "\n",
    "print('In-sample performance:')\n",
    "print(confusion_matrix(y_train_label, pred))\n",
    "print(classification_report(y_train_label, pred))"
   ]
  },
  {
   "cell_type": "code",
   "execution_count": 154,
   "metadata": {},
   "outputs": [
    {
     "name": "stdout",
     "output_type": "stream",
     "text": [
      "Out-of-sample performance:\n",
      "[[978  21]\n",
      " [  9 990]]\n",
      "             precision    recall  f1-score   support\n",
      "\n",
      "          0       0.99      0.98      0.98       999\n",
      "          1       0.98      0.99      0.99       999\n",
      "\n",
      "avg / total       0.99      0.98      0.98      1998\n",
      "\n"
     ]
    }
   ],
   "source": [
    "thresh = 0.5\n",
    "prob = svm.predict_proba(X_test)[:,0]\n",
    "pred = prob < 0.5\n",
    "\n",
    "print('Out-of-sample performance:')\n",
    "print(confusion_matrix(y_test, pred))\n",
    "print(classification_report(y_test, pred))"
   ]
  },
  {
   "cell_type": "markdown",
   "metadata": {},
   "source": [
    "# Data Generation (obsolete)"
   ]
  },
  {
   "cell_type": "code",
   "execution_count": null,
   "metadata": {
    "collapsed": true
   },
   "outputs": [],
   "source": [
    "import scipy as sci\n",
    "import matplotlib.pyplot as plt\n",
    "import wfdb\n",
    "import pandas as pd\n",
    "\n",
    "import os\n",
    "import json\n",
    "\n",
    "class MIT_BIH_parse(object):\n",
    "    \"\"\"This class reads and processes ECG signals from MIT-BIH Arrhythmia dataset and labels into batches.\n",
    "\n",
    "    Data batches account for class imbalance (most heartbeats are normal) by a parameter alpha between 0 and 1. \n",
    "    Each batch consists of an approximate proportion (alpha) of positive samples.\n",
    "\n",
    "    The data batches are windows centered around beat annotations. The size of the window is controlled by the             window_size parameter\"\"\"\n",
    "    def __init__(self,window_size):\n",
    "        \"\"\"For each record number, there is a data sample with metadata, and an annotation. In aggregate, these\n",
    "        are stored in the all_patients_data dict. The key is the record number, and the value is a pair(record,annot),          where record is the data sample object and annot is the annotation object. \"\"\"\n",
    "        # Data Parameters\n",
    "        self.data_dir = 'MIT-BIH-Arrhythmia/'\n",
    "        \n",
    "        self.record_numbers = set(map(lambda x: x.split('.')[0], os.listdir(self.data_dir)))\n",
    "        self.all_patients_data = dict([(record_num,[]) for record_num in self.record_numbers])\n",
    "\n",
    "        # Model Parameters\n",
    "        self.window_size = window_size\n",
    "\n",
    "        self.alpha = 0.5\n",
    "\n",
    "    def read_all_records(self):\n",
    "        \"\"\"Aggregates data from all records into a [m,n,2] pseudoimage\"\"\"\n",
    "        for r in self.record_numbers:\n",
    "            self.read_single_record(r)\n",
    "\n",
    "    def read_single_record(self,record_num):\n",
    "        \"\"\"Updates the records dictionary with data from a given record number. \n",
    "        The data_dir should contain the .atr, .dat, and .hea files.\"\"\"\n",
    "        try:\n",
    "            sample = wfdb.rdsamp(self.data_dir + record_num)\n",
    "            annot = wfdb.rdann(self.data_dir + record_num,'atr')\n",
    "        except ValueError:\n",
    "            raise ValueError('Record not found') \n",
    "\n",
    "        validation_index = sci.random.choice(range(len(annot.sample)))\n",
    "        self.all_patients_data[str(record_num)] = (sample,annot,)\n",
    "\n",
    "    def get_data_obj(self,record_num):\n",
    "        \"\"\"Returns the data object for the given record.\"\"\"\n",
    "        return self.all_patients_data[str(record_num)][0]\n",
    "\n",
    "    def get_annot_obj(self,record_num):\n",
    "        \"\"\"Returns the data object for the given record.\"\"\"\n",
    "        return self.all_patients_data[str(record_num)][1]\n",
    "\n",
    "    def generate_data_batch(self,record_num,n=100,channel=0):\n",
    "        \"\"\"Returns data batch of ECG signals centered on heartbeat. Default n=100, channel=1.\"\"\"\n",
    "        if not self.all_patients_data[str(record_num)]:\n",
    "            print('Patient number ' + str(record_num) + 'has not been read')\n",
    "            return\n",
    "        else:\n",
    "            ch = sci.array(self.get_data_obj(record_num)[0][:,0])\n",
    "            print(ch)\n",
    "\n",
    "            idx = sci.array(self.get_annot_obj(record_num).sample)\n",
    "            label = sci.array(self.get_annot_obj(record_num).symbol)\n",
    "\n",
    "            pos_ind = sci.where(label != 'N')[0]\n",
    "            neg_ind = sci.where(label == 'N')[0]\n",
    "            num_pos = pos_ind.size\n",
    "            num_neg = neg_ind.size\n",
    "            \n",
    "\n",
    "            # (label, window) kv pairs\n",
    "            data = []\n",
    "            k = 0\n",
    "            while k < int(n/2):\n",
    "                j = sci.random.choice(pos_ind)\n",
    "                # Check that the image covers the window\n",
    "                if not (int(idx[j]+self.window_size/2) < ch.size and int(idx[j]-self.window_size/2) > 0):\n",
    "                    continue\n",
    "                data.append((int(idx[j]),label[j],\n",
    "                             [int(i) for i in ch[(int(idx[j]-self.window_size/2)):(int(idx[j]+self.window_size/2))]]))\n",
    "                k += 1\n",
    "\n",
    "            k = 0\n",
    "            while k < int(n/2):\n",
    "                j = sci.random.choice(neg_ind)\n",
    "                # Check that the image covers the window\n",
    "                if not (int(idx[j]+self.window_size/2) < ch.size and int(idx[j]-self.window_size/2) > 0):\n",
    "                    continue\n",
    "                data.append((int(idx[j]),label[j],\n",
    "                             [int(i) for i in ch[(int(idx[j]-self.window_size/2)):(int(idx[j]+self.window_size/2))]]))\n",
    "                k += 1\n",
    "\n",
    "            return data\n",
    "        \n",
    "    def toJSON(self,record_num,n=100,channel=0):\n",
    "        \"\"\"Return a sample of windows in JSON\"\"\"\n",
    "        return json.dumps(self.generate_data_batch(record_num,n,channel))"
   ]
  },
  {
   "cell_type": "code",
   "execution_count": null,
   "metadata": {
    "collapsed": true
   },
   "outputs": [],
   "source": [
    "data = MIT_BIH_parse(400)\n",
    "#data.read_single_record('213')\n",
    "#dat = data.generate_data_batch('213',100)\n",
    "data.read_all_records()\n",
    "\n",
    "#fp = open('data.json','w')\n",
    "#fp.write(data.toJSON('213'))\n",
    "#fp.close()"
   ]
  },
  {
   "cell_type": "code",
   "execution_count": null,
   "metadata": {},
   "outputs": [],
   "source": [
    "d = data.generate_data_batch('213')\n",
    "\n",
    "k = 2\n",
    "print(d[k][1])\n",
    "print(len(d[k][2]))\n",
    "plt.plot(d[k][2])\n",
    "plt.axis('off')\n",
    "plt.savefig('pvc.svg')"
   ]
  },
  {
   "cell_type": "markdown",
   "metadata": {},
   "source": [
    "# Data Visualization (obsolete)"
   ]
  },
  {
   "cell_type": "code",
   "execution_count": null,
   "metadata": {
    "collapsed": true
   },
   "outputs": [],
   "source": [
    "k = 80\n",
    "print('Ex Number: ' + str(k))\n",
    "print('Label: ' + str(dat[k][1]))\n",
    "\n",
    "plt.scatter(range(len(dat[k][2])),dat[k][2])\n",
    "plt.title('Typical Normal Heartbeat')"
   ]
  },
  {
   "cell_type": "code",
   "execution_count": null,
   "metadata": {
    "collapsed": true
   },
   "outputs": [],
   "source": [
    "k = 3\n",
    "print('Ex Number: ' + str(k))\n",
    "print('Label: ' + str(dat[k][1]))\n",
    "\n",
    "plt.scatter(range(len(dat[k][2])),dat[k][2])\n",
    "plt.title('Abnormal Heartbeat')"
   ]
  },
  {
   "cell_type": "code",
   "execution_count": null,
   "metadata": {
    "collapsed": true
   },
   "outputs": [],
   "source": [
    "from sklearn.manifold import TSNE\n",
    "\n",
    "num = 300\n",
    "dat = data.generate_data_batch('213',num,0)\n",
    "\n",
    "X_d = sci.array(list(map(lambda x: sci.array(x[2]), dat)))\n",
    "y_d = sci.reshape(sci.array(list(map(lambda x: sci.array(x[1]), dat))),[num,1])\n",
    "y_d = 1.0*(y_d=='V')\n",
    "\n",
    "vis = TSNE(random_state=100)\n",
    "vis.fit(X_d)\n",
    "plt.scatter(x=vis.embedding_[:,0],y=vis.embedding_[:,1],c=(y_d))"
   ]
  },
  {
   "cell_type": "markdown",
   "metadata": {},
   "source": [
    "# Classification Attempts (obsolete)"
   ]
  },
  {
   "cell_type": "code",
   "execution_count": null,
   "metadata": {
    "collapsed": true
   },
   "outputs": [],
   "source": [
    "d = sci.diff(annot_str['index'])\n",
    "plt.plot(d)"
   ]
  },
  {
   "cell_type": "code",
   "execution_count": null,
   "metadata": {
    "collapsed": true
   },
   "outputs": [],
   "source": [
    "acc = []\n",
    "t =  [0,25,50,75,100,125,150,175,200,225]\n",
    "for threshold in t:\n",
    "    outliers = sci.array(d < threshold)\n",
    "    PVC = sci.array(annot_str['sym'] == 'V')[1:]\n",
    "\n",
    "    acc.append(sci.mean(sci.equal(PVC,outliers)))\n",
    "\n",
    "plt.plot(t,acc)"
   ]
  },
  {
   "cell_type": "code",
   "execution_count": null,
   "metadata": {
    "collapsed": true
   },
   "outputs": [],
   "source": [
    "from sklearn.metrics import confusion_matrix\n",
    "\n",
    "outliers = sci.array(d < 150)\n",
    "PVC = sci.array(annot_str['sym'] == 'V')[1:]\n",
    "\n",
    "confusion_matrix(PVC,outliers)"
   ]
  },
  {
   "cell_type": "markdown",
   "metadata": {},
   "source": [
    "## Neural net "
   ]
  },
  {
   "cell_type": "code",
   "execution_count": null,
   "metadata": {
    "collapsed": true
   },
   "outputs": [],
   "source": [
    "import tensorflow as tf\n",
    "\n",
    "class ECG_classifier(object):\n",
    "    \"\"\"PVC Classifier for ECG signal from a single patient.\"\"\"\n",
    "    def __init__(self,window_size=400):\n",
    "        self.window_size = 400\n",
    "\n",
    "        self.database = MIT_BIH_parse(self.window_size)\n",
    "        self.database.read_single_record('213')\n",
    "\n",
    "        # Dynamic Parameters\n",
    "        self.learning_rate = 0.005\n",
    "        self.reg_rate = 0.001\n",
    "\n",
    "        # Static Parameters\n",
    "        self.param_size = 0.01\n",
    "        self.num_classes = 2\n",
    "        self.num_hidden_1 = 50\n",
    "        self.alpha = 0.5        \n",
    "\n",
    "\n",
    "    def init_tf_classifier(self):\n",
    "        # Input Data\n",
    "        self.X_in = tf.placeholder(tf.float64,[None,self.window_size])\n",
    "        self.y_in = tf.placeholder(tf.int64,[None,1])\n",
    "\n",
    "        # Derived Parameters\n",
    "        # Number of examples\n",
    "        self.m = tf.stack(tf.gather(tf.shape(self.X_in),0))\n",
    "        self.y_one_hot = tf.cast(tf.reshape(tf.one_hot(self.y_in,2,on_value=1,off_value=0),[self.m,self.num_classes]),tf.float64)\n",
    "        \n",
    "        # Model Parameters\n",
    "        self.W1 = tf.Variable(tf.truncated_normal([self.window_size,self.num_hidden_1],\n",
    "                                                mean=0,\n",
    "                                                stddev=self.param_size,\n",
    "                                                dtype=tf.float64))\n",
    "        self.b1 = tf.Variable(tf.zeros([1,self.num_hidden_1],dtype=tf.float64))\n",
    "\n",
    "        self.W2 = tf.Variable(tf.truncated_normal([self.num_hidden_1,self.num_classes],\n",
    "                                                mean=0,\n",
    "                                                stddev=self.param_size,\n",
    "                                                dtype=tf.float64))\n",
    "        self.b2 = tf.Variable(tf.zeros([1,self.num_classes],dtype=tf.float64))\n",
    "\n",
    "        # Inference\n",
    "        self.y_hat = tf.matmul(tf.sigmoid(tf.matmul(self.X_in,self.W1) + self.b1),self.W2) + self.b2\n",
    "        self.p_hat = tf.sigmoid(self.y_hat)\n",
    "        self.guess = tf.argmax(self.p_hat,1)\n",
    "\n",
    "        # Error Measure\n",
    "        self.E = (1/self.m)*tf.reduce_sum(tf.nn.sigmoid_cross_entropy_with_logits(labels=self.y_one_hot,logits=self.y_hat)) + self.reg_rate*(tf.reduce_sum(tf.square(self.W1)) + tf.reduce_sum(tf.square(self.W2)))\n",
    "        \n",
    "        # Gradient computation and local search\n",
    "        self.opt = tf.train.GradientDescentOptimizer(self.learning_rate)\n",
    "        self.grad = self.opt.compute_gradients(self.E)\n",
    "        \n",
    "        self.train_step = self.opt.apply_gradients(self.grad)\n",
    "        \n",
    "        self.init = tf.global_variables_initializer()\n",
    "        \n",
    "    def init_tf_session(self,record_num):\n",
    "        self.sess = tf.Session()\n",
    "        batch_x,batch_y = self.generate_data_batch(str(record_num))\n",
    "        self.sess.run(self.init,feed_dict={self.X_in:batch_x,self.y_in:batch_y})\n",
    "\n",
    "    # Run stochastic gd for num_iter iterations\n",
    "    def sgd(self,num_iter,record_num):\n",
    "        train_error_per_iter = []\n",
    "        val_error_per_iter = []\n",
    "        for i in range(num_iter):\n",
    "            # Run SGD iteration\n",
    "            batch_x_train,batch_y_train = self.generate_data_batch(record_num)\n",
    "            e,_ = self.sess.run([self.E,self.train_step],feed_dict={self.X_in:batch_x_train,self.y_in:batch_y_train})\n",
    "            train_error_per_iter.append(e)\n",
    "\n",
    "            # Dynamic parameter updates -- inactive\n",
    "            #self.update_params(self.learning_rate,self.reg_rate,self.batch_size,self.param_size)\n",
    "            batch_x_val,batch_y_val = self.generate_data_batch(record_num)\n",
    "            e_val = self.sess.run([self.E],feed_dict={self.X_in:batch_x_val,self.y_in:batch_y_val})\n",
    "            val_error_per_iter.append(e_val)\n",
    "        return train_error_per_iter,val_error_per_iter\n",
    "    \n",
    "    # Generate data batch using class parameters\n",
    "    def generate_data_batch(self,record_num,n=100,channel=0):\n",
    "        dat = self.database.generate_data_batch(record_num,n,channel)\n",
    "\n",
    "        X = sci.array(list(map(lambda x: sci.array(x[2]), dat)))\n",
    "        y = sci.reshape(sci.array(list(map(lambda x: sci.array(x[1]), dat))),[n,1])\n",
    "        y = 1.0*(y=='V')\n",
    "        return X,y\n",
    "\n",
    "    def predict_batch(self,record_num,n=100):\n",
    "        X,y = self.generate_data_batch(record_num,n)\n",
    "        return y,self.sess.run(self.guess,feed_dict={self.X_in:X})\n",
    "\n",
    "    def update_params(self,learning_rate,reg_rate,batch_size,param_size,nhidden):\n",
    "        self.learning_rate = learning_rate\n",
    "        self.batch_size = int(batch_size)\n",
    "        self.param_size = param_size\n",
    "        self.reg_rate = reg_rate\n",
    "        self.num_hidden_1 = nhidden\n",
    "\n",
    "    def show_params(self):\n",
    "        print('Learning Rate: ' + str(self.learning_rate))\n",
    "        print('Regularization Rate: ' + str(self.reg_rate))\n",
    "        print('Batch Size: ' + str(self.batch_size))\n",
    "        print('Param Size: ' + str(self.param_size))\n",
    "        print('Number of Hidden Units: ' + str(self.num_hidden_1))"
   ]
  },
  {
   "cell_type": "code",
   "execution_count": null,
   "metadata": {
    "collapsed": true
   },
   "outputs": [],
   "source": [
    "c = ECG_classifier()"
   ]
  },
  {
   "cell_type": "code",
   "execution_count": null,
   "metadata": {
    "collapsed": true
   },
   "outputs": [],
   "source": [
    "c.init_tf_classifier()"
   ]
  },
  {
   "cell_type": "code",
   "execution_count": null,
   "metadata": {
    "collapsed": true
   },
   "outputs": [],
   "source": [
    "a = []\n",
    "b = []"
   ]
  },
  {
   "cell_type": "code",
   "execution_count": null,
   "metadata": {
    "collapsed": true
   },
   "outputs": [],
   "source": [
    "# parameter ordering\n",
    "# learning rate\n",
    "# regularization\n",
    "# batch size\n",
    "# parameter size\n",
    "# number of hidden units\n",
    "c.update_params(0.1,0.1,100,0.1,50)\n",
    "c.init_tf_session('213')"
   ]
  },
  {
   "cell_type": "code",
   "execution_count": null,
   "metadata": {
    "collapsed": true
   },
   "outputs": [],
   "source": [
    "tr,val = c.sgd(200,'213')\n",
    "a = a + tr\n",
    "b = b + val"
   ]
  },
  {
   "cell_type": "code",
   "execution_count": null,
   "metadata": {
    "collapsed": true
   },
   "outputs": [],
   "source": [
    "plt.plot(a)\n",
    "plt.plot(b)"
   ]
  },
  {
   "cell_type": "code",
   "execution_count": null,
   "metadata": {
    "collapsed": true,
    "scrolled": true
   },
   "outputs": [],
   "source": [
    "c.show_params()"
   ]
  },
  {
   "cell_type": "code",
   "execution_count": null,
   "metadata": {
    "collapsed": true
   },
   "outputs": [],
   "source": [
    "# Validation\n",
    "y,pred = c.predict_batch('213',1000)\n",
    "sci.mean(pred == y.T[0])"
   ]
  },
  {
   "cell_type": "code",
   "execution_count": null,
   "metadata": {},
   "outputs": [],
   "source": [
    "confusion_matrix(y,pred)"
   ]
  }
 ],
 "metadata": {
  "kernelspec": {
   "display_name": "Python 3",
   "language": "python",
   "name": "python3"
  },
  "language_info": {
   "codemirror_mode": {
    "name": "ipython",
    "version": 3
   },
   "file_extension": ".py",
   "mimetype": "text/x-python",
   "name": "python",
   "nbconvert_exporter": "python",
   "pygments_lexer": "ipython3",
   "version": "3.6.3"
  }
 },
 "nbformat": 4,
 "nbformat_minor": 2
}
