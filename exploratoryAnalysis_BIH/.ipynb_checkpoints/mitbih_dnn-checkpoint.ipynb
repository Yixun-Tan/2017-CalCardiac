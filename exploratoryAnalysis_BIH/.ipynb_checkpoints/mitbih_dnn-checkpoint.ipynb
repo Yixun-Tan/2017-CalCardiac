{
 "cells": [
  {
   "cell_type": "code",
   "execution_count": 30,
   "metadata": {
    "collapsed": true
   },
   "outputs": [],
   "source": [
    "from IPython.display import display\n",
    "import matplotlib.pyplot as plt\n",
    "%matplotlib inline\n",
    "import numpy as np\n",
    "import os\n",
    "import wfdb\n",
    "\n",
    "from collections import Counter"
   ]
  },
  {
   "cell_type": "markdown",
   "metadata": {},
   "source": [
    "## check annotation type and number of one record"
   ]
  },
  {
   "cell_type": "code",
   "execution_count": 2,
   "metadata": {},
   "outputs": [
    {
     "data": {
      "image/png": "[encoded data removed]",
      "text/plain": [
       "<matplotlib.figure.Figure at 0x1fb1444e7b8>"
      ]
     },
     "metadata": {},
     "output_type": "display_data"
    }
   ],
   "source": [
    "# read a wfdb record and plot the signal\n",
    "record = wfdb.rdrecord('100', sampfrom=0, sampto='end', channels=[1], pb_dir='mitdb')\n",
    "wfdb.plot_wfdb(record=record, title='Record 100 channel I from MIT-BIH dataset')"
   ]
  },
  {
   "cell_type": "code",
   "execution_count": 3,
   "metadata": {},
   "outputs": [
    {
     "data": {
      "text/plain": [
       "array([[-0.065],\n",
       "       [-0.065],\n",
       "       [-0.065],\n",
       "       ..., \n",
       "       [-0.365],\n",
       "       [-0.335],\n",
       "       [ 0.   ]])"
      ]
     },
     "metadata": {},
     "output_type": "display_data"
    },
    {
     "data": {
      "text/plain": [
       "{'comments': ['69 M 1085 1629 x1', 'Aldomet, Inderal'],\n",
       " 'fs': 360,\n",
       " 'sig_name': ['V5'],\n",
       " 'units': ['mV']}"
      ]
     },
     "metadata": {},
     "output_type": "display_data"
    }
   ],
   "source": [
    "# rdsamp function reads in certain channels and sections of the WFDB record\n",
    "# and returns a numpy array and a dictionary\n",
    "signals, fields = wfdb.rdsamp('100', sampfrom=0, sampto='end', channels=[1], pb_dir='mitdb')\n",
    "display(signals)\n",
    "display(fields)"
   ]
  },
  {
   "cell_type": "code",
   "execution_count": 4,
   "metadata": {},
   "outputs": [
    {
     "data": {
      "text/plain": [
       "(650000, 1)"
      ]
     },
     "execution_count": 4,
     "metadata": {},
     "output_type": "execute_result"
    }
   ],
   "source": [
    "# check data shape\n",
    "signals.shape"
   ]
  },
  {
   "cell_type": "code",
   "execution_count": 5,
   "metadata": {},
   "outputs": [
    {
     "data": {
      "text/plain": [
       "dtype('float64')"
      ]
     },
     "execution_count": 5,
     "metadata": {},
     "output_type": "execute_result"
    }
   ],
   "source": [
    "# check data type\n",
    "signals.dtype"
   ]
  },
  {
   "cell_type": "code",
   "execution_count": 15,
   "metadata": {
    "collapsed": true
   },
   "outputs": [],
   "source": [
    "# Read a WFDB annotation file into a wfdb.Annotation object, and plot the samples\n",
    "annotation = wfdb.rdann('100', 'atr', sampfrom=0, sampto=None, shift_samps=True, pb_dir='mitdb')\n",
    "annotation.fs = 360"
   ]
  },
  {
   "cell_type": "code",
   "execution_count": 16,
   "metadata": {},
   "outputs": [
    {
     "data": {
      "text/plain": [
       "array([    18,     77,    370, ..., 649484, 649734, 649991])"
      ]
     },
     "execution_count": 16,
     "metadata": {},
     "output_type": "execute_result"
    }
   ],
   "source": [
    "# \"sample\" method returns a numpy array containing the annotation locations in samples\n",
    "# relative to the beginning of the record\n",
    "annotation.sample"
   ]
  },
  {
   "cell_type": "code",
   "execution_count": 17,
   "metadata": {},
   "outputs": [
    {
     "data": {
      "text/plain": [
       "(2274,)"
      ]
     },
     "execution_count": 17,
     "metadata": {},
     "output_type": "execute_result"
    }
   ],
   "source": [
    "# check data shape\n",
    "annotation.sample.shape"
   ]
  },
  {
   "cell_type": "code",
   "execution_count": 18,
   "metadata": {},
   "outputs": [
    {
     "data": {
      "text/plain": [
       "2274"
      ]
     },
     "execution_count": 18,
     "metadata": {},
     "output_type": "execute_result"
    }
   ],
   "source": [
    "# check list length\n",
    "len(annotation.symbol)"
   ]
  },
  {
   "cell_type": "code",
   "execution_count": 19,
   "metadata": {},
   "outputs": [
    {
     "data": {
      "text/plain": [
       "dict_keys(['+', 'N', 'A', 'V'])"
      ]
     },
     "execution_count": 19,
     "metadata": {},
     "output_type": "execute_result"
    }
   ],
   "source": [
    "# unique symbols in the symbol list\n",
    "# + means Rhythm change\n",
    "# 'A' means Atrial premature beat\n",
    "# 'N' means Normal beat\n",
    "# 'V' means Premature ventricular contraction\n",
    "\n",
    "Counter(annotation.symbol).keys()"
   ]
  },
  {
   "cell_type": "code",
   "execution_count": 20,
   "metadata": {},
   "outputs": [
    {
     "data": {
      "text/plain": [
       "dict_values([1, 2239, 33, 1])"
      ]
     },
     "execution_count": 20,
     "metadata": {},
     "output_type": "execute_result"
    }
   ],
   "source": [
    "# how many of each symbol in the list\n",
    "# there are 2239 normal beats, 33 atrial premature beats and 1 PVC beat\n",
    "# in the \"100\" record of MIT-BIH database\n",
    "\n",
    "Counter(annotation.symbol).values()"
   ]
  },
  {
   "cell_type": "code",
   "execution_count": 22,
   "metadata": {},
   "outputs": [
    {
     "data": {
      "text/plain": [
       "1907"
      ]
     },
     "execution_count": 22,
     "metadata": {},
     "output_type": "execute_result"
    }
   ],
   "source": [
    "# get the location of the PVC beat\n",
    "annotation.symbol.index('V')"
   ]
  },
  {
   "cell_type": "code",
   "execution_count": 24,
   "metadata": {},
   "outputs": [
    {
     "data": {
      "text/plain": [
       "546792"
      ]
     },
     "execution_count": 24,
     "metadata": {},
     "output_type": "execute_result"
    }
   ],
   "source": [
    "# get the time-stamp of the PVC beat\n",
    "annotation.sample[1907]"
   ]
  },
  {
   "cell_type": "code",
   "execution_count": 25,
   "metadata": {},
   "outputs": [
    {
     "data": {
      "image/png": "[encoded data removed]",
      "text/plain": [
       "<matplotlib.figure.Figure at 0x1fb1a8a8588>"
      ]
     },
     "metadata": {},
     "output_type": "display_data"
    }
   ],
   "source": [
    "# get 10-second window of the PVC beat (5 seconds before and after)\n",
    "pvc_record = wfdb.rdrecord('100', sampfrom=(546792-360*5), sampto=(546792+360*5), channels=[1], pb_dir='mitdb')\n",
    "wfdb.plot_wfdb(record=pvc_record, title='PVC beat of Record 100 channel I')"
   ]
  },
  {
   "cell_type": "markdown",
   "metadata": {},
   "source": [
    "## check annotation type and number of all records"
   ]
  },
  {
   "cell_type": "code",
   "execution_count": 2,
   "metadata": {},
   "outputs": [
    {
     "data": {
      "text/plain": [
       "48"
      ]
     },
     "execution_count": 2,
     "metadata": {},
     "output_type": "execute_result"
    }
   ],
   "source": [
    "# check every MIT-BIH data record to identify the type and number of annotations\n",
    "# get all the record names in a list\n",
    "namelist = []\n",
    "namelist = namelist + list(range(100,125,1)) + list(range(200,235,1))\n",
    "for num in [110,120,204,206,211,216,218,224,225,226,227,229]:\n",
    "    namelist.remove(num)\n",
    "\n",
    "len(namelist)"
   ]
  },
  {
   "cell_type": "code",
   "execution_count": 13,
   "metadata": {},
   "outputs": [
    {
     "name": "stdout",
     "output_type": "stream",
     "text": [
      "Record 100 Counter({'N': 2239, 'A': 33, '+': 1, 'V': 1})\n",
      "Record 101 Counter({'N': 1860, '~': 4, '|': 4, 'A': 3, 'Q': 2, '+': 1})\n",
      "Record 102 Counter({'/': 2028, 'N': 99, 'f': 56, '+': 5, 'V': 4})\n",
      "Record 103 Counter({'N': 2082, '~': 6, 'A': 2, '+': 1})\n",
      "Record 104 Counter({'/': 1380, 'f': 666, 'N': 163, '+': 45, '~': 37, 'Q': 18, 'V': 2})\n",
      "Record 105 Counter({'N': 2526, '~': 88, 'V': 41, '|': 30, 'Q': 5, '+': 1})\n",
      "Record 106 Counter({'N': 1507, 'V': 520, '+': 41, '~': 30})\n",
      "Record 107 Counter({'/': 2078, 'V': 59, '~': 2, '+': 1})\n",
      "Record 108 Counter({'N': 1739, '~': 41, 'V': 17, 'x': 11, '|': 8, 'A': 4, 'F': 2, '+': 1, 'j': 1})\n",
      "Record 109 Counter({'L': 2492, 'V': 38, 'F': 2, '~': 2, '+': 1})\n",
      "Record 111 Counter({'L': 2123, '~': 8, '+': 1, 'V': 1})\n",
      "Record 112 Counter({'N': 2537, '~': 10, 'A': 2, '+': 1})\n",
      "Record 113 Counter({'N': 1789, 'a': 6, '+': 1})\n",
      "Record 114 Counter({'N': 1820, 'V': 43, 'A': 10, '~': 7, 'F': 4, '+': 3, 'J': 2, '|': 1})\n",
      "Record 115 Counter({'N': 1953, '|': 6, '~': 2, '+': 1})\n",
      "Record 116 Counter({'N': 2302, 'V': 109, '~': 8, '+': 1, 'A': 1})\n",
      "Record 117 Counter({'N': 1534, '~': 3, '+': 1, 'A': 1})\n",
      "Record 118 Counter({'R': 2166, 'A': 96, 'V': 16, '~': 12, 'x': 10, '+': 1})\n",
      "Record 119 Counter({'N': 1543, 'V': 444, '+': 103, '~': 4})\n",
      "Record 121 Counter({'N': 1861, '~': 12, '+': 1, 'A': 1, 'V': 1})\n",
      "Record 122 Counter({'N': 2476, '|': 2, '+': 1})\n",
      "Record 123 Counter({'N': 1515, 'V': 3, '+': 1})\n",
      "Record 124 Counter({'R': 1531, 'V': 47, 'J': 29, '+': 13, 'F': 5, 'j': 5, 'A': 2, '~': 2})\n",
      "Record 200 Counter({'N': 1743, 'V': 826, '+': 148, '~': 43, 'A': 30, 'F': 2})\n",
      "Record 201 Counter({'N': 1625, 'V': 198, 'a': 97, 'x': 37, '+': 35, 'A': 30, 'j': 10, '~': 4, 'F': 2, 'J': 1})\n",
      "Record 202 Counter({'N': 2061, 'A': 36, 'V': 19, 'a': 19, '+': 8, '|': 2, 'F': 1})\n",
      "Record 203 Counter({'N': 2529, 'V': 444, '~': 57, '+': 45, '|': 26, 'Q': 4, 'a': 2, 'F': 1})\n",
      "Record 205 Counter({'N': 2571, 'V': 71, '+': 13, 'F': 11, 'A': 3, '~': 2, '|': 1})\n",
      "Record 207 Counter({'L': 1457, '!': 472, 'A': 107, 'V': 105, 'E': 105, 'R': 86, '+': 24, '~': 15, '[': 6, ']': 6, '|': 2})\n",
      "Record 208 Counter({'N': 1586, 'V': 992, 'F': 373, '+': 53, '~': 24, '|': 8, 'S': 2, 'Q': 2})\n",
      "Record 209 Counter({'N': 2621, 'A': 383, '+': 21, '~': 19, '|': 7, 'V': 1})\n",
      "Record 210 Counter({'N': 2423, 'V': 194, 'a': 22, '+': 17, '~': 17, 'F': 10, '|': 1, 'E': 1})\n",
      "Record 212 Counter({'R': 1825, 'N': 923, '~': 13, '+': 1, '|': 1})\n",
      "Record 213 Counter({'N': 2641, 'F': 362, 'V': 220, '+': 43, 'A': 25, 'a': 3})\n",
      "Record 214 Counter({'L': 2003, 'V': 256, '+': 25, '|': 5, '~': 4, 'Q': 2, '\"': 1, 'F': 1})\n",
      "Record 215 Counter({'N': 3195, 'V': 164, '~': 30, '+': 5, 'A': 3, '\"': 2, 'F': 1})\n",
      "Record 217 Counter({'/': 1542, 'f': 260, 'N': 244, 'V': 162, '+': 67, '~': 4, '|': 1})\n",
      "Record 219 Counter({'N': 2082, 'x': 133, 'V': 64, '+': 21, 'A': 7, '\"': 4, 'F': 1})\n",
      "Record 220 Counter({'N': 1954, 'A': 94, '+': 17, '~': 4})\n",
      "Record 221 Counter({'N': 2031, 'V': 396, '+': 23, '~': 12})\n",
      "Record 222 Counter({'N': 2062, 'j': 212, 'A': 208, '+': 136, '~': 15, 'J': 1})\n",
      "Record 223 Counter({'N': 2029, 'V': 473, 'A': 72, '+': 28, 'e': 16, 'F': 14, '~': 10, 'a': 1})\n",
      "Record 228 Counter({'N': 1688, 'V': 362, '+': 41, '|': 24, '~': 20, 'A': 3, '\"': 3})\n",
      "Record 230 Counter({'N': 2255, '+': 207, '~': 2, '|': 1, 'V': 1})\n",
      "Record 231 Counter({'R': 1254, '\"': 427, 'N': 314, '+': 11, 'x': 2, 'V': 2, 'A': 1})\n",
      "Record 232 Counter({'A': 1382, 'R': 397, '~': 35, '+': 1, 'j': 1})\n",
      "Record 233 Counter({'N': 2230, 'V': 831, '+': 71, 'F': 11, 'A': 7, '|': 2})\n",
      "Record 234 Counter({'N': 2700, 'J': 50, '~': 8, '+': 3, 'V': 3})\n"
     ]
    }
   ],
   "source": [
    "# check all records\n",
    "for record in namelist:\n",
    "    annotation = wfdb.rdann(str(record), 'atr', sampfrom=0, sampto=None, shift_samps=True, pb_dir='mitdb')\n",
    "    print('Record', record, Counter(annotation.symbol))\n",
    "    "
   ]
  },
  {
   "cell_type": "markdown",
   "metadata": {
    "collapsed": true
   },
   "source": [
    "## slice 10-seconds window for every records"
   ]
  },
  {
   "cell_type": "code",
   "execution_count": 26,
   "metadata": {
    "collapsed": true
   },
   "outputs": [],
   "source": [
    "# define a function that takes in record signal and annotation\n",
    "# and returns 10-seconds window signal value list and 1-or-0 annotation list\n",
    "\n",
    "def window10sec (signals, annotation):\n",
    "    \"\"\"\n",
    "    this function gives a 10-seconds window (5s before, 5s after the annotation mark)\n",
    "    of the ECG signals and assign value 1 if it's PVC beat and 0 otherwise\n",
    "    parameter: signals: numpy array containing heart beat record values\n",
    "               annotation: wfdb.annotation object containing heart beat annotations\n",
    "    return: two lists\n",
    "            siglist: a list of lists of length 3600 \n",
    "            annlist: a list containing 1 if PVC beat, 0 otherwise\n",
    "    \"\"\"\n",
    "    siglist = []\n",
    "    annlist = []\n",
    "    \n",
    "    #loop through the annotation.symbol list\n",
    "    for i in range(len(annotation.symbol)):\n",
    "        timestamp = annotation.sample[i] #get the timestamp\n",
    "        \n",
    "        #test if that timestamp can have 5 seconds before and after window\n",
    "        windowStart = timestamp - 5*annotation.fs\n",
    "        windowEnd = timestamp + 5*annotation.fs\n",
    "        if windowStart >= 0 & windowEnd <= len(signals):\n",
    "            if annotation.symbol[i] == 'V':\n",
    "                siglist.append(signals[windowStart:windowEnd,].flatten().tolist())\n",
    "                annlist.append(1)\n",
    "            else:\n",
    "                siglist.append(signals[windowStart:windowEnd,].flatten().tolist())\n",
    "                annlist.append(0)\n",
    "        else:\n",
    "            continue\n",
    "    \n",
    "    return siglist, annlist\n",
    "    "
   ]
  },
  {
   "cell_type": "code",
   "execution_count": 27,
   "metadata": {
    "collapsed": true
   },
   "outputs": [],
   "source": [
    "# loop through all record to get all the 10-seconds window signal list and annotation list\n",
    "# this could be the training dataset for the neural network model\n",
    "# this takes minutes to run\n",
    "\n",
    "ECG_signals = []\n",
    "PVC_annotations = []\n",
    "\n",
    "for record in namelist:\n",
    "    signals, fields = wfdb.rdsamp(str(record), sampfrom=0, sampto='end', channels=[1], pb_dir='mitdb')\n",
    "    annotation = wfdb.rdann(str(record), 'atr', sampfrom=0, sampto=None, shift_samps=True, pb_dir='mitdb')\n",
    "    \n",
    "    signal_list, annotation_list = window10sec(signals, annotation)\n",
    "    ECG_signals = ECG_signals + signal_list\n",
    "    PVC_annotations = PVC_annotations + annotation_list"
   ]
  },
  {
   "cell_type": "code",
   "execution_count": 28,
   "metadata": {},
   "outputs": [
    {
     "data": {
      "text/plain": [
       "112298"
      ]
     },
     "execution_count": 28,
     "metadata": {},
     "output_type": "execute_result"
    }
   ],
   "source": [
    "len(ECG_signals)"
   ]
  },
  {
   "cell_type": "code",
   "execution_count": 29,
   "metadata": {},
   "outputs": [
    {
     "data": {
      "text/plain": [
       "112298"
      ]
     },
     "execution_count": 29,
     "metadata": {},
     "output_type": "execute_result"
    }
   ],
   "source": [
    "len(PVC_annotations)"
   ]
  },
  {
   "cell_type": "code",
   "execution_count": 31,
   "metadata": {},
   "outputs": [
    {
     "data": {
      "text/plain": [
       "Counter({0: 105186, 1: 7112})"
      ]
     },
     "execution_count": 31,
     "metadata": {},
     "output_type": "execute_result"
    }
   ],
   "source": [
    "# there are 7112 PVC 10-seconds window, 105186 non-PVC 10-seconds window\n",
    "Counter(PVC_annotations)"
   ]
  },
  {
   "cell_type": "code",
   "execution_count": null,
   "metadata": {
    "collapsed": true
   },
   "outputs": [],
   "source": []
  },
  {
   "cell_type": "code",
   "execution_count": null,
   "metadata": {
    "collapsed": true
   },
   "outputs": [],
   "source": []
  },
  {
   "cell_type": "code",
   "execution_count": null,
   "metadata": {
    "collapsed": true
   },
   "outputs": [],
   "source": []
  },
  {
   "cell_type": "code",
   "execution_count": null,
   "metadata": {
    "collapsed": true
   },
   "outputs": [],
   "source": []
  },
  {
   "cell_type": "code",
   "execution_count": null,
   "metadata": {
    "collapsed": true
   },
   "outputs": [],
   "source": []
  },
  {
   "cell_type": "code",
   "execution_count": null,
   "metadata": {
    "collapsed": true
   },
   "outputs": [],
   "source": []
  }
 ],
 "metadata": {
  "kernelspec": {
   "display_name": "Python 3",
   "language": "python",
   "name": "python3"
  },
  "language_info": {
   "codemirror_mode": {
    "name": "ipython",
    "version": 3
   },
   "file_extension": ".py",
   "mimetype": "text/x-python",
   "name": "python",
   "nbconvert_exporter": "python",
   "pygments_lexer": "ipython3",
   "version": "3.6.3"
  }
 },
 "nbformat": 4,
 "nbformat_minor": 2
}
