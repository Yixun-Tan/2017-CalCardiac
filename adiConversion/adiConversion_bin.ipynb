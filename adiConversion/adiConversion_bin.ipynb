{
 "cells": [
  {
   "cell_type": "markdown",
   "metadata": {},
   "source": [
    "# Import Libraries"
   ]
  },
  {
   "cell_type": "code",
   "execution_count": 3,
   "metadata": {
    "collapsed": true,
    "deletable": true,
    "editable": true
   },
   "outputs": [],
   "source": [
    "import csv, pprint, json, base64, zlib, struct"
   ]
  },
  {
   "cell_type": "markdown",
   "metadata": {},
   "source": [
    "# Define Helper Functions"
   ]
  },
  {
   "cell_type": "code",
   "execution_count": 4,
   "metadata": {
    "collapsed": true,
    "deletable": true,
    "editable": true
   },
   "outputs": [],
   "source": [
    "def base64ToJson(zippedString):\n",
    "    json_str = zlib.decompress(base64.b64decode(zippedString)).decode()\n",
    "    json_json = json.loads(json_str)\n",
    "    return json_json"
   ]
  },
  {
   "cell_type": "markdown",
   "metadata": {},
   "source": [
    "# Read In CSV File"
   ]
  },
  {
   "cell_type": "code",
   "execution_count": 5,
   "metadata": {
    "collapsed": false,
    "deletable": true,
    "editable": true
   },
   "outputs": [
    {
     "name": "stdout",
     "output_type": "stream",
     "text": [
      "/home/alexchandra/Documents/Alex/capstone/adiConversion\r\n"
     ]
    }
   ],
   "source": [
    "!pwd"
   ]
  },
  {
   "cell_type": "code",
   "execution_count": 6,
   "metadata": {
    "collapsed": false,
    "deletable": true,
    "editable": true
   },
   "outputs": [
    {
     "name": "stdout",
     "output_type": "stream",
     "text": [
      "./sampleFiles/4b80ff2eb1112815299d7a4e9a4a1957.csv\r\n"
     ]
    }
   ],
   "source": [
    "!ls ./sampleFiles/4b80ff2eb1112815299d7a4e9a4a1957.csv"
   ]
  },
  {
   "cell_type": "code",
   "execution_count": 7,
   "metadata": {
    "collapsed": false,
    "deletable": true,
    "editable": true
   },
   "outputs": [
    {
     "name": "stdout",
     "output_type": "stream",
     "text": [
      "/home/alexchandra/Documents/Alex/capstone/adiConversion\r\n"
     ]
    }
   ],
   "source": [
    "!pwd"
   ]
  },
  {
   "cell_type": "code",
   "execution_count": 8,
   "metadata": {
    "collapsed": true,
    "deletable": true,
    "editable": true
   },
   "outputs": [],
   "source": [
    "csvFilename = \"./sampleFiles/4b80ff2eb1112815299d7a4e9a4a1957.csv\""
   ]
  },
  {
   "cell_type": "code",
   "execution_count": 37,
   "metadata": {
    "collapsed": false,
    "deletable": true,
    "editable": true
   },
   "outputs": [
    {
     "name": "stdout",
     "output_type": "stream",
     "text": [
      "\n"
     ]
    }
   ],
   "source": [
    "import csv\n",
    "\n",
    "f = open(csvFilename)\n",
    "csv_f = csv.reader(f)\n",
    "\n",
    "# Will print the first row of the CSV - the first alarm for that admission\n",
    "'''\n",
    "for row in csv_f:\n",
    "    #print(row)\n",
    "    print(row[0]) # Alarm ID\n",
    "    print(row[1]) # Time since Admission\n",
    "    pprint.pprint(base64ToJson(row[2])) # Alarm data\n",
    "    break    \n",
    "'''\n",
    "print('')"
   ]
  },
  {
   "cell_type": "markdown",
   "metadata": {},
   "source": [
    "# Read In ADIBIN File"
   ]
  },
  {
   "cell_type": "code",
   "execution_count": 10,
   "metadata": {
    "collapsed": false,
    "deletable": true,
    "editable": true
   },
   "outputs": [],
   "source": [
    "adibinFilename = \"./sampleFiles/example.adibin\""
   ]
  },
  {
   "cell_type": "markdown",
   "metadata": {},
   "source": [
    "Each File Header has a size of 68 bytes\n",
    "\n",
    "Each Channel Header has a size of 96 bytes\n",
    "\n",
    "The sample data for each channel follows its header."
   ]
  },
  {
   "cell_type": "markdown",
   "metadata": {},
   "source": [
    "#### [Excellent code snippets for working with Binary data in Python](https://www.devdungeon.com/content/working-binary-data-python \"DevDungeon\")"
   ]
  },
  {
   "cell_type": "markdown",
   "metadata": {},
   "source": [
    "### Parse ADIBIN File"
   ]
  },
  {
   "cell_type": "code",
   "execution_count": 40,
   "metadata": {
    "collapsed": false
   },
   "outputs": [
    {
     "name": "stdout",
     "output_type": "stream",
     "text": [
      "b'CFWB\\x01\\x00\\x00\\x00\\x11\\x11\\x11\\x11\\x11\\x11q?\\xe0\\x07\\x00\\x00\\n\\x00\\x00\\x00\\x1d\\x00\\x00\\x00\\t\\x00\\x00\\x00/\\x00\\x00\\x00\\x00\\x00\\x00\\x00\\x00\\x00\\x00\\x00\\x00\\x00\\x00\\x00\\x00\\x00\\x00\\x00\\n\\x00\\x00\\x00!\\x1c\\x00\\x00\\x00\\x00\\x00\\x00\\x03\\x00\\x00\\x00'\n",
      "\n",
      "\n",
      "b'I\\x00\\x00\\x00\\x00\\x00\\x00\\x00\\x00\\x00\\x00\\x00\\x00\\x00\\x00\\x00\\x00\\x00\\x00\\x00\\x00\\x00\\x00\\x00\\x00\\x00\\x00\\x00\\x00\\x00\\x00\\x00mV\\x00\\x00\\x00\\x00\\x00\\x00\\x00\\x00\\x00\\x00\\x00\\x00\\x00\\x00\\x00\\x00\\x00\\x00\\x00\\x00\\x00\\x00\\x00\\x00\\x00\\x00\\x00\\x00\\x00\\x00\\x85\\xebQ\\xb8\\x1e\\x85\\x03@\\x00\\x00\\x00\\x00\\x00\\x00\\x00\\x00\\x00\\x00\\x00\\x00\\x00\\x00\\xf0?\\x00\\x00\\x00\\x00\\x00\\x00\\x00\\x00'\n"
     ]
    }
   ],
   "source": [
    "#Read in File Header and First Channel Title\n",
    "with open(adibinFilename, \"rb\") as adibin_file:\n",
    "    # Read the whole file at once\n",
    "    #data = binary_file.read()\n",
    "    #print(data)\n",
    "    \n",
    "    adibin_file.seek(0)  # Go to beginning\n",
    "    fileHeader = adibin_file.read(68)\n",
    "    channelTitle = adibin_file.read(96)\n",
    "    print(fileHeader)\n",
    "    print('\\n')\n",
    "    print(channelTitle)"
   ]
  },
  {
   "cell_type": "code",
   "execution_count": 17,
   "metadata": {
    "collapsed": false
   },
   "outputs": [
    {
     "data": {
      "text/plain": [
       "68"
      ]
     },
     "execution_count": 17,
     "metadata": {},
     "output_type": "execute_result"
    }
   ],
   "source": [
    "len(fileHeader)"
   ]
  },
  {
   "cell_type": "code",
   "execution_count": 29,
   "metadata": {
    "collapsed": false
   },
   "outputs": [
    {
     "data": {
      "text/plain": [
       "96"
      ]
     },
     "execution_count": 29,
     "metadata": {},
     "output_type": "execute_result"
    }
   ],
   "source": [
    "len(channelTitle)"
   ]
  },
  {
   "cell_type": "markdown",
   "metadata": {},
   "source": [
    "### Define Format Strings for C Structs\n",
    "\n",
    "#### [Relevant Python Documentation for Reading C Structs into Python](https://docs.python.org/3.5/library/struct.html \"Python Docs for C Structs\")"
   ]
  },
  {
   "cell_type": "code",
   "execution_count": 68,
   "metadata": {
    "collapsed": false
   },
   "outputs": [
    {
     "name": "stdout",
     "output_type": "stream",
     "text": [
      "68 96\n"
     ]
    }
   ],
   "source": [
    "#Define Format Strings to decode Structs \n",
    "\n",
    "fileHeaderFormatString = \"=4sldlllllddllll\"\n",
    "s1=struct.calcsize(fileHeaderFormatString)\n",
    "\n",
    "channelTitleFormatString = \"=32s32sdddd\"\n",
    "s2=struct.calcsize(channelTitleFormatString)\n",
    "\n",
    "print(s1, s2)"
   ]
  },
  {
   "cell_type": "code",
   "execution_count": 69,
   "metadata": {
    "collapsed": true
   },
   "outputs": [],
   "source": [
    "tupleFileHeader = struct.unpack(fileHeaderFormatString, fileHeader)\n",
    "tupleChannelHeader = struct.unpack(channelTitleFormatString, channelTitle)"
   ]
  },
  {
   "cell_type": "code",
   "execution_count": 70,
   "metadata": {
    "collapsed": false,
    "deletable": true,
    "editable": true
   },
   "outputs": [
    {
     "name": "stdout",
     "output_type": "stream",
     "text": [
      "(b'CFWB', 1, 0.004166666666666667, 2016, 10, 29, 9, 47, 0.0, 0.0, 10, 7201, 0, 3)\n",
      "\n",
      "\n",
      "(b'I\\x00\\x00\\x00\\x00\\x00\\x00\\x00\\x00\\x00\\x00\\x00\\x00\\x00\\x00\\x00\\x00\\x00\\x00\\x00\\x00\\x00\\x00\\x00\\x00\\x00\\x00\\x00\\x00\\x00\\x00\\x00', b'mV\\x00\\x00\\x00\\x00\\x00\\x00\\x00\\x00\\x00\\x00\\x00\\x00\\x00\\x00\\x00\\x00\\x00\\x00\\x00\\x00\\x00\\x00\\x00\\x00\\x00\\x00\\x00\\x00\\x00\\x00', 2.44, 0.0, 1.0, 0.0)\n"
     ]
    }
   ],
   "source": [
    "print(tupleFileHeader)\n",
    "print('\\n')\n",
    "print(tupleChannelHeader)"
   ]
  },
  {
   "cell_type": "code",
   "execution_count": 73,
   "metadata": {
    "collapsed": true
   },
   "outputs": [],
   "source": [
    "Magic, Version, secsPerTick, Year, Month, Day, Hour, Minute, Second, trigger, NChannels, SamplesPerChannel,\\\n",
    "    TimeChannel, DataFormat = struct.unpack(fileHeaderFormatString, fileHeader)"
   ]
  },
  {
   "cell_type": "code",
   "execution_count": 76,
   "metadata": {
    "collapsed": false
   },
   "outputs": [
    {
     "name": "stdout",
     "output_type": "stream",
     "text": [
      "b'I\\x00\\x00\\x00\\x00\\x00\\x00\\x00\\x00\\x00\\x00\\x00\\x00\\x00\\x00\\x00\\x00\\x00\\x00\\x00\\x00\\x00\\x00\\x00\\x00\\x00\\x00\\x00\\x00\\x00\\x00\\x00'\n",
      "\n",
      "\n",
      "I\u0000\u0000\u0000\u0000\u0000\u0000\u0000\u0000\u0000\u0000\u0000\u0000\u0000\u0000\u0000\u0000\u0000\u0000\u0000\u0000\u0000\u0000\u0000\u0000\u0000\u0000\u0000\u0000\u0000\u0000\u0000\n"
     ]
    }
   ],
   "source": [
    "ChannelTitle, Units, Scale, offset, RangeHigh, RangeLow = struct.unpack(channelTitleFormatString, channelTitle)\n",
    "print(ChannelTitle)\n",
    "print('\\n')\n",
    "print(ChannelTitle.decode('utf-8'))"
   ]
  },
  {
   "cell_type": "code",
   "execution_count": null,
   "metadata": {
    "collapsed": true
   },
   "outputs": [],
   "source": []
  },
  {
   "cell_type": "code",
   "execution_count": 14,
   "metadata": {
    "collapsed": false
   },
   "outputs": [
    {
     "name": "stdout",
     "output_type": "stream",
     "text": [
      "\n"
     ]
    }
   ],
   "source": [
    "'''\n",
    "Code snippet from ADIBinaryFormat.h that shows the structure of the FileHeader portion\n",
    "\n",
    "* sizeof(char)   = 1 byte\n",
    "* sizeof(short)  = 2 bytes\n",
    "* sizeof(long)   = 4 bytes\n",
    "* sizeof(double) = 8 bytes, i.e. 64 bit IEEE floating point\n",
    "*\n",
    "\n",
    "struct CFWBINARY\n",
    "   {\n",
    "   char     magic[4];            // always \"CFWB\"\n",
    "   long     Version;             // = CFWB_VERSION\n",
    "   double   secsPerTick;         // sampling interval in seconds\n",
    "\n",
    "   // Trigger Date and time information\n",
    "   long    Year;                // 4 digit year\n",
    "   long    Month;               // months 1 - 12\n",
    "   long    Day;                 // days 1 - 31\n",
    "   long    Hour;                // hours 0 - 23\n",
    "   long    Minute;              // minutes 0 - 59\n",
    "   double   Second;              // seconds\n",
    "   double   trigger;             // Amount of pretrigger data in seconds.\n",
    "\n",
    "   long     NChannels;           // Number of channels\n",
    "   long     SamplesPerChannel;   // Number of sample points per channel\n",
    "   \n",
    "   // The TimeChannel flag indicates that the sample time of each sample is\n",
    "   // interleaved as the first column of data. This is only valid for the floating\n",
    "   // point data formats. For all releases of TranslateBinary up to and including\n",
    "   // v1.3, sample time data can be included but it is not used.\n",
    "   long     TimeChannel;         // 1 = time included as first channel, 0 = not included\n",
    "   long     DataFormat;          // 1 = double , 2 = float, 3 = 16-bit integer\n",
    "   };\n",
    "   \n",
    "'''\n",
    "print('')"
   ]
  },
  {
   "cell_type": "code",
   "execution_count": null,
   "metadata": {
    "collapsed": true
   },
   "outputs": [],
   "source": []
  },
  {
   "cell_type": "code",
   "execution_count": null,
   "metadata": {
    "collapsed": true
   },
   "outputs": [],
   "source": []
  },
  {
   "cell_type": "code",
   "execution_count": null,
   "metadata": {
    "collapsed": true
   },
   "outputs": [],
   "source": []
  },
  {
   "cell_type": "code",
   "execution_count": 51,
   "metadata": {
    "collapsed": false,
    "deletable": true,
    "editable": true
   },
   "outputs": [
    {
     "name": "stdout",
     "output_type": "stream",
     "text": [
      "b'CFWB'\n"
     ]
    }
   ],
   "source": [
    "with open(adibinFilename, \"rb\") as binary_file:\n",
    "    data = binary_file.read()\n",
    "    \n",
    "    binary_file.seek(0)\n",
    "    magic = binary_file.read(4)\n",
    "    print(magic)"
   ]
  },
  {
   "cell_type": "code",
   "execution_count": 58,
   "metadata": {
    "collapsed": false,
    "deletable": true,
    "editable": true
   },
   "outputs": [
    {
     "name": "stdout",
     "output_type": "stream",
     "text": [
      "b'CFWB' b'\\x01\\x00\\x00\\x00' 1 b'\\x11\\x11\\x11\\x11\\x11\\x11q?' 4571453861756211473\n"
     ]
    }
   ],
   "source": [
    "with open(adibinFilename, \"rb\") as binary_file:\n",
    "    data = binary_file.read()\n",
    "    \n",
    "    binary_file.seek(0)\n",
    "    magic = binary_file.read(4)\n",
    "    version = binary_file.read(4)\n",
    "    intVersion = int.from_bytes(version, byteorder='little')\n",
    "    secsPerTick = binary_file.read(8)\n",
    "    intSecsPerTick = int.from_bytes(secsPerTick, byteorder='little')\n",
    "    print(magic, version, intVersion, secsPerTick, intSecsPerTick)\n",
    "    "
   ]
  },
  {
   "cell_type": "code",
   "execution_count": null,
   "metadata": {
    "collapsed": true,
    "deletable": true,
    "editable": true
   },
   "outputs": [],
   "source": []
  },
  {
   "cell_type": "code",
   "execution_count": 42,
   "metadata": {
    "collapsed": false,
    "deletable": true,
    "editable": true
   },
   "outputs": [
    {
     "data": {
      "text/plain": [
       "'utf-8'"
      ]
     },
     "execution_count": 42,
     "metadata": {},
     "output_type": "execute_result"
    }
   ],
   "source": [
    "import sys\n",
    "#reload(sys)\n",
    "#sys.setdefaultencoding('utf-8')\n",
    "sys.getdefaultencoding()"
   ]
  },
  {
   "cell_type": "code",
   "execution_count": 44,
   "metadata": {
    "collapsed": false,
    "deletable": true,
    "editable": true
   },
   "outputs": [
    {
     "ename": "UnicodeDecodeError",
     "evalue": "'utf-8' codec can't decode byte 0xe0 in position 16: invalid continuation byte",
     "output_type": "error",
     "traceback": [
      "\u001b[0;31m---------------------------------------------------------------------------\u001b[0m",
      "\u001b[0;31mUnicodeDecodeError\u001b[0m                        Traceback (most recent call last)",
      "\u001b[0;32m<ipython-input-44-70c082a10da3>\u001b[0m in \u001b[0;36m<module>\u001b[0;34m()\u001b[0m\n\u001b[1;32m      6\u001b[0m     \u001b[0mbinary_file\u001b[0m\u001b[0;34m.\u001b[0m\u001b[0mseek\u001b[0m\u001b[0;34m(\u001b[0m\u001b[0;36m0\u001b[0m\u001b[0;34m)\u001b[0m  \u001b[0;31m# Go to beginning\u001b[0m\u001b[0;34m\u001b[0m\u001b[0m\n\u001b[1;32m      7\u001b[0m     \u001b[0mcouple_bytes\u001b[0m \u001b[0;34m=\u001b[0m \u001b[0mbinary_file\u001b[0m\u001b[0;34m.\u001b[0m\u001b[0mread\u001b[0m\u001b[0;34m(\u001b[0m\u001b[0;36m68\u001b[0m\u001b[0;34m)\u001b[0m\u001b[0;34m\u001b[0m\u001b[0m\n\u001b[0;32m----> 8\u001b[0;31m     \u001b[0mprint\u001b[0m\u001b[0;34m(\u001b[0m\u001b[0mcouple_bytes\u001b[0m\u001b[0;34m.\u001b[0m\u001b[0mdecode\u001b[0m\u001b[0;34m(\u001b[0m\u001b[0;34m'utf-8'\u001b[0m\u001b[0;34m)\u001b[0m\u001b[0;34m)\u001b[0m\u001b[0;34m\u001b[0m\u001b[0m\n\u001b[0m",
      "\u001b[0;31mUnicodeDecodeError\u001b[0m: 'utf-8' codec can't decode byte 0xe0 in position 16: invalid continuation byte"
     ]
    }
   ],
   "source": [
    "with open(adibinFilename, \"rb\") as binary_file:\n",
    "    # Read the whole file at once\n",
    "    data = binary_file.read()\n",
    "    #print(data)\n",
    "    \n",
    "    binary_file.seek(0)  # Go to beginning\n",
    "    couple_bytes = binary_file.read(68)\n",
    "    print(couple_bytes.decode('utf-8'))"
   ]
  },
  {
   "cell_type": "code",
   "execution_count": 45,
   "metadata": {
    "collapsed": false,
    "deletable": true,
    "editable": true
   },
   "outputs": [
    {
     "name": "stdout",
     "output_type": "stream",
     "text": [
      "test\n"
     ]
    }
   ],
   "source": [
    "binary_data = b'test'\n",
    "text = binary_data.decode('utf-8')\n",
    "print(text)"
   ]
  },
  {
   "cell_type": "code",
   "execution_count": 46,
   "metadata": {
    "collapsed": false,
    "deletable": true,
    "editable": true
   },
   "outputs": [
    {
     "name": "stdout",
     "output_type": "stream",
     "text": [
      "b'test'\n"
     ]
    }
   ],
   "source": [
    "print(binary_data)"
   ]
  },
  {
   "cell_type": "code",
   "execution_count": 47,
   "metadata": {
    "collapsed": true,
    "deletable": true,
    "editable": true
   },
   "outputs": [],
   "source": [
    "base64_data = codecs.encode(binary_data, 'base64')"
   ]
  },
  {
   "cell_type": "code",
   "execution_count": 48,
   "metadata": {
    "collapsed": false,
    "deletable": true,
    "editable": true,
    "scrolled": true
   },
   "outputs": [
    {
     "ename": "NameError",
     "evalue": "name 'binary_message' is not defined",
     "output_type": "error",
     "traceback": [
      "\u001b[0;31m---------------------------------------------------------------------------\u001b[0m",
      "\u001b[0;31mNameError\u001b[0m                                 Traceback (most recent call last)",
      "\u001b[0;32m<ipython-input-48-075e0fc50c29>\u001b[0m in \u001b[0;36m<module>\u001b[0;34m()\u001b[0m\n\u001b[0;32m----> 1\u001b[0;31m \u001b[0mprint\u001b[0m\u001b[0;34m(\u001b[0m\u001b[0mtype\u001b[0m\u001b[0;34m(\u001b[0m\u001b[0mbinary_message\u001b[0m\u001b[0;34m)\u001b[0m\u001b[0;34m)\u001b[0m\u001b[0;34m\u001b[0m\u001b[0m\n\u001b[0m",
      "\u001b[0;31mNameError\u001b[0m: name 'binary_message' is not defined"
     ]
    }
   ],
   "source": [
    "print(type(binary_message))"
   ]
  },
  {
   "cell_type": "code",
   "execution_count": 49,
   "metadata": {
    "collapsed": false,
    "deletable": true,
    "editable": true
   },
   "outputs": [
    {
     "name": "stdout",
     "output_type": "stream",
     "text": [
      "<class 'bytes'>\n"
     ]
    }
   ],
   "source": [
    "print(type(base64_data))"
   ]
  },
  {
   "cell_type": "code",
   "execution_count": 50,
   "metadata": {
    "collapsed": false,
    "deletable": true,
    "editable": true
   },
   "outputs": [
    {
     "name": "stdout",
     "output_type": "stream",
     "text": [
      "b'dGVzdA==\\n'\n"
     ]
    }
   ],
   "source": [
    "print(base64_data)"
   ]
  },
  {
   "cell_type": "code",
   "execution_count": null,
   "metadata": {
    "collapsed": true,
    "deletable": true,
    "editable": true
   },
   "outputs": [],
   "source": []
  }
 ],
 "metadata": {
  "kernelspec": {
   "display_name": "Python (cputensorflow)",
   "language": "python",
   "name": "cputensorflow"
  },
  "language_info": {
   "codemirror_mode": {
    "name": "ipython",
    "version": 3
   },
   "file_extension": ".py",
   "mimetype": "text/x-python",
   "name": "python",
   "nbconvert_exporter": "python",
   "pygments_lexer": "ipython3",
   "version": "3.5.3"
  }
 },
 "nbformat": 4,
 "nbformat_minor": 2
}
